{
 "cells": [
  {
   "cell_type": "markdown",
   "id": "45d74e25",
   "metadata": {},
   "source": [
    "\n",
    "  <img src=\"https://i.imgur.com/XSzy00d.png\" style=\"float:right;width:150px\">\n",
    "  \n",
    "  **Inhaltsverzeichnis**\n",
    "  "
   ]
  },
  {
   "cell_type": "markdown",
   "id": "bf055b60",
   "metadata": {},
   "source": [
    "- [Einfuehrung](Lektion_1/Einfuehrung.ipynb)\n",
    "  - [Einleitung](Lektion_1/Einfuehrung.ipynb#Einleitung)\n",
    "  - [Wie funktioniert Programmieren?](Lektion_1/Einfuehrung.ipynb#Wie-funktioniert-Programmieren?)\n",
    "  - [Das PRIMM Modell](Lektion_1/Einfuehrung.ipynb#Das-PRIMM-Modell)\n",
    "  - [JupyterLab](Lektion_1/Einfuehrung.ipynb#JupyterLab)\n",
    "  - [Überblick über die Tools](Lektion_1/Einfuehrung.ipynb#Überblick-über-die-Tools)\n",
    "  - [Vorschau](Lektion_1/Einfuehrung.ipynb#Vorschau)\n",
    "  - [Zusammenfassung](Lektion_1/Einfuehrung.ipynb#Zusammenfassung)\n",
    "  - [Impressum](Lektion_1/Einfuehrung.ipynb#Impressum)\n"
   ]
  },
  {
   "cell_type": "markdown",
   "id": "e95413f4",
   "metadata": {},
   "source": [
    "- [Strings und Variablen](Lektion_2/Strings_Variablen.ipynb)\n",
    "  - [Einleitung](Lektion_2/Strings_Variablen.ipynb#Einleitung)\n",
    "  - [Die `input()` Funktion](Lektion_2/Strings_Variablen.ipynb#Die-`input()`-Funktion)\n",
    "  - [Strings](Lektion_2/Strings_Variablen.ipynb#Strings)\n",
    "  - [Variablen](Lektion_2/Strings_Variablen.ipynb#Variablen)\n",
    "  - [Die `print` Funktion](Lektion_2/Strings_Variablen.ipynb#Die-`print`-Funktion)\n",
    "  - [Schlussaufgabe](Lektion_2/Strings_Variablen.ipynb#Schlussaufgabe)\n",
    "  - [Zusammenfassung](Lektion_2/Strings_Variablen.ipynb#Zusammenfassung)\n",
    "  - [Impressum](Lektion_2/Strings_Variablen.ipynb#Impressum)\n"
   ]
  },
  {
   "cell_type": "markdown",
   "id": "73bfdfc9",
   "metadata": {},
   "source": [
    "- [Zeichenketten und Iteration](Lektion_3/Zeichenketten_Iteration.ipynb)\n",
    "  - [Einleitung](Lektion_3/Zeichenketten_Iteration.ipynb#Einleitung)\n",
    "  - [Zeichenketten](Lektion_3/Zeichenketten_Iteration.ipynb#Zeichenketten)\n",
    "  - [Integer](Lektion_3/Zeichenketten_Iteration.ipynb#Integer)\n",
    "  - [Eine `\"1\"` ist keine `1`](Lektion_3/Zeichenketten_Iteration.ipynb#Eine-`\"1\"`-ist-keine-`1`)\n",
    "  - [Typumwandlung](Lektion_3/Zeichenketten_Iteration.ipynb#Typumwandlung)\n",
    "  - [Iteration](Lektion_3/Zeichenketten_Iteration.ipynb#Iteration)\n",
    "  - [Schlussaufgabe](Lektion_3/Zeichenketten_Iteration.ipynb#Schlussaufgabe)\n",
    "  - [Zusammenfassung](Lektion_3/Zeichenketten_Iteration.ipynb#Zusammenfassung)\n",
    "  - [Impressum](Lektion_3/Zeichenketten_Iteration.ipynb#Impressum)\n"
   ]
  },
  {
   "cell_type": "markdown",
   "id": "b77fc3a7",
   "metadata": {},
   "source": [
    "- [Keywords und Funktionen](Lektion_4/Keywords_Funktionen.ipynb)\n",
    "  - [Einleitung](Lektion_4/Keywords_Funktionen.ipynb#Einleitung)\n",
    "  - [Keywords](Lektion_4/Keywords_Funktionen.ipynb#Keywords)\n",
    "  - [Funktionen](Lektion_4/Keywords_Funktionen.ipynb#Funktionen)\n",
    "  - [Scope](Lektion_4/Keywords_Funktionen.ipynb#Scope)\n",
    "  - [Schlussaufgabe](Lektion_4/Keywords_Funktionen.ipynb#Schlussaufgabe)\n",
    "  - [Zusammenfassung](Lektion_4/Keywords_Funktionen.ipynb#Zusammenfassung)\n",
    "  - [Impressum](Lektion_4/Keywords_Funktionen.ipynb#Impressum)\n"
   ]
  },
  {
   "cell_type": "markdown",
   "id": "98f3f7cf",
   "metadata": {},
   "source": [
    "- [Listen und Methoden](Lektion_5/Listen_Methoden.ipynb)\n",
    "  - [Einleitung](Lektion_5/Listen_Methoden.ipynb#Einleitung)\n",
    "  - [Listen](Lektion_5/Listen_Methoden.ipynb#Listen)\n",
    "  - [Debugger und Breakpoints](Lektion_5/Listen_Methoden.ipynb#Debugger-und-Breakpoints)\n",
    "  - [Methoden](Lektion_5/Listen_Methoden.ipynb#Methoden)\n",
    "  - [Computational Thinking](Lektion_5/Listen_Methoden.ipynb#Computational-Thinking)\n",
    "  - [Schlussaufgabe](Lektion_5/Listen_Methoden.ipynb#Schlussaufgabe)\n",
    "  - [Zusammenfassung](Lektion_5/Listen_Methoden.ipynb#Zusammenfassung)\n",
    "  - [Impressum](Lektion_5/Listen_Methoden.ipynb#Impressum)\n"
   ]
  },
  {
   "cell_type": "markdown",
   "id": "625d8d5b",
   "metadata": {},
   "source": [
    "- [If und else](Lektion_6/If_else.ipynb)\n",
    "  - [Einleitung](Lektion_6/If_else.ipynb#Einleitung)\n",
    "  - [Bedingungen](Lektion_6/If_else.ipynb#Bedingungen)\n",
    "  - [Verschachtelte Bedingungen](Lektion_6/If_else.ipynb#Verschachtelte-Bedingungen)\n",
    "  - [List Comprehensions](Lektion_6/If_else.ipynb#List-Comprehensions)\n",
    "  - [Schlussaufgabe](Lektion_6/If_else.ipynb#Schlussaufgabe)\n",
    "  - [Zusammenfassung](Lektion_6/If_else.ipynb#Zusammenfassung)\n",
    "  - [Impressum](Lektion_6/If_else.ipynb#Impressum)\n"
   ]
  },
  {
   "cell_type": "markdown",
   "id": "9c987f8f",
   "metadata": {},
   "source": [
    "- [While und Logische-Operatoren](Lektion_7/While_Logische-Operatoren.ipynb)\n",
    "  - [Einleitung](Lektion_7/While_Logische-Operatoren.ipynb#Einleitung)\n",
    "  - [While Loop](Lektion_7/While_Logische-Operatoren.ipynb#While-Loop)\n",
    "  - [Logische Operatoren](Lektion_7/While_Logische-Operatoren.ipynb#Logische-Operatoren)\n",
    "  - [Schlussaufgabe](Lektion_7/While_Logische-Operatoren.ipynb#Schlussaufgabe)\n",
    "  - [Zusammenfassung](Lektion_7/While_Logische-Operatoren.ipynb#Zusammenfassung)\n",
    "  - [Impressum](Lektion_7/While_Logische-Operatoren.ipynb#Impressum)\n"
   ]
  },
  {
   "cell_type": "markdown",
   "id": "8a77e8b0",
   "metadata": {},
   "source": [
    "- [Dictionaries und Ressourcen](Lektion_8/Dictionaries_Ressourcen.ipynb)\n",
    "  - [Einleitung](Lektion_8/Dictionaries_Ressourcen.ipynb#Einleitung)\n",
    "  - [Dictionaries](Lektion_8/Dictionaries_Ressourcen.ipynb#Dictionaries)\n",
    "  - [Arbeiten mit Dateien](Lektion_8/Dictionaries_Ressourcen.ipynb#Arbeiten-mit-Dateien)\n",
    "  - [JSON](Lektion_8/Dictionaries_Ressourcen.ipynb#JSON)\n",
    "  - [Schlussaufgabe](Lektion_8/Dictionaries_Ressourcen.ipynb#Schlussaufgabe)\n",
    "  - [Zusatzaufgabe für Interessierte](Lektion_8/Dictionaries_Ressourcen.ipynb#Zusatzaufgabe-für-Interessierte)\n",
    "  - [Zusammenfassung](Lektion_8/Dictionaries_Ressourcen.ipynb#Zusammenfassung)\n",
    "  - [Impressum](Lektion_8/Dictionaries_Ressourcen.ipynb#Impressum)\n"
   ]
  },
  {
   "cell_type": "markdown",
   "id": "2b0de0e3",
   "metadata": {},
   "source": [
    "- [Module, Objekte und Datum](Lektion_9/Module_Objekte_Datum.ipynb)\n",
    "  - [Einleitung](Lektion_9/Module_Objekte_Datum.ipynb#Einleitung)\n",
    "  - [Module](Lektion_9/Module_Objekte_Datum.ipynb#Module)\n",
    "  - [Objekte](Lektion_9/Module_Objekte_Datum.ipynb#Objekte)\n",
    "  - [Datum und Zeit](Lektion_9/Module_Objekte_Datum.ipynb#Datum-und-Zeit)\n",
    "  - [Schlussaufgabe](Lektion_9/Module_Objekte_Datum.ipynb#Schlussaufgabe)\n",
    "  - [Zusammenfassung](Lektion_9/Module_Objekte_Datum.ipynb#Zusammenfassung)\n",
    "  - [Impressum](Lektion_9/Module_Objekte_Datum.ipynb#Impressum)\n"
   ]
  },
  {
   "cell_type": "markdown",
   "id": "01c540db",
   "metadata": {},
   "source": [
    "- [NumPy und Pandas](Lektion_10/NumPy_Pandas.ipynb)\n",
    "  - [Einleitung](Lektion_10/NumPy_Pandas.ipynb#Einleitung)\n",
    "  - [NumPy](Lektion_10/NumPy_Pandas.ipynb#NumPy)\n",
    "  - [Pandas](Lektion_10/NumPy_Pandas.ipynb#Pandas)\n",
    "  - [Schlussaufgabe](Lektion_10/NumPy_Pandas.ipynb#Schlussaufgabe)\n",
    "  - [Zusammenfassung](Lektion_10/NumPy_Pandas.ipynb#Zusammenfassung)\n",
    "  - [Impressum](Lektion_10/NumPy_Pandas.ipynb#Impressum)\n"
   ]
  },
  {
   "cell_type": "markdown",
   "id": "45bb675e",
   "metadata": {},
   "source": [
    "- [GIS](Lektion_11/GIS.ipynb)\n",
    "  - [Einleitung](Lektion_11/GIS.ipynb#Einleitung)\n",
    "  - [Georeferenzierte Daten](Lektion_11/GIS.ipynb#Georeferenzierte-Daten)\n",
    "  - [Folium](Lektion_11/GIS.ipynb#Folium)\n",
    "  - [Hitzeinsel-Monitoring](Lektion_11/GIS.ipynb#Hitzeinsel-Monitoring)\n",
    "  - [GeoPandas](Lektion_11/GIS.ipynb#GeoPandas)\n",
    "  - [Schlussaufgabe](Lektion_11/GIS.ipynb#Schlussaufgabe)\n",
    "  - [Zusammenfassung](Lektion_11/GIS.ipynb#Zusammenfassung)\n",
    "  - [Impressum](Lektion_11/GIS.ipynb#Impressum)\n"
   ]
  },
  {
   "cell_type": "markdown",
   "id": "01cadb2f",
   "metadata": {},
   "source": [
    "- [Matplotlib und Widgets](Lektion_12/Matplotlib_Widgets.ipynb)\n",
    "  - [Einleitung](Lektion_12/Matplotlib_Widgets.ipynb#Einleitung)\n",
    "  - [Matplotlib](Lektion_12/Matplotlib_Widgets.ipynb#Matplotlib)\n",
    "  - [Widgets](Lektion_12/Matplotlib_Widgets.ipynb#Widgets)\n",
    "  - [Schlussaufgabe](Lektion_12/Matplotlib_Widgets.ipynb#Schlussaufgabe)\n",
    "  - [Zusammenfassung](Lektion_11/Matplotlib_Widgets.ipynb#Zusammenfassung)\n",
    "  - [Impressum](Lektion_11/Matplotlib_Widgets.ipynb#Impressum)\n"
   ]
  }
 ],
 "metadata": {
  "kernelspec": {
   "display_name": "Python 3",
   "language": "python",
   "name": "python3"
  }
 },
 "nbformat": 4,
 "nbformat_minor": 5
}
