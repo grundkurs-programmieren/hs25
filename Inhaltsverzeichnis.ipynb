{
 "cells": [
  {
   "cell_type": "markdown",
   "id": "45d74e25",
   "metadata": {},
   "source": [
    "\n",
    "  <img src=\"https://i.imgur.com/XSzy00d.png\" style=\"float:right;width:150px\">\n",
    "  \n",
    "  **Inhaltsverzeichnis**\n",
    "  "
   ]
  },
  {
   "cell_type": "markdown",
   "id": "bf055b60",
   "metadata": {},
   "source": [
    "- [Einfuehrung](Lektion_01/Einfuehrung.ipynb)\n",
    "  - [Einleitung](Lektion_01/Einfuehrung.ipynb#Einleitung)\n",
    "  - [Wie funktioniert Programmieren?](Lektion_01/Einfuehrung.ipynb#Wie-funktioniert-Programmieren?)\n",
    "  - [Das PRIMM Modell](Lektion_01/Einfuehrung.ipynb#Das-PRIMM-Modell)\n",
    "  - [JupyterLab](Lektion_01/Einfuehrung.ipynb#JupyterLab)\n",
    "  - [Überblick über die Tools](Lektion_01/Einfuehrung.ipynb#Überblick-über-die-Tools)\n",
    "  - [Vorschau](Lektion_01/Einfuehrung.ipynb#Vorschau)\n",
    "  - [Zusammenfassung](Lektion_01/Einfuehrung.ipynb#Zusammenfassung)\n",
    "  - [Impressum](Lektion_01/Einfuehrung.ipynb#Impressum)\n"
   ]
  },
  {
   "cell_type": "markdown",
   "id": "e95413f4",
   "metadata": {},
   "source": [
    "- [Strings und Variablen](Lektion_02/Strings_Variablen.ipynb)\n",
    "  - [Einleitung](Lektion_02/Strings_Variablen.ipynb#Einleitung)\n",
    "  - [Die `input()` Funktion](Lektion_02/Strings_Variablen.ipynb#Die-`input()`-Funktion)\n",
    "  - [Strings](Lektion_02/Strings_Variablen.ipynb#Strings)\n",
    "  - [Variablen](Lektion_02/Strings_Variablen.ipynb#Variablen)\n",
    "  - [Die `print` Funktion](Lektion_02/Strings_Variablen.ipynb#Die-`print`-Funktion)\n",
    "  - [Schlussaufgabe](Lektion_02/Strings_Variablen.ipynb#Schlussaufgabe)\n",
    "  - [Zusammenfassung](Lektion_02/Strings_Variablen.ipynb#Zusammenfassung)\n",
    "  - [Impressum](Lektion_02/Strings_Variablen.ipynb#Impressum)\n"
   ]
  },
  {
   "cell_type": "markdown",
   "id": "73bfdfc9",
   "metadata": {},
   "source": [
    "- [Zeichenketten und Iteration](Lektion_03/Zeichenketten_Iteration.ipynb)\n",
    "  - [Einleitung](Lektion_03/Zeichenketten_Iteration.ipynb#Einleitung)\n",
    "  - [Zeichenketten](Lektion_03/Zeichenketten_Iteration.ipynb#Zeichenketten)\n",
    "  - [Integer](Lektion_03/Zeichenketten_Iteration.ipynb#Integer)\n",
    "  - [Eine `\"1\"` ist keine `1`](Lektion_03/Zeichenketten_Iteration.ipynb#Eine-`\"1\"`-ist-keine-`1`)\n",
    "  - [Typumwandlung](Lektion_03/Zeichenketten_Iteration.ipynb#Typumwandlung)\n",
    "  - [Iteration](Lektion_03/Zeichenketten_Iteration.ipynb#Iteration)\n",
    "  - [Schlussaufgabe](Lektion_03/Zeichenketten_Iteration.ipynb#Schlussaufgabe)\n",
    "  - [Zusammenfassung](Lektion_03/Zeichenketten_Iteration.ipynb#Zusammenfassung)\n",
    "  - [Impressum](Lektion_03/Zeichenketten_Iteration.ipynb#Impressum)\n"
   ]
  },
  {
   "cell_type": "markdown",
   "id": "b77fc3a7",
   "metadata": {},
   "source": [
    "- [Keywords und Funktionen](Lektion_04/Keywords_Funktionen.ipynb)\n",
    "  - [Einleitung](Lektion_04/Keywords_Funktionen.ipynb#Einleitung)\n",
    "  - [Keywords](Lektion_04/Keywords_Funktionen.ipynb#Keywords)\n",
    "  - [Funktionen](Lektion_04/Keywords_Funktionen.ipynb#Funktionen)\n",
    "  - [Scope](Lektion_04/Keywords_Funktionen.ipynb#Scope)\n",
    "  - [Schlussaufgabe](Lektion_04/Keywords_Funktionen.ipynb#Schlussaufgabe)\n",
    "  - [Zusammenfassung](Lektion_04/Keywords_Funktionen.ipynb#Zusammenfassung)\n",
    "  - [Impressum](Lektion_04/Keywords_Funktionen.ipynb#Impressum)\n"
   ]
  },
  {
   "cell_type": "markdown",
   "id": "98f3f7cf",
   "metadata": {},
   "source": [
    "- [Listen und Methoden](Lektion_05/Listen_Methoden.ipynb)\n",
    "  - [Einleitung](Lektion_05/Listen_Methoden.ipynb#Einleitung)\n",
    "  - [Listen](Lektion_05/Listen_Methoden.ipynb#Listen)\n",
    "  - [Debugger und Breakpoints](Lektion_05/Listen_Methoden.ipynb#Debugger-und-Breakpoints)\n",
    "  - [Methoden](Lektion_05/Listen_Methoden.ipynb#Methoden)\n",
    "  - [Computational Thinking](Lektion_05/Listen_Methoden.ipynb#Computational-Thinking)\n",
    "  - [Schlussaufgabe](Lektion_05/Listen_Methoden.ipynb#Schlussaufgabe)\n",
    "  - [Zusammenfassung](Lektion_05/Listen_Methoden.ipynb#Zusammenfassung)\n",
    "  - [Impressum](Lektion_05/Listen_Methoden.ipynb#Impressum)\n"
   ]
  },
  {
   "cell_type": "markdown",
   "id": "625d8d5b",
   "metadata": {},
   "source": [
    "- [If und else](Lektion_06/If_else.ipynb)\n",
    "  - [Einleitung](Lektion_06/If_else.ipynb#Einleitung)\n",
    "  - [Bedingungen](Lektion_06/If_else.ipynb#Bedingungen)\n",
    "  - [Verschachtelte Bedingungen](Lektion_06/If_else.ipynb#Verschachtelte-Bedingungen)\n",
    "  - [List Comprehensions](Lektion_06/If_else.ipynb#List-Comprehensions)\n",
    "  - [Schlussaufgabe](Lektion_06/If_else.ipynb#Schlussaufgabe)\n",
    "  - [Zusammenfassung](Lektion_06/If_else.ipynb#Zusammenfassung)\n",
    "  - [Impressum](Lektion_06/If_else.ipynb#Impressum)\n"
   ]
  },
  {
   "cell_type": "markdown",
   "id": "9c987f8f",
   "metadata": {},
   "source": [
    "- [While und Logische-Operatoren](Lektion_07/While_Logische-Operatoren.ipynb)\n",
    "  - [Einleitung](Lektion_07/While_Logische-Operatoren.ipynb#Einleitung)\n",
    "  - [While Loop](Lektion_07/While_Logische-Operatoren.ipynb#While-Loop)\n",
    "  - [Logische Operatoren](Lektion_07/While_Logische-Operatoren.ipynb#Logische-Operatoren)\n",
    "  - [Schlussaufgabe](Lektion_07/While_Logische-Operatoren.ipynb#Schlussaufgabe)\n",
    "  - [Zusammenfassung](Lektion_07/While_Logische-Operatoren.ipynb#Zusammenfassung)\n",
    "  - [Impressum](Lektion_07/While_Logische-Operatoren.ipynb#Impressum)\n"
   ]
  },
  {
   "cell_type": "markdown",
   "id": "8a77e8b0",
   "metadata": {},
   "source": [
    "- [Dictionaries und Ressourcen](Lektion_08/Dictionaries_Ressourcen.ipynb)\n",
    "  - [Einleitung](Lektion_08/Dictionaries_Ressourcen.ipynb#Einleitung)\n",
    "  - [Dictionaries](Lektion_08/Dictionaries_Ressourcen.ipynb#Dictionaries)\n",
    "  - [Arbeiten mit Dateien](Lektion_08/Dictionaries_Ressourcen.ipynb#Arbeiten-mit-Dateien)\n",
    "  - [JSON](Lektion_08/Dictionaries_Ressourcen.ipynb#JSON)\n",
    "  - [Schlussaufgabe](Lektion_08/Dictionaries_Ressourcen.ipynb#Schlussaufgabe)\n",
    "  - [Zusatzaufgabe für Interessierte](Lektion_08/Dictionaries_Ressourcen.ipynb#Zusatzaufgabe-für-Interessierte)\n",
    "  - [Zusammenfassung](Lektion_08/Dictionaries_Ressourcen.ipynb#Zusammenfassung)\n",
    "  - [Impressum](Lektion_08/Dictionaries_Ressourcen.ipynb#Impressum)\n"
   ]
  },
  {
   "cell_type": "markdown",
   "id": "2b0de0e3",
   "metadata": {},
   "source": [
    "- [Module, Objekte und Datum](Lektion_09/Module_Objekte_Datum.ipynb)\n",
    "  - [Einleitung](Lektion_09/Module_Objekte_Datum.ipynb#Einleitung)\n",
    "  - [Module](Lektion_09/Module_Objekte_Datum.ipynb#Module)\n",
    "  - [Objekte](Lektion_09/Module_Objekte_Datum.ipynb#Objekte)\n",
    "  - [Datum und Zeit](Lektion_09/Module_Objekte_Datum.ipynb#Datum-und-Zeit)\n",
    "  - [Schlussaufgabe](Lektion_09/Module_Objekte_Datum.ipynb#Schlussaufgabe)\n",
    "  - [Zusammenfassung](Lektion_09/Module_Objekte_Datum.ipynb#Zusammenfassung)\n",
    "  - [Impressum](Lektion_09/Module_Objekte_Datum.ipynb#Impressum)\n"
   ]
  },
  {
   "cell_type": "markdown",
   "id": "01c540db",
   "metadata": {},
   "source": [
    "- [NumPy und Pandas](Lektion_10/NumPy_Pandas.ipynb)\n",
    "  - [Einleitung](Lektion_10/NumPy_Pandas.ipynb#Einleitung)\n",
    "  - [NumPy](Lektion_10/NumPy_Pandas.ipynb#NumPy)\n",
    "  - [Pandas](Lektion_10/NumPy_Pandas.ipynb#Pandas)\n",
    "  - [Schlussaufgabe](Lektion_10/NumPy_Pandas.ipynb#Schlussaufgabe)\n",
    "  - [Zusammenfassung](Lektion_10/NumPy_Pandas.ipynb#Zusammenfassung)\n",
    "  - [Impressum](Lektion_10/NumPy_Pandas.ipynb#Impressum)\n"
   ]
  },
  {
   "cell_type": "markdown",
   "id": "45bb675e",
   "metadata": {},
   "source": [
    "- [GIS](Lektion_11/GIS.ipynb)\n",
    "  - [Einleitung](Lektion_11/GIS.ipynb#Einleitung)\n",
    "  - [Georeferenzierte Daten](Lektion_11/GIS.ipynb#Georeferenzierte-Daten)\n",
    "  - [Folium](Lektion_11/GIS.ipynb#Folium)\n",
    "  - [Hitzeinsel-Monitoring](Lektion_11/GIS.ipynb#Hitzeinsel-Monitoring)\n",
    "  - [GeoPandas](Lektion_11/GIS.ipynb#GeoPandas)\n",
    "  - [Schlussaufgabe](Lektion_11/GIS.ipynb#Schlussaufgabe)\n",
    "  - [Zusammenfassung](Lektion_11/GIS.ipynb#Zusammenfassung)\n",
    "  - [Impressum](Lektion_11/GIS.ipynb#Impressum)\n"
   ]
  },
  {
   "cell_type": "markdown",
   "id": "01cadb2f",
   "metadata": {},
   "source": [
    "- [Matplotlib und Widgets](Lektion_12/Matplotlib_Widgets.ipynb)\n",
    "  - [Einleitung](Lektion_12/Matplotlib_Widgets.ipynb#Einleitung)\n",
    "  - [Matplotlib](Lektion_12/Matplotlib_Widgets.ipynb#Matplotlib)\n",
    "  - [Widgets](Lektion_12/Matplotlib_Widgets.ipynb#Widgets)\n",
    "  - [Schlussaufgabe](Lektion_12/Matplotlib_Widgets.ipynb#Schlussaufgabe)\n",
    "  - [Zusammenfassung](Lektion_11/Matplotlib_Widgets.ipynb#Zusammenfassung)\n",
    "  - [Impressum](Lektion_11/Matplotlib_Widgets.ipynb#Impressum)\n"
   ]
  }
 ],
 "metadata": {
  "kernelspec": {
   "display_name": "Python 3",
   "language": "python",
   "name": "python3"
  }
 },
 "nbformat": 4,
 "nbformat_minor": 5
}
