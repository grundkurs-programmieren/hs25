{
 "cells": [
  {
   "cell_type": "markdown",
   "id": "9e1fe945-e90a-4a91-82d5-a46c8d840f4f",
   "metadata": {},
   "source": [
    "<img src=\"https://i.imgur.com/XSzy00d.png\" style=\"float:right;width:150px\">\n",
    "\n",
    "**Dictionaries und Ressourcen**\n",
    "\n",
    "# Einleitung\n",
    "\n",
    "## Lernziele\n",
    "\n",
    "* Sie verstehen **Dictionaries** als eigener Datentyp\n",
    "* Sie kennen die Gemeinsamkeiten und Unterschiede von Listen und Dictionaries \n",
    "* Sie können auf Dictionary-Einträge **zugreifen**\n",
    "* Sie können über Key Value Paare **iterieren**\n",
    "* Sie können neue Dictionaries mit Hilfe der **Dictionary Comprehension** erstellen\n",
    "* Sie können Dateien einlesen\n",
    "* Sie kennen die beiden Dateiformate **CSV** und **JSON** und kennen deren Unterschiede\n",
    "* Sie können Daten von einer **API** abrufen"
   ]
  },
  {
   "cell_type": "markdown",
   "id": "19318963-d4eb-4e1d-bfb8-aeb022067657",
   "metadata": {
    "tags": []
   },
   "source": [
    "## Keywords\n",
    "\n",
    "<table class=\"gk-keywords\">\n",
    "<tr>\n",
    "    <td><code class=\"known\">False</code></td>\n",
    "    <td><code>await</code></td>\n",
    "    <td><code class=\"known\">else</code></td>\n",
    "    <td><code>import</code></td>\n",
    "    <td><code>pass</code></td>\n",
    "</tr>\n",
    "<tr>\n",
    "    <td><code class=\"known\">None</code></td>\n",
    "    <td><code class=\"known\">break</code></td>\n",
    "    <td><code class=\"known\">except</code></td>\n",
    "    <td><code class=\"known\">in</code></td>\n",
    "    <td><code>raise</code></td>\n",
    "</tr>\n",
    "<tr>\n",
    "    <td><code class=\"known\">True</code></td>\n",
    "    <td><code>class</code></td>\n",
    "    <td><code>finally</code></td>\n",
    "    <td><code>is</code></td>\n",
    "    <td><code class=\"known\">return</code></td>\n",
    "</tr>\n",
    "<tr>\n",
    "    <td><code class=\"known\">and</code></td>\n",
    "    <td><code>continue</code></td>\n",
    "    <td><code class=\"known\">for</code></td>\n",
    "    <td><code>lambda</code></td>\n",
    "    <td><code class=\"known\">try</code></td>\n",
    "</tr>\n",
    "<tr>\n",
    "    <td><code class=\"new\">as</code></td>\n",
    "    <td><code class=\"known\">def</code></td>\n",
    "    <td><code>from</code></td>\n",
    "    <td><code>nonlocal</code></td>\n",
    "    <td><code class=\"known\">while</code></td>\n",
    "</tr>\n",
    "<tr>\n",
    "    <td><code>assert</code></td>\n",
    "    <td><code>del</code></td>\n",
    "    <td><code class=\"known\">global</code></td>\n",
    "    <td><code class=\"known\">not</code></td>\n",
    "    <td><code class=\"new\">with</code></td>\n",
    "</tr>\n",
    "<tr>\n",
    "    <td><code>async</code></td>\n",
    "    <td><code class=\"known\">elif</code></td>\n",
    "    <td><code class=\"known\">if</code></td>\n",
    "    <td><code class=\"known\">or</code></td>\n",
    "    <td><code>yield</code></td>\n",
    "</tr>\n",
    "</table>"
   ]
  },
  {
   "cell_type": "markdown",
   "id": "ffdcbbbe-d86c-43a2-8208-f4ef8f992972",
   "metadata": {},
   "source": [
    "# Dictionaries\n",
    "\n",
    "**Dictionaries** (selten Wörterbücher oder auch *assoziative Listen*, in anderen Programmiersprachen häufig **hash maps**) gehören ebenfalls zu den Python **Data Collections**. Der Unterschied zu den [Listen](../03_21_25/Listen_Methoden.ipynb#Listen) ist, dass die Werte nicht indexbasiert gespeichert werden, sondern in sogenannten \"Schlüssel-Wert\" (key:value) Paaren. Dictionaries werden mit geschweiften Klammern ```{}``` definiert. Zuerst wird der Schlüssel angegeben, danach der Wert getrennt durch einen Doppelpunkt ```:```."
   ]
  },
  {
   "cell_type": "code",
   "execution_count": null,
   "id": "c511d38e-e46c-4004-a94a-304215014268",
   "metadata": {},
   "outputs": [],
   "source": [
    "my_apple = {\n",
    "    \"color\": \"red\",\n",
    "    \"type\": \"braeburn\",\n",
    "    \"weight\": 100\n",
    "}"
   ]
  },
  {
   "cell_type": "markdown",
   "id": "a9f7df4d-9b3b-41a1-957d-7d3d8eee104a",
   "metadata": {},
   "source": [
    "Als Werte können alle Python Datentypen verwendet werden, insbesondere also auch eine Liste oder wieder ein Dictionary: "
   ]
  },
  {
   "cell_type": "code",
   "execution_count": null,
   "id": "bef3e998-a1d4-4c33-bb35-7ff2c8ca82fc",
   "metadata": {},
   "outputs": [],
   "source": [
    "my_apples = {\n",
    "    \"color\": \"red\",\n",
    "    \"type\": \"braeburn\",\n",
    "    \"weights\": [100, 125, 80, 120]\n",
    "}"
   ]
  },
  {
   "cell_type": "markdown",
   "id": "bd7f1396-5e1c-4614-9430-36f5c4580480",
   "metadata": {},
   "source": [
    "## Auf Dictionary Elemente zugreifen\n",
    "\n",
    "Auf Elemente eines Dictionary kann mit Hilfe des Schlüssels in eckigen Klammern ```[]``` zugegriffen werden:"
   ]
  },
  {
   "cell_type": "code",
   "execution_count": null,
   "id": "bf6f6a7b-c752-46bd-8277-5f5fe873ffc2",
   "metadata": {},
   "outputs": [],
   "source": [
    "apple_color = my_apple[\"color\"]\n",
    "print(apple_color)"
   ]
  },
  {
   "cell_type": "markdown",
   "id": "25cb08ef-9cb9-4378-959d-58db23eb1cdb",
   "metadata": {},
   "source": [
    "Ein Zugriff auf einen nicht existierenden Schlüssel erzeugt eine Fehlermeldung mit `KeyError`"
   ]
  },
  {
   "cell_type": "code",
   "execution_count": null,
   "id": "37ab657b-de50-4738-ac31-f3f3550ebe4c",
   "metadata": {
    "tags": [
     "raises-exception"
    ]
   },
   "outputs": [],
   "source": [
    "my_apple[\"price\"]"
   ]
  },
  {
   "cell_type": "markdown",
   "id": "138820cf-05a5-4642-a621-30f09322def5",
   "metadata": {},
   "source": [
    "## Elemente im Dictionary ändern und hinzufügen\n",
    "\n",
    "Werte in einem Dictionary können verändert werden:"
   ]
  },
  {
   "cell_type": "code",
   "execution_count": null,
   "id": "a31f602d-622c-470c-b08b-9f6047b19615",
   "metadata": {},
   "outputs": [],
   "source": [
    "print(my_apple[\"color\"])\n",
    "my_apple[\"color\"] = \"orange\"\n",
    "print(my_apple[\"color\"])"
   ]
  },
  {
   "cell_type": "markdown",
   "id": "06d6600c-0054-4e27-89a5-cfb09d7a60f4",
   "metadata": {},
   "source": [
    "Neue Schlüssel Wert Paare können hinzugefügt werden (in diesem Fall gibt es keinen \"KeyError\", weil dem neuen Key gleich noch einen Wert zugefügt wird):"
   ]
  },
  {
   "cell_type": "code",
   "execution_count": null,
   "id": "c66cadd1-91cb-47d9-b691-7219f2cc130c",
   "metadata": {},
   "outputs": [],
   "source": [
    "my_apple[\"origin\"] = \"Switzerland\"\n",
    "print(my_apple)"
   ]
  },
  {
   "cell_type": "markdown",
   "id": "4b3f3005-bbb4-49d3-8c56-ad2b5a18bbc4",
   "metadata": {},
   "source": [
    "## Dictionaries iterieren\n",
    "\n",
    "Mit Hilfe einer For Schleife kann durch ein Dictionary [iteriert](../03_07_25/Zeichenketten_Iteration.ipynb#Iteration) werden:"
   ]
  },
  {
   "cell_type": "code",
   "execution_count": null,
   "id": "88dec496-7b8a-4d66-9206-b5a00d3606f2",
   "metadata": {},
   "outputs": [],
   "source": [
    "for x in my_apple:\n",
    "    print(x)"
   ]
  },
  {
   "cell_type": "markdown",
   "id": "c62514bc-24cb-41e2-b029-66a65b36d6a4",
   "metadata": {},
   "source": [
    "Im obigen Falle werden also für ```x``` die Schlüssel eingesetzt (und nicht etwa die Werte, wie auf den ersten Blick vermutet werden könnte)."
   ]
  },
  {
   "cell_type": "markdown",
   "id": "969c7a1d-59ba-4f0a-aab5-112323b83dcf",
   "metadata": {},
   "source": [
    "<div class=\"gk-exercise\">\n",
    "\n",
    "Erstelle eine For Schleife, die die Werte zu den einzelnen Schlüssel des Dictionary ```my_apple``` ausgibt.\n",
    "<details>\n",
    "    <summary>Tipps</summary>\n",
    "    <p><code>my_apple[\"color\"]</code> gibt den Wert für den Schlüssel <code>\"color\"</code> zurück</p>\n",
    "    <details>\n",
    "        <summary>Tipp</summary>\n",
    "        <p>Anstatt <code>my_apple[\"color\"]</code> können wird auch mittels einer Variable <code>key = \"color\"</code> folgendermassen auf den Wert zugreifen <code>my_apple[key]</code></p>\n",
    "    </details>\n",
    "</details>\n",
    "\n",
    "</div>"
   ]
  },
  {
   "cell_type": "code",
   "execution_count": null,
   "id": "0ebfad32-571d-4d68-a20c-b58a3140f66b",
   "metadata": {
    "deletable": false,
    "nbgrader": {
     "cell_type": "code",
     "checksum": "884fe5da7a57319fc89b3a20d085b753",
     "grade": false,
     "grade_id": "cell-11e18b2cc9628e59",
     "locked": false,
     "schema_version": 3,
     "solution": true,
     "task": false
    },
    "tags": [
     "exercise"
    ]
   },
   "outputs": [],
   "source": [
    "# YOUR CODE HERE"
   ]
  },
  {
   "cell_type": "markdown",
   "id": "784c9cb4-2ea0-4abb-b22d-ea543c137b7d",
   "metadata": {},
   "source": [
    "Soll gleichzeitig auf Schlüssel und Wert zugegriffen werden, lässt sich die Methode `items()` verwenden:"
   ]
  },
  {
   "cell_type": "code",
   "execution_count": null,
   "id": "a3b47852-3c07-437d-abc7-2608337ed22b",
   "metadata": {},
   "outputs": [],
   "source": [
    "for key, value in my_apple.items():\n",
    "    print(\"The\", key, \"is:\", value)"
   ]
  },
  {
   "cell_type": "markdown",
   "id": "9518d23a-1c71-4c45-a9c6-f432123cc636",
   "metadata": {},
   "source": [
    "<div class=\"gk-exercise\">\n",
    "\n",
    "Schau dir die nachfolgende Funktion `translations(hello_dict)` an und überlege dir, was sie bewirken wird. Überprüfe deine Vermutung anschliessend mit der Ausführung der Zelle.\n",
    "\n",
    "</div>"
   ]
  },
  {
   "cell_type": "code",
   "execution_count": null,
   "id": "09664784-d0ed-470f-814e-6b80cfadd306",
   "metadata": {
    "tags": [
     "exercise"
    ]
   },
   "outputs": [],
   "source": [
    "my_dict = {\n",
    "    \"Haus\": \"maison\",\n",
    "    \"Baum\": \"arbre\",\n",
    "    \"Wasser\": \"eau\",\n",
    "    \"Freund\": \"ami\",\n",
    "    \"Katze\": \"chat\"\n",
    "}\n",
    "\n",
    "def translations(word_dict):\n",
    "    result = \"\"\n",
    "    for german, french in word_dict.items():\n",
    "        result += f\"Auf Deutsch: {german}, auf Französisch: {french}\\n\"\n",
    "    return result\n",
    "\n",
    "print(translations(my_dict))\n"
   ]
  },
  {
   "cell_type": "markdown",
   "id": "5225e319-49f6-4d30-995b-aeb72c33fb0c",
   "metadata": {},
   "source": [
    "## Dictionaries/Listen kopieren\n",
    "\n",
    "Dictionaries können nicht mit ``dict_2 = dict_1`` kopiert werden, da in diesem Fall nur eine Referenz erzeugt wird und nicht ein tatsächliches zweites Wörterbuch/eine zweite Liste. Wenn etwas in ``dict_1`` geändert wird, ist diese Änderung auch in ``dict_2`` sichtbar, da dieses nur auf ``dict_1`` \"zeigt\"."
   ]
  },
  {
   "cell_type": "code",
   "execution_count": null,
   "id": "cd251cb7-c8ac-44c3-9fcc-a69d5f44fbbb",
   "metadata": {},
   "outputs": [],
   "source": [
    "my_other_apple = my_apple\n",
    "\n",
    "my_apple[\"origin\"] = \"New Zealand\"\n",
    "\n",
    "print(my_other_apple[\"origin\"])"
   ]
  },
  {
   "cell_type": "markdown",
   "id": "ba7c8c36-8932-4def-ab45-d9790cf9b437",
   "metadata": {},
   "source": [
    "Dies ist ein extrem wichtiges Konzept beim Programmieren. Es sollte jederzeit klar sein, ob ein Objekt tatsächlich kopiert wurde und damit \"eigenständig\" wird oder ob es nur eine Referenz resp. \"Zeiger\" auf ein anderes Objekt ist und damit nicht eigenständig existiert. Soll ein Dictionary tatsächlich kopiert werden, kann die ```copy()``` Methode des Dictionary verwendet werden:"
   ]
  },
  {
   "cell_type": "code",
   "execution_count": null,
   "id": "ee82ed4c-d7bd-4b2a-a13a-c6feb284c14a",
   "metadata": {},
   "outputs": [],
   "source": [
    "my_other_apple = my_apple.copy()\n",
    "\n",
    "my_apple[\"origin\"] = \"Südtirol\"\n",
    "\n",
    "print(my_other_apple[\"origin\"])\n",
    "print(my_apple[\"origin\"])"
   ]
  },
  {
   "cell_type": "markdown",
   "id": "e410c39b",
   "metadata": {},
   "source": [
    "Das Gleiche gilt auch für Listen. Was wird die Ausgabe der folgenden Zelle demnach sein?"
   ]
  },
  {
   "cell_type": "code",
   "execution_count": null,
   "id": "05cfc7bc",
   "metadata": {},
   "outputs": [],
   "source": [
    "list_1 = [\"Hi\", \"Mom\"]\n",
    "\n",
    "list_2 = list_1\n",
    "\n",
    "list_1.append(\"!\")\n",
    "\n",
    "print(len(list_2))"
   ]
  },
  {
   "cell_type": "markdown",
   "id": "b6cfb477",
   "metadata": {},
   "source": [
    "Wie lässt sich das Problem lösen?\n",
    "\n",
    "<details>\n",
    "    <summary>Tipps</summary>\n",
    "    <p>Das Kopieren von Listen ist identisch zum Kopieren von Dictionaries</p>\n",
    "</details>"
   ]
  },
  {
   "cell_type": "code",
   "execution_count": null,
   "id": "5f6e18c0",
   "metadata": {
    "deletable": false,
    "nbgrader": {
     "cell_type": "code",
     "checksum": "7e1e62ddd37c3e16281bd01d3cfc8455",
     "grade": false,
     "grade_id": "cell-2b49a2ccb21a1f27",
     "locked": false,
     "schema_version": 3,
     "solution": true,
     "task": false
    },
    "tags": [
     "exercise"
    ]
   },
   "outputs": [],
   "source": [
    "# YOUR CODE HERE"
   ]
  },
  {
   "cell_type": "markdown",
   "id": "11b6f780-356c-4a8f-adbe-0794697d523b",
   "metadata": {},
   "source": [
    "## Listen zu Dictionary zusammenführen\n",
    "\n",
    "Wenn ein Dictionary aus zwei separaten Listen (eine für die Schlüssel, die andere für die Werte) erstellt werden sollte, ist die ```zip()``` Funktion hilfreich, welche iterierbare Objekte (wie bspw. Listen) zu einem zip Objekt verbindet. Dieses zip Objekt kann dann mit Hilfe der Funktion ```dict()``` in ein Dictionary umgewandelt werden:"
   ]
  },
  {
   "cell_type": "code",
   "execution_count": null,
   "id": "6602abda-9847-4623-86b7-8f17826d25da",
   "metadata": {},
   "outputs": [],
   "source": [
    "my_keys = [\"Name\", \"Vorname\", \"Adresse\", \"PLZ\", \"Ort\"]\n",
    "my_values = [\"Rupert\", \"Sabrina\", \"Wägli 12\", \"9873\", \"Obergoldiwilbächligen\"]\n",
    "\n",
    "my_dictionary = dict(zip(my_keys, my_values))\n",
    "print(my_dictionary)"
   ]
  },
  {
   "cell_type": "markdown",
   "id": "69c0151c-9aec-407c-b098-f77081aec803",
   "metadata": {},
   "source": [
    "## Dictionary Comprehensions\n",
    "\n",
    "Ähnlich wie List Comprehensions existieren auch Dictionary Comprehensions, um aus bestehenden Dictionaries neue zu erzeugen, dabei aber nur bestimmte Schlüssel-Wert-Paare zu übernehmen (solche, die eine Bedingung erfüllen) und allenfalls diese Schlüssel-Wert-Paare auch noch zu verändern. Die allgemeine Form der Dictionary Comprehension lautet: \n",
    "\n",
    "```python\n",
    "new_dictionary = {expression_k:expression_v for k, v in dictionary.items() if condition}\n",
    "``` \n",
    "\n",
    "Das wirkt auf den ersten Blick verwirrend, wird aber beim praktischen Einsatz etwas klarer:"
   ]
  },
  {
   "cell_type": "code",
   "execution_count": null,
   "id": "21dcc06b-7b3b-4fd8-b0f8-fc46a816ad60",
   "metadata": {},
   "outputs": [],
   "source": [
    "my_apple_new = {k:v.upper() for k, v in my_apple.items() if type(v) == str}\n",
    "print(my_apple_new)"
   ]
  },
  {
   "cell_type": "markdown",
   "id": "3f1a9cb2-738a-4b73-833a-5031a1c2cee1",
   "metadata": {},
   "source": [
    "Die Erklärung zu obiger Dictionary Comprehension: Die Schlüssel-Wert Paare stammen aus dem Dictionary `my_apple`, welches in weiter oben stehenden Zellen definiert wurde. Dieses wird ähnlich einer For Schleife iteriert und dabei soll ein Zugriff auf Schlüssel und Werte bestehen, weshalb die `items()` Methode auf das Dictionary `my_apple` angewandt wird. \n",
    "\n",
    "Während der Iteration sollen Schlüssel und Wert unter der Variable `k` und `v` verfügbar sein, was durch die Notation `for k, v in my_apple.items()` festgelegt wird. Jetzt sollen aber nur diejenigen Werte im neuen Dictionary vorhanden sein, welche vom Typ `str`, also ein Wort (und keine Zahl) sind. Dies wird durch die `if` Bedingung ganz am Schluss festgelegt. \n",
    "\n",
    "Als letztes sollen jetzt aber die Werte in Grossbuchstaben im neuen Dictionary drin sein, das wird durch `v.upper()` erreicht."
   ]
  },
  {
   "cell_type": "markdown",
   "id": "12ea08fa-3c62-4e72-b1a8-35a66c153758",
   "metadata": {
    "tags": []
   },
   "source": [
    "# Arbeiten mit Dateien\n",
    "\n",
    "Eine wichtige Aufgabe beim Programmieren besteht darin, Daten aus Dateien einzulesen, um mit diesen dann weiterzuarbeiten. Anschliessend an die Datenbearbeitung soll dann typischerweise auch wieder die Möglichkeit bestehen, Daten in eine Datei zu schreiben (bspw. als Resultatdatei).\n",
    "\n",
    "## Dateien in Jupyter Lab öffnen und ansehen\n",
    "\n",
    "Jupyter Lab bietet die Möglichkeit, Dateien in verschiedenen Formaten direkt in Jupyter Lab anzuzeigen und zu bearbeiten. Dazu nützt der **File Browser**, der sich in der linken Seitenleiste befindet und der auch benutzt wird, um die Notebooks zu öffnen. In dieser Lektion wird mit verschiedenen Dateien gearbeitet, die sich vom aktuellen Notebook aus im Ordner \"data\" befinden. Alle diese Dateien lassen sich in Jupyter Lab als eigener Tab öffnen. Dies kann auch über einen Klick auf einen Link wie [dieser hier](data/numbers.txt) geschehen.\n",
    "\n",
    "## Dateien einlesen\n",
    "\n",
    "Beim Arbeiten mit Dateien kann einiges schief gehen, deshalb ist es wichtig, darauf vorbereitet zu sein, dass etwas nicht klappt. Beispielsweise möchte man aus einer Datei lesen, die gar nicht existiert. Python hilft dabei:"
   ]
  },
  {
   "cell_type": "code",
   "execution_count": null,
   "id": "38758766-74e5-47cf-b413-49939aec3e44",
   "metadata": {},
   "outputs": [],
   "source": [
    "with open('data/my_text.txt', \"rt\") as file:\n",
    "    data = file.read()\n",
    "    print(data)"
   ]
  },
  {
   "cell_type": "markdown",
   "id": "5d46a73e-8098-4674-b699-513671b12bfd",
   "metadata": {},
   "source": [
    "Das Keyword `with` hilft beim Handling von Dateien. Es ist grundsätzlich nicht nötig, vereinfacht den Umgang mit Dateien aber (bspw. müssen Dateien nicht \"geschlossen\" werden oder bei einem Fehler werden keine \"korrupten\" Dateien erzeugt). Wer mehr zu `with` erfahren möchte, kann das in der [offiziellen Python Dokumentation](https://docs.python.org/3/reference/compound_stmts.html#the-with-statement) finden.\n",
    "\n",
    "Der erste Parameter von `open()` gibt dabei den Dateinamen (und den Pfad relativ vom Jupyter Notebook aus) der Datei an, der zweite Parameter bestimmt, wie mit der Datei gearbeitet werden soll, die wichtigsten Möglichkeiten sind:\n",
    "\n",
    "* 'r' steht für 'read', also aus der Datei lesen\n",
    "* 'w' steht für 'write', also eine Datei schreiben (Datei wird erstellt, falls sie noch nicht existiert und ansonsten überschrieben)\n",
    "\n",
    "Zusätzlich können die Files mit 't' im Text Modus bearbeitet werden oder mit 'b' im Binär Modus (vor allem für Bilddaten interessant). Falls kein Parameter angegeben wird, wählt `open()` den Modus 'rt' als [Standardwert](../03_14_25/Keywords_Funktionen.ipynb#Optionale-Parameter).\n",
    "\n",
    "Soll eine Datei zeilenweise eingelesen werden, kann mit Hilfe einer For Schleife durch das File iteriert werden:"
   ]
  },
  {
   "cell_type": "code",
   "execution_count": null,
   "id": "73ee6eb3-cd72-4b5d-bf9a-5ba9b3e11b4d",
   "metadata": {},
   "outputs": [],
   "source": [
    "with open('data/my_text.txt') as file:\n",
    "    for line in file:\n",
    "        print(\"Quatsch:\", line)"
   ]
  },
  {
   "cell_type": "markdown",
   "id": "091ce99a-cd0c-4cd8-9609-a963176b2fb4",
   "metadata": {},
   "source": [
    "<div class=\"gk-exercise\">\n",
    "\n",
    "Summiere alle Zahlen in der Datei <code>data/numbers.txt</code> und gib das Resultat aus.\n",
    "\n",
    "<details>\n",
    "<summary>Tipp</summary>\n",
    "    <p>Die Zahlen werden aus dem Textfile als Text eingelesen. Denk daran, dass diese noch in ein Integer <a href=\"../03_07_25/Zeichenketten_Iteration.ipynb#Typumwandlung\">umgewandelt</a> werden müssen.</p>\n",
    "</details>\n",
    "</div>"
   ]
  },
  {
   "cell_type": "code",
   "execution_count": null,
   "id": "6a68c1db-0504-45bf-8d45-148959e2df47",
   "metadata": {
    "deletable": false,
    "nbgrader": {
     "cell_type": "code",
     "checksum": "4d38f38da995ade5b606f6aeb0b0602d",
     "grade": false,
     "grade_id": "cell-597009ed722fe4a8",
     "locked": false,
     "schema_version": 3,
     "solution": true,
     "task": false
    },
    "tags": [
     "exercise"
    ]
   },
   "outputs": [],
   "source": [
    "# YOUR CODE HERE"
   ]
  },
  {
   "cell_type": "markdown",
   "id": "093caaf3-0e71-4db4-9db4-79bffdf1c7b6",
   "metadata": {},
   "source": [
    "## Arbeiten mit CSV Dateien\n",
    "\n",
    "CSV (comma separated values) sind eine Möglichkeit, tabellarische Daten in einer Textdatei zu speichern. Beim Öffnen von CSV Dateien in Jupyter Lab über den File Browser (Ordner Sybmol in der linken Tableiste)  wie bspw. `data/population.csv` wird automatisch eine \"tabellarische\" Darstellung erzeugt. \n",
    "\n",
    "Sollen die \"Rohdaten\" angezeigt werden, muss im File Browser auf die Datei rechtsgeklickt und die Option 'Open With/Editor' ausgewählt werden.\n",
    "\n",
    "## CSV als Liste einlesen und in ein Dictionary verwandeln"
   ]
  },
  {
   "cell_type": "code",
   "execution_count": null,
   "id": "a3136aae-d779-4503-adc8-bc4ffa8d8551",
   "metadata": {},
   "outputs": [],
   "source": [
    "import csv\n",
    "\n",
    "with open('data/population.csv') as file:\n",
    "    csv_lists = list(csv.reader(file, delimiter=','))\n",
    "    print(csv_lists)"
   ]
  },
  {
   "cell_type": "markdown",
   "id": "67ef5cb5-db90-40da-929e-649eb412da8e",
   "metadata": {},
   "source": [
    "Um die Funktion `reader()` zu verwenden, muss zuerst das Modul 'csv' importiert werden. Die Funktion `reader()` braucht ein File (welches mit `open()` geöffnet wurde) und die Bezeichnung, welches Zeichen als Trennzeichen verwendet wurde (hier ein Komma ','). Wenn das Resultat von `reader()` noch mit Hilfe der Funktion `list()` in eine Liste umgewandelt wird, wurde damit eine Liste von Listen erzeugt (jede Zeile ist eine Liste geworden und alle Zeilen landen ebenfalls in einer Liste). Die Arbeit damit ist etwas umständlich. Etwas besser geht es mit einem Dictionary:"
   ]
  },
  {
   "cell_type": "code",
   "execution_count": null,
   "id": "df6a23ad-0726-41ce-b439-f0b2ac86631c",
   "metadata": {},
   "outputs": [],
   "source": [
    "country_pop = dict()\n",
    "\n",
    "for row in csv_lists[1:]:\n",
    "    country_pop[row[0]] = int(row[1])\n",
    "\n",
    "print(country_pop[\"China\"])    "
   ]
  },
  {
   "cell_type": "markdown",
   "id": "7990fd30-dd0e-4349-a15e-ea7697a8d28a",
   "metadata": {},
   "source": [
    "> **Übrigens:** Um ein leeres Dictionary zu erzeugen, verwendet man `dict()`\n",
    "\n",
    "Hier wird die Liste `csv_lists` erst vom zweiten Eintrag an mit `[1:]` durchiteriert. Dann wird zum Dictionary jeweils ein Eintrag mit dem Schlüssel, der an erster Stelle der Subliste steht, hinzugefügt.\n",
    "\n",
    "<div class=\"gk-exercise\">\n",
    "\n",
    "Untersuche warum die Liste <code>csv_lists</code> erst ab dem zweiten Eintrag iteriert wird.\n",
    "\n",
    "<details>\n",
    "<summary>Tipp</summary>\n",
    "    <p>Gib den ersten Eintrag von <code>csv_lists</code></p>\n",
    "</details>\n",
    "</div>"
   ]
  },
  {
   "cell_type": "markdown",
   "id": "6546b0cc-e1fc-4c2c-b929-7bcc17420b19",
   "metadata": {
    "deletable": false,
    "nbgrader": {
     "cell_type": "markdown",
     "checksum": "d4b0d61dbe274f46913a58d392401783",
     "grade": true,
     "grade_id": "cell-224afd8d0f9ab3dc",
     "locked": false,
     "points": 0,
     "schema_version": 3,
     "solution": true,
     "task": false
    },
    "tags": [
     "exercise"
    ]
   },
   "source": [
    "YOUR ANSWER HERE"
   ]
  },
  {
   "cell_type": "markdown",
   "id": "f243234b-3490-4152-99b9-a6efdda50425",
   "metadata": {},
   "source": [
    "## Übersichtlichere Ausgaben mit `display()`\n",
    "\n",
    "Mit Hilfe der Funktion `display()` lassen sich Listen und Dictionaries übersichtlicher ausgeben in Jupyter Lab:"
   ]
  },
  {
   "cell_type": "code",
   "execution_count": null,
   "id": "4f3aeeb9-71cc-455a-80a1-14b497425b0f",
   "metadata": {},
   "outputs": [],
   "source": [
    "display(csv_lists)"
   ]
  },
  {
   "cell_type": "code",
   "execution_count": null,
   "id": "998ae3d4-570f-4811-94f2-85e9995241ae",
   "metadata": {},
   "outputs": [],
   "source": [
    "display(country_pop)"
   ]
  },
  {
   "cell_type": "markdown",
   "id": "520f78f5-3711-4874-8778-6c026876c701",
   "metadata": {},
   "source": [
    "# JSON\n",
    "\n",
    "JSON (JavaScript Object Notation) ist ein Datenformat, das sich für \"verschachtelte\"  Daten eignet. Im Englischen wird dabei von sogenannten \"nested\" Daten gesprochen. Obwohl der Namen JSON auf JavaScript hinweist, hat sich JSON als Datenformat weit über JavaScript hinaus verbreitet und so bietet auch Python gute Möglichkeiten, um mit JSON zu arbeiten.\n",
    "\n",
    "## Unterschiede CSV zu JSON\n",
    "\n",
    "Bei CSV Daten müssen alle Datensätze ins gleiche tabellarische Schema passen (sogenannte flat data), also beispielsweise für jedes Land muss ein Eintrag zur Bevölkerungszahl existieren. Wenn aber für verschiedene Länder verschiedene Daten gespeichert werden sollen, dann eignet sich JSON viel besser als CSV, weil es erlaubt, für verschiedene \"Datenpunkte\" verschiedene Angaben zu hinterlegen."
   ]
  },
  {
   "cell_type": "markdown",
   "id": "6c34e84a-65c1-4976-a60f-e078910647fa",
   "metadata": {},
   "source": [
    "<div class=\"gk-exercise\">\n",
    "\n",
    "Öffne das File [data/substances.json](data/substances.json) in Jupyter Lab (klick auf den Link). Schau dir das Dokument an und öffne es nochmals mit einem Rechtsklick auf das Dokument im 'File Browser' (Ordner Symbol ganz links) und der Option 'Open Width/Editor'. In der Standard-Ansicht zeigt Jupyter Lab das JSON schon formatiert an (die kleinen Dreiecke erlauben, die unterliegenden Daten anzusehen). In der Editor Ansicht sehen wir den \"Quelltext\".\n",
    "    \n",
    "Frage 1: Wieso würden sich die im JSON dargestellten Daten nicht gut für ein CSV eignen?\n",
    "    \n",
    "Frage 2: Welche Datenstruktur in Python ist am ehesten mit einem JSON vergleichbar?    \n",
    "</div>"
   ]
  },
  {
   "cell_type": "markdown",
   "id": "09aeb34d-57cc-485b-944f-c7a027386032",
   "metadata": {
    "deletable": false,
    "nbgrader": {
     "cell_type": "markdown",
     "checksum": "ac38b3fb9e12618c7971685ce13c8458",
     "grade": true,
     "grade_id": "cell-33e14a175ccdf275",
     "locked": false,
     "points": 0,
     "schema_version": 3,
     "solution": true,
     "task": false
    },
    "tags": [
     "exercise"
    ]
   },
   "source": [
    "YOUR ANSWER HERE"
   ]
  },
  {
   "cell_type": "markdown",
   "id": "e4694c8f-6603-4d6c-a76b-aabcaedadcc6",
   "metadata": {},
   "source": [
    "## JSON Files in Python öffnen\n",
    "\n",
    "JSON Files können in Python einfach als Liste resp. Dictionary (oder Kombination von Liste und Dictionary) geöffnet werden. Dafür muss zuerst das File in Python geöffnet und dann mit Hilfe der Funktion `load()` aus dem Modul `json` gelesen und umgewandelt werden."
   ]
  },
  {
   "cell_type": "markdown",
   "id": "0a42207e-fb2c-4d2e-86c6-375aac0af6a3",
   "metadata": {},
   "source": [
    "<div class=\"gk-exercise\">\n",
    "\n",
    "Lies das File <code>data/paradigms.json</code> als Liste resp. Dictionary in Python ein und gib es mit dem `display()` Befehl wieder aus.\n",
    "<details>\n",
    "<summary>Tipps</summary>\n",
    "    <p>Öffne die Datei mittels <code>with open(...) as file</code></p>\n",
    "<details>\n",
    "<summary>Tipp</summary>\n",
    "    <p>Die geöffnete Datei kannst du mittels <code>json.load(...)</code> als JSON einlesen</p>\n",
    "</details>\n",
    "</details>\n",
    "</div>"
   ]
  },
  {
   "cell_type": "code",
   "execution_count": 22,
   "id": "b655e084-dbd3-4c37-8a61-3b6818a02f26",
   "metadata": {
    "deletable": false,
    "nbgrader": {
     "cell_type": "code",
     "checksum": "806e88a19fc9b42cc780f288f3f27b49",
     "grade": false,
     "grade_id": "cell-d116835756a7492e",
     "locked": false,
     "schema_version": 3,
     "solution": true,
     "task": false
    },
    "tags": [
     "exercise"
    ]
   },
   "outputs": [],
   "source": [
    "import json\n",
    "\n",
    "# YOUR CODE HERE\n"
   ]
  },
  {
   "cell_type": "markdown",
   "id": "dfb0faf1-0385-4819-830c-ccba9579ba99",
   "metadata": {
    "tags": []
   },
   "source": [
    "## Kombination von Listen und Dictionaries\n",
    "\n",
    "Die Kombination von Listen und Dictionaries (bspw. eingelesen aus dem obigen JSON File) ist sehr mächtig. Auf den ersten Blick sind solche Konstrukte aber etwas schwer zu durchschauen. Es muss jeweils klar sein, innerhalb welcher Hierarchiestruktur man sich gerade befindet, siehe nochmals obiges Beispiel:\n",
    "\n",
    "```JSON\n",
    "[\n",
    "    {\n",
    "        \"name\": \"Python\",\n",
    "        \"year\": 1991,\n",
    "        \"designers\": [\"Guido van Rossum\"],\n",
    "        \"paradigms\": [\"object-oriented\", \"procedural\", \"functional\", \"structural\", \"reflective\"]\n",
    "    },\n",
    "    {\n",
    "        \"name\": \"C\",\n",
    "        \"year\": 1972,\n",
    "        \"designers\": [\"Dennis Ritchie\"],\n",
    "        \"paradigms\": [\"procedural\", \"structural\"]\n",
    "    }\n",
    "    ...\n",
    "]\n",
    "```\n",
    "\n",
    "Bei diesem JSON ist die oberste Ebene eine Liste (erkennbar an den eckigen Klammern `[]`. Wenn also dieses JSON in Python eingelesen und unter einer Variable gespeichert wird, kann über `variablenname[index]` auf die einzelnen \"Paradigmen\" zugegriffen oder in einer For Schleife iteriert werden. Die einzelnen Listenelemente sind dann ein Dictionary (erkennbar an den geschweiften Klammern `{}`) mit Schlüssel Wert Paaren. Teilweise sind dann diese Werte wiederum ein Dictionary oder eine Liste. Die Konstruktion \"Liste aus Dictionaries\" ist häufig, wenn bestimmte gleichartige Objekte, welche gut durch ein Dictionary beschrieben werden können, zusammengefasst werden sollen. In diesem Fall handelt es sich um Liste von Programmiersprachen und deren Paradigmen."
   ]
  },
  {
   "cell_type": "markdown",
   "id": "0f74adb4-cad1-4ea8-b0d0-81327f867c32",
   "metadata": {},
   "source": [
    "<div class=\"gk-exercise\">\n",
    "\n",
    "Häufig möchte man die Werte eines Schlüssels aus allen Listenelementen herauslesen: Lies das File <code>data/paradigms.json</code> wie in der obigen Aufgabe als Dictionary in Python ein. Erzeuge dann mit Hilfe einer <a href=\"../Lektion_06/If_else.ipynb#List-Comprehensions\">List Comprehension</a> eine Liste mit allen Namen der Paradigmen der Programmiersprachen.\n",
    "<details>\n",
    "<summary>Tipps</summary>\n",
    "    <p>Die Namen der Hersteller erhältst du mit dem Schlüssel <code>\"paradigms\"</code></p>\n",
    "</details>\n",
    "</div>"
   ]
  },
  {
   "cell_type": "code",
   "execution_count": null,
   "id": "badc8768-9992-4589-9226-1c4ac8fb1471",
   "metadata": {
    "deletable": false,
    "nbgrader": {
     "cell_type": "code",
     "checksum": "176ec6ad706ebea47426581e1f146274",
     "grade": false,
     "grade_id": "cell-dc54e4f306b5f426",
     "locked": false,
     "schema_version": 3,
     "solution": true,
     "task": false
    },
    "tags": [
     "exercise"
    ]
   },
   "outputs": [],
   "source": [
    "import json\n",
    "\n",
    "# YOUR CODE HERE"
   ]
  },
  {
   "cell_type": "markdown",
   "id": "15b70388-eea9-49a6-97a3-f23986d367c7",
   "metadata": {},
   "source": [
    "## JSON Daten von einer API einlesen\n",
    "\n",
    "Verschiedene Web APIs (Application Programming Interface) stellen Daten in einem JSON Format zur Verfügung. Die meisten dieser APIs benötigen eine Authentifizierung, um Daten zu beziehen, es gibt aber auch solche, die frei verfügbar sind. Um Daten von einer API zu lesen, dient die Funktion `get()` aus dem Modul `requests`, welche auch über eine integrierte Funktion verfügt, um die JSON Daten in ein Dicitonary umzuwandeln:"
   ]
  },
  {
   "cell_type": "code",
   "execution_count": null,
   "id": "4735dae4-6f58-442a-a74e-a5e0f47f67b2",
   "metadata": {
    "tags": []
   },
   "outputs": [],
   "source": [
    "import requests\n",
    "\n",
    "response = requests.get(\"http://api.open-notify.org/astros.json\").json()\n",
    "\n",
    "display(response)"
   ]
  },
  {
   "cell_type": "markdown",
   "id": "36554b8d-e076-4b53-98ab-2ab01bb350ec",
   "metadata": {},
   "source": [
    "Die oben kontaktierte API (`\"http://api.open-notify.org/astros.json\"`) gibt ein JSON mit Informationen (Name und Raumfahrzeug) zu allen sich momentan im All befindenden Astronautinnen und Astronauten zurück. \n",
    "\n",
    "Obiger Quelltext ist ein Beispiel, dass [Methoden](../03_21_25/Listen_Methoden.ipynb#Methoden) sich auch aneinanderreihen lassen. Die Funktion links (hier `get()`) wird dabei zuerst ausgeführt und auf das Resultat wird gleich die nächste Funktion rechts (hier `json()`) angewandt. Man spricht in diesem Fall auch von **Method Chaining**. Das funktioniert, wenn der Rückgabewert der vorangehenden Funktion von einem Typ ist, der über Methoden aufweist, und eine solche dann direkt auf diesen Rückgabewert angewandt wird."
   ]
  },
  {
   "cell_type": "markdown",
   "id": "4b56fde9-4b30-48ff-9f36-3e173818cfbb",
   "metadata": {
    "tags": []
   },
   "source": [
    "# Schlussaufgabe"
   ]
  },
  {
   "cell_type": "markdown",
   "id": "15497fa1-2ee2-44f4-b182-3249e7e8ebb0",
   "metadata": {
    "tags": []
   },
   "source": [
    "<div class=\"gk-exercise\">\n",
    "\n",
    "Erstelle mit Hilfe der API unter https://api.nobelprize.org/2.1/nobelPrizes?limit=150&sort=desc&nobelPrizeYear=2000&yearTo=2025 ein Dictionary <code>total_prize_money</code>, welches die Summe der Preisgelder für die Nobelpreise pro Jahr enthält.\n",
    "\n",
    "Unter folgendem Link findest du mehr Informationen über die verwendete API: https://www.nobelprize.org/about/developer-zone-2/\n",
    "\n",
    "<details>\n",
    "<summary>Tipps</summary>\n",
    "    <p>Das JSON, welches die API zurückliefert, ist eine Liste von Dictionaries, welche unter dem Schlüssel <code>\"awardYear\"</code> das Jahr der Verleihung und unter <code>\"prizeAmount\"</code> das Preisgeld beinhalten.</p>\n",
    "    \n",
    "    <p>Iteriere die Liste der Preise durch und prüfe für jeden Nobelpreis, ob bereits ein Eintrag im Dictionary <code>total_prize_money</code> für das entsprechende Jahr vorhanden ist. Falls nein, erstelle einen Eintrag und weise den Wert aus <code>\"prizeAmount\"</code> zu, falls ja, erhöhe den entsprechenden Wert um den Wert aus <code>\"prizeAmount\"</code>.</p>\n",
    "</details>\n",
    "</div>"
   ]
  },
  {
   "cell_type": "code",
   "execution_count": null,
   "id": "9e562096-8905-4f78-a263-0b41190db242",
   "metadata": {
    "deletable": false,
    "nbgrader": {
     "cell_type": "code",
     "checksum": "bbd98bdeb3354a2f590ad2d6c789a65d",
     "grade": false,
     "grade_id": "cell-2b49a2ccb21a1f15",
     "locked": false,
     "schema_version": 3,
     "solution": true,
     "task": false
    },
    "tags": [
     "exercise"
    ]
   },
   "outputs": [],
   "source": [
    "import requests\n",
    "total_prize_money = {}\n",
    "\n",
    "# YOUR CODE HERE\n",
    "\n",
    "display(total_prize_money)"
   ]
  },
  {
   "cell_type": "markdown",
   "id": "1759e267-808a-495f-8db9-1cccd4041168",
   "metadata": {},
   "source": [
    "# Zusatzaufgabe für Interessierte\n",
    "\n",
    "Hinweis: Diese Aufgabe ist etwas aufwändiger, aber schon ziemlich nahe an einer konkreten, sinnvollen Anwendung. Aufgaben dieser Komplexität sind nicht prüfungsrelevant - aber trotzdem interessant. "
   ]
  },
  {
   "cell_type": "markdown",
   "id": "358d240b-7c68-469d-a441-03df23c87d3c",
   "metadata": {},
   "source": [
    "<div class=\"gk-exercise\">\n",
    "\n",
    "Lies die Schweizer Verfassung [data/verfassung.txt](data/verfassung.txt) als File ein und zähle die Vorkommnisse aller Wörter darin. Sortiere die Vorkommnisse aller Wörter gemäss deren Anzahl.\n",
    "\n",
    "Google ist empfehlenswert, jedoch ist der Lerneffekt grösser bei Suchanfragen wie \"filter characters from string python\" als bei \"word frequency python\" :)\n",
    "    \n",
    "<details>\n",
    "<summary>Tipps</summary>\n",
    "    <p>Erstelle - ähnlich der Schlussaufgabe - ein Dictionary mit den individuellen Worten als Schlüssel und der Anzahl der Vorkommnisse als Wert.</p>\n",
    "<details>\n",
    "<summary>Tipp</summary>\n",
    "    <p>Bevor du die Worte zählst, transformiere alle Buchstaben in Kleinbuchstaben und entferne möglichst alle Satzzeichen aus dem Text. Hilfreich sind dafür die Methoden <code>lower()</code> und <code>replace()</code>.</p>\n",
    "</details> \n",
    "<details>\n",
    "<summary>Tipp</summary>\n",
    "    <p>Um die Worte des Textes einzeln zu iterieren, muss der String der gesamten Verfassung in einzelne Listenelemente transformiert werden. Informiere dich dazu über die Methode <code>split()</code>.</p>\n",
    "</details>\n",
    "<details>\n",
    "<summary>Tipp</summary>\n",
    "    <p>Das Sortieren eines Dictionaries nach den Values ist nicht ganz trivial. Informiere dich im Internet darüber und kopiere eine passende Lösung in den Quelltext.</p>\n",
    "</details> \n",
    "</details>\n",
    "    \n",
    "</div>"
   ]
  },
  {
   "cell_type": "code",
   "execution_count": null,
   "id": "2ae0d1c2-ba3d-4768-a83d-eda8a5233fd1",
   "metadata": {
    "deletable": false,
    "nbgrader": {
     "cell_type": "code",
     "checksum": "dd0193e870958498c1519f7b87544412",
     "grade": false,
     "grade_id": "cell-6184a24daab34001",
     "locked": false,
     "schema_version": 3,
     "solution": true,
     "task": false
    },
    "tags": [
     "exercise"
    ]
   },
   "outputs": [],
   "source": [
    "# YOUR CODE HERE"
   ]
  },
  {
   "cell_type": "markdown",
   "id": "5eb7a97c-b096-44e2-b7dc-396aa2f284bf",
   "metadata": {},
   "source": [
    "# Zusammenfassung\n",
    "\n",
    "In dieser Lektion wurde der Umgang mit Dateien und API Resourcen untersucht. Die zwei sehr verbreitete Dateiformate, CSV und JSON, motivieren das Einführen eines neuen Datentypes, des **Dictionary**. \n",
    "\n",
    "In diesem Zusammenhang wurden Gemeinsamkeiten und Unterschiede von **Dictionaries** und **Listen** analysiert. Des weiteren wurde die Kombination von diesen beiden Datentypen anhand von einem Beispiel und mehreren Aufgaben gezeigt."
   ]
  },
  {
   "cell_type": "markdown",
   "id": "2f4833b9-315e-4403-a41a-ad0e740b3f7c",
   "metadata": {},
   "source": [
    "# Impressum\n",
    "\n",
    "<a rel=\"license\" href=\"http://creativecommons.org/licenses/by-sa/4.0/\"><img alt=\"Creative Commons Lizenzvertrag\" style=\"border-width:0\" src=\"https://mirrors.creativecommons.org/presskit/buttons/88x31/svg/by-sa.svg\" /></a><br />Dieses Werk ist lizenziert unter einer <a rel=\"license\" href=\"http://creativecommons.org/licenses/by-sa/4.0/\">Creative Commons Namensnennung - Weitergabe unter gleichen Bedingungen 4.0 International Lizenz</a>.\n",
    "\n",
    "\n",
    "Autoren: [Jakob Schärer](mailto:jakob.schaerer@unibe.ch), [Lionel Stürmer](mailto:lionel.stuermer@bfh.ch) <br>\n",
    "Ursprünglicher Text von: Noe Thalheim, Benedikt Hitz-Gamper\n",
    "\n",
    "\n",
    "```\n",
    "MAY THE DEBUGGER BE WITH YOU\n",
    "```"
   ]
  }
 ],
 "metadata": {
  "kernelspec": {
   "display_name": "gp",
   "language": "python",
   "name": "python3"
  },
  "language_info": {
   "codemirror_mode": {
    "name": "ipython",
    "version": 3
   },
   "file_extension": ".py",
   "mimetype": "text/x-python",
   "name": "python",
   "nbconvert_exporter": "python",
   "pygments_lexer": "ipython3",
   "version": "3.12.11"
  },
  "toc-autonumbering": true
 },
 "nbformat": 4,
 "nbformat_minor": 5
}
