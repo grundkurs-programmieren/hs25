{
 "cells": [
  {
   "cell_type": "markdown",
   "id": "a86d7ac8-8b3b-4938-b828-26fa685ad237",
   "metadata": {},
   "source": [
    "<img src=\"https://i.imgur.com/XSzy00d.png\" style=\"float:right;width:150px\">\n",
    "\n",
    "**Listen und Methoden**\n",
    "\n",
    "# Einleitung\n",
    "\n",
    "## Lernziele\n",
    "\n",
    "* Sie verstehen **Listen** als eigener Datentyp\n",
    "* Sie verstehen, wieso Listen **nützlich** sein können\n",
    "* Sie können Listen **erstellen**\n",
    "* Sie können auf Listenelemente **zugreifen**\n",
    "* Sie können über Listen **iterieren**\n",
    "* Sie kennen den Zusammenhang von **Listen** und **Strings**\n",
    "* Sie können den **Debugger** mit **Breakpoints** als Hilfsmittel einsetzen\n",
    "* Sie kennen den Unterschied zwischen einer Funktion und einer **Methode**\n",
    "* Sie können nach Methoden von Objekten **suchen** und diese **anwenden**"
   ]
  },
  {
   "cell_type": "markdown",
   "id": "c5d595b7-8274-43fc-a19b-065aad58c91a",
   "metadata": {},
   "source": [
    "## Keywords\n",
    "\n",
    "<table class=\"gk-keywords\">\n",
    "<tr>\n",
    "    <td><code>False</code></td>\n",
    "    <td><code>await</code></td>\n",
    "    <td><code>else</code></td>\n",
    "    <td><code>import</code></td>\n",
    "    <td><code>pass</code></td>\n",
    "</tr>\n",
    "<tr>\n",
    "    <td><code>None</code></td>\n",
    "    <td><code>break</code></td>\n",
    "    <td><code class=\"known\">except</code></td>\n",
    "    <td><code class=\"known\">in</code></td>\n",
    "    <td><code>raise</code></td>\n",
    "</tr>\n",
    "<tr>\n",
    "    <td><code>True</code></td>\n",
    "    <td><code>class</code></td>\n",
    "    <td><code>finally</code></td>\n",
    "    <td><code>is</code></td>\n",
    "    <td><code class=\"known\">return</code></td>\n",
    "</tr>\n",
    "<tr>\n",
    "    <td><code>and</code></td>\n",
    "    <td><code>continue</code></td>\n",
    "    <td><code class=\"known\">for</code></td>\n",
    "    <td><code>lambda</code></td>\n",
    "    <td><code class=\"known\">try</code></td>\n",
    "</tr>\n",
    "<tr>\n",
    "    <td><code>as</code></td>\n",
    "    <td><code class=\"known\">def</code></td>\n",
    "    <td><code>from</code></td>\n",
    "    <td><code>nonlocal</code></td>\n",
    "    <td><code>while</code></td>\n",
    "</tr>\n",
    "<tr>\n",
    "    <td><code>assert</code></td>\n",
    "    <td><code>del</code></td>\n",
    "    <td><code class=\"known\">global</code></td>\n",
    "    <td><code>not</code></td>\n",
    "    <td><code>with</code></td>\n",
    "</tr>\n",
    "<tr>\n",
    "    <td><code>async</code></td>\n",
    "    <td><code>elif</code></td>\n",
    "    <td><code>if</code></td>\n",
    "    <td><code>or</code></td>\n",
    "    <td><code>yield</code></td>\n",
    "</tr>\n",
    "</table>"
   ]
  },
  {
   "cell_type": "markdown",
   "id": "e5fcefe7-b76a-4e63-a5a0-4498a4461b6b",
   "metadata": {},
   "source": [
    "# Listen\n",
    "\n",
    "In Python sind **Listen** (Lists) ein eigener Datentyp. Sie werden verwendet, um verschiedene Elemente in einer einzelnen Variable zu speichern.\n",
    "\n",
    "## Wieso sind Listen nützlich?\n",
    "\n",
    "Folgendes Problem sei gegeben: Es soll die durchschnittliche Personengrösse einer Fussballerinnenfrauschaft ermittelt werden. Ein möglicher Ansatz wäre:"
   ]
  },
  {
   "cell_type": "code",
   "execution_count": null,
   "id": "014fbc19-dd79-464a-8e49-9d10d67ad802",
   "metadata": {},
   "outputs": [],
   "source": [
    "spielerin1 = 1.65\n",
    "spielerin2 = 1.42\n",
    "spielerin3 = 1.71\n",
    "spielerin4 = 1.45\n",
    "spielerin5 = 1.67\n",
    "spielerin6 = 1.65\n",
    "spielerin7 = 1.81\n",
    "spielerin8 = 1.85\n",
    "spielerin9 = 1.51\n",
    "spielerin10 = 1.49\n",
    "spielerin11 = 1.69\n",
    "\n",
    "\n",
    "mittlere_groesse = (spielerin1 + \n",
    "                    spielerin2 + \n",
    "                    spielerin3 + \n",
    "                    spielerin4 + \n",
    "                    spielerin5 + \n",
    "                    spielerin6 + \n",
    "                    spielerin7 + \n",
    "                    spielerin8 + \n",
    "                    spielerin9 + \n",
    "                    spielerin10 + \n",
    "                    spielerin11) / 11\n",
    "\n",
    "print(mittlere_groesse)"
   ]
  },
  {
   "cell_type": "markdown",
   "id": "7ad7f275-ee05-427d-af5e-f02b6812f0d1",
   "metadata": {},
   "source": [
    "Dieses Vorgehen ist äusserst ineffizient und fehleranfällig. Viel einfacher geht es mit Listen:"
   ]
  },
  {
   "cell_type": "code",
   "execution_count": null,
   "id": "48598080-4200-4498-b3cf-ead5a3960f2b",
   "metadata": {
    "tags": []
   },
   "outputs": [],
   "source": [
    "spielerinnen_groessen = [1.65, 1.42, 1.71, 1.45, 1.67, 1.65, 1.81, 1.85, 1.51, 1.49, 1.69]\n",
    "\n",
    "mittlere_groesse = sum(spielerinnen_groessen) / len(spielerinnen_groessen)\n",
    "\n",
    "print(mittlere_groesse)"
   ]
  },
  {
   "cell_type": "markdown",
   "id": "305d891d-778c-44db-a1ea-16ca67543e1d",
   "metadata": {},
   "source": [
    "Es gibt eine Vielzahl von [Built in Funktionen](../Lektion_04/Keywords_Funktionen.ipynb#Built-in-Funktionen-nutzen), die auf Listen angewendet werden können, wie bspw. `sum()` berechnet die Summe aller Elemente in der Liste und `len()` ergibt die Anzahl von Elemente in einer Liste."
   ]
  },
  {
   "cell_type": "markdown",
   "id": "e0a92d34-332b-4c76-90c2-40ccb8ab56ce",
   "metadata": {},
   "source": [
    "> Werden Variablen nummeriert, z.B. `spielerin1`, `spielerin2`, ..., ist dies ein Indiz dafür, dass eine Liste verwendet werden kann und sollte."
   ]
  },
  {
   "cell_type": "markdown",
   "id": "aa486d7e-0454-4db6-9639-494ba7d79243",
   "metadata": {},
   "source": [
    "Im folgenden werden nun Listen genauer untersucht. "
   ]
  },
  {
   "cell_type": "markdown",
   "id": "22f08008-9366-4c23-88e0-501d5693d982",
   "metadata": {},
   "source": [
    "## Listen und Strings\n",
    "\n",
    "Listen und [Strings](../Lektion_02/Strings_Variablen.ipynb#Strings) haben viele Gemeinsamkeiten und sind **konzeptuell sehr ähnlich**. Der Grund dafür ist, dass ein String eigentlich kaum etwas anderes als eine **Liste von Zeichen** ist, darum auch der Name *Zeichenkette* für Strings. In den nachfolgenden Kapiteln werden deshalb neben Listen auch immer wieder Strings behandelt."
   ]
  },
  {
   "cell_type": "markdown",
   "id": "8ce6106b-67fe-4539-b057-ee1f5ef52f7e",
   "metadata": {},
   "source": [
    "## Eigenschaften von Listen\n",
    "\n",
    "Listen werden mit Hilfe von eckigen Klammern `[]` erstellt, die einzelnen Elemente der Liste werden durch Kommas `,` getrennt. Listen gehören zu den sogenannten Python **Data Collections**. \n",
    "\n",
    "Listen sind **indexiert** (die Reihenfolge der Elemente spielt also eine Rolle) und erlauben auch **duplizierte Werte** (im Beispiel oben können also mehrere Spielerinnen die gleiche Grösse aufweisen)."
   ]
  },
  {
   "cell_type": "markdown",
   "id": "4842c688-4323-4302-8cd5-6230721d0120",
   "metadata": {},
   "source": [
    "Um die Anzahl Elemente einer Liste zu bestimmen, kann man wie oben erwähnt die Funktion `len()` verwenden:"
   ]
  },
  {
   "cell_type": "code",
   "execution_count": null,
   "id": "a352b719-4f20-4c47-bbfb-b7a38aed7772",
   "metadata": {
    "tags": []
   },
   "outputs": [],
   "source": [
    "print(len(spielerinnen_groessen))"
   ]
  },
  {
   "cell_type": "markdown",
   "id": "b1001e14-f8e5-4692-b2ea-2a59f88e57b0",
   "metadata": {},
   "source": [
    "## Auf Listenelemente zugreifen\n",
    "\n",
    "Auf die einzelnen Elemente einer Liste kann mit Hilfe eines Indexes zugegriffen werden. Der Index beginnt in Python wie schon bei den Strings gelernt bei `[0]`. Es können auch negative Indizes verwendet werden, in diesem Fall wird vom Ende her gezählt (wobei es mathematisch korrekt kein `-0` gibt, sondern das letzte Element die `-1` ist.)"
   ]
  },
  {
   "cell_type": "code",
   "execution_count": null,
   "id": "9a093299-d526-4793-ac45-4792f67b3496",
   "metadata": {},
   "outputs": [],
   "source": [
    "print(spielerinnen_groessen[0])\n",
    "print(spielerinnen_groessen[1])\n",
    "print(spielerinnen_groessen[-2])\n"
   ]
  },
  {
   "cell_type": "markdown",
   "id": "fac8ebf1-2b3d-4b41-8c20-9aae86c93a4d",
   "metadata": {},
   "source": [
    "Wenn auf einen nicht existierenden Index einer Liste zugegriffen wird (dieser Fehler tritt erstaunlich häufig auf), kommt es zu einer Fehlermeldung:"
   ]
  },
  {
   "cell_type": "code",
   "execution_count": null,
   "id": "396c0ebd-2af1-49f9-9456-53b6b3a54325",
   "metadata": {
    "tags": [
     "raises-exception"
    ]
   },
   "outputs": [],
   "source": [
    "print(spielerinnen_groessen[15])"
   ]
  },
  {
   "cell_type": "markdown",
   "id": "dd3cf0a5-e1a9-4d6e-a231-88296befe8aa",
   "metadata": {},
   "source": [
    "<div class=\"gk-exercise\">\n",
    "\n",
    "1. Frag mittels den Funktionen `input` und `int` nach einem Index für die Liste `spielerinnen_groessen` und gib den entsprechenden Wert aus. \n",
    "    \n",
    "2. Erweitere deinen Code mittels `try` und `except` um die Fehlermeldung eines nicht existierenden Index abzufangen.\n",
    "\n",
    "</div>"
   ]
  },
  {
   "cell_type": "code",
   "execution_count": null,
   "id": "357c937a-1aa2-47cf-b0ec-9cf1f8cb0cd2",
   "metadata": {
    "deletable": false,
    "nbgrader": {
     "cell_type": "code",
     "checksum": "c728f2029c3bf2383b8c4574e0926f32",
     "grade": false,
     "grade_id": "cell-1fb1faa7e1f4df0c",
     "locked": false,
     "schema_version": 3,
     "solution": true,
     "task": false
    },
    "tags": [
     "exercise"
    ]
   },
   "outputs": [],
   "source": [
    "# YOUR CODE HERE"
   ]
  },
  {
   "cell_type": "markdown",
   "id": "6ae20f18-5671-4f38-bc20-3158e0260154",
   "metadata": {},
   "source": [
    "Ein Zugriff auf mehrere Elemente einer Liste ist durch Angabe eines Index-Bereichs möglich. Dies ermöglicht die Erstellung neuer Listen basierend auf Teilbereichen existierender Listen. Der Index-Bereich wird in eckigen Klammern definiert, wobei ein Startwert durch einen Doppelpunkt vom Endwert getrennt wird. Der Startwert ist inkludiert, während der Endwert exkludiert ist."
   ]
  },
  {
   "cell_type": "code",
   "execution_count": null,
   "id": "27e4d389-9005-4732-95fc-c09d212f2d66",
   "metadata": {},
   "outputs": [],
   "source": [
    "laender = [\"Deutschland\", \"Portugal\", \"Russland\", \"Thailand\", \"Brasilien\", \"Moldawien\"]\n",
    "\n",
    "laender_auswahl = laender[1:3]\n",
    "\n",
    "print(laender_auswahl)"
   ]
  },
  {
   "cell_type": "markdown",
   "id": "cd851769-23ae-4703-a520-b79fb73d6a46",
   "metadata": {},
   "source": [
    "Wenn vor oder nach dem Doppelpunkt kein Wert angegeben wird, bedeutet dies von Anfang oder bis zum Ende der Liste."
   ]
  },
  {
   "cell_type": "code",
   "execution_count": null,
   "id": "65ca0760-7819-493f-ac29-6839b5a674ff",
   "metadata": {},
   "outputs": [],
   "source": [
    "laender_auswahl = laender[3:]\n",
    "\n",
    "print(laender_auswahl)"
   ]
  },
  {
   "cell_type": "markdown",
   "id": "4b9c432c-6e2b-4538-9ec3-01779a607b54",
   "metadata": {},
   "source": [
    "Da Strings im Wesentlichen Listen von Zeichen darstellen, ist der Zugriff auf einzelne Zeichen in Strings ebenso möglich."
   ]
  },
  {
   "cell_type": "code",
   "execution_count": null,
   "id": "def2e349-c6bb-44a2-bd12-7fccf134f211",
   "metadata": {
    "tags": []
   },
   "outputs": [],
   "source": [
    "mein_string = \"Ich bin eine Zeichenkette\"\n",
    "print(\"Erstes Zeichen:\", mein_string[0])\n",
    "print(\"Letztes Zeichen:\", mein_string[-1])\n",
    "print(\"Letzte fünf Zeichen:\", mein_string[-5:])"
   ]
  },
  {
   "cell_type": "markdown",
   "id": "7e82deb2-1d3a-44db-b493-5456a575d822",
   "metadata": {},
   "source": [
    "Dies wird auch als **String Slicing** bezeichnet und das Resultat davon ist ein Teilstring resp. ein sogenannter **Substring**."
   ]
  },
  {
   "cell_type": "markdown",
   "id": "2ff417d5",
   "metadata": {},
   "source": [
    "Es ist zu beachten, dass Listenelemente mit `list_1[2] = 123` verändert werden können, was bei Strings nicht möglich ist."
   ]
  },
  {
   "cell_type": "code",
   "execution_count": null,
   "id": "3f8add99",
   "metadata": {},
   "outputs": [],
   "source": [
    "# Funktioniert\n",
    "\n",
    "list_1 = [1,2,3,3]\n",
    "\n",
    "list_1[3] = 4\n",
    "\n",
    "print(list_1)"
   ]
  },
  {
   "cell_type": "code",
   "execution_count": null,
   "id": "98669bdd",
   "metadata": {
    "tags": [
     "raises-exception"
    ]
   },
   "outputs": [],
   "source": [
    "# Funktioniert nicht\n",
    "\n",
    "string_1 = \"1233\"\n",
    "\n",
    "string_1[3] = \"4\"\n",
    "\n",
    "print(string_1)"
   ]
  },
  {
   "cell_type": "markdown",
   "id": "539f4618-a5c5-44c1-8a67-722bf667da1d",
   "metadata": {},
   "source": [
    "## Prüfen, ob ein Element Teil einer Liste ist"
   ]
  },
  {
   "cell_type": "markdown",
   "id": "dc462928-7ca7-48aa-a2cc-10d657652dbd",
   "metadata": {},
   "source": [
    "Zum Überprüfen, ob ein Element in einer Liste vorkommt, kann das Keyword `in` verwendet werden:"
   ]
  },
  {
   "cell_type": "code",
   "execution_count": null,
   "id": "bfbaafab-2f9d-4b75-b8d4-434a794a33cc",
   "metadata": {
    "tags": []
   },
   "outputs": [],
   "source": [
    "meine_liste = [\"SBB\", \"BLS\", \"RBS\", \"SOB\", \"RhB\"]\n",
    "\n",
    "print(\"RBS\" in meine_liste)"
   ]
  },
  {
   "cell_type": "markdown",
   "id": "ef49a426-b689-4e05-83d1-bb52282af90b",
   "metadata": {},
   "source": [
    "Das Keyword `in` kann mit einer anderen Bedeutung also auch ohne `for` genutzt werden. Ebenso kann `in` auch bei Strings angewandt werden, um zu prüfen, ob ein Zeichen oder ein Substring in einem String vorkommt:"
   ]
  },
  {
   "cell_type": "code",
   "execution_count": null,
   "id": "b5f82a32-0905-404b-aed5-9f7ba14e016d",
   "metadata": {
    "tags": []
   },
   "outputs": [],
   "source": [
    "meine_zeichenkette = \"Eine Zeichenkette ist eine Kette von Zeichen!\"\n",
    "\n",
    "print(\"E\" in meine_zeichenkette)\n",
    "print(\"Kette\" in meine_zeichenkette)\n",
    "print(\"Spaghettimonster\" in meine_zeichenkette)"
   ]
  },
  {
   "cell_type": "markdown",
   "id": "9bbd86e5-8a8f-4dfc-a67a-54906ca29ddf",
   "metadata": {},
   "source": [
    "Was genau die Werte `True` und `False` bedeuten, wird in einer [kommenden Lektion](../Lektion_06/If_else.ipynb#Bedingungen) genauer betrachtet."
   ]
  },
  {
   "cell_type": "markdown",
   "id": "08e40331-8b1e-4db1-b397-d95ba743465b",
   "metadata": {},
   "source": [
    "<div class=\"gk-exercise\">\n",
    "\n",
    "Die Benutzerin soll zweimal mittels `input` einen Text (String) eingeben. Überprüfe ob die erste Eingabe in der zweiten Eingabe vorkommt. \n",
    "    \n",
    "</div>"
   ]
  },
  {
   "cell_type": "code",
   "execution_count": null,
   "id": "c95c5d61-1ebc-4c67-9875-feb72ffe39f5",
   "metadata": {
    "deletable": false,
    "nbgrader": {
     "cell_type": "code",
     "checksum": "9fa7ef2f6392a4d40881b7fd4013dfb5",
     "grade": false,
     "grade_id": "cell-6eee6fa410cfbb25",
     "locked": false,
     "schema_version": 3,
     "solution": true,
     "task": false
    },
    "tags": [
     "exercise"
    ]
   },
   "outputs": [],
   "source": [
    "# YOUR CODE HERE"
   ]
  },
  {
   "cell_type": "markdown",
   "id": "99c5bd1f-318f-4e87-ae17-729c014bded2",
   "metadata": {},
   "source": [
    "## Verschachtelte Listen\n",
    "\n",
    "Listen können alle verschiedenen Datentypen speichern, auch verschiedene Typen innerhalb der gleichen Liste sind möglich. Es ist sogar möglich innerhalb einer Liste weitere Listen zu speichern (**verschachtelte Listen**):"
   ]
  },
  {
   "cell_type": "code",
   "execution_count": null,
   "id": "6e1fae71-4a88-47b0-9074-203c80455ca8",
   "metadata": {},
   "outputs": [],
   "source": [
    "gemischte_liste = [\"Hallo\", 42, True, [1, [\"Hi\", False, 3.1415], \"Ciao\"]]"
   ]
  },
  {
   "cell_type": "markdown",
   "id": "249256bb-9812-4089-bf96-17e5a43087e6",
   "metadata": {
    "tags": []
   },
   "source": [
    "<div class=\"gk-exercise\">\n",
    "\n",
    "Wie kann man wohl per Index im obigen Beispiel der verschachtelten Liste auf den String `\"Hi\"` zugreifen? Erstelle dazu ein `print()` Befehl mit `gemischte_liste`. \n",
    "\n",
    "<details>\n",
    "<summary>Tipp</summary>\n",
    "    <p>Suche im Internet unter den Stichworten <i>python nested lists</i>.</p>\n",
    "</details>\n",
    "</div>"
   ]
  },
  {
   "cell_type": "code",
   "execution_count": null,
   "id": "e9c1d13e-674e-4f7f-b48d-19ac78485eac",
   "metadata": {
    "deletable": false,
    "nbgrader": {
     "cell_type": "code",
     "checksum": "ba4e6e4316f51c85290e68b24432c763",
     "grade": false,
     "grade_id": "cell-ee0a0915798c2832",
     "locked": false,
     "schema_version": 3,
     "solution": true,
     "task": false
    },
    "tags": [
     "exercise"
    ]
   },
   "outputs": [],
   "source": [
    "# YOUR CODE HERE"
   ]
  },
  {
   "cell_type": "markdown",
   "id": "1a4ecdc3-7412-474b-9f3f-f074fc1b55f6",
   "metadata": {},
   "source": [
    "## Listen iterieren\n",
    "\n",
    "Eine häufige Aufgabe beim Programmieren ist, dass eine bestimmte Operation auf alle Elemente einer Liste durchgeführt werden soll. Die Liste muss dazu **iteriert** werden. Dazu ist mit der [**For Schleife**](../Lektion_03/Zeichenketten_Iteration.ipynb#Iteration) bereits das nötige Hilfsmittel bekannt:"
   ]
  },
  {
   "cell_type": "code",
   "execution_count": null,
   "id": "372e8cb0-a117-4cd4-bcdf-ef9947f77f7c",
   "metadata": {},
   "outputs": [],
   "source": [
    "namen = [\"Shankar\", \"Simon\", \"Greta\", \"Ibrahim\", \"Aleyna\", \"Kunigunde\"]\n",
    "\n",
    "for person in namen:\n",
    "    print(\"Hallo \" + person + \", willkommen im Grundkurs Programmieren!\")"
   ]
  },
  {
   "cell_type": "markdown",
   "id": "c53dfa18-0b7a-4217-97f5-276f7b128819",
   "metadata": {},
   "source": [
    "Auch hier verhalten sich Listen genau gleich wie Strings."
   ]
  },
  {
   "cell_type": "markdown",
   "id": "14087908-9138-418e-955d-f9172aec6312",
   "metadata": {},
   "source": [
    "<div class=\"gk-exercise\">\n",
    "\n",
    "Gib per `print()` Befehl und mit Hilfe einer For Schleife für alle Elemente der nachfolgenden Liste jeweils die Differenz zur Zahl 100 an.\n",
    "</div>"
   ]
  },
  {
   "cell_type": "code",
   "execution_count": null,
   "id": "11c0db0c-b369-422d-935c-11c1d51ea8fc",
   "metadata": {
    "deletable": false,
    "nbgrader": {
     "cell_type": "code",
     "checksum": "601be15358e35a71b6df9ea2e39ccb75",
     "grade": false,
     "grade_id": "cell-5d1a3fb0b5f3a532",
     "locked": false,
     "schema_version": 3,
     "solution": true,
     "task": false
    },
    "tags": [
     "exercise"
    ]
   },
   "outputs": [],
   "source": [
    "zahlen = [42, 3.1415, 45, 100, -12, 88, 99.9999]\n",
    "\n",
    "# YOUR CODE HERE"
   ]
  },
  {
   "cell_type": "markdown",
   "id": "6217e4b8-e3f9-4881-960e-fcb8e61bb1e4",
   "metadata": {},
   "source": [
    "Bei der Differenz zu 99.9999 ist gut ersichtlich, dass der Computer Mühe haben kann mit der Berechnung von nicht-Integer Zahlen. Das Resultat müsste ja eigentlich exakt 0.0001 sein, ist es in vielen Fällen aber aufgrund der Arbeitsweise von Computern nicht. Dies kann zu Problemen führen (insbesondere beim wissenschaftlichen Arbeiten mit Zahlen)."
   ]
  },
  {
   "cell_type": "markdown",
   "id": "5946c57d-4784-4278-8976-77a98f12ec13",
   "metadata": {},
   "source": [
    "Genau so können ja auch Strings iteriert werden:"
   ]
  },
  {
   "cell_type": "code",
   "execution_count": null,
   "id": "3e4998b4-f658-45cb-8b3c-d39e495e8f2e",
   "metadata": {
    "tags": []
   },
   "outputs": [],
   "source": [
    "iter_string = \"Was beinhalte ich?\"\n",
    "\n",
    "for char in iter_string:\n",
    "    print(char)"
   ]
  },
  {
   "cell_type": "markdown",
   "id": "f7d4c2ac-c300-4df9-8c70-26272e48abab",
   "metadata": {
    "tags": []
   },
   "source": [
    "Falls bei einer Iteration über eine Liste neben dem Listenelement auch die Position innerhalb der Liste nötig ist, kann dies elegant über folgende Konstruktion mit Hilfe der Built in Funktion `enumerate()` erzielt werden:"
   ]
  },
  {
   "cell_type": "code",
   "execution_count": null,
   "id": "4589ff11-5687-4fa2-8dd9-4c676001f7a9",
   "metadata": {
    "tags": []
   },
   "outputs": [],
   "source": [
    "namen = [\"Shankar\", \"Simon\", \"Greta\", \"Ibrahim\", \"Aleyna\", \"Kunigunde\"]\n",
    "\n",
    "for index, name in enumerate(namen):\n",
    "    print(\"Der \" + str(index + 1) + \". Name ist: \" + name)"
   ]
  },
  {
   "cell_type": "markdown",
   "id": "79a808ea-28f1-4905-9901-f3534029f787",
   "metadata": {
    "tags": []
   },
   "source": [
    "# Debugger und Breakpoints\n",
    "\n",
    "Dies ist ein guter Moment, um über den Debugger und Breakpoints zu reden. Die Ausführung von Quellcode geschieht im Normalfall \"intransparent\". Das heisst, es ist nicht ersichtlich, was der Computer in der Verarbeitung des Quellcodes macht. Einerseits weil er nichts aus seinem \"Innenleben\" preisgibt und andererseits auch weil aufgrund der Geschwindigkeit der Ausführung das Nachvollziehen für einen Menschen schlicht unmöglich ist.\n",
    "\n",
    "Dem Computer kann aber mit Hilfe des Debuggers und von Breakpoints sehr viel besser in seine \"Arbeit\" hineingeschaut werden. Folgendes Beispiel sei gegeben (`int_list.append()` ist dabei eine sogenannte Methode, die mit der Punkt-Notation aufgerufen wird, mehr dazu [unten](#Methoden)):"
   ]
  },
  {
   "cell_type": "code",
   "execution_count": null,
   "id": "df19dd10-7aa6-44cb-b0d5-b9354b5c745c",
   "metadata": {
    "tags": [
     "raises-exception"
    ]
   },
   "outputs": [],
   "source": [
    "string_list = [\"42\", \"5\", \"hallo\"]\n",
    "int_list = []\n",
    "\n",
    "for element in string_list:\n",
    "    int_list.append(int(element))\n",
    "    \n",
    "print(int_list)"
   ]
  },
  {
   "cell_type": "markdown",
   "id": "833ebe64-1cf2-4f92-a7a8-3045d2f5c5df",
   "metadata": {},
   "source": [
    "Dieses Beispiel erzeugt also eine Fehlermeldung. Geübte Programmiererinnen werden anhand der Fehlermeldung sofort erkennen, was hier passiert ist. Für alle anderen kann hier der Debugger und Breakpoints helfen:"
   ]
  },
  {
   "cell_type": "markdown",
   "id": "aa1f9419-0502-4d3f-a3f5-f158e992cbd6",
   "metadata": {},
   "source": [
    "## Debugger und Breakpoints aktivieren\n",
    "\n",
    "Der Debugger (oder Debug-Modus) kann durch das Klicken auf den Käfer (Bug) in der obersten Zeile des aktiven Tabs aktiviert werden (Enable Debugger). Damit öffnen sich auf der rechten Seite eine ganze Reihe von Fenstern. Auf den ersten Blick interessieren hier vor allem das Fenster \"Variables\" und \"Breakpoints\". \n",
    "\n",
    "Unter Variables werden alle zugewiesenen Variablen und ihr Wert aufgelistet (neben den zwei Einträgen `special variables` und `function variables`, auf die hier nicht näher eingegangen wird). Mit Hilfe des Debuggers kann also der momentane \"Innenzustand\" des Computer betrachtet werden. Dies kann aber nur **nach der Ausführung des gesamten Quellcodes** geschehen, weil die Geschwindigkeit der Ausführung so schnell ist, dass nur der finale Zustand sichtbar ist.\n",
    "\n",
    "Soll während der Ausführung dieser \"Innenzustand\" des Computers sichtbar werden, muss der Computer künstlich während der Ausführung des Codes \"angehalten\" werden. Dies geschieht mit Hilfe von **Breakpoints**:\n",
    "\n",
    "Folgender Code sei gegeben:"
   ]
  },
  {
   "cell_type": "code",
   "execution_count": null,
   "id": "3cd7e103-124e-43de-a983-d1930de22652",
   "metadata": {
    "tags": []
   },
   "outputs": [],
   "source": [
    "text = \"Hallo Welt\"\n",
    "\n",
    "for buchstabe in text:\n",
    "    print(buchstabe)"
   ]
  },
  {
   "cell_type": "markdown",
   "id": "f9d9122c-c981-4b8f-bb20-a3d527f45518",
   "metadata": {},
   "source": [
    "Falls der Debug-Modus aktiviert ist, erscheint ein kleiner roter Punkt sobald sich die Maus über einer Zeilennummer befindet\n",
    "\n",
    "![](https://i.imgur.com/POz9Ol6.png)\n",
    "\n",
    "Beim Klicken auf den Punkt verfärbt sich der Punkt dunkelrot. \n",
    "\n",
    "![](https://i.imgur.com/1kqArLP.png)\n",
    "\n",
    "Beim Ausführen der Zelle hält der Code beim Erreichen des Breakpoints und die Zeile verfärbt sich rot.\n",
    "\n",
    "\n",
    "![](https://i.imgur.com/BNGasyT.png)"
   ]
  },
  {
   "cell_type": "markdown",
   "id": "45c473ab-7598-4316-b633-73ae583a8b5e",
   "metadata": {},
   "source": [
    "Zusätzlich ist am `[*]` erkennbar, dass die Zelle noch nicht vollständig ausgeführt wurde. Die Ausführung lässt sich weiterführen, indem im Debugger unter Callstack auf das Dreieck geklickt wird.\n",
    "\n",
    "![](https://i.imgur.com/QDcV2xp.png)\n",
    "\n",
    "Weiter lässt sich im Debugger unter *Variables* der aktuelle Wert der Variable `buchstabe` untersuchen. \n",
    "\n",
    "![](https://i.imgur.com/cCykCKI.png)"
   ]
  },
  {
   "cell_type": "markdown",
   "id": "f3bf0a1b-7011-42b3-ba4f-f7eaa2d35610",
   "metadata": {},
   "source": [
    "<div class=\"gk-exercise\"> \n",
    "\n",
    "Gegeben sei nochmals der nachfolgende Quelltext. Versuche mit Hilfe des Debuggers und geschickt gewählten Breakpoints herauszufinden, was hier schief geht.\n",
    "</div>"
   ]
  },
  {
   "cell_type": "code",
   "execution_count": null,
   "id": "697eaecf-ce4d-4cc7-a2b1-38fed54b03ec",
   "metadata": {
    "tags": [
     "raises-exception"
    ]
   },
   "outputs": [],
   "source": [
    "string_list = [\"42\", \"5\", \"hallo\"]\n",
    "int_list = []\n",
    "\n",
    "for element in string_list:\n",
    "    int_list.append(int(element))\n",
    "    \n",
    "print(int_list)"
   ]
  },
  {
   "cell_type": "markdown",
   "id": "bd8db795-cb3e-4e15-b1a0-82a6b6334ac0",
   "metadata": {},
   "source": [
    "# Methoden\n",
    "\n",
    "Methoden sind Funktionen, die nur in einem ganz spezifischen Kontext aufgerufen werden können. Sie gehören zu einem Objekt und können nur im Rahmen dieses Objektes ihre Tätigkeit sinnvoll ausüben. Methoden sind damit ein Aspekt der **Objektorientierten Programmierung**."
   ]
  },
  {
   "cell_type": "markdown",
   "id": "3dc74470-8ee3-430d-adeb-ab87de0999c2",
   "metadata": {},
   "source": [
    "## Punkt-Notation\n",
    "\n",
    "Auf Methoden eines Objekts kann mit Hilfe der **Punkt-Notation** (*dot notation*) zugegriffen werden. Die Methode wird mit einem Punkt `.` vom Namen des Objektes getrennt, aufgerufen. Wann immer diese Punkt-Notation auftaucht, geht es also um Objekte."
   ]
  },
  {
   "cell_type": "markdown",
   "id": "b2874c09-ee75-4b23-bcec-2bca4b25ce44",
   "metadata": {},
   "source": [
    "Um alle Methoden eines Objekts aufzulisten, kann die Funktion `dir()` verwendet werden:"
   ]
  },
  {
   "cell_type": "code",
   "execution_count": null,
   "id": "8b8ae0f6-9fbd-4a73-84cb-eeeedce6d99f",
   "metadata": {
    "tags": []
   },
   "outputs": [],
   "source": [
    "dir(list)"
   ]
  },
  {
   "cell_type": "markdown",
   "id": "76348a80-6cfa-4c7e-810e-fb20acc0b59d",
   "metadata": {
    "tags": []
   },
   "source": [
    "Alternativ lässt sich in der offiziellen Python Dokumentation nachlesen, über welche Eigenschaften und Methoden ein Objekttyp verfügt. Hier als Beispiel der Typ [Liste](https://docs.python.org/3/library/stdtypes.html#list). Diese offizielle Dokumentation ist etwas umständlich, das hat vor allem damit zu tun, dass diese sehr kompakt verfasst ist. Es ist also nicht auf den ersten Blick ersichtlich, dass Objekte vom Typ Liste eine Funktion `append()` beinhalten. Das ist ersichtlich aus dem Satz: \"Lists implement all of the common and mutable sequence operations.\" Ein Blick auf diese [Mutable Sequence Types](https://docs.python.org/3/library/stdtypes.html#mutable-sequence-types) zeigt tatsächlich, dass eine Methode `s.append(x)` implementiert ist."
   ]
  },
  {
   "cell_type": "markdown",
   "id": "1c717867-2ca6-49bf-8cc1-6ebcc2a5c428",
   "metadata": {},
   "source": [
    "## Listen erweitern\n",
    "\n",
    "Die Erweiterung von Listen mit neuen Elementen kann mit der `append()` Methode oder der `insert()` Methode geschehen. Die erstere fügt das Element am Schluss der Liste ein und die letztere erlaubt es, einen Index (Achtung: Index startet bei 0) anzugeben, wo das Element eingefügt werden soll:"
   ]
  },
  {
   "cell_type": "code",
   "execution_count": null,
   "id": "3d20dab8-7904-4a65-a485-6301b0caf488",
   "metadata": {},
   "outputs": [],
   "source": [
    "fruechte = [\"Apfel\", \"Traube\", \"Kiwi\"]\n",
    "\n",
    "fruechte.append(\"Banane\")\n",
    "\n",
    "print(fruechte)"
   ]
  },
  {
   "cell_type": "code",
   "execution_count": null,
   "id": "98c5a2ff-0cd5-488b-a6af-19f3b2899cb0",
   "metadata": {},
   "outputs": [],
   "source": [
    "fruechte.insert(1, \"Papaya\")\n",
    "\n",
    "print(fruechte)"
   ]
  },
  {
   "cell_type": "markdown",
   "id": "c223ca92-8ece-4be9-9b53-8d44407ae539",
   "metadata": {},
   "source": [
    "Hier wird ein wichtiges Konzept der Objektorientierung von Python sichtbar: Die beiden **Methoden** `append()` und `insert()` werden direkt auf das Listenobjekt angewandt, deshalb werden sie mit dem Syntax `listenname.methode()` also der Punkt-Notation aufgerufen. Damit ist auch sofort klar, auf welche Liste sie angewandt werden sollen. "
   ]
  },
  {
   "cell_type": "markdown",
   "id": "3b13209b-861d-4548-910d-e09bec40ce8b",
   "metadata": {},
   "source": [
    "## Listen sortieren\n",
    "\n",
    "Es gibt zwei verschiedene wichtige Funktionen für das Sortieren von Listen: Einerseits `sort()`, welche eine [Methode](#Methoden) des Objekttyps Liste ist und eine bestehende Liste sortiert (man spricht auch von einer \"in place modification\") und andererseits die Built in Funktion `sorted()`, welche als [Argument](../Lektion_04/Keywords_Funktionen.ipynb#Parameter-vs.-Argument) eine Liste benötigt und eine sortierte Liste zurückgibt, die dann bspw. in einer neuen Liste gespeichert werden kann. "
   ]
  },
  {
   "cell_type": "code",
   "execution_count": null,
   "id": "b5e55750-ba02-4df6-ae13-fda6ec465934",
   "metadata": {},
   "outputs": [],
   "source": [
    "numbers = [8, 2, 9, 12, 1, -2, 0, 123, 211]\n",
    "numbers.sort() # in place modification\n",
    "print(numbers)\n",
    "\n",
    "unordered_names = [\"Oliver\", \"Xandia\", \"Aishwarya\", \"Kishor\", \"Juan\", \"Adelheid\"]\n",
    "ordered_names = sorted(unordered_names)\n",
    "print(ordered_names)"
   ]
  },
  {
   "cell_type": "markdown",
   "id": "4a01f745-7e2f-4d63-a69a-66a04511a461",
   "metadata": {},
   "source": [
    "Beide Funktionen kennen auch die Möglichkeit, umgekehrt zu sortieren:"
   ]
  },
  {
   "cell_type": "code",
   "execution_count": null,
   "id": "d7729745-8fb5-4b09-b2bd-3c97a7e9dfd8",
   "metadata": {},
   "outputs": [],
   "source": [
    "numbers.sort(reverse = True)\n",
    "print(numbers)\n",
    "print(sorted(unordered_names, reverse = True))"
   ]
  },
  {
   "cell_type": "markdown",
   "id": "79dc7f07-e1d2-47df-9231-432432bc970c",
   "metadata": {},
   "source": [
    "Weitere **Methoden des Listen Objekts** sind bei <a href=\"https://www.w3schools.com/python/python_lists_methods.asp\">W3Schools</a> zu finden."
   ]
  },
  {
   "cell_type": "markdown",
   "id": "ecacddc9-62fd-457a-bba0-afbf368fd62c",
   "metadata": {},
   "source": [
    "## String Methoden\n",
    "\n",
    "Auch auf Strings lassen sich verschiedene Methoden anwenden. Nachfolgend eine Aufgabe dazu:"
   ]
  },
  {
   "cell_type": "markdown",
   "id": "fd17ae61-ffb7-4fac-adc8-12c5ea601f3d",
   "metadata": {},
   "source": [
    "<div class=\"gk-exercise\"> \n",
    "\n",
    "Du hast einen wunderschönen Liebesbrief geschrieben. Wie das Leben so spielt, ist etwas dazwischen gekommen. Zu einem späteren Zeitpunkt möchtest du den Brief trotzdem abschicken, jetzt jedoch an einen neuen Empfänger. Nutze Python, um im unten angegebenen String `my_love_letter` alle Vorkommnisse von \"Ethan\" durch \"Wilfried\" zu ersetzen. \n",
    "\n",
    "<details>\n",
    "<summary>Tipps</summary>\n",
    "    <p>Halte Ausschau nach geeigneten Methoden für Objekte vom Typ String.</p>\n",
    "\n",
    "<details>\n",
    "<summary>Tipp</summary>\n",
    "    <p>Nutze die String Methode <code>replace()</code></p>\n",
    "</details>\n",
    "</details>\n",
    "</div>"
   ]
  },
  {
   "cell_type": "code",
   "execution_count": null,
   "id": "e6f7b03a-0204-470b-9773-5856729b555d",
   "metadata": {
    "deletable": false,
    "nbgrader": {
     "cell_type": "code",
     "checksum": "5f54240e944916c80736122ec8e2bffa",
     "grade": false,
     "grade_id": "cell-f6dc78313d601b91",
     "locked": false,
     "schema_version": 3,
     "solution": true,
     "task": false
    },
    "tags": [
     "exercise"
    ]
   },
   "outputs": [],
   "source": [
    "# um ein String in mehrere Zeilen unterteilen zu können, kann er in dreifache Anführungszeichen eingepackt werden.\n",
    "\n",
    "my_love_letter = \"\"\"\n",
    "Allerliebster Ethan.\n",
    "Ohne Dich will ich keine Sekunde mehr leben. \n",
    "Ethan, allein der Klang Deines Namens - Ethan - löst wunderbare Gefühle in mir aus. \n",
    "Wenn ich auf mein Lebensende hinsehe, dann wünsche ich mir, dass das Letzte, was ich auf dieser Erde sehen werde, das Antlitz von Dir Ethan ist!\n",
    "\"\"\"\n",
    "\n",
    "# YOUR CODE HERE\n",
    "\n",
    "print(my_love_letter)"
   ]
  },
  {
   "cell_type": "markdown",
   "id": "cae24ad0-ba1f-4f99-a7c2-4e09cfe7b94a",
   "metadata": {},
   "source": [
    "Es wurde schon die Möglichkeit von `in` im Zusammenhang mit Strings aufgezeigt. Eine weitere Möglichkeit zu überprüfen, ob ein Substring in einem String vorkommt ist die `index` [**Methode**](../Lektion_05/Listen_Methoden.ipynb#Methoden):"
   ]
  },
  {
   "cell_type": "code",
   "execution_count": null,
   "id": "f3b7a8ae-867f-4f9a-a5c9-b8a1881384b0",
   "metadata": {
    "tags": []
   },
   "outputs": [],
   "source": [
    "\"Hallo Welt\".index(\" \")"
   ]
  },
  {
   "cell_type": "markdown",
   "id": "15b06a6c-6816-49e2-9b24-502425cbca18",
   "metadata": {},
   "source": [
    "Die `index` Methode ist eine Funktion welche für jeden String definiert ist. Sie gibt zurück an welcher Stelle des Strings der Substring aus dem Parameter vorhanden ist. Ist dieser nicht vorhanden kommt es zu einem `ValueError`:"
   ]
  },
  {
   "cell_type": "code",
   "execution_count": null,
   "id": "68392ddb-74ff-47c9-b10d-7122eb6d5547",
   "metadata": {
    "tags": [
     "raises-exception"
    ]
   },
   "outputs": [],
   "source": [
    "\"Hallo Welt\".index(\"!\")"
   ]
  },
  {
   "cell_type": "markdown",
   "id": "3c14fd02-c028-44d0-bebc-350a19d3ea1a",
   "metadata": {},
   "source": [
    "<div class=\"gk-exercise\">\n",
    "\n",
    "Schreibe nachfolgend einen Quellcode, der einen allfälligen `ValueError` in `\"Hallo Welt\".index(\"!\")` korrekt abfängt und gib mittels `print` aus, ob der Substring vorkommt oder nicht.\n",
    "    \n",
    "<details>\n",
    "    <summary>Tipps:</summary>\n",
    "    Verwende <code>try</code> und <code>except</code> um den Fehler abzufangen.\n",
    "    <details>\n",
    "        <summary>Tipp:</summary>\n",
    "        Kommt es nicht zu einem Fehler werden die folgenden Zeilen des <code>try</code>-Block ausgeführt\n",
    "    </details>\n",
    "</details>\n",
    "</div>"
   ]
  },
  {
   "cell_type": "code",
   "execution_count": null,
   "id": "d52ac4b9-8161-4841-944d-fa3a9537555f",
   "metadata": {
    "deletable": false,
    "nbgrader": {
     "cell_type": "code",
     "checksum": "1885c353ea6e8909ba568b7c04ca02a6",
     "grade": false,
     "grade_id": "cell-8ede703051e8a718",
     "locked": false,
     "schema_version": 3,
     "solution": true,
     "task": false
    },
    "tags": [
     "exercise"
    ]
   },
   "outputs": [],
   "source": [
    "# YOUR CODE HERE"
   ]
  },
  {
   "cell_type": "markdown",
   "id": "87344b43-96e0-4e44-9d53-85e724433fad",
   "metadata": {},
   "source": [
    "Neben der `replace` und der `index` Methode existieren viele weitere praktische Methoden für Strings. Eine Auflistung dieser Methoden ist [hier](https://www.w3schools.com/python/python_ref_string.asp) zu finden."
   ]
  },
  {
   "cell_type": "markdown",
   "id": "ed20860e-ef95-4ea6-a2a8-6c6f741b4dfe",
   "metadata": {},
   "source": [
    "## Unterschiede zwischen Funktionen und Methoden\n",
    "\n",
    "Als kurze Vervollständigung: Funktionen und Methoden funktionieren vom **Prinzip her ähnlich**. Es sind Abläufe, die beliebig häufig an beliebiger Stelle ausgeführt werden können. Bei einer Funktion müssen alle zusätlichen Infos, damit die Funktion ihre Arbeit erledigen kann, als *Parameter* übergeben werden. Im Unterschied dazu wird die Methode auf ein *Objekt* (was ein Objekt ist, ist im Kontext von Programmierung sehr genau definiert, siehe [später](../Lektion_09/Module_Objekte_Datum.ipynb#Objekte)). angewandt und hat damit schon einen spezifischen Input erhalten (nämlich auf welches Objekt sie angewandt wird). Zusätzlich können aber auch bei Methoden noch Parameter übergeben werden."
   ]
  },
  {
   "cell_type": "markdown",
   "id": "8b6da762-2ebf-4c82-8073-28bbf797c5e1",
   "metadata": {},
   "source": [
    "# Computational Thinking\n",
    "\n",
    "Bevor jeweils der eigentliche Quellcode geschrieben werden kann, kommt ein sehr wichtiger gedanklicher Prozess: Das **Computational Thinking**. Damit ist gemeint, dass das in Alltagssprache formulierte Problem mental in Einzelteile zerlegt werden muss bis es eine Granularität hat, die sich mehr oder weniger direkt in Code umsetzen lässt. Dieser Prozess ist sehr wichtig und es zeigt sich: Auch wenn alle Sprachkonstrukte einer Programmiersprache beherrscht werden, heisst das noch lange nicht, dass damit erfolgreiches Programmieren möglich ist.\n",
    "\n",
    "Computational Thinking ist eine Methode, Probleme anzupacken, die sich auch bewährt, ohne dann später auch tatsächlich einen Algorithmus zu schreiben. Sie zeichnet sich durch ein systematisches Vorgehen aus:\n",
    "\n",
    "- Problem verstehen\n",
    "- Problem formulieren\n",
    "- Zerlegung in klar abgegrenzte und sauber definierte Teilprobleme\n",
    "- Lösung der Teilprobleme\n",
    "- Zusammensetzen der Teillösungen zur Gesamtlösung\n",
    "\n",
    "Fragen, die zu Beginn einer Aufgabe gestellt werden können:\n",
    "\n",
    "* Wo braucht es Input von der Nutzerin?\n",
    "* Welche Dinge müssen gespeichert werden?\n",
    "* Welche Datenstrukturen eignen sich dafür?\n",
    "* Gibt es Wiederholungen?\n",
    "* Gibt es Verzweigungen?\n",
    "* Wo könnten Fehler passieren?\n",
    "\n",
    "Häufig geht es in einem ersten Schritt auch darum, alle Randaspekte des Problems zu vernachlässigen und ein kleines funktionsfähiges Programm zu erstellen, welches nach und nach erweitert und verfeinert wird, das kann beispielsweise bedeuten:\n",
    "\n",
    "- Ein Programm erfüllt seinen Zweck zuerst mal für einen fixen Input, erst in einem späteren Schritt wird nach User-Input gefragt\n",
    "- Ein allfälliger Input der Nutzerin wird zuerst nicht überprüft, ob er vom richtigen Datentyp ist\n",
    "- Eine Ausgabe ist zuerst unformatiert und wird erst später \"lesbar\" dargestellt\n",
    "- Spezialfälle (bspw. negative Zahlen oder Umlaute) werden zuerst vernachlässigt\n",
    "\n",
    "Nachfolgende Schlussaufgabe ist ein gutes Beispiel, um Computational Thinking zu üben:"
   ]
  },
  {
   "cell_type": "markdown",
   "id": "578547d3-8ac7-484f-878f-346c43264723",
   "metadata": {
    "tags": []
   },
   "source": [
    "# Schlussaufgabe"
   ]
  },
  {
   "cell_type": "markdown",
   "id": "12e4be09-6eac-4c01-adff-e5a142b505fd",
   "metadata": {},
   "source": [
    "<div class=\"gk-exercise\">\n",
    "    \n",
    "Du sollst für unser Fussballteam das Durchschnittsalter berechnen, leider sind die Altersangaben der einzelnen Spielerinnen verloren gegangen! \n",
    "    <ol>\n",
    "        <li>Frage für jede Spielerin in der Liste <code>spielerinnen</code> nach dem Alter und speichere alle Werte in der Liste <code>spielerinnen_alter</code>.</li>\n",
    "        <li>Berechne anschliessend das Durchschnittsalter.</li>\n",
    "        <li>Um zu prüfen, ob die Eingabe tatsächlich eine Zahl war, nutze die Funktion <code>int_input(n)</code> aus der <a href=\"../Lektion_04/Keywords_Funktionen.ipynb#Schlussaufgabe\">Schlussaufgabe</a> der letzten Lektion.</li>\n",
    "        <li>Optional: Anstatt <code>int_input(n)</code> zu nutzen, frage für die aktuelle Spielerin permanent nach dem Alter, bis eine Zahl eingegeben wurde (unabhängig von der Anzahl der Versuche, die dafür nötig sind).</li>\n",
    "    </ol>\n",
    "<details>\n",
    "<summary>Tipps</summary>\n",
    "    <p>Verwende einen For Loop für eine <a href=\"#Listen-iterieren\">Listen Iteration</a>.</p>\n",
    "<details>\n",
    "<summary>Tipp</summary>\n",
    "    <p>Verwende die Funktionen <code>sum</code> und <code>len</code> analog zum Beispiel zu Beginn des Notebooks.</p>\n",
    "</details>\n",
    "<details>\n",
    "<summary>Tipp</summary>\n",
    "    <p>Für die optionale Teilaufgabe suche unter dem Stichwort \"While Schleife\" für eine Lösung.</p>\n",
    "</details>\n",
    "</details>\n",
    "</div>"
   ]
  },
  {
   "cell_type": "code",
   "execution_count": null,
   "id": "9d354a61-db6b-4b32-b9a0-2b23e9084d2b",
   "metadata": {
    "deletable": false,
    "nbgrader": {
     "cell_type": "code",
     "checksum": "d5d8e209e43f34777c9661985d28e043",
     "grade": false,
     "grade_id": "cell-680febfc51f57841",
     "locked": false,
     "schema_version": 3,
     "solution": true,
     "task": false
    },
    "tags": [
     "exercise"
    ]
   },
   "outputs": [],
   "source": [
    "spielerinnen = [\n",
    "    \"Alana\", \"Noelle\", \"Chen-Lu\", \"Valentina\",\n",
    "    \"Maja\", \"Hakima\", \"Emma\", \"Bianca\",\n",
    "    \"Malaika\", \"Xenia\", \"Kim\"\n",
    "]\n",
    "\n",
    "spielerinnen_alter = []\n",
    "\n",
    "# YOUR CODE HERE"
   ]
  },
  {
   "cell_type": "markdown",
   "id": "0fe62708-31af-4d9c-9c25-03849bed3fac",
   "metadata": {},
   "source": [
    "> Am Anfang wurde erwähnt, dass nummerierte Variablen, z.B. `spielerin1`, `spielerin2`, ..., ein Indiz sind, dass eine Liste verwendet werden sollte. <br /> Analog dazu sind Variablen mit dem selben Präfix, z.B. `spielerinnen_alter`, `spielerinnen_groessen` ein Indiz, dass ein [Dictionary](../Lektion_08/Dictionaries_Ressourcen.ipynb#Dictionaries) verwendet werden sollte. "
   ]
  },
  {
   "cell_type": "markdown",
   "id": "5eb7a97c-b096-44e2-b7dc-396aa2f284bf",
   "metadata": {},
   "source": [
    "# Zusammenfassung\n",
    "\n",
    "In dieser Lektion wurde der Datentyp Liste eingeführt und aufgezeigt, in welchen Situationen dieser nützlich sein kann. Insbesondere im Vergleich zu einzelnen Variablen. Es wurde aufgezeigt, wie Listen erstellt werden, wie Elemente ausgelesen und eingefügt werden können. Die Idee der verschachtelten Liste wurde vorgestellt: Eine Liste kann als Listenelemente wiederum Listen beinhalten. Es wurde weiter die wichtige Möglichkeit aufgezeigt, Listen zu iterieren, also Schritt für Schritt auf die einzelnen Listenelemente zuzugreifen und mit diesen etwas bestimmtes anzufangen. Ausserdem wurde klar, dass Strings eigentlich nichts anderes als Listen von einzelnen Buchstaben sind und dass wir das Wissen von Listen meist auch auf Strings übertragen können.\n",
    "\n",
    "Weiter wurde aufgezeigt, dass Methoden Funktionen sind, die aber nur im Kontext eines bestimmten Objekttyps Sinn machen und die deshalb nur in Zusammenhang mit diesem Typ mit Hilfe der Punkt Notation aufgerufen werden können.\n",
    "\n",
    "Neben den technischen Aspekten wurde über **Computational Thinking** als Voraussetzung für Erfolgreiches Programmieren gesprochen und als weiteres Hilfsmittel für die Entwicklung der Debugger mit Breakpoints eingeführt."
   ]
  },
  {
   "cell_type": "markdown",
   "id": "135dd9af-7b5b-4cc6-93df-1dec7d970228",
   "metadata": {},
   "source": [
    "# Impressum\n",
    "\n",
    "<a rel=\"license\" href=\"http://creativecommons.org/licenses/by-sa/4.0/\"><img alt=\"Creative Commons Lizenzvertrag\" style=\"border-width:0\" src=\"https://mirrors.creativecommons.org/presskit/buttons/88x31/svg/by-sa.svg\" /></a><br />Dieses Werk ist lizenziert unter einer <a rel=\"license\" href=\"http://creativecommons.org/licenses/by-sa/4.0/\">Creative Commons Namensnennung - Weitergabe unter gleichen Bedingungen 4.0 International Lizenz</a>.\n",
    "\n",
    "Autoren: [Jakob Schärer](mailto:jakob.schaerer@unibe.ch), [Lionel Stürmer](mailto:lionel.stuermer@bfh.ch) <br>\n",
    "Ursprünglicher Text von: Noe Thalheim, Benedikt Hitz-Gamper\n",
    "\n",
    "\n",
    "\n",
    "\n",
    "```\n",
    "Algorithm (noun.)\n",
    "word used by programmers when \n",
    "they do not want to explain what they did.\n",
    "```"
   ]
  }
 ],
 "metadata": {
  "kernelspec": {
   "display_name": "GraphVis--oE0K6n0",
   "language": "python",
   "name": "python3"
  },
  "language_info": {
   "codemirror_mode": {
    "name": "ipython",
    "version": 3
   },
   "file_extension": ".py",
   "mimetype": "text/x-python",
   "name": "python",
   "nbconvert_exporter": "python",
   "pygments_lexer": "ipython3",
   "version": "3.12.3"
  },
  "toc-autonumbering": true
 },
 "nbformat": 4,
 "nbformat_minor": 5
}
