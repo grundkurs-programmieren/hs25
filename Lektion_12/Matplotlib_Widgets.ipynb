{
 "cells": [
  {
   "cell_type": "markdown",
   "id": "0ff1319d-3a1c-4701-8588-c8c68bc55cf2",
   "metadata": {},
   "source": [
    "<img src=\"https://i.imgur.com/XSzy00d.png\" style=\"float:right;width:150px\">\n",
    "\n",
    "**Matplotlib und Widgets**\n",
    "\n",
    "# Einleitung\n",
    "\n",
    "## Lernziele\n",
    "\n",
    "* Sie können ein **Line Chart** erstellen\n",
    "* Sie können einen **Scatterplot** erstellen\n",
    "* Sie verstehen, wann sie eher ein Line Chart und wann eher ein Scatterplot verwenden\n",
    "* Sie kennen Möglichkeiten von **Widgets** zur Erstellung von GUIs\n",
    "* Sie können auf **Änderungen** in **Widgets** reagieren"
   ]
  },
  {
   "cell_type": "markdown",
   "id": "5185af12-89cc-4f80-bad1-354ec6ab257f",
   "metadata": {},
   "source": [
    "# Matplotlib\n",
    "\n",
    "[Matplotlib](https://matplotlib.org/) ist ein Modul, welches zur Visualisierung von Daten dient. Matplotlib harmoniert insbesondere mit den Modulen NumPy und Pandas aus [Lektion 10](../Lektion_10/NumPy_Pandas.ipynb) sehr gut. Matplotlib kann sowohl NumPy Arrays als auch Pandas DataFrames visualisieren.\n",
    "\n",
    "## Grundlegender Aufbau\n",
    "\n",
    "Matplotlib kann man auf sehr unterschiedliche Arten und Weisen benutzen, das macht dass Nachvollziehen von Beispielen aus dem Internet zuweilen etwas mühsam. Die einfachste Art und Weise funktioniert folgendermassen:"
   ]
  },
  {
   "cell_type": "code",
   "execution_count": null,
   "id": "5549ef1d-f533-44b5-b4ce-cce2f1e35074",
   "metadata": {},
   "outputs": [],
   "source": [
    "%matplotlib inline\n",
    "\n",
    "import matplotlib.pyplot as plt\n",
    "\n",
    "plt.plot([64, 32, 16, 8, 4, 2, 1])\n",
    "\n",
    "plt.show()"
   ]
  },
  {
   "cell_type": "markdown",
   "id": "c15c21b1-cb94-4296-b561-2e1f5a78a65c",
   "metadata": {},
   "source": [
    "Zuerst muss das [Magic Command](https://ipython.readthedocs.io/en/stable/interactive/magics.html#built-in-magic-commands) `%matplotlib inline` ausgeführt werden, damit die Visualisierungen innerhalb der Zelle wiedergegeben werden. Danach wird das Modul `matplotlib.pyplot` unter dem Namen `plt` importiert. Dies ist eine weitverbreitete Konvention. Die Angabe, was denn überhaupt geplottet werden soll wird mit dem Befehl `plt.plot()` gemacht. Dieser Funktion kann eine Liste mit Zahlen übergeben werden. Falls nur eine Liste übergeben wird, interpretiert Matplotlib die Zahlen so, dass sie als y-Werte entlang der x-Achse beginnend mit x = 0 gezeichnet werden. Mit `plt.show()` kann dann schlussendlich der Plot auch angezeigt werden.\n",
    "\n",
    "Werden zwei Listen der Funktion `plt.plot()` übergeben, interpretiert Matplotlib diese als x- und y-Werte:"
   ]
  },
  {
   "cell_type": "code",
   "execution_count": null,
   "id": "e0f67db9-25cb-4ad0-98fc-2db9d3e1f78c",
   "metadata": {},
   "outputs": [],
   "source": [
    "plt.plot([10, 20, 30, 40, 50, 60, 70], [1, 2, 4, 8, 2, 1, -3])\n",
    "plt.show()"
   ]
  },
  {
   "cell_type": "markdown",
   "id": "82e58ce6-ac6c-4c8e-8bd1-ded28dd8bd05",
   "metadata": {},
   "source": [
    "<div class=\"gk-exercise\">\n",
    "\n",
    "\n",
    "Erstelle einen Plot, welcher als y-Werte 100 Zufallszahlen zwischen 0 und 100 darstellt. Führe den Quellcode mehrere male aus, um zu prüfen, ob sich die Zufallszahlen und der Plot dementsprechend tatsächlich ändern.\n",
    "\n",
    "<details>\n",
    "<summary>Tipp</summary>\n",
    "    <p>Hinweis: Es gibt verschiedene Möglichkeiten, eine Liste von Zufallszahlen zu erstellen. Nimm am besten die Funktion <code>random.randint()</code> aus dem Modul NumPy, welches es ermöglicht, nicht nur einzelne Zufallszahlen, sondern ganze Listen davon zu erstellen. Eine Beschreibung zu <code>random.randint()</code> findest du <a href=\"https://numpy.org/doc/stable/reference/random/generated/numpy.random.randint.html\">hier</a>.</p>\n",
    "</details>\n",
    "</div>"
   ]
  },
  {
   "cell_type": "code",
   "execution_count": null,
   "id": "43ce8b63-aa7d-4efa-963e-4f261f29a82a",
   "metadata": {
    "deletable": false,
    "nbgrader": {
     "cell_type": "code",
     "checksum": "fab2955a0e1115e523488d7b0d80d491",
     "grade": false,
     "grade_id": "cell-c61a7b244cef8521",
     "locked": false,
     "schema_version": 3,
     "solution": true,
     "task": false
    },
    "tags": [
     "exercise"
    ]
   },
   "outputs": [],
   "source": [
    "# YOUR CODE HERE"
   ]
  },
  {
   "cell_type": "markdown",
   "id": "c62e4664-82ea-4787-98d8-74f049a77399",
   "metadata": {},
   "source": [
    "## Import von interessanteren Daten\n",
    "\n",
    "Um möglichst schnell interessantere Daten zu visualisieren, werden nachfolgend die Zeitreihendaten aus dem Hitzeinsel-Monitoring verwendet, welches wir bereits in der letzten [Lektion](../Lektion_11/GIS.ipynb) kennengelernt haben.\n",
    "\n",
    "In der letzten Lektion haben wir den `latest`-Endpoint verwendet, um eine Liste aller Sensoren und deren aktuellsten Messwerte zu erhalten. In dieser Lektion nutzen wir den `timeseries`-Endpoint, um die historischen Messwerte eines spezifischen Sensors auszuwerten. Dazu muss über URL-Parameter die `stationId` des entsprechenden Sensors angegeben werden. Optional können mit den Parametern `date_from` und `date_to` der gewünschte Zeitraum definiert werden.\n",
    "\n",
    "Nachfolgend der Link des Endpoints mit den URL-Parametern:  \n",
    "`https://smart-urban-heat-map.ch/api/v2/timeseries?stationId=STATION_ID&date_from=DATE_FROM&date_to=DATE_TO`\n",
    "\n",
    "Die grossgeschriebenen Platzhalter (`STATION_ID`, `DATE_FROM`, `DATE_TO`) müssen jeweils vor dem Aufruf angepasst werden."
   ]
  },
  {
   "cell_type": "markdown",
   "id": "b57ae3f8",
   "metadata": {},
   "source": [
    "Bevor wir die ersten Messdaten eines Sensors abrufen können, müssen wir zuerst die verfügbaren Sensoren laden. Dazu verwenden wir den `latest`-Endpoint aus der letzten Lektion und eine Dict-Comprehension, um ein Dictionary zu erstellen, bei dem der `name` der Sensoren als Schlüssel und die `stationId` als Wert verwendet wird."
   ]
  },
  {
   "cell_type": "code",
   "execution_count": null,
   "id": "74575bf6",
   "metadata": {},
   "outputs": [],
   "source": [
    "import requests\n",
    "\n",
    "result = requests.get(\"https://smart-urban-heat-map.ch/api/v2/latest\").json()\n",
    "sensors = {\n",
    "            feature[\"properties\"][\"name\"]: feature[\"properties\"][\"stationId\"] for feature in result[\"features\"] \n",
    "                if feature[\"properties\"][\"outdated\"] == False and feature[\"properties\"][\"measurementsPlausible\"] == True\n",
    "        }\n",
    "\n",
    "display(sensors)"
   ]
  },
  {
   "cell_type": "markdown",
   "id": "7cc37f1b",
   "metadata": {},
   "source": [
    "Die `stationId` kann nun aus dem Sensors-Dictionary ausgelesen und für den Aufruf des `timeseries`-Endpoints verwendet werden."
   ]
  },
  {
   "cell_type": "code",
   "execution_count": null,
   "id": "f397844a-d7a9-4997-8f84-54ac7ac4ed03",
   "metadata": {},
   "outputs": [],
   "source": [
    "station_id_zollikofen = sensors[\"Zollikofen 3m\"]\n",
    "station_id_zytglogge = sensors[\"Zytglogge\"] \n",
    "time_from = \"2025-08-10T00:00:00Z\"\n",
    "time_to = \"2025-08-13T00:00:00Z\"\n",
    "\n",
    "result_zollikofen = requests.get(f\"https://smart-urban-heat-map.ch/api/v2/timeseries?stationId={station_id_zollikofen}&timeFrom={time_from}&timeTo={time_to}\").json()\n",
    "result_zytglogge = requests.get(f\"https://smart-urban-heat-map.ch/api/v2/timeseries?stationId={station_id_zytglogge}&timeFrom={time_from}&timeTo={time_to}\").json()\n",
    "\n",
    "display(result_zollikofen)"
   ]
  },
  {
   "cell_type": "markdown",
   "id": "cf5b3cd2-ad2a-44f6-93ec-ed147ae1e27f",
   "metadata": {},
   "source": [
    "Als Resultat wird die `stationId` und die Messwerte als Liste in den `values` zückgegeben. Jeder Messwert beinhaltet einen Zeitstempel `dateObserved`, `temperature` und `relativeHumidity`. Zur einfacheren Verarbeitung können die Daten in ein pandas DataFrame geladen werden.\n"
   ]
  },
  {
   "cell_type": "code",
   "execution_count": null,
   "id": "8d5414a7-86a7-4b9a-8fd1-c6a07227cba4",
   "metadata": {},
   "outputs": [],
   "source": [
    "import pandas as pd\n",
    "\n",
    "sensor_zollikofen_df = pd.DataFrame(result_zollikofen[\"values\"])\n",
    "sensor_zytglogge_df = pd.DataFrame(result_zytglogge[\"values\"])\n",
    "\n",
    "display(sensor_zollikofen_df.head(5))"
   ]
  },
  {
   "cell_type": "markdown",
   "id": "7b271fa9-7f71-4832-93e5-7e0b40bd682a",
   "metadata": {},
   "source": [
    "## Line Chart\n",
    "\n",
    "Die wohl fundamentalste Visualisierung ist das Liniendiagramm (Line Chart). Ein Liniendiagramm ist besonders sinnvoll, wenn bestimmte Beobachtungen entlang einer kontinuierlichen Grösse variieren. Ein typisches Beispiel dafür ist die Zeitreihenanalyse (Time Series), bei der eine bestimmte Grösse entlang einer Zeitachse untersucht wird. \n",
    "\n",
    "Eine solche Zeitreihenanalyse soll nun mit den Temperaturdaten durchgeführt werden:"
   ]
  },
  {
   "cell_type": "code",
   "execution_count": null,
   "id": "57aab747-b36b-4240-8cbf-66ee22a5fd11",
   "metadata": {},
   "outputs": [],
   "source": [
    "plt.plot(sensor_zollikofen_df[\"temperature\"])\n",
    "\n",
    "plt.show()"
   ]
  },
  {
   "cell_type": "code",
   "execution_count": null,
   "id": "a3c353a3",
   "metadata": {},
   "outputs": [],
   "source": [
    "type(sensor_zollikofen_df[\"temperature\"])"
   ]
  },
  {
   "cell_type": "markdown",
   "id": "d44277a9-88e0-4489-b843-b26ff179bba7",
   "metadata": {},
   "source": [
    "Matplotlib arbeitet gut mit Objekten aus NumPy und Pandas zusammen, deshalb kann hier der Datentyp der `Series` sofort geplottet werden.\n",
    "\n",
    "Wenig hilfreich ist noch die Angabe auf der x-Achse, welches die Zeilenzahl des ursprünglichen DataFrames darstellt. Aber hier soll natürlich das Datum angezeigt werden:"
   ]
  },
  {
   "cell_type": "code",
   "execution_count": null,
   "id": "b52ec632-cec9-4aaa-b7ff-2dc802fcb376",
   "metadata": {},
   "outputs": [],
   "source": [
    "plt.plot(sensor_zollikofen_df[\"dateObserved\"], sensor_zollikofen_df[\"temperature\"])\n",
    "plt.show()"
   ]
  },
  {
   "cell_type": "markdown",
   "id": "e9526070-9e7b-4ecf-8030-e01eeb48469e",
   "metadata": {},
   "source": [
    "Das dauert ziemlich lange und schlussendlich ist die Ausgabe nicht besonders hilfreich. Der Grund dafür ist, dass die Werte von 'Datum' für Menschen natürlich sofort als Datum erkennbar sind, der Computer weiss zuerst aber mal nicht, dass er dies als Datumswerte interpretieren soll. Das muss dem Computer zuerst mitgeteilt werden:"
   ]
  },
  {
   "cell_type": "code",
   "execution_count": null,
   "id": "4835bb15-88bc-42e2-adeb-1e7591299c3c",
   "metadata": {},
   "outputs": [],
   "source": [
    "sensor_zollikofen_df[\"dateObserved\"] = pd.to_datetime(sensor_zollikofen_df[\"dateObserved\"])\n",
    "sensor_zollikofen_df.info()\n",
    "sensor_zollikofen_df.head(5)"
   ]
  },
  {
   "cell_type": "markdown",
   "id": "41c65fcc-c3fd-4008-b834-047d4dcabce1",
   "metadata": {},
   "source": [
    "Mit der Funktion `to_datetime()` können die bisherigen Strings in \"echte\" Zeitdaten verwandelt werden. Die Funktion `info()` liefert die Datentypen für jede Spalte eines DataFrames, wo jetzt erkennbar ist, dass die Spalte 'datum' nun ein `datetime64` Objekt ist. Bei der Darstellung über `head()` ist der Unterschied allerdings nicht sichtbar. Wenn jetzt nochmals der Plot gezeichnet wird, passt die Beschriftung der x-Achse:"
   ]
  },
  {
   "cell_type": "code",
   "execution_count": null,
   "id": "5b5e56a6-1fca-48b9-9920-f73886aab827",
   "metadata": {},
   "outputs": [],
   "source": [
    "plt.plot(sensor_zollikofen_df[\"dateObserved\"], sensor_zollikofen_df[\"temperature\"])\n",
    "plt.show()"
   ]
  },
  {
   "cell_type": "markdown",
   "id": "82e27fed-d99e-4769-899f-258b6f62cd5f",
   "metadata": {},
   "source": [
    "Jetzt soll ein Plot erstellt werden, bei dem gleichzeitig die Temperaturen aus **Zollikofen** und vom **Zytgloggen** sichtbar sind."
   ]
  },
  {
   "cell_type": "code",
   "execution_count": null,
   "id": "70ed6a55-825f-43ba-b07e-704da874407a",
   "metadata": {},
   "outputs": [],
   "source": [
    "sensor_zytglogge_df[\"dateObserved\"] = pd.to_datetime(sensor_zytglogge_df[\"dateObserved\"])\n",
    "\n",
    "plt.plot(sensor_zollikofen_df[\"dateObserved\"], sensor_zollikofen_df[\"temperature\"], sensor_zytglogge_df[\"dateObserved\"], sensor_zytglogge_df[\"temperature\"])\n",
    "plt.show()"
   ]
  },
  {
   "cell_type": "markdown",
   "id": "7347b22c-76d1-4865-a7bf-d712320ce78f",
   "metadata": {},
   "source": [
    "Es ist also möglich, bei der Funktion `plot()` einfach weitere x/y Datenpaare anzugeben, die dann übereinandergelegt gezeichnet werden.\n",
    "\n",
    "Nun soll der Plot mit weiteren Zusatzangaben verfeinert werden:"
   ]
  },
  {
   "cell_type": "code",
   "execution_count": null,
   "id": "68a2fb93-2f0d-476e-8cf6-5f62163d507a",
   "metadata": {},
   "outputs": [],
   "source": [
    "import matplotlib.dates as mdates\n",
    "\n",
    "plt.plot(sensor_zollikofen_df[\"dateObserved\"], sensor_zollikofen_df[\"temperature\"], sensor_zytglogge_df[\"dateObserved\"], sensor_zytglogge_df[\"temperature\"])\n",
    "plt.suptitle(\"Temperaturen in Zollikofen und beim Zytglogge\")\n",
    "plt.xlabel(\"Zeit\")\n",
    "plt.gca().xaxis.set_major_formatter(mdates.DateFormatter('%d.%m.%y %H:%M'))\n",
    "\n",
    "plt.ylabel(\"Temperatur [°C]\")\n",
    "plt.legend([\"Zollikofen\", \"Zytglogge\"])\n",
    "plt.grid(color = \"grey\", linestyle = \"--\", linewidth=1)\n",
    "plt.show()"
   ]
  },
  {
   "cell_type": "markdown",
   "id": "991dda13-640e-4ec6-a64a-634137ac0e03",
   "metadata": {},
   "source": [
    "Die Grösse der ausgegebenen Grafik lässt sich über `plt.rcParams['figure.figsize'] = [x, y]` anpassen:"
   ]
  },
  {
   "cell_type": "code",
   "execution_count": null,
   "id": "ad6fba56-8731-41af-a58f-a3ea7e953d00",
   "metadata": {},
   "outputs": [],
   "source": [
    "plt.rcParams['figure.figsize'] = [12, 8]\n",
    "plt.plot(sensor_zollikofen_df[\"dateObserved\"], sensor_zollikofen_df[\"temperature\"], sensor_zytglogge_df[\"dateObserved\"], sensor_zytglogge_df[\"temperature\"])\n",
    "plt.suptitle(\"Temperaturen in Zollikofen und beim Zytglogge\")\n",
    "plt.xlabel(\"Zeit\")\n",
    "plt.gca().xaxis.set_major_formatter(mdates.DateFormatter('%d.%m.%y %H:%M'))\n",
    "plt.ylabel(\"Temperatur [°C]\")\n",
    "plt.legend([\"Zollikofen\", \"Zytglogge\"])\n",
    "plt.grid(color = \"grey\", linestyle = \"--\", linewidth=1)\n",
    "plt.show()"
   ]
  },
  {
   "cell_type": "markdown",
   "id": "672717d3-ac58-4e46-a197-58c894876e0e",
   "metadata": {},
   "source": [
    "Die Grafiken können einfach auf dem Computer gespeichert werden, indem mit 'Shift + Rechtsklick' auf die Grafik geklickt und dann 'Grafik speichern unter...' gewählt wird."
   ]
  },
  {
   "cell_type": "markdown",
   "id": "ec84378d-a68e-4903-b4df-66e25cbdabff",
   "metadata": {},
   "source": [
    "<div class=\"gk-exercise\">\n",
    "\n",
    "Erstelle für den Sensor beim Zytglogge ein neues Diagramm mit der Temperaturkurve und markiertem Maximum, Minimum und Mittelwert. Für die Markierung kann mit `plt.axhline(Wert, label='Beschriftung')` eine horizontale Linie auf der Höhe von Wert gezeichnet werden. Achte darauf, dass alle Achsen und Linien gut beschriftet sind und das Diagramm ansprechend formatiert wird.\n",
    "\n",
    "<details>\n",
    "    <summary>Tipps</summary>\n",
    "    <p>Die statistischen Werte können mittels <i>df[\"Spaltenname\"].max()</i> etc. abgefragt werden</p>\n",
    "    <details>\n",
    "    <summary>Tipp</summary>\n",
    "    <p>Mit <i>color='green'</i> kann die Farbe der Linie angepasst werden.</p>\n",
    "</details>\n",
    "</details>\n",
    "</div>"
   ]
  },
  {
   "cell_type": "code",
   "execution_count": null,
   "id": "878d725f-2fdd-4c32-a628-cfbf1b8c5d16",
   "metadata": {
    "deletable": false,
    "nbgrader": {
     "cell_type": "code",
     "checksum": "7a697b77a35755452940ae88ebdcee24",
     "grade": false,
     "grade_id": "cell-1d3b4d229bb77196",
     "locked": false,
     "schema_version": 3,
     "solution": true,
     "task": false
    },
    "tags": [
     "exercise"
    ]
   },
   "outputs": [],
   "source": [
    "# YOUR CODE HERE\n"
   ]
  },
  {
   "cell_type": "markdown",
   "id": "a726cb9b-8b9e-4685-8d15-b9ee4d0cb8a8",
   "metadata": {},
   "source": [
    "***"
   ]
  },
  {
   "cell_type": "markdown",
   "id": "34cba77f-9cb2-4888-b66c-72e1e05fb506",
   "metadata": {},
   "source": [
    "## Scatterplot\n",
    "\n",
    "Das **Streudiagramm** ist ein weiterer wichtiger Visualisierungstyp. Es kommt dann zum Einsatz, wenn ein allfälliger Zusammenhang (Korrelation) zwischen zwei Variablen einer Beobachtung untersucht werden soll. Beim Streudiagramm werden Wertepaare in einem x-y Koordinatensystem abgebildet. Die Werte der Variablen stehen dabei nicht in einem kontinuerlichen Zusammenhang (im Gegensatz bspw. zu einer Zeitreihe, wo die verschiedenen x-Werte (Zeiten) in einer Abfolge stehen und es deshalb Sinn macht, eine verbindende Linie zu zeichnen).\n",
    "\n",
    "Nachfolgend sollen Daten zum Geysir \"[Old Faithful](https://de.wikipedia.org/wiki/Old_Faithful)\" im Yellowstone National Park untersucht werden. Eine CSV Datei ist unter [data/old_faithful.csv](data/old_faithful.csv) verfügbar. Diese beinhaltet zwei Spalten. In der einen Spalte ('duration') wird die Dauer eines Ausbruchs in Minuten angegeben, in der zweiten Spalte ('waiting') die anschliessend erfolgte Wartezeit in Minuten bis zum nächsten Ausbruch.\n",
    "\n",
    "Die Frage ist nun, ob diese zwei Grössen in irgendeinem Zusammenhang stehen. Dies kann versucht werden, indem die zwei Spalten angezeigt werden:"
   ]
  },
  {
   "cell_type": "code",
   "execution_count": null,
   "id": "2e6af96b-f165-42c6-9e3d-e3cab4b9cd14",
   "metadata": {},
   "outputs": [],
   "source": [
    "import numpy as np\n",
    "import pandas as pd\n",
    "import matplotlib.pyplot as plt\n",
    "\n",
    "old_faithful = pd.read_csv(\"data/old_faithful.csv\", sep = \";\")\n",
    "\n",
    "display(old_faithful.head(50))"
   ]
  },
  {
   "cell_type": "markdown",
   "id": "63944ac3-7061-41f2-9cc5-3fb0dd30d905",
   "metadata": {},
   "source": [
    "Es ist ziemlich schwierig, eine so grosse Anzahl Zahlen auf einen Blick zu erfassen und Muster zu erkennen. Viel einfacher geht es mit einer Visualisierung:"
   ]
  },
  {
   "cell_type": "code",
   "execution_count": null,
   "id": "d7fb4c9b-565c-416a-a75c-80fe3da00da8",
   "metadata": {},
   "outputs": [],
   "source": [
    "plt.scatter(old_faithful[\"duration\"], old_faithful[\"waiting\"])\n",
    "plt.show()"
   ]
  },
  {
   "cell_type": "markdown",
   "id": "f1d6beb0-e573-460d-8980-acf4f4af3a77",
   "metadata": {},
   "source": [
    "Dank diesem Streuplot wird ersichtlich, dass es zwei \"Cluster\" gibt, die sich dadurch auszeichnen, dass bei einem kurzen Ausbruch tendenziell eine kurze Wartezeit folgt, während nach einem langen Ausbruch auch eine lange Wartezeit folgt."
   ]
  },
  {
   "cell_type": "markdown",
   "id": "4245937f-da33-4154-a897-980dc7b7a078",
   "metadata": {
    "tags": []
   },
   "source": [
    "Sollen bei einem Streudiagramm mehrere Datensätze gleichzeitig in einem Diagramm abgebildet werden, kann die `plt.scatter()` Funktion einfach mehrmals mit unterschiedlichen Daten aufgerufen werden. Innerhalb der gleichen Zelle werden dann alle Daten in einem Diagramm dargestellt. Somit können wir den Scatterplot noch etwas übersichtlicher darstellen, in dem wir die beiden \"Cluster\" unterschiedlich einfärben:"
   ]
  },
  {
   "cell_type": "code",
   "execution_count": null,
   "id": "e8edc138-4dc3-49f8-aa10-315f189037ce",
   "metadata": {},
   "outputs": [],
   "source": [
    "old_faithful_short = old_faithful[old_faithful.duration <= 3.25]\n",
    "old_faithful_long = old_faithful[old_faithful.duration > 3.25]\n",
    "\n",
    "plt.rcParams['figure.figsize'] = [12, 8]\n",
    "\n",
    "plt.scatter(old_faithful_short[\"duration\"], old_faithful_short[\"waiting\"])\n",
    "plt.scatter(old_faithful_long[\"duration\"], old_faithful_long[\"waiting\"])\n",
    "plt.suptitle(\"Old Faithful Geysir\")\n",
    "plt.xlabel(\"Ausbruchsdauer [min]\")\n",
    "plt.ylabel(\"Wartezeit nach Ausbruch [min]\")\n",
    "plt.grid(color = \"grey\", linestyle = \"--\", linewidth=1)\n",
    "\n",
    "plt.show()"
   ]
  },
  {
   "cell_type": "markdown",
   "id": "3aeeca17-adcd-4490-8e2b-3b07c50ab576",
   "metadata": {},
   "source": [
    "# Widgets\n",
    "\n",
    "Widgets sind kleine grafische Elemente, welche die Ein- und Ausgabe vereinfachen. Damit dienen sie dazu, eine Art **Grafical User Interface** (GUI) zu erstellen. Um mit Widgets zu arbeiten, muss das entsprechende Modul `ipywidgets` importiert werden:"
   ]
  },
  {
   "cell_type": "code",
   "execution_count": null,
   "id": "ab52ab41-3ad1-4150-a0fc-16ed24180eb8",
   "metadata": {},
   "outputs": [],
   "source": [
    "import ipywidgets as widgets"
   ]
  },
  {
   "cell_type": "markdown",
   "id": "320d95f2-8acf-4c02-b7bc-bb1c78e1a090",
   "metadata": {},
   "source": [
    "Typischerweise werden die Widgets einer Variable zugewiesen, damit man sie anzeigen, auslesen und verändern kann:"
   ]
  },
  {
   "cell_type": "code",
   "execution_count": null,
   "id": "b4239649-6ec5-40b3-958f-8abde90e98c5",
   "metadata": {},
   "outputs": [],
   "source": [
    "w = widgets.IntSlider()"
   ]
  },
  {
   "cell_type": "markdown",
   "id": "49f8dbd4-eccd-4744-a099-1c36eef9e92f",
   "metadata": {},
   "source": [
    "Mit der Funktion `display()` können die Widgets im Output angezeigt werden. Die Zelle muss also immer ausgeführt werden, damit das Widget angezeigt wird."
   ]
  },
  {
   "cell_type": "code",
   "execution_count": null,
   "id": "2ed4098d-42ba-46c7-ae8d-d4fd0bade323",
   "metadata": {},
   "outputs": [],
   "source": [
    "display(w)"
   ]
  },
  {
   "cell_type": "markdown",
   "id": "240cd836-631d-4f8d-bf2c-154f261e91d3",
   "metadata": {},
   "source": [
    "Der Wert, der mit dem Schieberegler eingestellt wird, kann mit der Eigenschaft `value` des Widget Objekts ausgelesen werden:"
   ]
  },
  {
   "cell_type": "code",
   "execution_count": null,
   "id": "d998a74a-c423-44e9-a6bf-8714e71083c0",
   "metadata": {},
   "outputs": [],
   "source": [
    "print(\"Der Wert des Reglers ist:\" + str(w.value))"
   ]
  },
  {
   "cell_type": "markdown",
   "id": "7a0174f3-069d-4506-a269-705053b22295",
   "metadata": {},
   "source": [
    "## Reagieren auf Änderungen von Widgets\n",
    "\n",
    "Soll beispielsweise beim Drücken eines Buttons sofort eine Aktion ausgelöst werden (ohne dass dafür das Ausführen einer weiteren Zelle notwendig ist), ist ein etwas aufwändigeres Vorgehen nötig: "
   ]
  },
  {
   "cell_type": "code",
   "execution_count": null,
   "id": "600c7bf7-8df7-477b-8987-84d8ed2408b0",
   "metadata": {},
   "outputs": [],
   "source": [
    "button = widgets.Button(description=\"Klick mich!\")\n",
    "output = widgets.Output()\n",
    "\n",
    "display(button, output)\n",
    "\n",
    "def button_clicked(b):\n",
    "    with output:\n",
    "        print(\"Der Knopf '\" + b.description +  \"' wurde gedrückt\")\n",
    "\n",
    "button.on_click(button_clicked)"
   ]
  },
  {
   "cell_type": "markdown",
   "id": "0419128d-4c4b-47f6-913e-b1144b7b0b9c",
   "metadata": {},
   "source": [
    "Zuerst wird ein Button und ein spezielles Output Widget erzeugt, diese werden dann beide über `display()` angezeigt, wobei vom Output vorerst noch nichts zu sehen ist. Dann wird eine Funktion `button_clicked(b)` definiert, welche etwas tun soll, sobald der Button gedrückt wird. Anschliessend wird mit `button.on_click(button_clicked)` dem Button bei einem Klick diese Funktion zugewiesen.\n",
    "\n",
    "Bei dieser Konstruktion wird der Funktion, die bei einem Klick aufgerufen wird, also der Funktion `button_clicked()` automatisch ein Argument übergeben, das Informationen über den gedrückten Knopf enthält, die Funktion muss also über einen Parameter verfügen, um dieses Argument aufzunehmen. Im Falle des Buttons kann auf die Eigenschaft `description` des gedrückten Buttons zugegriffen werden, das die Beschriftung des Buttons enthält.\n",
    "\n",
    "Da es mit dieser Konstruktion nicht möglich ist, per einfachem `print()` Befehl einen Output zu erzeugen, brauchen wir das Output Widget, welches innerhalb der Funktion mit Hilfe des Schlüsselwortes `with` in einem sogenannten *Context Manager* (genau wie beim Arbeiten mit Dateien) aufgerufen wird."
   ]
  },
  {
   "cell_type": "markdown",
   "id": "eb4cb226-36c8-4cb0-8368-70ed4e2d89cf",
   "metadata": {},
   "source": [
    "Das Dropdown Widget ist eine weitere interessante Möglichkeit:"
   ]
  },
  {
   "cell_type": "code",
   "execution_count": null,
   "id": "a336a163-c354-4a00-81c7-733ded448579",
   "metadata": {},
   "outputs": [],
   "source": [
    "dropdown = widgets.Dropdown(\n",
    "    options = [\"Bern\", \"Biel\", \"Thun\"],\n",
    "    description = \"Stadt\")\n",
    "\n",
    "display(dropdown)"
   ]
  },
  {
   "cell_type": "markdown",
   "id": "77e3abeb-d01c-4d1e-82f3-c54be236101a",
   "metadata": {},
   "source": [
    "Um auf die Wahl aus dem Dropdown Widget zu reagieren, kann die oben verwendete Methodik, leicht angepasst, angewandt werden:"
   ]
  },
  {
   "cell_type": "code",
   "execution_count": null,
   "id": "20090dd7-b5d5-4571-a227-e6b2659f5492",
   "metadata": {},
   "outputs": [],
   "source": [
    "dropdown = widgets.Dropdown(\n",
    "    options = [\"Bern\", \"Biel\", \"Thun\"],\n",
    "    description = \"Stadt\")\n",
    "\n",
    "output = widgets.Output()\n",
    "\n",
    "display(dropdown, output)\n",
    "\n",
    "def on_value_change(change):\n",
    "    with output:\n",
    "        print(change)\n",
    "        \n",
    "dropdown.observe(on_value_change, names = \"value\")"
   ]
  },
  {
   "cell_type": "markdown",
   "id": "20be551b-2839-4726-97c0-2711d5be3596",
   "metadata": {},
   "source": [
    "Um den Wechsel des Dropdown Menus zu überwachen, können wir die Methode `observe` anwenden. Diese braucht zwei Argumente, nämlich die Funktion, die bei einem Wechsel ausgelöst werden soll (hier `on_value_change()` und als zweites Argument, was genau überwacht werden soll. Das ist für ein Dropdown Widget typischerweise die Werte, also `names = 'value'`. Das Parameter Objekt, das beim Wechsel des Dropdown Widgets der Funktion `on_value_change` übergeben wird, ist ein Dictionary, das verschiedene Schlüssel-Wert Paare beinhaltet, der interessante Wert dabei ist `new` für den neu ausgewählten Eintrag."
   ]
  },
  {
   "cell_type": "markdown",
   "id": "2361bb35-4746-4354-900d-d73c0fc882f6",
   "metadata": {},
   "source": [
    "## Weitere Infos zu Widgets\n",
    "\n",
    "Eine gute Dokumentation zu den Widgets ist unter [https://ipywidgets.readthedocs.io](https://ipywidgets.readthedocs.io/en/stable/index.html) verfügbar."
   ]
  },
  {
   "cell_type": "markdown",
   "id": "08496cbc-6135-4e5b-9ccd-a3f44241c237",
   "metadata": {},
   "source": [
    "# Schlussaufgabe"
   ]
  },
  {
   "cell_type": "markdown",
   "id": "7cefc9c2-c8f3-4304-91a8-c644ed514035",
   "metadata": {},
   "source": [
    "<div class=\"gk-exercise\">\n",
    "Erstelle eine interaktive Visualisierung für die Zeitreihen der Hitzeinsel-Monitoring-Sensoren. Dabei soll zuerst mit Hilfe eines Dropdown-Widgets ein Sensor ausgewählt werden, von dem anschliessend die Temperatur- und relativen Luftfeuchtigkeitswerte vom `timeseries`-Endpoint geladen und in einem Diagramm angezeigt werden. Die möglichen Sensoren im Dropdown-Widget sollen dabei aus den Daten des `latest`-Endpoints geladen werden.  \n",
    "\n",
    "Bonusaufgabe: Verwende zusätzlich zwei Widgets, um `time_from` und `time_to` auszuwählen.  \n",
    "\n",
    "<details>\n",
    "    <summary>Tipps</summary>\n",
    "    <p>Am besten werden zwei y-Achsen erzeugt (je eine links und eine rechts), da die Temperaturen und die Luftfeuchtigkeiten unterschiedliche Wertebereiche haben. Dies kann mit Hilfe von <code>plt.twinx()</code> umgesetzt werden.</p>\n",
    "    <p>Für die Bonusaufgabe kann das Widget `widgets.DatetimePicker` verwendet werden.</p>\n",
    "</details>\n",
    "</div>"
   ]
  },
  {
   "cell_type": "code",
   "execution_count": null,
   "id": "959a935b-24dd-43f2-9872-52337fa873ef",
   "metadata": {
    "deletable": false,
    "nbgrader": {
     "cell_type": "code",
     "checksum": "87100b11ad8f966faea74bf4d337e029",
     "grade": false,
     "grade_id": "cell-7a415445a4f85ec6",
     "locked": false,
     "schema_version": 3,
     "solution": true,
     "task": false
    },
    "tags": [
     "exercise"
    ]
   },
   "outputs": [],
   "source": [
    "import pandas as pd\n",
    "import matplotlib.pyplot as plt\n",
    "import ipywidgets as widgets\n",
    "\n",
    "# YOUR CODE HERE"
   ]
  },
  {
   "cell_type": "markdown",
   "id": "3607e734-17d0-4ce8-9c98-af34a73d3752",
   "metadata": {},
   "source": [
    "# Zusammenfassung\n",
    "\n",
    "In diesem Notebook wurde aufgezeigt, wie aus Daten Visualisierungen erstellt werden können. Damit wurde auch aufgezeigt, dass gewisse Strukturen in Daten mit Hilfe einer Visualisierung sehr viel schneller erkennbar sind als beim Blick auf die Rohdaten.\n",
    "\n",
    "Die beiden wichtigen Typen Line Chart und Scatterplot wurden eingeführt und es ist aufgezeigt worden, wann diese zum Einsatz kommen können.\n",
    "\n",
    "Schliesslich wurde die Möglichkeit der Widgets aufgezeigt. Diese eignen sich gut, um Eingaben von der Benutzerin abzuholen oder als Möglichkeit zur Ausgabe eines Resultates aus dem Programmablauf."
   ]
  },
  {
   "cell_type": "markdown",
   "id": "c51ec808",
   "metadata": {},
   "source": [
    "# Impressum\n",
    "\n",
    "<a rel=\"license\" href=\"http://creativecommons.org/licenses/by-sa/4.0/\"><img alt=\"Creative Commons Lizenzvertrag\" style=\"border-width:0\" src=\"https://mirrors.creativecommons.org/presskit/buttons/88x31/svg/by-sa.svg\" /></a><br />Dieses Werk ist lizenziert unter einer <a rel=\"license\" href=\"http://creativecommons.org/licenses/by-sa/4.0/\">Creative Commons Namensnennung - Weitergabe unter gleichen Bedingungen 4.0 International Lizenz</a>.\n",
    "\n",
    "Autoren: [Jakob Schärer](mailto:jakob.schaerer@unibe.ch), [Lionel Stürmer](mailto:lionel.stuermer@bfh.ch) <br>\n",
    "Ursprünglicher Text von: Noe Thalheim, Benedikt Hitz-Gamper\n",
    "\n",
    "\n",
    "## Credits\n",
    "\n",
    "\n",
    "* [Old Faithful Daten](https://www.stat.cmu.edu/~larry/all-of-statistics/=data/faithful.dat)\n",
    "* [Smart Urban Heat Map](https://smart-urban-heat-map.ch)\n",
    "```\n",
    "There are 10 types of people in the world.\n",
    "Those who understand binary, and those who don't.\n",
    "```"
   ]
  }
 ],
 "metadata": {
  "kernelspec": {
   "display_name": "gp",
   "language": "python",
   "name": "python3"
  },
  "language_info": {
   "codemirror_mode": {
    "name": "ipython",
    "version": 3
   },
   "file_extension": ".py",
   "mimetype": "text/x-python",
   "name": "python",
   "nbconvert_exporter": "python",
   "pygments_lexer": "ipython3",
   "version": "3.12.11"
  },
  "toc-autonumbering": true,
  "toc-showcode": false,
  "toc-showmarkdowntxt": false,
  "toc-showtags": false
 },
 "nbformat": 4,
 "nbformat_minor": 5
}
