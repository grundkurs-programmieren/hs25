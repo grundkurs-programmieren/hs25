{
 "cells": [
  {
   "cell_type": "markdown",
   "id": "6cc6fd82-332e-4d91-ba6a-9962fe6df4ff",
   "metadata": {},
   "source": [
    "<img src=\"https://i.imgur.com/XSzy00d.png\" style=\"float:right;width:150px\">\n",
    "\n",
    "**Zeichenketten und Iteration**\n",
    "\n",
    "# Einleitung\n",
    "\n",
    "## Lernziele\n",
    "\n",
    "- Sie kennen **Strings** und **Integer** als eigene Datentypen\n",
    "- Sie können auf **einzelne Zeichen** in einem String zugreifen\n",
    "- Sie verstehen den **Unterschied zwischen einer Zahl und einem String welcher eine Zahl darstellt**\n",
    "- Sie lassen sich von Fehlermeldungen nicht entmutigen\n",
    "- Sie können mittels **For Loops** durch die Zeichen eines Strings **iterieren**"
   ]
  },
  {
   "cell_type": "markdown",
   "id": "966dfdb1-41fa-4e86-828b-b2b07312e70e",
   "metadata": {},
   "source": [
    "# Zeichenketten\n",
    "\n",
    "Im letzten Notebook wurde erwähnt, dass die Begriffe **Zeichenkette** und **String** synonym sind, ohne dabei genauer darauf einzugehen. Dies soll jetzt nachgeholt werden. Dazu wird folgender String betrachtet:"
   ]
  },
  {
   "cell_type": "code",
   "execution_count": null,
   "id": "02d8b5ce-bf09-4df6-8c25-678a9ea96656",
   "metadata": {
    "tags": []
   },
   "outputs": [],
   "source": [
    "lieblings_stadt = \"Bern\""
   ]
  },
  {
   "cell_type": "markdown",
   "id": "289c66c7-8446-4831-97c0-2664feb6762c",
   "metadata": {},
   "source": [
    "Zu diesem können folgende Aussagen formuliert werden:\n",
    "\n",
    "- Der String `\"Bern\"` enhält als erstes Zeichen ein `\"B\"`\n",
    "- Der String `\"Bern\"` besteht aus 4 Zeichen\n",
    "\n",
    "Strings resp. Zeichenketten sind in Python ein eigener **Datentyp**.\n",
    "\n",
    "In den nachfolgenden Abschnitten wird aufgezeigt, wie mittels `print()` Funktion diese Aussagen \"automatisch\" vom Computer generiert werden können. Dazu müssen die **Indizes** der Zeichenkette betrachtet werden:\n",
    "\n",
    "| Index   | 0 | 1 | 2 | 3 |\n",
    "| ------- | - | - | - | - |\n",
    "| Zeichen | B | e | r | n |"
   ]
  },
  {
   "cell_type": "markdown",
   "id": "7f98d71e-ee64-4864-b182-aa3808202ae5",
   "metadata": {},
   "source": [
    "Mit einem **Index** ist hier die Position eines Zeichen im String gemeint. In Python und den meisten anderen Programmiersprachen wird beim Zählen bei `0` begonnen. Das heisst, das erste Zeichen in einem String hat die Position resp. den Index `0`.\n",
    "\n",
    "## String Index\n",
    "\n",
    "Zuerst soll die Aussage `der String \"Bern\" enthält als erstes Zeichen ein \"B\"` betrachtet werden. D.h. es soll auf das Zeichen mit dem Index `0` zugegriffen werden. Dazu werden in Python eckige Klammern `[` `]` verwendet:"
   ]
  },
  {
   "cell_type": "code",
   "execution_count": null,
   "id": "fdee2826-52e0-4f50-beec-8ac95023ef09",
   "metadata": {
    "tags": []
   },
   "outputs": [],
   "source": [
    "print(lieblings_stadt[0])"
   ]
  },
  {
   "cell_type": "markdown",
   "id": "d18f21b8-5e08-4419-b2bf-f72ac0f3d070",
   "metadata": {
    "tags": []
   },
   "source": [
    "<div class=\"gk-exercise\"> \n",
    "\n",
    "Verwende die eckigen Klammern und eine String Concatenation mit der Variable `lieblings_stadt`, um folgende Ausgabe inkl. `\"` zu generieren:\n",
    "\n",
    "`Der String \"Bern\" enthält als erstes Zeichen ein \"B\"`\n",
    "\n",
    "<details>\n",
    "    <summary>Tipps:</summary>\n",
    "    Verwende <code>'</code> im <code>print</code> Aufruf um den Wert der Variable <code>lieblings_stadt</code> und das erste Zeichen in Anführungszeichen zu schreiben.\n",
    "</details>\n",
    "</div>"
   ]
  },
  {
   "cell_type": "code",
   "execution_count": null,
   "id": "b81c6124-3aa6-42d2-82f2-70d36316297f",
   "metadata": {
    "deletable": false,
    "nbgrader": {
     "cell_type": "code",
     "checksum": "d3177cd69edc6bd5094b6a63c02e2e99",
     "grade": false,
     "grade_id": "cell-263c0f08239e69d5",
     "locked": false,
     "schema_version": 3,
     "solution": true,
     "task": false
    },
    "tags": [
     "exercise"
    ]
   },
   "outputs": [],
   "source": [
    "# YOUR CODE HERE"
   ]
  },
  {
   "cell_type": "markdown",
   "id": "210a48f2-b54f-49e7-a994-af5be9a600ae",
   "metadata": {},
   "source": [
    "## Länge eines Strings\n",
    "\n",
    "Für die zweite Aussage wird eine Funktion benötigt, welche die Anzahl Zeichen eines Strings bestimmt und zurückgibt. Dazu existiert die Funktion `len()`:"
   ]
  },
  {
   "cell_type": "code",
   "execution_count": null,
   "id": "c6057521-a1df-460b-b2ae-491affd0f061",
   "metadata": {
    "tags": []
   },
   "outputs": [],
   "source": [
    "len(lieblings_stadt)"
   ]
  },
  {
   "cell_type": "markdown",
   "id": "0041acd4-b6ba-49c9-a279-8ea7c6d6c011",
   "metadata": {},
   "source": [
    "Analog zur vorherigen Aufgabe lässt sich die Aussage `Der String \"Bern\" besteht aus 4 Zeichen` mittels der `print()` und `len()` Funktion formulieren als:"
   ]
  },
  {
   "cell_type": "code",
   "execution_count": null,
   "id": "ffffa763-4de0-4a88-afe7-30960499a9f7",
   "metadata": {
    "tags": [
     "raises-exception"
    ]
   },
   "outputs": [],
   "source": [
    "print('Der String \"' + lieblings_stadt + '\" besteht aus  ' + len(lieblings_stadt) + ' Zeichen')"
   ]
  },
  {
   "cell_type": "markdown",
   "id": "66c6f37f-f0f5-4d52-b341-ac63cfbcfe1b",
   "metadata": {},
   "source": [
    "Beim Ausführen der vorherigen Zelle kommt es zu einer Fehlermeldung:\n",
    "\n",
    "```bash\n",
    "---------------------------------------------------------------------------\n",
    "TypeError                                 Traceback (most recent call last)\n",
    "Cell In[29], line 1\n",
    "----> 1 print('Der String \"' + lieblings_stadt + '\" besteht aus  ' + len(lieblings_stadt) + ' Zeichen')\n",
    "\n",
    "TypeError: can only concatenate str (not \"int\") to str\n",
    "```\n",
    "\n",
    "Solche Fehlermeldungen wirken auf den ersten Blick kryptisch und wenig hilfreich. Typischerweise befinden sich aber wichtige Informationen zum aufgetretenen Fehler auf der letzten Zeile der Meldung:\n",
    "\n",
    "`TypeError: can only concatenate str (not \"int\") to str`\n",
    "\n",
    "Python teilt dem Programmierer (und auch der Programmiererin - aber die machen weniger Fehler) mit, dass die [String Concatenation](../02_28_25/Strings_Variablen.ipynb#String-Concatenation) nur funktioniert, wenn es sich bei beiden Werten jeweils um Strings handelt. Bevor dieser Fehler behoben werden kann, muss näher auf **int** eingegegangen werden:"
   ]
  },
  {
   "cell_type": "markdown",
   "id": "9338fd0d-7004-4c1f-9fb8-c1e70bd322ed",
   "metadata": {},
   "source": [
    "# Integer\n",
    "\n",
    "**int** ist eine gängige Abkürzung für den Begriff **Integer**. Ein Integer ist ein **Datentyp** in Python, welcher ganze Zahlen repräsentiert, d.h. eine Variable vom Typ **Integer** kann z.B. folgende Werte annehmen `10`, `-5`, `255` etc. Zahlen mit Kommastellen oder Brüche können **nicht** durch Integer repräsentiert werden, mehr dazu später.\n",
    "\n",
    "Mit Integers kann, im Gegensatz zu Strings, gerechnet werden:"
   ]
  },
  {
   "cell_type": "code",
   "execution_count": null,
   "id": "2a01410f-3efc-4061-8bf2-c5bbd33ecb56",
   "metadata": {
    "tags": []
   },
   "outputs": [],
   "source": [
    "1 + 1"
   ]
  },
  {
   "cell_type": "code",
   "execution_count": null,
   "id": "f160cf00-ff8c-41a7-9d3f-5bd6d29e124b",
   "metadata": {
    "tags": []
   },
   "outputs": [],
   "source": [
    "7 * 21"
   ]
  },
  {
   "cell_type": "code",
   "execution_count": null,
   "id": "a7201e1d-ef73-41e3-b86d-6b41dd5cac42",
   "metadata": {
    "tags": []
   },
   "outputs": [],
   "source": [
    "(9 + 2) * 11"
   ]
  },
  {
   "cell_type": "markdown",
   "id": "320e848f-411d-4f80-ac89-87ed27174125",
   "metadata": {},
   "source": [
    "Das `+` Zeichen wurde aber bereits bei der String Concatenation verwendet. Wieso hat es hier offensichtlich eine andere Bedeutung? Dazu folgenden Code:"
   ]
  },
  {
   "cell_type": "code",
   "execution_count": null,
   "id": "acde1859-ecd7-4fa0-bfdb-beb3a9872c6e",
   "metadata": {
    "tags": []
   },
   "outputs": [],
   "source": [
    "print(\"1 + 1 ist nicht \" + \"1\" + \"1\")\n",
    "print(\"sondern\")\n",
    "print(1 + 1)"
   ]
  },
  {
   "cell_type": "markdown",
   "id": "019b6c4d-669a-4a2a-af95-b4849bea3fea",
   "metadata": {},
   "source": [
    "Das `+` Zeichen hat also offensichtlich unterschiedliche Funktionen, je nachdem ob es auf Strings oder Integers angewendet wird. Und genau da liegt auch der Ursprung der obigen Fehlermeldung: Je nachdem welcher **Datentyp** eine Variable hat, interpretiert Python die Operation `+` anders. Beim Deklarieren einer Variable bestimmt Python diesen Datentyp automatisch:"
   ]
  },
  {
   "cell_type": "code",
   "execution_count": null,
   "id": "8d4d1da1-8092-4cff-994d-9bf3558a26ca",
   "metadata": {
    "tags": []
   },
   "outputs": [],
   "source": [
    "eins = 1\n",
    "zwei = 2"
   ]
  },
  {
   "cell_type": "markdown",
   "id": "b81e34d8-fa9e-4533-ba5a-e64eca17f0f1",
   "metadata": {},
   "source": [
    "> Die automatische Erkennung des Datentyps wird als [dynamische Typisierung](https://de.wikipedia.org/wiki/Dynamische_Typisierung) bezeichnet. In gewissen Programmiersprachen (bspw. C und C++) muss die Typisierung selbst vorgenommen werden.\n",
    "\n",
    "Verschiedene Datentypen unterstützen verschieden Operationen. Für Integer existieren Operatoren für alle gängigen Rechenarten:"
   ]
  },
  {
   "cell_type": "code",
   "execution_count": null,
   "id": "69bd0205-acaf-4c91-965d-3e804c072441",
   "metadata": {},
   "outputs": [],
   "source": [
    "print(eins + zwei)\n",
    "print(eins - zwei)\n",
    "print(eins * zwei)\n",
    "print(eins / zwei)"
   ]
  },
  {
   "cell_type": "markdown",
   "id": "c1224148-701b-45e2-9ff4-50b174f62ca2",
   "metadata": {
    "tags": []
   },
   "source": [
    "<div class=\"gk-exercise\">\n",
    "\n",
    "Die vorherige Zelle hat vier verschiedene Ausgaben produziert. Welche davon ist **kein** Integer?\n",
    "</div>"
   ]
  },
  {
   "cell_type": "markdown",
   "id": "2eadb276-111f-4953-b0a9-2ed33d721e75",
   "metadata": {},
   "source": [
    "Dass es notwendig ist, verschiedene Datentypen für Zeichenketten und Zahlen zu haben, wird auch klar, wenn versucht wird, mittels der `input()` Funktion einen Taschenrechner zu bauen:"
   ]
  },
  {
   "cell_type": "code",
   "execution_count": null,
   "id": "7a9df9ad-a5ed-4484-9554-7405259d5a57",
   "metadata": {
    "tags": []
   },
   "outputs": [],
   "source": [
    "erste_zahl = input(\"Gib eine Zahl ein\")\n",
    "zweite_zahl = input(\"Gib eine zweite Zahl ein\")\n",
    "print(erste_zahl+zweite_zahl)"
   ]
  },
  {
   "cell_type": "markdown",
   "id": "a922cdf2-a9df-4564-a1ee-eecb3936addf",
   "metadata": {},
   "source": [
    "## Variablen verändern\n",
    "\n",
    "Bis jetzt wurde nur die erste Zuweisung eines Wertes zu einer Variable aufgezeigt. Bestehende Variablen lassen sich aber auch verändern (mit einem neuen Wert überschreiben). Dieser kann vom gleichen oder einem beliebigen anderen Typ sein. Relevant ist dabei immer, was die letzte Zuweisung zur Variable war (in der gleichen Zelle oder in anderen Zellen):"
   ]
  },
  {
   "cell_type": "code",
   "execution_count": null,
   "id": "b58f0bc9-5956-4c31-958b-534cd66d676e",
   "metadata": {
    "tags": []
   },
   "outputs": [],
   "source": [
    "var_1 = 42\n",
    "var_1 = \"Behördenantragübersetzungsformular\"\n",
    "print(var_1)"
   ]
  },
  {
   "cell_type": "markdown",
   "id": "10a78512-c5d4-49ca-a9c8-f867a954c5f7",
   "metadata": {},
   "source": [
    "Häufig sollen bestehende Variablen (insbesondere Zahlen) basierend auf ihrem bereits bestehenden Wert verändert werden. Also bspw. soll eine Zahl um 1 erhöht oder verringert werden:"
   ]
  },
  {
   "cell_type": "markdown",
   "id": "260cc458-2eac-4049-b567-acc02e36cb20",
   "metadata": {},
   "source": [
    "<div class=\"gk-exercise\">\n",
    "\n",
    "Erweitere den nachfolgenden Code so, dass die bestehende und mit einem Wert zugewiesene Variable `increasing_number` um den Wert `1` erhöht wird.\n",
    "\n",
    "<details>\n",
    "    <summary>Tipp:</summary>\n",
    "    Auf der rechten Seite einer Zuweisung, kann die Variable, der einen neuen Wert zugewiesen werden soll, nochmals vorkommen und so den bisherigen Wert repräsentieren.\n",
    "</details>\n",
    "</div>"
   ]
  },
  {
   "cell_type": "code",
   "execution_count": null,
   "id": "70cf985e-225a-4f82-8ea1-346fca3c7ed5",
   "metadata": {
    "deletable": false,
    "nbgrader": {
     "cell_type": "code",
     "checksum": "98961234dca72be01bd4e8346e348631",
     "grade": false,
     "grade_id": "cell-72c778cab35aca30",
     "locked": false,
     "schema_version": 3,
     "solution": true,
     "task": false
    },
    "tags": [
     "exercise"
    ]
   },
   "outputs": [],
   "source": [
    "increasing_number = 41\n",
    "\n",
    "# YOUR CODE HERE\n",
    "\n",
    "print(increasing_number)"
   ]
  },
  {
   "cell_type": "markdown",
   "id": "5b0168fb-52e5-4193-aed1-201ef5f8b72b",
   "metadata": {},
   "source": [
    "Aus der obigen Aufgabe wird klar, dass das Zeichen `=` nicht als Gleichheitszeichen interpretiert werden kann, sondern als **Zuweisungsoperator** betrachtet werden muss, der nicht einem mathematischen Gleichheitszeichen entspricht."
   ]
  },
  {
   "cell_type": "markdown",
   "id": "165167b6",
   "metadata": {},
   "source": [
    "<div>\n",
    "    <details>\n",
    "        <summary>Übrigens:</summary>\n",
    "        <p><code>a += b</code> ist gleichbedeutend zu <code>a = a + b</code></p>\n",
    "        <p>Analoge Kurzformen sind auch noch <code>a -= b</code>, <code>a *= b</code> und <code>a /= b</code></p>\n",
    "    </details>\n",
    "</div>"
   ]
  },
  {
   "cell_type": "markdown",
   "id": "d29b7b1b-3a94-43a1-bd5b-ffcaac4edb37",
   "metadata": {},
   "source": [
    "# Eine `\"1\"` ist keine `1`"
   ]
  },
  {
   "cell_type": "markdown",
   "id": "2277833d-a30d-4430-b092-17bbb520f6fe",
   "metadata": {},
   "source": [
    "Beim Programmieren ist es wichtig, den Unterschied zwischen `\"1\"` und `1` gut zu verstehen. Der String `\"1\"` ist dabei als Zeichen (ohne mathematischen Wert) zu verstehen und die `1` als tatsächlicher Zahlenwert, mit dem auch gerechnet werden kann."
   ]
  },
  {
   "cell_type": "markdown",
   "id": "efbfeeb0-29f5-4c39-9181-08e41f1ed03d",
   "metadata": {},
   "source": [
    "Offensichtlich gibt es zwei Herausforderungen! Wie kann eine Zeichenfolge in eine Ganzzahl umgewandelt werden (für einen Taschenrechner) und wie kann eine Ganzzahl in eine Zeichenfolge umgewandelt werden (für die Verkettung von Zeichenfolgen)?\n",
    "\n",
    "# Typumwandlung\n",
    "\n",
    "Das Umwandeln eines Datentyp in einen anderen wird als **Casting** bezeichnet. Je nach Programmiersprache stehen dabei verschiedene Möglichkeiten zur Verfügung. Bspw. wurde oben gezeigt, dass Python eine Integer Zahl bei einer Division nötigenfalls automatisch in eine Bruchzahl (**Float**) umwandeln kann:"
   ]
  },
  {
   "cell_type": "code",
   "execution_count": null,
   "id": "aa6082c9-5737-4404-ae23-06fc1e43ef62",
   "metadata": {
    "tags": []
   },
   "outputs": [],
   "source": [
    "2 / 1"
   ]
  },
  {
   "cell_type": "markdown",
   "id": "d4bde3f9-2eb5-42c8-a44b-71beb038465d",
   "metadata": {},
   "source": [
    "Um den Datentyp eines Wertes zu bestimmen, existiert die Funktion `type()`, welche den Datentyp eines Wertes bestimmen kann:"
   ]
  },
  {
   "cell_type": "code",
   "execution_count": null,
   "id": "02042da7-17b0-4b68-95f6-378837baab5f",
   "metadata": {
    "tags": []
   },
   "outputs": [],
   "source": [
    "type(2/1)"
   ]
  },
  {
   "cell_type": "code",
   "execution_count": null,
   "id": "d6f82f7c-fcb9-45d4-be99-ea4ab4e5e12a",
   "metadata": {
    "tags": []
   },
   "outputs": [],
   "source": [
    "type(\"Hallo\")"
   ]
  },
  {
   "cell_type": "code",
   "execution_count": null,
   "id": "d3eb2369-1fb8-43ef-90b3-5084ad3cae99",
   "metadata": {
    "tags": []
   },
   "outputs": [],
   "source": [
    "type(1)"
   ]
  },
  {
   "cell_type": "markdown",
   "id": "93ab1a7f-4296-456f-b98e-b4a7c147d07a",
   "metadata": {},
   "source": [
    "Um explizit ein **Int**eger in einen **Str**ing umzuwandeln exisitiert die Funktion `str()`:"
   ]
  },
  {
   "cell_type": "code",
   "execution_count": null,
   "id": "1eac9cb0-1d9d-44e4-8d0f-55f44451b38e",
   "metadata": {
    "tags": []
   },
   "outputs": [],
   "source": [
    "str(eins) + \"1\""
   ]
  },
  {
   "cell_type": "markdown",
   "id": "80893723-a96a-4632-899d-7c25ce70dffa",
   "metadata": {
    "tags": []
   },
   "source": [
    "<div class=\"gk-exercise\">\n",
    "\n",
    "Verwende `str()` und `len()` und die Variable `lieblings_stadt` um die folgende Ausgabe zu generieren:\n",
    "\n",
    "`Der String \"Bern\" besteht aus 4 Zeichen`\n",
    "\n",
    "inkl. `\"`\n",
    "\n",
    "<details>\n",
    "    <summary>Tipp:</summary>\n",
    "    Verwende <code>'</code> im <code>print</code> Aufruf um den Wert der Variable <code>lieblings_stadt</code> in Anführungszeichen zu schreiben\n",
    "</details>\n",
    "</div>"
   ]
  },
  {
   "cell_type": "code",
   "execution_count": null,
   "id": "9c382022-a5f4-4620-83f8-9055633a1c98",
   "metadata": {
    "deletable": false,
    "nbgrader": {
     "cell_type": "code",
     "checksum": "7302f71ebefef6cf2d613ec2e6322645",
     "grade": false,
     "grade_id": "cell-010ffc5ab81030be",
     "locked": false,
     "schema_version": 3,
     "solution": true,
     "task": false
    },
    "tags": [
     "exercise"
    ]
   },
   "outputs": [],
   "source": [
    "# YOUR CODE HERE"
   ]
  },
  {
   "cell_type": "markdown",
   "id": "d57dd50a-3ffc-4bd3-97d6-9997a04f1fc9",
   "metadata": {},
   "source": [
    "Soll umgekehrt eine Zeichenkette, welche ein Zahl repräsentiert, zu einer Zahl umgewandelt werden existiert die Funktion `int()` - ein logischer Name für diese Funktion:"
   ]
  },
  {
   "cell_type": "code",
   "execution_count": null,
   "id": "7905d0f2-0e39-4bc5-9784-8fdc77b5c46f",
   "metadata": {
    "tags": []
   },
   "outputs": [],
   "source": [
    "int(\"1\") + 1"
   ]
  },
  {
   "cell_type": "markdown",
   "id": "b4549613-e0fe-403a-8c9d-d4e730c71fd1",
   "metadata": {
    "tags": []
   },
   "source": [
    "<div class=\"gk-exercise\">\n",
    "\n",
    "Welche Ausgabe wird nachfolgender Quellcode generieren?\n",
    "\n",
    "</div>"
   ]
  },
  {
   "cell_type": "code",
   "execution_count": null,
   "id": "e829fe32-9122-4f6f-b6b9-44baf3113178",
   "metadata": {
    "tags": []
   },
   "outputs": [],
   "source": [
    "int(str(eins) + \"1\")"
   ]
  },
  {
   "cell_type": "markdown",
   "id": "dc3a6f55-eb8f-40f4-a4a8-0bd9f514406a",
   "metadata": {},
   "source": [
    "> Dass Funktionen innerhalb von Funktionen aufgerufen werden können, z.B. `int(str(1))`, wird **Funktionsverschachtelung** genannt und immer wieder angewandt werden."
   ]
  },
  {
   "cell_type": "markdown",
   "id": "c38b64c3-dce5-41d8-90ce-89605d727ee5",
   "metadata": {
    "editable": true,
    "slideshow": {
     "slide_type": ""
    },
    "tags": []
   },
   "source": [
    "<div class=\"gk-exercise\"> \n",
    "\n",
    "- Frage die Benutzerin nach einer Zahl\n",
    "- Frage die Benutzerin nach einer weiteren Zahl\n",
    "- Berechne die Summe dieser beiden Zahlen und gib das Resultat aus\n",
    "\n",
    "</div>"
   ]
  },
  {
   "cell_type": "code",
   "execution_count": null,
   "id": "a2f6586a-a71e-48b5-9279-13d7a8a4d491",
   "metadata": {
    "deletable": false,
    "nbgrader": {
     "cell_type": "code",
     "checksum": "c908dba50b25728facc5b576af99f584",
     "grade": false,
     "grade_id": "cell-8487f9ab2830590c",
     "locked": false,
     "schema_version": 3,
     "solution": true,
     "task": false
    },
    "tags": [
     "exercise"
    ]
   },
   "outputs": [],
   "source": [
    "# YOUR CODE HERE"
   ]
  },
  {
   "cell_type": "markdown",
   "id": "69c91763-9c23-403a-9920-3584f4b2fd5e",
   "metadata": {},
   "source": [
    "Der Rückgabewert der Funktion `input()` ist also offensichtlich immer ein String, auch wenn die Benutzerin eine Zahl eingegeben hat."
   ]
  },
  {
   "cell_type": "markdown",
   "id": "4a4d2241-e07e-4a14-adcd-0f4821cba2d6",
   "metadata": {},
   "source": [
    "Beim Versuch einen beliebigen String in einen Integer umzuwandeln, kann es zu einer Fehlermeldung kommen"
   ]
  },
  {
   "cell_type": "code",
   "execution_count": null,
   "id": "ea44110d-65b1-46b7-a637-f6c0c414da3f",
   "metadata": {
    "tags": [
     "raises-exception"
    ]
   },
   "outputs": [],
   "source": [
    "int(\"abc\")"
   ]
  },
  {
   "cell_type": "markdown",
   "id": "c3a34644-d0d6-4f2f-9906-8766e6a4d3d4",
   "metadata": {},
   "source": [
    "Auch bei dieser Fehlermeldung: \n",
    "\n",
    "```bash\n",
    "---------------------------------------------------------------------------\n",
    "ValueError                                Traceback (most recent call last)\n",
    "Cell In[37], line 1\n",
    "----> 1 int(\"abc\")\n",
    "\n",
    "ValueError: invalid literal for int() with base 10: 'abc'\n",
    "```\n",
    "\n",
    "steht die wichtigste Information in der letzten Zeile:\n",
    "\n",
    "`ValueError: invalid literal for int() with base 10: 'abc'`\n",
    "\n",
    "Wie solche Fehler, z.B. bei einer Eingabe mittels `input()` **abgefangen** werden können, wird [später](../03_14_25/Keywords_Funktionen.ipynb#try-und-except) diskutiert."
   ]
  },
  {
   "cell_type": "markdown",
   "id": "01da538f-fe28-492a-96c4-6d9ef7c40688",
   "metadata": {},
   "source": [
    "# Iteration\n",
    "\n",
    "Einige Strings lassen sich also als Zahl interpretieren, doch wie macht der Computer resp. Python das? \n",
    "\n",
    "## Textcodierungen\n",
    "\n",
    "Es folgt eine kleine und unvollständige Untersuchung von Textcodierungen, bei ausschliesslichem Interesse am Konzept der **Iteration** kann der nachfolgende Teil über Textcodierungen auch [übersprungen](#For-Loop) werden.\n",
    "\n",
    "Hinter jedem Zeichen (auch hinter den Buchstaben) steckt ein gewisser Zahlenwert, welcher je nach Codierung festgelegt ist. Eine Codierung lässt sich als eine Tabelle verstehen, welche jedem möglichen Zeichen genau einen Zahlenwert zuweist. Es gibt verschiedene solcher Codierungen\n",
    "\n",
    "Eine der ältesten Codierungen ist der ASCII (American Standard Code for Information Interchange) Standard, der in der nachfolgenden Tabelle gezeigt wird:\n",
    "\n",
    "![](https://upload.wikimedia.org/wikipedia/commons/1/1b/ASCII-Table-wide.svg)\n",
    "\n",
    "Quelle: <a href=\"https://commons.wikimedia.org/wiki/File:ASCII-Table-wide.svg\">ASCII-Table.svg: ZZT32derivative work: Usha</a>, Public domain, via Wikimedia Commons\n",
    "\n",
    "Heutzutage wird als Codierung typischerweise [Unicode](https://de.wikipedia.org/wiki/Unicode) verwendet, welcher den ASCII Standard als Untermenge beinhaltet und auch weitere nicht westliche Zeichensysteme unterstützt (und ebenso Emojis &#128512;, &#127757;).\n",
    "\n",
    "Python beinhaltet die Funktion `ord()`, um für ein **Zeichen** dessen ASCII Wert zurückzugeben:"
   ]
  },
  {
   "cell_type": "code",
   "execution_count": null,
   "id": "e5d1bfc9-ff6e-4018-8604-fc13134efb35",
   "metadata": {
    "tags": []
   },
   "outputs": [],
   "source": [
    "ord(\"Ä\")"
   ]
  },
  {
   "cell_type": "markdown",
   "id": "d1c1f060-e1ff-4dbb-8f42-6ddf80eaa5c3",
   "metadata": {},
   "source": [
    "Die erste Spalte der Tabelle umfasst sogennante **Steuerzeichen**, eines dieser Zeichen, das newline Zeichen `\\n` wurde im [vorherigen Notebook eingeführt](../02_28_25/Strings_Variablen.ipynb#Die-print-Funktion)."
   ]
  },
  {
   "cell_type": "markdown",
   "id": "c0016040-fae5-4937-a8a4-702509963827",
   "metadata": {
    "tags": []
   },
   "source": [
    "<div class=\"gk-exercise\">\n",
    "\n",
    "- Verwende die `ord()` Funktion um den ASCII-Wert von `\\n` zu bestimmen\n",
    "- Überprüfe den Wert mit Hilfe der obigen Tabelle \n",
    "    \n",
    "</div>"
   ]
  },
  {
   "cell_type": "code",
   "execution_count": null,
   "id": "a1d6758e-61ab-4477-b991-df3924c844c8",
   "metadata": {
    "deletable": false,
    "nbgrader": {
     "cell_type": "code",
     "checksum": "b0efe6d9f1f0b5184be4d1dcb34ba8b4",
     "grade": false,
     "grade_id": "cell-98aa935291ea5288",
     "locked": false,
     "schema_version": 3,
     "solution": true,
     "task": false
    },
    "tags": [
     "exercise"
    ]
   },
   "outputs": [],
   "source": [
    "# YOUR CODE HERE"
   ]
  },
  {
   "cell_type": "markdown",
   "id": "18ae1576-91cd-474e-82fc-85f96797296f",
   "metadata": {},
   "source": [
    "Weiter exisitiert die umgekehrte Funktion `chr()`, welche für eine gegebene Zahl das entsprechende ASCII Zeichen zurück gibt:"
   ]
  },
  {
   "cell_type": "code",
   "execution_count": null,
   "id": "d4d9ae3a-a322-4063-9681-5bbc67f8cb71",
   "metadata": {
    "tags": []
   },
   "outputs": [],
   "source": [
    "chr(555)"
   ]
  },
  {
   "cell_type": "markdown",
   "id": "07af310c-2d8a-4b0f-8b06-418d0057e26b",
   "metadata": {},
   "source": [
    "Bei Betrachtung der Tabelle wird ersichtlich, dass Gross- und Kleinbuchstaben jeweils genau 32 Zeichen Abstand haben, was natürlich mit Hilfe von Python verifiziert werden kann:"
   ]
  },
  {
   "cell_type": "code",
   "execution_count": null,
   "id": "7f765e7f-78ed-4e87-a199-8b309169afc6",
   "metadata": {
    "tags": []
   },
   "outputs": [],
   "source": [
    "ord(\"a\") - ord(\"A\")"
   ]
  },
  {
   "cell_type": "markdown",
   "id": "767e9f1c-f07b-4bdd-bd52-37a564727429",
   "metadata": {},
   "source": [
    "Gegeben ein String aus Kleinbuchstaben, lässt sich jedes Zeichen mittels folgender Kombination von `ord()` und `chr()` in den entsprechenden Grossbuchstaben übersetzen:"
   ]
  },
  {
   "cell_type": "code",
   "execution_count": null,
   "id": "cfd1398e-c8b2-426a-bbb6-7a0fd8eef770",
   "metadata": {
    "tags": []
   },
   "outputs": [],
   "source": [
    "text = \"hallo\"\n",
    "erster_buchstaben_klein = text[0]\n",
    "ascii_wert_klein = ord(erster_buchstaben_klein)\n",
    "ascii_wert_gross = ascii_wert_klein - 32\n",
    "erster_buchstaben_gross = chr(ascii_wert_gross)\n",
    "print(erster_buchstaben_gross)"
   ]
  },
  {
   "cell_type": "markdown",
   "id": "ba4a6beb-8014-42d5-b606-5752514fe7b7",
   "metadata": {},
   "source": [
    "Da die Zwischenwerte `erster_buchstabe_klein`, `ascii_wert_klein` usw. eigentlich nicht interessieren und den Code fehleranfällig und unübersichtlich machen, kann hier wiederum eine Funktionsverschachtelung der Vereinfachung dienen:"
   ]
  },
  {
   "cell_type": "code",
   "execution_count": null,
   "id": "e3fbbecb-2c01-4d68-bed1-6d533460919e",
   "metadata": {},
   "outputs": [],
   "source": [
    "print(chr(ord(text[0]) - 32))"
   ]
  },
  {
   "cell_type": "markdown",
   "id": "ac920f31-2a38-4572-b065-85165ea6fb6e",
   "metadata": {},
   "source": [
    "Um nun den ganzen String in Grossbuchstaben umzuwandeln kann folgender Quellcode genutzt werden (dabei wird `print()` die Anweisung `end=\"\"` übergeben, um keinen Abstand oder eine neue Zeile entstehen zu lassen):"
   ]
  },
  {
   "cell_type": "code",
   "execution_count": null,
   "id": "0141bc82-93d2-429f-b122-f45416e68166",
   "metadata": {
    "tags": []
   },
   "outputs": [],
   "source": [
    "print(chr(ord(text[0]) - 32), end=\"\")\n",
    "print(chr(ord(text[1]) - 32), end=\"\")\n",
    "print(chr(ord(text[2]) - 32), end=\"\")\n",
    "print(chr(ord(text[3]) - 32), end=\"\")\n",
    "print(chr(ord(text[4]) - 32), end=\"\")"
   ]
  },
  {
   "cell_type": "markdown",
   "id": "2f5dc572-dbac-43bb-b419-d79d96966d62",
   "metadata": {},
   "source": [
    "Dieser Ansatz ist nun aber trotz Funktionverschachtelung nicht nur fehleranfällig sondern immer noch aufwändig. Weil Programmiererinnen keine Lust auf Fehler und aufwändige Dinge haben - wir wiederholen uns), besteht auch für solche Wiederholungen eine Vereinfachung mit Hilfe von **Loops** resp. Schlaufen:"
   ]
  },
  {
   "cell_type": "markdown",
   "id": "8385acf0-8366-4b88-9147-64879b762fa4",
   "metadata": {},
   "source": [
    "## For Loop\n",
    "\n",
    "Im obigen Beispiel unterscheiden sich die einzelnen Zeilen nur gerade an einer einzigen Position, nämlich dem [Index](#String-Index), mit Hilfe dessen wir auf das einzelne Zeichen zugreifen wollen. Solche mehr oder weniger gleichen Zeilen lassen sich elegant mit Hilfe einer Iteration in Form eines **For Loops** abkürzen: "
   ]
  },
  {
   "cell_type": "code",
   "execution_count": null,
   "id": "21f38029-8f79-4682-beac-4343eda73441",
   "metadata": {
    "tags": []
   },
   "outputs": [],
   "source": [
    "text = \"Hallo Welt\"\n",
    "for buchstabe in text:\n",
    "    print(buchstabe)"
   ]
  },
  {
   "cell_type": "markdown",
   "id": "fc8c5c9f-b6cc-4042-85b1-19e7b18684c1",
   "metadata": {},
   "source": [
    "<div class=\"gk-exercise\">\n",
    "\n",
    "- Versuche in eigenen Worten zu beschreiben wie die Variablen `text` und `buchstabe` zusammenhängen.\n",
    "- Wieso erscheinen die Buchstaben untereinander?\n",
    "- Wie könntest du die Zelle anpassen damit die Zeichen nebeneinander erscheinen?\n",
    "    \n",
    "</div>"
   ]
  },
  {
   "cell_type": "code",
   "execution_count": null,
   "id": "4391998a-f580-4ba3-be2a-6f628119f5e0",
   "metadata": {
    "deletable": false,
    "editable": true,
    "nbgrader": {
     "cell_type": "code",
     "checksum": "c7ac8f7aa3723c0e170b8cf44ed9c4e7",
     "grade": false,
     "grade_id": "cell-368e72dd5be0c62f",
     "locked": false,
     "schema_version": 3,
     "solution": true,
     "task": false
    },
    "slideshow": {
     "slide_type": ""
    },
    "tags": [
     "exercise"
    ]
   },
   "outputs": [],
   "source": [
    "# YOUR CODE HERE"
   ]
  },
  {
   "cell_type": "markdown",
   "id": "4f6d2a7c-5d8c-4d81-9c43-d92a9fbb78b8",
   "metadata": {},
   "source": [
    "Die beiden grünen Begriffe `for` und `in` sind sogenannte [Keywords](../03_14_25/Keywords_Funktionen.ipynb#Keywords) und werden später genauer untersucht. Die Variable zwischen `for` und `in`, in diesem Fall `buchstabe`, wird **Laufvariable** genannt. In einem **For Loop** wird derselbe Codeblock, in diesem Fall \n",
    "\n",
    "```python\n",
    "    print(buchstabe)\n",
    "```\n",
    "\n",
    "für jeden Wert der **Sequenz**, in diesem Fall `text`, ausgeführt. Die einzelnen Durchläufe werden als **Iteration** bezeichnet. \n",
    "\n",
    "> Damit Python versteht welche Zeilen zum Codeblock des For Loops gehören werden diese Zeilen **eingerückt**, was mit Hilfe der Tabulator-Taste erreicht werden kann, resp. automatisch gemacht wird, wenn JupyterLab erkennt, dass eine Einrückung nötig ist. In anderen Programmiersprachen werden statt Einrückungen meist Klammern (bspw. `{}` verwendet).\n",
    "\n",
    "Ein häufiger Fehler ist, dass das `:` nach der Variable vergessen geht, sollte dies der Fall sein, wie in der folgenden Zelle, kommt es zu folgender Fehlermeldung:\n",
    "\n",
    "```python\n",
    "Cell In[21], line 1\n",
    "    for buchstabe in text\n",
    "                         ^\n",
    "SyntaxError: expected ':'\n",
    "```"
   ]
  },
  {
   "cell_type": "code",
   "execution_count": null,
   "id": "d4deefc3-eb5a-48fd-8f92-4b48c1c21b7a",
   "metadata": {
    "tags": [
     "raises-exception"
    ]
   },
   "outputs": [],
   "source": [
    "for buchstabe in text\n",
    "    print(buchstabe)"
   ]
  },
  {
   "cell_type": "markdown",
   "id": "2f8ad757-5a89-4e29-ab0c-b0f35af845bb",
   "metadata": {},
   "source": [
    "Python zeigt also mittels eines `^` Zeichens, wo ein `:` fehlt."
   ]
  },
  {
   "cell_type": "markdown",
   "id": "f7c9eb4a",
   "metadata": {
    "tags": []
   },
   "source": [
    "<div class=\"gk-exercise\">\n",
    "\n",
    "Verwende einen For Loop, damit folgender Code (siehe oben):\n",
    "\n",
    "```python\n",
    "\n",
    "text = input('Gib einen Text in Kleinbuchstaben ein:')\n",
    "print(chr(ord(text[0]) - 32), end=\"\")\n",
    "print(chr(ord(text[1]) - 32), end=\"\")\n",
    "print(chr(ord(text[2]) - 32), end=\"\")\n",
    "print(chr(ord(text[3]) - 32), end=\"\")\n",
    "print(chr(ord(text[4]) - 32), end=\"\")\n",
    "\n",
    "```\n",
    "<br/>\n",
    "für Strings mit beliebiger Länge funktioniert. \n",
    "    \n",
    "<details>\n",
    "<summary>Tipp:</summary>\n",
    "Beachte, dass im Gegensatz zum Beginn des Notebooks wo mittels eines Index auf die einzelnen Zeichen zugegriffen wurde, bei einem For Loop eine Laufvariable mit dem einzelnen Zeichen verwendet wird!\n",
    "</details>\n",
    "</div>\n",
    "\n",
    "</div>"
   ]
  },
  {
   "cell_type": "code",
   "execution_count": null,
   "id": "2e5f8ebb-5c1a-43bd-bcf7-700b8dd5634a",
   "metadata": {
    "deletable": false,
    "nbgrader": {
     "cell_type": "code",
     "checksum": "1f4db4bfc0cf0e2b32281f74ca08047b",
     "grade": false,
     "grade_id": "cell-d18dfb6bca72c928",
     "locked": false,
     "schema_version": 3,
     "solution": true,
     "task": false
    },
    "tags": [
     "exercise"
    ]
   },
   "outputs": [],
   "source": [
    "# YOUR CODE HERE"
   ]
  },
  {
   "cell_type": "markdown",
   "id": "33f47abd-f2a2-400e-863a-e357f840767b",
   "metadata": {},
   "source": [
    "Bei der Benennung der Laufvariable bestehen die [gleichen Anforderungen](../02_28_25/Strings_Variablen.ipynb#Benennung_von_Variablen) wie bei einer regulären Variable. Es ist wichtig zu realisieren, dass die **Laufvariable** aber eben eine **Variable** ist und somit **selbst benannt** werden muss. Eine häufige Kombo ist, dass Laufvariable und Sequenz vom Namen her irgendwie zusammengehören und die Laufvariable dann in der Einzahl steht, weil sie ja nur das aktuelle Element enthält und nicht die Gesamtheit wie es in der Sequenz der Fall ist:\n",
    "\n",
    "- `for buchstabe in text:`\n",
    "- `for person in group:`\n",
    "- `for buchstabe in buchstaben:`\n",
    "- ..."
   ]
  },
  {
   "cell_type": "markdown",
   "id": "578547d3-8ac7-484f-878f-346c43264723",
   "metadata": {
    "tags": []
   },
   "source": [
    "# Schlussaufgabe"
   ]
  },
  {
   "cell_type": "markdown",
   "id": "12e4be09-6eac-4c01-adff-e5a142b505fd",
   "metadata": {
    "tags": []
   },
   "source": [
    "<div class=\"gk-exercise\">\n",
    "\n",
    "Zu Beginn des Notebooks haben wir die `len()` Funktion kennengelernt. Nun soll mittels des `for` Loops diese \"nachprogrammiert\" werden.\n",
    "\n",
    "- Definiere eine Variable `länge`\n",
    "- Iteriere durch einen String (kann via `input()` oder als Variable gegeben sein)\n",
    "- Addiere pro Iteration `1` zur Variable `länge` hinzu\n",
    "- Gib am Schluss den Wert der Variable `länge` mittels `print()` aus\n",
    "\n",
    "<details>\n",
    "    <summary>Tipp:</summary>\n",
    "    Mittels <code>i = i + 1</code> kannst du den Wert der Variable <code>i</code> um eins erhöhen.\n",
    "</details>\n",
    "\n",
    "</div>"
   ]
  },
  {
   "cell_type": "code",
   "execution_count": null,
   "id": "b5559500-c68a-4b95-853d-583885e46876",
   "metadata": {
    "deletable": false,
    "nbgrader": {
     "cell_type": "code",
     "checksum": "382b7cd80ff1bdf73b7fbed7dc7ef9db",
     "grade": false,
     "grade_id": "cell-a90b89333616e66b",
     "locked": false,
     "schema_version": 3,
     "solution": true,
     "task": false
    },
    "tags": [
     "exercise"
    ]
   },
   "outputs": [],
   "source": [
    "# YOUR CODE HERE"
   ]
  },
  {
   "cell_type": "markdown",
   "id": "04e6d893-da20-4a50-a610-ce0c91f622f8",
   "metadata": {},
   "source": [
    "# Zusammenfassung\n",
    "\n",
    "In dieser Lektion wurden Strings als Kette von Zeichen mit einem jeweiligen Index innerhalb des gesamten Strings betrachtet. Es wurde aufgezeigt, dass `\"1\"` nicht gleich `1` ist und dass es dementsprechend verschiedene Datentypen gibt, die Python automatisch zuweist, die aber auch ineinander umgewandelt werden können. Weiter wurde das sehr entscheidende Konzept der Iteration eingeführt und aufgezeigt, dass mit Hilfe eines For Loops Wiederholungen ohne mehrfaches Schreiben von praktisch identischen Code Zeilen realisiert werden können."
   ]
  },
  {
   "cell_type": "markdown",
   "id": "18e2ed12-afb8-4a9a-8c92-28b7893cb65b",
   "metadata": {},
   "source": [
    "# Impressum\n",
    "\n",
    "<a rel=\"license\" href=\"http://creativecommons.org/licenses/by-sa/4.0/\"><img alt=\"Creative Commons Lizenzvertrag\" style=\"border-width:0\" src=\"https://mirrors.creativecommons.org/presskit/buttons/88x31/svg/by-sa.svg\" /></a><br />Dieses Werk ist lizenziert unter einer <a rel=\"license\" href=\"http://creativecommons.org/licenses/by-sa/4.0/\">Creative Commons Namensnennung - Weitergabe unter gleichen Bedingungen 4.0 International Lizenz</a>.\n",
    "\n",
    "Autoren: [Jakob Schärer](mailto:jakob.schaerer@unibe.ch), [Lionel Stürmer](mailto:lionel.stuermer@bfh.ch) <br>\n",
    "Ursprünglicher Text von: Noe Thalheim, Benedikt Hitz-Gamper\n",
    "\n",
    "\n",
    "```\n",
    "Hardware (noun.)\n",
    "The part of a computer you can kick.\n",
    "```"
   ]
  }
 ],
 "metadata": {
  "kernelspec": {
   "display_name": "GraphVis--oE0K6n0",
   "language": "python",
   "name": "python3"
  },
  "language_info": {
   "codemirror_mode": {
    "name": "ipython",
    "version": 3
   },
   "file_extension": ".py",
   "mimetype": "text/x-python",
   "name": "python",
   "nbconvert_exporter": "python",
   "pygments_lexer": "ipython3",
   "version": "3.12.3"
  }
 },
 "nbformat": 4,
 "nbformat_minor": 5
}
