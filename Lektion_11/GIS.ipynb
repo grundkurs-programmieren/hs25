{
  "cells": [
    {
      "cell_type": "markdown",
      "metadata": {},
      "source": [
        "\n",
        "\n",
        "<img src=\"https://i.imgur.com/XSzy00d.png\" style=\"float:right;width:150px\">\n",
        "\n",
        "**Geoinformationssystem und Python**\n",
        "\n",
        "# Einleitung\n",
        "\n",
        "## Lernziele\n",
        "\n",
        "- Sie wissen, was **georeferenzierte Daten** sind und was ein **GIS** ist\n",
        "- Sie kennen das Datenformat **GeoJSON**\n",
        "- Sie können mittels `folium` Daten auf einer **Karte visualisieren**\n",
        "- Sie kennen **`geopandas`** um GeoJSON Dateien weiterzuverarbeiten\n"
      ]
    },
    {
      "cell_type": "markdown",
      "metadata": {},
      "source": [
        "# Georeferenzierte Daten\n",
        "\n",
        "Ein wichtiger Subtyp von Daten sind die **georeferenzierten Daten**. Solche Daten haben einen Bezug zu einem geografischen Ort, der meist über ein Koordinatenpaar (Längen- und Breitengrad) angegeben wird. Viele Daten, wie Temperatur, Niederschalg, Fahrplan etc., die im täglichen Leben verwendet werden haben einen geografischen Bezug. \n",
        "\n",
        "Systeme, die mit georeferenzierten Daten arbeiten, werden als **GIS** (Geografische Informationssysteme) bezeichnet. Sie ermöglichen es uns, komplexe räumliche Zusammenhänge zu verstehen und datengetriebene Entscheidungen zu treffen.\n"
      ]
    },
    {
      "cell_type": "markdown",
      "metadata": {},
      "source": [
        "## GeoJSON\n",
        "\n",
        "Um geografische Daten effizient zu verarbeiten, verwenden wir GeoJSON. GeoJSON ist ein offenes Format zur Darstellung von georeferenzierten Daten mit Hilfe der JavaScript Object Notation (JSON). \n",
        "\n",
        "> Mehr Informationen zu GeoJSON gibt es auf der [Wikipedia Seite](https://de.wikipedia.org/wiki/GeoJSON)."
      ]
    },
    {
      "cell_type": "markdown",
      "metadata": {},
      "source": [
        "In Python können wir die Struktur von **GeoJSON** ganz einfach mit Dictionaries abbilden. Das einfachste GeoJSON-Objekt ist ein Punkt auf der Karte. Um dieses Objekt zu initialisieren, werden die Schlüssel `type` und `coordinates` benötigt.\n",
        "\n",
        "Nachfolgend ein Beispiel eines GeoJSON-Objekts vom Typ **Point** mit den Koordinaten des Hauptgebäudes der Universität Bern:\n"
      ]
    },
    {
      "cell_type": "code",
      "execution_count": null,
      "metadata": {},
      "outputs": [],
      "source": [
        "point = {\n",
        "    \"coordinates\": [\n",
        "      7.438155593945083, # longitude\n",
        "      46.95041833701566  # latitude\n",
        "    ],\n",
        "    \"type\": \"Point\"\n",
        "}"
      ]
    },
    {
      "cell_type": "markdown",
      "metadata": {},
      "source": [
        "Hier übergeben wir also ein Dictionary, welches zwei Keys, `coordinates` und `type` enthält. `coordinates` ist wiederum eine Liste welche zwei Floats enthält welche die [**longitude**](https://de.wikipedia.org/wiki/Geographische_Länge) resp. [**latitude**](https://de.wikipedia.org/wiki/Geographische_Breite) des Punktes repräsentieren. "
      ]
    },
    {
      "cell_type": "markdown",
      "metadata": {},
      "source": [
        "<div class=\"gk-exercise\">\n",
        "\n",
        "- Öffne den folgenden [Link](https://geojson.io) in einem neuen Fenster/Tab\n",
        "- Suche nach **deiner** Adresse und füge ein Marker hinzu\n",
        "- kopiere das resultierende GeoJSON Dictionary in die folgende Codezelle und speichere es in der variable my_home\n",
        "\n",
        "<details>\n",
        "    <img src=\"https://i.imgur.com/x5zCVzA.gif\">\n",
        "</details>\n",
        "    \n",
        "</div>"
      ]
    },
    {
      "cell_type": "code",
      "execution_count": null,
      "metadata": {},
      "outputs": [],
      "source": [
        "# YOUR CODE HERE"
      ]
    },
    {
      "cell_type": "markdown",
      "metadata": {},
      "source": [
        "# Folium\n",
        "\n",
        "Während das **GeoJSON-Format** beschreibt, wie unterschiedliche Geometrien mit geografischem Bezug in strukturierter Form gespeichert werden können, stellt es selbst noch keine Karte dar. Um diese Geometrien visuell auf einer Karte anzuzeigen, benötigen wir eine zusätzliche Bibliothek.  \n",
        "\n",
        "In Python bietet sich dafür die Library **Folium** an. Sie ermöglicht es, GeoJSON-Daten einfach in interaktive Karten zu integrieren und darzustellen.\n",
        "\n",
        "> `folium` builds on the data wrangling strengths of the Python ecosystem and the mapping strengths of the leaflet.js library. Manipulate your data in Python, then visualize it in on a Leaflet map via folium.\n",
        "> \n",
        "> Weitere Infromationen zu `folium` auf der [Projekt Seite](https://python-visualization.github.io/folium/index.html)\n",
        "\n",
        "Wir werden nun das Modul `folium` kennenlernen, welches uns Methoden und Funktionen, d.h. eine API, bereitstellt um mit einer Karte zu interagieren. "
      ]
    },
    {
      "cell_type": "code",
      "execution_count": null,
      "metadata": {},
      "outputs": [],
      "source": [
        "import folium\n",
        "lat = 46.95\n",
        "lon = 7.438\n",
        "folium.Map(location=[lat, lon], zoom_start=17.0)"
      ]
    },
    {
      "cell_type": "markdown",
      "metadata": {},
      "source": [
        "Die Funktion `Map` liefert ein `Map` Objekt zurück. Da es sich um den letzten Ausdruck der Zelle handelt wird diese direkt angezeigt. Wir möchten jedoch mit dem `Map` Objekt weiterarbeiten, deshalb weisen wir das Objekt der Variable `m` zu:"
      ]
    },
    {
      "cell_type": "code",
      "execution_count": null,
      "metadata": {},
      "outputs": [],
      "source": [
        "m = folium.Map(location=[lat, lon], zoom_start=12.0)"
      ]
    },
    {
      "cell_type": "markdown",
      "metadata": {},
      "source": [
        "Da der letzte Ausdruck nun eine Zuweisung ist, erfolgt keine direkte Ausgabe.  \n",
        "\n",
        "> Das Rendern der Karte ist ein ressourcenintensiver Prozess. Deshalb arbeiten wir mit dem Objekt `m` und zeigen es erst am Ende explizit an.  \n",
        "\n",
        "Um uns mit **Folium** vertraut zu machen, fügen wir den zuvor definierten Punkt `my_home` zur Karte hinzu."
      ]
    },
    {
      "cell_type": "code",
      "execution_count": null,
      "metadata": {},
      "outputs": [],
      "source": [
        "folium.GeoJson(my_home).add_to(m) \n",
        "m"
      ]
    },
    {
      "cell_type": "markdown",
      "metadata": {},
      "source": [
        "Um neben der Position auch zusätzliche Informationen darzustellen, können beim Marker **Tooltips** eingesetzt werden. Diese werden sichtbar, sobald der Mauszeiger über den Marker bewegt wird.  \n",
        "\n",
        "Die Inhalte der Tooltips lassen sich zudem mit **HTML-Tags** formatieren. So können beispielsweise Name, Temperatur oder Luftfeuchtigkeit übersichtlich und ansprechend angezeigt werden.\n"
      ]
    },
    {
      "cell_type": "code",
      "execution_count": null,
      "metadata": {},
      "outputs": [],
      "source": [
        "folium.GeoJson(point, \n",
        "    tooltip=\"Grundkurs Programmieren<br />Universität Bern\",\n",
        "    ).add_to(m)\n",
        "m"
      ]
    },
    {
      "cell_type": "markdown",
      "metadata": {},
      "source": [
        "Der Ausdruck `m` am Ende der Zelle führt erneut zur Ausgabe der Karte. Da beide Marker demselben Kartenobjekt hinzugefügt wurden, erscheinen sie gemeinsam auf der Karte."
      ]
    },
    {
      "cell_type": "markdown",
      "metadata": {},
      "source": [
        "# Suchfunktion\n",
        "\n",
        "In vielen Fällen sind nur Adressen, aber keine Koordinaten bekannt. Um die passenden Koordinaten zu einer Adresse zu finden, implementieren wir als Nächstes eine eigene Suchfunktion.\n",
        "\n",
        "Dabei kommen folgende Konzepte zum Einsatz:\n",
        "- Zugriff auf eine **Web-API**\n",
        "- Arbeiten mit einem **Dictionary**\n",
        "- Definieren von **Funktionen**\n",
        "\n",
        "Um die Aufgabe zu vereinfachen, beschränken wir uns auf die Schweiz. Das [Bundesamt für Landestopografie (swisstopo)](https://www.swisstopo.admin.ch/de/home.html) stellt uns dafür eine passende API zur Verfügung:\n",
        "\n",
        "> https://api3.geo.admin.ch/services/sdiservices.html#search\n",
        "\n",
        "Konkret nutzen wir die [Location Search API](https://api3.geo.admin.ch/services/sdiservices.html#id25). Gemäss Dokumentation müssen bei jeder Anfrage bestimmte Parameter übergeben werden.\n",
        "\n",
        "Dafür definieren wir eine Variable `API`:"
      ]
    },
    {
      "cell_type": "code",
      "execution_count": null,
      "metadata": {},
      "outputs": [],
      "source": [
        "API = \"https://api3.geo.admin.ch/rest/services/api/SearchServer?type=locations&origins=address,parcel&searchText=\" "
      ]
    },
    {
      "cell_type": "markdown",
      "metadata": {},
      "source": [
        "> Wir schreiben `API` gross um zu zeigen, dass es sich hier um eine [Konstante](https://realpython.com/python-constants/#user-defined-constants) handelt. Also eine Variable welche ihren Wert zur Laufzeit unseres Programms nicht ändert. "
      ]
    },
    {
      "cell_type": "markdown",
      "metadata": {},
      "source": [
        "<details>\n",
        "  Alles was bei einer URL nach einem <code>?</code> geschrieben wird, wird als <a href=\"https://wiki.selfhtml.org/wiki/URL-Parameter\">Get-Parameter</a> bezeichnet. In unserem Fall sind das die Parameter:\n",
        "  <ul>\n",
        "    <li><code>type</code> mit dem Wert: <code>locations</code></li>\n",
        "    <li><code>origins</code> mit dem Wert: <code>address,parcel</code></li>\n",
        "    <li><code>searchText</code></li>\n",
        "  </ul>\n",
        "  die einzelnen Parameter werden mittels <code>&</code> separiert. \n",
        "</details>"
      ]
    },
    {
      "cell_type": "markdown",
      "metadata": {},
      "source": [
        "Um schliesslich unseren Request `url` zu erhalten fügen wir eine entsprechende Adresse hinzu:"
      ]
    },
    {
      "cell_type": "code",
      "execution_count": null,
      "metadata": {},
      "outputs": [],
      "source": [
        "url = API + \"Hochschulstrasse 4\""
      ]
    },
    {
      "cell_type": "markdown",
      "metadata": {},
      "source": [
        "> d.h. wir setzten den Wert für den `searchText` Get-Parameter, siehe Details.\n",
        "\n",
        "und können dann wie gewohnt mittels dem `requests` Modul eine Anfrage starten:"
      ]
    },
    {
      "cell_type": "code",
      "execution_count": null,
      "metadata": {},
      "outputs": [],
      "source": [
        "import requests\n",
        "response = requests.get(url).json()"
      ]
    },
    {
      "cell_type": "markdown",
      "metadata": {},
      "source": [
        "gemäss der [Dokumentation](https://api3.geo.admin.ch/services/sdiservices.html#id26) erhalten wir ein JSON Objekt zurück. Deshalb können wir direkt mit der `json` Methode die Antwort zu einem JSON konvertieren"
      ]
    },
    {
      "cell_type": "code",
      "execution_count": null,
      "metadata": {},
      "outputs": [],
      "source": [
        "response"
      ]
    },
    {
      "cell_type": "markdown",
      "metadata": {},
      "source": [
        "Die Antwort der API besitzt genau die Struktur, wie sie in der Dokumentation beschrieben wird. Allerdings liegen die Daten nicht im **GeoJSON-Format** vor und müssen daher noch in das entsprechende Format umgewandelt werden."
      ]
    },
    {
      "cell_type": "markdown",
      "metadata": {},
      "source": [
        "<div class=\"gk-exercise\"> \n",
        "\n",
        "Orte/Punkte auf einer Landkarte werden mit zwei Koordinaten angegeben. Im JSON, das wir von unserem Request zurückerhalten, sind diese ziemlich verschachtelt angegeben. Diese Koordinaten (`lon` und `lat`) sollen aus dem JSON extrahiert werden, um anschliessend an unsere Funktion `GeoJSON` übergeben werden zu können.\n",
        "\n",
        "Schreibe den Code um auf die entsprechenden Werte zuzugreifen:\n",
        "\n",
        "<details>\n",
        "    <summary>Tipps</summary>\n",
        "    Versuche Schrittweise vorzugehen. <code>lon</code> und <code>lat</code> sind Schlüssel des Dictionary <code>attrs</code>, was wiederum ...\n",
        "    <details>\n",
        "    ... Element jedes Listenelements des <code>results</code> Schlüssel ist.\n",
        "    </details>\n",
        "</details>\n",
        "\n",
        "</div>"
      ]
    },
    {
      "cell_type": "code",
      "execution_count": null,
      "metadata": {},
      "outputs": [],
      "source": [
        "# YOUR CODE HERE\n",
        "\n",
        "m = folium.Map(location=[lat, lon], zoom_start=12.0)\n",
        "folium.GeoJson(\n",
        "  {\n",
        "    \"type\": \"FeatureCollection\",\n",
        "    \"features\": [\n",
        "      {\n",
        "        \"type\": \"Feature\",\n",
        "        \"properties\": {},\n",
        "        \"geometry\": {\n",
        "          \"coordinates\": [\n",
        "            lon,\n",
        "            lat\n",
        "          ],\n",
        "          \"type\": \"Point\"\n",
        "        }\n",
        "      }\n",
        "    ]\n",
        "  }).add_to(m)\n",
        "m"
      ]
    },
    {
      "cell_type": "markdown",
      "metadata": {},
      "source": [
        "<div class=\"gk-exercise\"> \n",
        "\n",
        "Nun können wir das zu einer Funktion zusammenfassen:\n",
        "\n",
        "<div>"
      ]
    },
    {
      "cell_type": "code",
      "execution_count": null,
      "metadata": {},
      "outputs": [],
      "source": [
        "def location_search(search_text):\n",
        "    # replace ist notwenig, untersuche wie sich die Resultate verändern\n",
        "    # wenn auf replace verzichtet wird. \n",
        "    url = API + search_text.replace(\" \", \",\")\n",
        "    response = requests.get(url).json()\n",
        "    \n",
        "    # YOUR CODE HERE\n",
        "\n",
        "    return lat, lon"
      ]
    },
    {
      "cell_type": "markdown",
      "metadata": {},
      "source": [
        "<div class=\"gk-exercise\">\n",
        "\n",
        "Verwende die Funktion `input`, um eine **Adresssuche** zu implementieren und die Suchergebnisse auf einer Karte darzustellen. Im Tooltip des Markers soll der **Suchbegriff** angezeigt werden.\n",
        "    \n",
        "</div>"
      ]
    },
    {
      "cell_type": "code",
      "execution_count": null,
      "metadata": {},
      "outputs": [],
      "source": [
        "# YOUR CODE HERE"
      ]
    },
    {
      "cell_type": "markdown",
      "metadata": {},
      "source": [
        "# Hitzeinsel-Monitoring\n",
        "\n",
        "<img src=\"https://i.imgur.com/RiMPXp5.png\" style=\"float:right;width:150px;margin:20px;\">\n",
        "\n",
        "Bis jetzt haben wir in dieser Lektion gelernt, wie Punkte auf einer Karte dargestellt werden können und wie nach Koordinaten gesucht wird. Nun betrachten wir anhand eines konkreten Beispiels, wie Daten mit geografischem Bezug verarbeitet werden können.\n",
        "\n",
        "Temperaturmessungen gehören zu den am häufigsten verwendeten Geodaten. In dieser und der nächsten Lektion nutzen wir Temperatur- und Luftfeuchtigkeitsdaten aus einem **Hitzeinsel-Monitoring**, das von der **Stadtklimagruppe des Geographischen Instituts der Universität Bern (GIUB)** betrieben wird.\n",
        "\n",
        "Mehr Informationen: [Stadtklima Bern – GIUB](https://www.geography.unibe.ch/forschung/gruppe_fuer_klimatologie/forschungsprojekte/stadtklima_bern/index_ger.html)\n",
        "\n",
        "Die Sensordaten werden über die [Smart Urban Heat Map](https://smart-urban-heat-map.ch) als **Open Data API** zur Verfügung gestellt. \n",
        "\n",
        "Die API bietet zwei Endpoints:\n",
        "\n",
        "- **Latest Data**: `https://smart-urban-heat-map.ch/api/v2/latest`\n",
        "Liefert eine Liste aller Sensoren mit den aktuellsten Messwerten (Lektion 11).\n",
        "\n",
        "- **Time Series**: `https://smart-urban-heat-map.ch/api/v2/timeseries?stationId=STATION_ID&date_from=...&date_to=...` \n",
        "Liefert für einen spezifischen Sensor die Messwerte in einem definierten Zeitraum (Lektion 12).\n",
        "\n",
        "\n"
      ]
    },
    {
      "cell_type": "markdown",
      "metadata": {},
      "source": [
        "Im ersten Schritt untersuchen wir, welche Daten der *Latest*-Endpunkt liefert. Dazu rufen wir den Endpunkt mittels `requests.get(...)` auf und geben das Resultat mit `display` aus.\n"
      ]
    },
    {
      "cell_type": "code",
      "execution_count": null,
      "metadata": {},
      "outputs": [],
      "source": [
        "import requests\n",
        "import json\n",
        "\n",
        "response = requests.get(\"https://smart-urban-heat-map.ch/api/v2/latest\")\n",
        "data = response.json()\n",
        "\n",
        "display(data)\n"
      ]
    },
    {
      "cell_type": "markdown",
      "metadata": {},
      "source": [
        "Das Resultat ist eine **FeatureCollection** im **GeoJSON-Format**. Das JSON enthält die Liste `features`. Jedes `feature` repräsentiert einen Sensor des Messnetzes mit den zuletzt gemessenen Messwerten. \n",
        "\n",
        "Neu finden wir in diesen Daten den Schlüssel `properties`. Im GeoJSON-Format sind **properties** Eigenschaften, die beliebig erweitert werden können. Jede Eigenschaft besteht aus einem Namen und dem zugehörigen Wert.\n"
      ]
    },
    {
      "cell_type": "markdown",
      "metadata": {},
      "source": [
        "<div class=\"gk-exercise\">\n",
        "\n",
        "Selektiere den **ersten Sensor** und gib mit `print` die **Eigenschaften** sowie die **Koordinaten** formatiert aus. \n",
        " \n",
        "</div>"
      ]
    },
    {
      "cell_type": "code",
      "execution_count": null,
      "metadata": {},
      "outputs": [],
      "source": [
        "# YOUR CODE "
      ]
    },
    {
      "cell_type": "markdown",
      "metadata": {},
      "source": [
        "Da die Daten bereits im **GeoJSON-Format** zurückgegeben werden, können wir die Standorte der Sensoren direkt auf der Karte einblenden."
      ]
    },
    {
      "cell_type": "code",
      "execution_count": null,
      "metadata": {},
      "outputs": [],
      "source": [
        "import folium\n",
        "\n",
        "m = folium.Map([46.95, 7.438], zoom_start=12)\n",
        "folium.GeoJson(data).add_to(m)\n",
        "\n",
        "m"
      ]
    },
    {
      "cell_type": "markdown",
      "metadata": {},
      "source": [
        "<div class=\"gk-exercise\">\n",
        "\n",
        "Nur mit den Punkten ist die Karte noch wenig informativ. Erweitere die Karte, indem du im Tooltip der Standorte folgende Informationen anzeigst:\n",
        "\n",
        "- `name`\n",
        "- `dateObserved`\n",
        "- `temperature`\n",
        "- `relativeHumidity`\n",
        "\n",
        "<details>\n",
        "  <summary>Tipps</summary>\n",
        "  Erstelle eine Schleife («for»-Loop) über alle Features in <b>data['features']</b> und füge die Marker einzeln der Karte hinzu.\n",
        "</details>\n",
        "\n",
        "\n",
        "</div>"
      ]
    },
    {
      "cell_type": "code",
      "execution_count": null,
      "metadata": {},
      "outputs": [],
      "source": [
        "# YOUR CODE HERE"
      ]
    },
    {
      "cell_type": "markdown",
      "metadata": {},
      "source": [
        "# GeoPandas\n",
        "\n",
        "In der [Lektion 10](Lektion_10/NumPy_Pandas.ipynb#Pandas) haben wir bereits **Pandas** kennengelernt. In diesem Abschnitt lernen wir **GeoPandas** kennen, eine Erweiterung von Pandas für **GeoJSON**-Daten.  \n",
        "\n",
        "> GeoPandas ist ein Open-Source-Projekt, das die Arbeit mit geospatialen Daten in Python vereinfacht.  \n",
        "> GeoPandas erweitert die Datentypen von Pandas, sodass auch **räumliche Operationen** auf geometrischen Typen möglich sind.  \n",
        "> Weitere Informationen zu `GeoPandas` findest du auf der [Projektseite](https://geopandas.org/en/stable/).\n",
        "\n",
        "GeoPandas erlaubt es uns also, unser Wissen aus Pandas direkt auf **GeoJSON-Dateien** anzuwenden.  \n",
        "Als Erstes erstellen wir ein **GeoDataFrame**. Dies können wir direkt aus den `features` des *Latest*-Endpoints machen.\n"
      ]
    },
    {
      "cell_type": "code",
      "execution_count": null,
      "metadata": {},
      "outputs": [],
      "source": [
        "import geopandas as gpd\n",
        "\n",
        "gdf = gpd.GeoDataFrame.from_features(data[\"features\"])"
      ]
    },
    {
      "cell_type": "markdown",
      "metadata": {},
      "source": [
        "Wie gewohnt können wir uns mittels der Methode head einen ersten Überblick verschaffen."
      ]
    },
    {
      "cell_type": "code",
      "execution_count": null,
      "metadata": {},
      "outputs": [],
      "source": [
        "gdf.head()"
      ]
    },
    {
      "cell_type": "markdown",
      "metadata": {},
      "source": [
        "<div class=\"gk-exercise\">\n",
        "\n",
        "Unter den Spalten befinden sich die Spalten `outdated` und `measurementsPlausible`. Die Spalte `outdated` gibt als Boolean an, ob der Messwert **veraltet** ist, und `measurementsPlausible` zeigt an, ob der Messwert **plausibel** ist.\n",
        "\n",
        "Verwende diese beiden Eigenschaften, um alle **aktuellen** und **plausiblen** Daten in einem neuen Dataframe `recent_data` zu speichern.\n",
        "\n",
        "</div>"
      ]
    },
    {
      "cell_type": "code",
      "execution_count": null,
      "metadata": {},
      "outputs": [],
      "source": [
        "# YOUR CODE HERE"
      ]
    },
    {
      "cell_type": "markdown",
      "metadata": {},
      "source": [
        "# Schlussaufgabe"
      ]
    },
    {
      "cell_type": "markdown",
      "metadata": {},
      "source": [
        "<div class=\"gk-exercise\">\n",
        "\n",
        "Analysiere die gefilterten Daten (`recent_data`) und beantworte die folgenden Fragen mittels formatierten `print`-Statements:\n",
        "\n",
        "1. Wie viele Messstationen gibt es insgesamt?  \n",
        "2. Welche ist die **höchste**, **niedrigste** und **mittlere** Temperatur?  \n",
        "3. Welche ist die **höchste**, **niedrigste** und **mittlere** Luftfeuchtigkeit?  \n",
        "4. Selektiere den Sensor mit der höchsten Temperatur und gib diesen mittels **Folium** auf einer Karte aus.\n",
        "\n",
        "<details>\n",
        "    <summary>Tipps</summary>\n",
        "    Verwende <b>df[\"spalte\"].max()</b> um den maximalen Wert einer Spalte zu ermitteln.  \n",
        "    <details>\n",
        "        <summary>Tipp</summary>\n",
        "        Filtere alle Sensoren, die die maximale Temperatur haben, um den Sensor mit der höchsten Temperatur zu selektieren. \n",
        "    </details>\n",
        "    <details>\n",
        "        <summary>Tipp</summary>\n",
        "        Verwende <b>df.to_json()</b>, um GeoPandas-Daten wieder in ein GeoJSON umzuwandeln und in der Karte einzufügen. \n",
        "    </details>\n",
        "</details>\n",
        "\n",
        "</div>\n"
      ]
    },
    {
      "cell_type": "code",
      "execution_count": null,
      "metadata": {},
      "outputs": [],
      "source": [
        "# YOUR CODE HERE"
      ]
    },
    {
      "cell_type": "markdown",
      "metadata": {},
      "source": [
        "# Zusammenfassung\n",
        "\n",
        "In diesem Notebook wurde gezeigt, wie **georeferenzierte Daten** mit Koordinatenpaaren geografische Orte beschreiben und wie diese strukturiert im **GeoJSON-Format** gespeichert werden können.  \n",
        "\n",
        "Die Bibliothek **Folium** wurde vorgestellt, um interaktive Karten zu erstellen und GeoJSON-Daten zu visualisieren. Ausserdem wurde gezeigt, wie Adressen mithilfe der **Swisstopo API** in Koordinaten umgewandelt werden können.  \n",
        "\n",
        "Schliesslich wurde **GeoPandas** eingeführt, welches Pandas um geografische Funktionen erweitert und die Analyse räumlicher Daten ermöglicht.  \n",
        "Am praktischen Beispiel des **Hitzeinsel-Monitorings** wurde demonstriert, wie echte Sensordaten von einer API abgerufen, verarbeitet und auf einer interaktiven Karte dargestellt werden können.\n",
        "\n"
      ]
    },
    {
      "cell_type": "markdown",
      "metadata": {},
      "source": [
        "# Impressum\n",
        "\n",
        "<a rel=\"license\" href=\"http://creativecommons.org/licenses/by-sa/4.0/\"><img alt=\"Creative Commons Lizenzvertrag\" style=\"border-width:0\" src=\"https://mirrors.creativecommons.org/presskit/buttons/88x31/svg/by-sa.svg\" /></a><br />Dieses Werk ist lizenziert unter einer <a rel=\"license\" href=\"http://creativecommons.org/licenses/by-sa/4.0/\">Creative Commons Namensnennung - Weitergabe unter gleichen Bedingungen 4.0 International Lizenz</a>.\n",
        "\n",
        "Autoren: [Jakob Schärer](mailto:jakob.schaerer@unibe.ch), [Lionel Stürmer](mailto:lionel.stuermer@bfh.ch) <br>\n",
        "Ursprünglicher Text von: Noe Thalheim, Benedikt Hitz-Gamper\n",
        "\n",
        "\n",
        "## Credits\n",
        "\n",
        "- https://rsandstroem.github.io/tag/folium.html\n",
        "- https://python-visualization.github.io/folium/quickstart.html\n",
        "- https://smart-urban-heat-map.ch\n",
        "\n",
        "\n",
        "```\n",
        "Why do programmers prefer dark mode?\n",
        "Because light attracts bugs.\n",
        "```"
      ]
    }
  ],
  "metadata": {
    "kernelspec": {
      "display_name": "gp",
      "language": "python",
      "name": "python3"
    },
    "language_info": {
      "codemirror_mode": {
        "name": "ipython",
        "version": 3
      },
      "file_extension": ".py",
      "mimetype": "text/x-python",
      "name": "python",
      "nbconvert_exporter": "python",
      "pygments_lexer": "ipython3",
      "version": "3.12.11"
    }
  },
  "nbformat": 4,
  "nbformat_minor": 2
}
