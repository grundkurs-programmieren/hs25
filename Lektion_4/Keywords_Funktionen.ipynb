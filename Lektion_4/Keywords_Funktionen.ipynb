{
 "cells": [
  {
   "cell_type": "markdown",
   "id": "741eff7e-6380-49e1-8da0-37dff83452bc",
   "metadata": {
    "editable": true,
    "slideshow": {
     "slide_type": ""
    },
    "tags": []
   },
   "source": [
    "<img src=\"https://i.imgur.com/XSzy00d.png\" style=\"float:right;width:150px\">\n",
    "\n",
    "**Keywords und Funktionen**\n",
    "\n",
    "# Einleitung\n",
    "\n",
    "## Lernziele\n",
    "\n",
    "* Sie verstehen, was ein **Keyword** ist\n",
    "* Sie können `try` und `except` verwenden, um Fehler abzufangen\n",
    "* Sie verstehen, was eine **Funktion** ist und wieso diese nützlich sind\n",
    "* Sie kennen die `range()` Funktion\n",
    "* Sie können Funktionen selber **definieren** und **aufrufen**\n",
    "* Sie können **Built in Funktionen** aufrufen\n",
    "* Sie verstehen, was ein **Parameter** einer Funktion ist\n",
    "* Sie verstehen das Konzept des **Scopes** in seinen Grundzügen"
   ]
  },
  {
   "cell_type": "markdown",
   "id": "68aa7df2-75f6-4512-b16b-3dc2833785c9",
   "metadata": {},
   "source": [
    "# Keywords\n",
    "\n",
    "Beim Lernen einer neuen Sprache, sei es bspw. *Englisch* oder eben eine neue Programmiersprache wie *Python*, stellt sich irgendwann die Frage nach dem Umfang des Vokabulars der jeweiligen Sprache. Wie viele Wörter bspw. Englisch hat, ist nicht genau bekannt, es gibt aber eine interessante [Website in der Wikipedia](https://en.wikipedia.org/wiki/List_of_dictionaries_by_number_of_words), die die Anzahl Wörter für  online Wörterbücher verschiedener Sprachen auflistet. Dabei zeigt sich, dass es sich um Grössenordnungen von 100'000 bis 1'000'000 Wörter handelt.\n",
    "\n",
    "Ganz anders ist die Ausgangslage beim Programmieren. Python beispielsweise kennt nur gerade **35** Wörter (das hängt noch von der Python Version ab, die 35 gelten auf jeden Fall für Python 3.8). Weil diese so speziell sind, werden sie auch als **Keywords** bezeichnet. Das klingt zuerst einmal nach einer guten Nachricht. Es muss also beim Programmieren kein riesiges Vokabular erlernt werden."
   ]
  },
  {
   "cell_type": "markdown",
   "id": "379e1be5-8710-497c-88c5-532b0194f1e8",
   "metadata": {},
   "source": [
    "## Keyword Übersicht\n",
    "\n",
    "Nachfolgende Tabelle gibt die Übersicht über die Keywords, welche Python verwendet. Im Grundkurs Programmieren werden im Verlaufe des Semesters die wichtigsten Keywords erlernt und angewendet:\n",
    "\n",
    "<table class=\"gk-keywords\">\n",
    "<tr>\n",
    "    <td><code>False</code></td>\n",
    "    <td><code>await</code></td>\n",
    "    <td><code>else</code></td>\n",
    "    <td><code class=\"new\">import</code></td>\n",
    "    <td><code>pass</code></td>\n",
    "</tr>\n",
    "<tr>\n",
    "    <td><code>None</code></td>\n",
    "    <td><code>break</code></td>\n",
    "    <td><code class=\"new\">except</code></td>\n",
    "    <td><code class=\"known\">in</code></td>\n",
    "    <td><code>raise</code></td>\n",
    "</tr>\n",
    "<tr>\n",
    "    <td><code>True</code></td>\n",
    "    <td><code>class</code></td>\n",
    "    <td><code>finally</code></td>\n",
    "    <td><code>is</code></td>\n",
    "    <td><code class=\"new\">return</code></td>\n",
    "</tr>\n",
    "<tr>\n",
    "    <td><code>and</code></td>\n",
    "    <td><code>continue</code></td>\n",
    "    <td><code class=\"known\">for</code></td>\n",
    "    <td><code>lambda</code></td>\n",
    "    <td><code class=\"new\">try</code></td>\n",
    "</tr>\n",
    "<tr>\n",
    "    <td><code>as</code></td>\n",
    "    <td><code class=\"new\">def</code></td>\n",
    "    <td><code>from</code></td>\n",
    "    <td><code>nonlocal</code></td>\n",
    "    <td><code>while</code></td>\n",
    "</tr>\n",
    "<tr>\n",
    "    <td><code>assert</code></td>\n",
    "    <td><code>del</code></td>\n",
    "    <td><code class=\"new\">global</code></td>\n",
    "    <td><code>not</code></td>\n",
    "    <td><code>with</code></td>\n",
    "</tr>\n",
    "<tr>\n",
    "    <td><code>async</code></td>\n",
    "    <td><code>elif</code></td>\n",
    "    <td><code>if</code></td>\n",
    "    <td><code>or</code></td>\n",
    "    <td><code>yield</code></td>\n",
    "</tr>\n",
    "</table>\n",
    "\n",
    "In der Tabelle werden die Keywords, welche in der aktuellen Lektion behandelt werden, **fett** gedruckt und die bereits bekannten Keywords sind grün hervorgehoben. \n",
    "\n",
    "> Eine kurze Übersicht über die einzelnen Keywords und ihrer Aufgaben gibt es beispielsweise [hier](https://www.w3schools.com/python/python_ref_keywords.asp)."
   ]
  },
  {
   "cell_type": "markdown",
   "id": "d148fb86-ff24-4d0f-a222-b721ed9b2748",
   "metadata": {},
   "source": [
    "## `try` und `except`\n",
    "\n",
    "Im [vorherigen Notebook](../Lektion_3/Zeichenketten_Iteration.ipynb#Typumwandlung) wurde untersucht, wie mittels der `int()` Funktion ein String in eine Zahl umgewandelt werden kann und dass es dabei zu einem Fehler kommen kann:"
   ]
  },
  {
   "cell_type": "code",
   "execution_count": null,
   "id": "872b0bd5-981a-4649-9fbc-dc4d07821f1e",
   "metadata": {
    "tags": [
     "raises-exception"
    ]
   },
   "outputs": [],
   "source": [
    "keine_zahl = int(\"abc\")"
   ]
  },
  {
   "cell_type": "markdown",
   "id": "00a5f7fa-8592-434f-bf96-a67c73b7d97f",
   "metadata": {},
   "source": [
    "Dies ist besonders problematisch, wenn der String durch die `input()` Funktion übergeben wird:"
   ]
  },
  {
   "cell_type": "code",
   "execution_count": null,
   "id": "1f85411c-ad08-40e2-a9fd-f482ca6480f9",
   "metadata": {},
   "outputs": [],
   "source": [
    "evtl_eine_zahl = int(input(\"Gib eine Zahl ein:\"))"
   ]
  },
  {
   "cell_type": "markdown",
   "id": "1775f296-c4db-45d4-a2de-9721c9ad354e",
   "metadata": {},
   "source": [
    "Fehlermeldungen können aber auch auftauchen, wenn z.B. versucht wird, eine Zahl durch `0` zu dividieren:"
   ]
  },
  {
   "cell_type": "code",
   "execution_count": null,
   "id": "4c60532a-724c-4fb1-b120-c23b493fe491",
   "metadata": {
    "tags": [
     "raises-exception"
    ]
   },
   "outputs": [],
   "source": [
    "eine_zahl = 10\n",
    "print(eine_zahl / 0)"
   ]
  },
  {
   "cell_type": "markdown",
   "id": "935198ab-695e-49a1-aaad-2c0013e4e641",
   "metadata": {},
   "source": [
    "In diesen Fällen wäre es besser den Fehler **abzufangen** und der Benutzerin die Möglichkeit zu geben, eine erneute Eingabe zu tätigen. Das ist besser, als das Programm einfach mit einer Fehlermeldung abbrechen zu lassen. Fehlermeldungen führen nämlich dazu, dass die Ausführung im Moment, wo der Fehler auftritt einfach abgebrochen wird, ohne die weiteren Zeilen des Codes auszuführen.\n",
    "\n",
    "Um Fehler abzufangen, existieren die beiden Keywords `try` und `except`.\n",
    "\n",
    "Um z.B. die Eingabe eines Strings, welcher keine Zahl repräsentiert, abzufangen, lässt sich die vorherige Zelle umschreiben zu:"
   ]
  },
  {
   "cell_type": "code",
   "execution_count": null,
   "id": "3fd2f233-0270-4aef-896c-c0e7c85db965",
   "metadata": {},
   "outputs": [],
   "source": [
    "try:\n",
    "    eine_zahl = int(input(\"Gib eine Zahl ein:\"))\n",
    "    print(eine_zahl + 10)\n",
    "except:\n",
    "    print(\"Das war keine Zahl\")"
   ]
  },
  {
   "cell_type": "markdown",
   "id": "8ad96c34-200f-4a7e-9385-1f673c61c5d6",
   "metadata": {},
   "source": [
    "> Wie auch beim For Loop werden die Zeilen nach dem `:` eingerückt."
   ]
  },
  {
   "cell_type": "markdown",
   "id": "37136041-bf21-4b48-8136-7c047c272fe8",
   "metadata": {},
   "source": [
    "Alles was also innerhalb des `try` Blocks (der eingerückte Teil nach `try`) steht, wird \"versucht\", auszuführen. Sollte es dabei zu einem Fehler kommen, wird der Teil im `try` Block abgebrochen und der Computer fährt anschliessend mit der Ausführung des `except` Blocks fort - womit dem Nutzer erklärt werden kann, was schief gelaufen ist und nicht das gesamte Programm einfach mit einer evt. kryptischen Fehlermeldung zu einem Abbrucht kommt."
   ]
  },
  {
   "cell_type": "markdown",
   "id": "3fd8ab33",
   "metadata": {
    "editable": true,
    "slideshow": {
     "slide_type": ""
    },
    "tags": []
   },
   "source": [
    "<div class=\"gk-exercise\">\n",
    "    \n",
    "Erweitere den vorherigen Code um bei einem Fehler erneut nach einer Eingabe zu fragen.\n",
    "\n",
    "</div>"
   ]
  },
  {
   "cell_type": "code",
   "execution_count": null,
   "id": "6282cb19-8d6d-4cd5-a163-f7cd4b692cf3",
   "metadata": {
    "deletable": false,
    "nbgrader": {
     "cell_type": "code",
     "checksum": "6cfcb29cb3bb039a6d80ab3641686fe7",
     "grade": false,
     "grade_id": "cell-cd0f12578003a050",
     "locked": false,
     "schema_version": 3,
     "solution": true,
     "task": false
    },
    "tags": [
     "exercise"
    ]
   },
   "outputs": [],
   "source": [
    "# YOUR CODE HERE"
   ]
  },
  {
   "cell_type": "markdown",
   "id": "157b5dec-2371-4fee-9bc7-0492bdf724eb",
   "metadata": {},
   "source": [
    "\n",
    "Die wiederholte Eingabeaufforderung für eine Zahl wird häufig verwendet werden. Deshalb lohnt es sich, dafür eine eigene Funktion zu **definieren**. Dazu sollen Funktionen und der Funktionsbegriff genauer untersucht werden."
   ]
  },
  {
   "cell_type": "markdown",
   "id": "d2dec7d2-af9d-4832-b857-24331d431214",
   "metadata": {
    "tags": []
   },
   "source": [
    "# Funktionen\n",
    "\n",
    "**Funktionen** sind ein fundamentales Konzept in jeder Programmiersprache. Sie sind verwandt mit den Funktionen in der Mathematik, sind aber sehr viel mächtiger. Keine Angst, wer Funktionen im Mathematikunterricht nicht verstanden hat, erhält hier eine zweite Chance! Und wer Funktionen im Programmieren beherrscht, dem bereiten mathematische Funktionen wohl auch keine schlaflosen Nächte mehr.\n",
    "\n",
    "## Wieso Funktionen nützlich sind\n",
    "\n",
    "In diesem Abschnitt soll ausführlich aufgezeigt werden, wieso Funktionen nicht einfach da sind, um Programmier-Studierende zu ärgern, sondern um **reale Probleme zu vereinfachen**:\n",
    "\n",
    "Die Idee sei, dass mit Hilfe von Python Zufallszahlen erzeugt werden sollen. Es soll also ein Mechanismus programmiert werden, der bei jeder Ausführung eine zufällige Zahl erzeugt. Eine solche Zufallszahl ist bspw. notwendig für die Programmierung eines einfachen \"Jump an Run\" Spiels, bei dem die Gegner nicht jedes Mal zur gleichen Zeit am gleichen Ort auftauchen sollen. \n",
    "\n",
    "Jetzt ist aber ein Computer eine völlig vorhersehbare Maschine, die eigentlich gar keine Zufälle kennt. Eine Möglichkeit ist, dass mit der aktuellen Uhrzeit irgendwie eine Zufallszahl \"errechnet\" wird. Um die Zahlen vergleichbar zu halten, braucht es anschliessend noch einen Mechanismus, um zu erreichen, dass die Zufallszahl immer zwischen 0 und 1 ist.\n",
    "\n",
    "Nachfolgender Code erzeugt eine solche \"Pseudozufallszahl\". Es geht nun nicht in erster Linie darum, den Code dieser Zufallszahl ganz genau zu verstehen, sondern die Motivation für die Einführung von Funktionen nachvollziehen zu können. Trotzdem wird der Code im Anschluss Stück für Stück erklärt. Um die Motivation für Funktionen zu verstehen, ist es nicht zwingend notwendig, schon jetzt genau verstehen, was anschliessender Quelltext genau macht. Viele der verwendeten Konzepte werden zu einem späteren Zeitpunkt vertieft eingeführt. Also nicht entmutigen lassen:"
   ]
  },
  {
   "cell_type": "code",
   "execution_count": null,
   "id": "ebb55a88-f0a9-4c63-9faa-d11daaddd419",
   "metadata": {
    "tags": []
   },
   "outputs": [],
   "source": [
    "import time\n",
    "\n",
    "current_time = time.time()\n",
    "boot_time = time.monotonic()\n",
    "\n",
    "random_number = current_time % 1 * boot_time % 1\n",
    "\n",
    "print(random_number)"
   ]
  },
  {
   "cell_type": "markdown",
   "id": "11060f5c-3e27-4071-aafa-7bb4e670cacd",
   "metadata": {},
   "source": [
    "**Schritt für Schritt Erklärung:**\n",
    "\n",
    "In einem ersten Schritt wird das `time` Modul importiert. Module erweitern den Funktionsumfang von Python. Dafür wird zum ersten Mal das Keyword **import** gefolgt vom Modulname verwendet. Hier relativiert sich der kleine Wortschatz von Python ein erstes Mal. Die Namen der Module sind keine Keywords (sie wurden von den Entwicklern der einzelnen Module mehr oder weniger frei gewählt), diese Modulnamen sind aber natürlich trotzdem sehr wichtig. Beim Import eines Moduls passiert zuerst einmal nichts sichtbares:"
   ]
  },
  {
   "cell_type": "code",
   "execution_count": null,
   "id": "f458d8e1-04fa-435b-b6e4-a601484e6696",
   "metadata": {
    "tags": []
   },
   "outputs": [],
   "source": [
    "import time"
   ]
  },
  {
   "cell_type": "markdown",
   "id": "4001ac68-c8c0-4452-a5c9-2e236e732d31",
   "metadata": {},
   "source": [
    "Danach wird die aktuelle Zeit in der Variable `current_time` abgespeichert. Diese Zeit wird durch die Funktion `time()` aus dem Modul `time` zur Verfügung gestellt (die Person, die der Funktion und dem Modul den gleichen Namen gegeben hat, ist höchstpersönlich für diverse Schwierigkeiten von Python Studierenden verantwortlich!)."
   ]
  },
  {
   "cell_type": "code",
   "execution_count": null,
   "id": "310b33ae-a886-4c18-9502-c4304e7f998a",
   "metadata": {
    "tags": []
   },
   "outputs": [],
   "source": [
    "current_time = time.time()\n",
    "print(current_time)"
   ]
  },
  {
   "cell_type": "markdown",
   "id": "edce4a0f-b18f-4db7-a046-38ed29efe8ab",
   "metadata": {},
   "source": [
    "> Die Variable `current_time` enthält die Anzahl Sekunden seit dem 01.01.1970, es wird von einem [Unix-Timestamp](https://de.wikipedia.org/wiki/Unixzeit) gesprochen.\n",
    "\n",
    "Auch den Wert der zweite Variable erhalten wir aus dem Modul *time* und wird der Variable `boot_time` gespeichert. Dabei handelt es sich um die Anzahl Sekunden seitdem der Computer gestartet wurde. "
   ]
  },
  {
   "cell_type": "code",
   "execution_count": null,
   "id": "d9fecd4a-707c-4e55-8b6b-76a0a4a7b155",
   "metadata": {
    "tags": []
   },
   "outputs": [],
   "source": [
    "boot_time = time.monotonic()\n",
    "print(boot_time)"
   ]
  },
  {
   "cell_type": "markdown",
   "id": "02b32b6d-7910-4552-b344-f222c04381b1",
   "metadata": {},
   "source": [
    "Schlussendlich sollen diese Zahlen irgendwie verrechnet werden und sichergestellt werden, dass nur eine positive Zahl zwischen 0 und 1 herauskommt:"
   ]
  },
  {
   "cell_type": "code",
   "execution_count": null,
   "id": "c928f300-7c86-490b-9020-60b5579d311e",
   "metadata": {
    "tags": []
   },
   "outputs": [],
   "source": [
    "random_number = current_time % 1 * boot_time % 1\n",
    "print(random_number)"
   ]
  },
  {
   "cell_type": "markdown",
   "id": "ff6e8bea-055b-452b-ae1b-375dbaee8425",
   "metadata": {},
   "source": [
    "> Die **Operation** `%` wird als Modulo bezeichnet. Bei `% 1` wird diejenige Zahl zurückgegeben, welche nach einer Division mit `1` übrigbleibt - also nur die Nachkommastellen. Somit wird eine Zahl zwischen 0 und 1 erzeugt. Und wenn zwei solcher Zahlen miteinander multipliziert werden, wird ebenfalls eine Zahl zwischen 0 und 1 erzeugt."
   ]
  },
  {
   "cell_type": "markdown",
   "id": "09a0de3f-c97e-446e-bbb7-d2a1e8099e5c",
   "metadata": {},
   "source": [
    "Mehrfaches Ausführen dieser Zellen zeigt schnell, dass tatsächlich jedes Mal eine andere Zahl erzeugt wird.\n",
    "\n",
    "Es geht ja immer noch um die Motivation für die Einführung von Funktionen. Es ist nun also ein Mechanismus erstellt, um Zufallszahlen zu erzeugen. Sollen in einem Programm an verschiedenen Orten Zufallszahlen zum Einsatz kommen, müssen also jedes Mal alle diese Instruktionen ausgeführt werden. Für drei Zufallszahlen also:"
   ]
  },
  {
   "cell_type": "code",
   "execution_count": null,
   "id": "43c42776-1577-4453-90f1-2066091b8862",
   "metadata": {
    "tags": []
   },
   "outputs": [],
   "source": [
    "import time\n",
    "\n",
    "# erste Zufallszahl\n",
    "current_time = time.time()\n",
    "boot_time = time.monotonic()\n",
    "random_number = current_time % 1 * boot_time % 1\n",
    "random_number_1 = random_number\n",
    "\n",
    "# zweite Zufallszahl\n",
    "current_time = time.time()\n",
    "boot_time = time.monotonic()\n",
    "random_number = current_time % 1 * boot_time % 1\n",
    "random_number_2 = random_number\n",
    "\n",
    "# dritte Zufallszahl\n",
    "current_time = time.time()\n",
    "boot_time = time.monotonic()\n",
    "random_number = current_time % 1 * boot_time % 1\n",
    "random_number_3 = random_number\n",
    "\n",
    "# alle Zufallszahlen ausgeben\n",
    "\n",
    "print(random_number_1)\n",
    "print(random_number_2)\n",
    "print(random_number_3)"
   ]
  },
  {
   "cell_type": "markdown",
   "id": "baa76e3d-dc65-43ab-9cab-16c8112a0dba",
   "metadata": {},
   "source": [
    "Ein solches Vorgehen ist aus folgenden Gründen nicht zum empfehlen:\n",
    "\n",
    "* der Code wird sehr lange\n",
    "* es ist schwierig, den Überblick im Code zu behalten\n",
    "* bei einer Änderung am Zufallszahlenmechanismus, muss dieser an mehreren Orten angepasst werden, was aufwändig und fehleranfällig ist\n",
    "\n",
    "Wie können hier jetzt Funktionen helfen?"
   ]
  },
  {
   "cell_type": "markdown",
   "id": "fc72c95a-d735-40fa-95b0-5492990b62d2",
   "metadata": {},
   "source": [
    "## Grundidee von Funktionen\n",
    "\n",
    "Die Grundidee von Funktionen ist, dass bestimmte Code Abschnitte einfach *wiederverwendbar* gemacht werden können. Dass also bestimmte Operationen, die programmiert wurden, sofort wieder eingesetzt werden können, ohne jeweils alle Schritte der entsprechenden Operation einzeln wieder aufzurufen. Funktionen sind also eine Art *Abkürzung* im Programmieralltag. Mit Funktionen werden einem Funktionsnamen eine beliebige Anzahl von einzelnen Codezeilen zugewiesen und sind dann über den Funktionsnamen aufrufbar.\n",
    "\n",
    "Das Arbeiten mit Funktionen besteht also immer aus zwei Teilen:\n",
    "\n",
    "* **Funktionsdefinition** mit den einzelnen Schritten und dem Funktionsnamen\n",
    "* **Funktionsaufruf** an einem - oder mehreren - beliebigen Orten im Quelltext "
   ]
  },
  {
   "cell_type": "markdown",
   "id": "67768468-f8b2-4a8b-9fd6-9620e8b85af2",
   "metadata": {},
   "source": [
    "## Eigene Funktionen definieren und nutzen\n",
    "\n",
    "Der oben erstellte Code zur Erzeugung von Zufallszahlen soll nun also als Funktion definiert und aufgerufen werden:"
   ]
  },
  {
   "cell_type": "code",
   "execution_count": null,
   "id": "f0f18d61-e825-4d37-a723-2bf2555940d7",
   "metadata": {
    "tags": []
   },
   "outputs": [],
   "source": [
    "import time\n",
    "\n",
    "def random_number():\n",
    "    current_time = time.time()\n",
    "    boot_time = time.monotonic()\n",
    "    random_number = current_time % 1 * boot_time % 1\n",
    "    \n",
    "    return random_number\n",
    "\n",
    "\n",
    "random_number_1 = random_number()\n",
    "print(random_number_1)\n",
    "print(random_number())\n",
    "print(random_number())"
   ]
  },
  {
   "cell_type": "markdown",
   "id": "9e196ecc-e943-436d-b345-748b0a398fa6",
   "metadata": {},
   "source": [
    "Die Funktionsdefiniton passiert mit dem Keyword **def** gefolgt vom gewünschten Funktionsnamen, hier `random_number`, runden Klammern `()` und einem Doppelpunkt `:`. Der eigentliche Inhalt der Funktionsdefinition erfolgt anschliessend **eingerückt** in den nachfolgenden Zeilen. \n",
    "\n",
    "Typischerweise schliesst die Funktion mit dem Keyword **return** ab. Häufig erzeugt eine Funktion ein Resultat, das zurück in den Programmablauf übergeben werden soll. Dieses Resultat wird nach **return** aufgeführt und auch als **Rückgabewert** bezeichnet. \n",
    "\n",
    "Um Python zu zeigen, wann die Funktionsdefinition fertig ist, müssen die ausserhalb der Funktionsdefinition folgenden Zeilen wieder ohne Einrückung geschrieben werden.\n",
    "\n",
    "> Die Einrückungen im Quelltext von Python werden nicht primär zur Steigerung der Leserlichkeit genutzt sondern sie sind notwendig, um Python zusammenhängende Code Blöcke zu signalisieren - wie bspw. Funktionsdefinitionen. Andere Programmiersprachen nutzen dafür häufig verschiedene Arten von Klammern `{}`.\n",
    "\n",
    "Die Funktion kann nun an einem beliebigen Ort im Quelltext mit `random_number()` aufgerufen werden. Am Ort dieses Aufrufes wird eine Zufallszahl erzeugt und in den Programmablauf zurückgegeben. Dieser Rückgabewert kann bspw. in einer Variable gespeichert oder direkt mit `print()` ausgegeben werden."
   ]
  },
  {
   "cell_type": "markdown",
   "id": "a8a8f667-f73c-4dff-b05f-56703b83088d",
   "metadata": {},
   "source": [
    "## Built in Funktionen nutzen\n",
    "\n",
    "Im Verlaufe des Kurses wurden schon verschiedentlich integrierte Funktionen von Python genutzt. Das sind Funktionen, die bereits von anderen Entwicklerinnen definiert wurden und dementsprechend nur noch aufgerufen werden müssen. Sie werden als **Built in** Funktionen bezeichnet. Beispiele dafür sind die `print()`, `input()` oder auch `len()` Funktionen. Diese wurden benutzt, ohne sie vorgängig zu definiern:"
   ]
  },
  {
   "cell_type": "code",
   "execution_count": null,
   "id": "163bc8ad-74ad-4186-acca-0ad61c86ca9d",
   "metadata": {
    "tags": []
   },
   "outputs": [],
   "source": [
    "print(10 + 10)"
   ]
  },
  {
   "cell_type": "code",
   "execution_count": null,
   "id": "d00f701c-fd80-4bcd-a9ca-343167a8ab8d",
   "metadata": {
    "tags": []
   },
   "outputs": [],
   "source": [
    "len(\"Python Programmieren bereitet mir immer mehr Freude!\")"
   ]
  },
  {
   "cell_type": "markdown",
   "id": "5710a4d2-66ee-4c7a-83b0-0b3a0ec8e119",
   "metadata": {},
   "source": [
    "Diese Built in Funktionen von Python relativieren den kleinen Umfang der Keywords ein weiteres Mal. Eine Liste mit Built in Funktionen existiert bei [W3Schools](https://www.w3schools.com/python/python_ref_functions.asp). Diese Liste ist ebenfalls überschaulich, es existieren jedoch noch mehr bereits definierte Funktionen, welche zu bestimmten Objekten oder Modulen gehören.\n",
    "\n",
    "Eine besonders wichtige Built in Funktion ist die `range()` Funktion. Diese wird häufig im Zusammenhang mit `for` Loops verwendet und wurde bereits im Einführungs Notebook vorgestellt. Sie kommt dann zum Einsatz, wenn nicht eine schon bestehende Sequenz iteriert werden soll, sondern wenn der Loop einfach eine **bestimmte Anzahl Durchgänge** haben soll:"
   ]
  },
  {
   "cell_type": "code",
   "execution_count": null,
   "id": "eeaf0857-9ac4-451a-a774-bda1ff2486bb",
   "metadata": {
    "tags": []
   },
   "outputs": [],
   "source": [
    "for zahl in range(10):\n",
    "    print(zahl)"
   ]
  },
  {
   "cell_type": "markdown",
   "id": "ec5e9c9c-5391-41bb-9b14-267199c29a23",
   "metadata": {},
   "source": [
    "Soll `range()` nicht bei `0` beginnen, sondern bspw. bei `1` muss ein weiterer Parameter angeben angegeben werden:"
   ]
  },
  {
   "cell_type": "code",
   "execution_count": null,
   "id": "12eee36f-a6b8-4534-abe4-ac71ecee975f",
   "metadata": {
    "tags": []
   },
   "outputs": [],
   "source": [
    "for zahl in range(1,10):\n",
    "    print(zahl)"
   ]
  },
  {
   "cell_type": "markdown",
   "id": "c6d041ab-cfb6-4df7-b52a-a0c6acf10f3f",
   "metadata": {},
   "source": [
    "<div class=\"gk-exercise\">\n",
    "\n",
    "Bringe den nachfolgenden For Loop in eine einfachere Form ohne die Benutzung der Built in Funktionen `len()` und `range()` (nicht vergessen: Programmiererinnen lieben Vereinfachungen und eleganten Code):\n",
    "```python\n",
    "text = \"Purrlimunter\"\n",
    "length_text = len(text)\n",
    "for i in range(length_text):\n",
    "    print(text[i])\n",
    "```\n",
    "<details>\n",
    "    <summary>Tipp:</summary>\n",
    "    Iteriere direkt die Variable <code>text</code> statt eine neue Laufvariable mit <code>range()</code> zu kreieren.\n",
    "</details>"
   ]
  },
  {
   "cell_type": "code",
   "execution_count": null,
   "id": "9bb929a6-e454-4a38-9b23-57e59c0f0cae",
   "metadata": {
    "deletable": false,
    "nbgrader": {
     "cell_type": "code",
     "checksum": "bcd49f22691d5549419b362072dc4183",
     "grade": false,
     "grade_id": "cell-0882d4798e67e285",
     "locked": false,
     "schema_version": 3,
     "solution": true,
     "task": false
    },
    "tags": [
     "exercise"
    ]
   },
   "outputs": [],
   "source": [
    "# YOUR CODE HERE"
   ]
  },
  {
   "cell_type": "markdown",
   "id": "cda38c7e-5b27-473f-b6a9-7eccaa3b7f29",
   "metadata": {},
   "source": [
    "## Funktionen mit Parametern\n",
    "\n",
    "Häufig müssen Funktionen noch Zusatzinformationen beim Aufruf enthalten, da sie sonst nicht sinnvoll funktionieren. Ein Beispiel dafür ist die `print()` Funktion. Beim Aufruf der `print()` Funktion wird dieser mitgeteilt, was genau ausgeben werden soll (das Resultat einer Rechnung oder der Inhalt einer Variable). Dies wird dadurch erreicht, dass innerhalb der Klammern `()` beim Aufruf der Funktion eine Zusatzinformation eingefügt wird:"
   ]
  },
  {
   "cell_type": "code",
   "execution_count": null,
   "id": "41c4233c-cd31-47f5-86a7-f28834ee1ed9",
   "metadata": {},
   "outputs": [],
   "source": [
    "a = 10\n",
    "print(a)"
   ]
  },
  {
   "cell_type": "markdown",
   "id": "dde8039f-95ec-4d7a-8580-950c2493cb7d",
   "metadata": {},
   "source": [
    "Hier wurde also der Funktion die Variable `a` übergeben durch den Aufruf `print(a)`. Dieses Übergeben von Zusatzinformationen an eine Funktion wird als Übergabe eines **Parameters** bezeichnet. Die entsprechende Funktion ist also parametrisiert und nur durch die Angabe des Parameters weiss die Funktion tatsächlich, was sie ausführen soll. "
   ]
  },
  {
   "cell_type": "markdown",
   "id": "3d515de7-4fab-46ea-8da9-8be1cdc0ffb7",
   "metadata": {},
   "source": [
    "Ähnlich die Funktion `abs()`, welche den Betrag einer Zahl berechnet. Auch diese braucht einen Parameter, um zu funktionieren. Wenn wir diesen nicht übergeben, kommt es zu einer Fehlermeldung:"
   ]
  },
  {
   "cell_type": "code",
   "execution_count": null,
   "id": "a054ca6d-9a33-4fd9-af32-e57856c5b111",
   "metadata": {
    "tags": [
     "raises-exception"
    ]
   },
   "outputs": [],
   "source": [
    "abs()"
   ]
  },
  {
   "cell_type": "markdown",
   "id": "e28078b2-4e8f-457f-a48f-9912a140828b",
   "metadata": {},
   "source": [
    "```bash\n",
    "---------------------------------------------------------------------------\n",
    "TypeError                                 Traceback (most recent call last)\n",
    "Cell In[4], line 1\n",
    "----> 1 abs()\n",
    "\n",
    "TypeError: abs() takes exactly one argument (0 given)\n",
    "```\n",
    "\n",
    "Die Fehlermeldung `abs() takes exactly one argument (0 given)` bedeutet, dass die Funktion ein Parameter benötigt, aber keiner übergeben wurde. \n",
    "\n",
    "> Die Ausdrücke Argument und Parameter werden oft synonym verwendet, eine genauere Betrachtung folgt [weiter unten](#Parameter-vs.-Argument)"
   ]
  },
  {
   "cell_type": "markdown",
   "id": "33582485-e650-49a8-9314-f10d696d4dcd",
   "metadata": {},
   "source": [
    "Weiter können wir auch das Resultat einer Funktion direkt an eine weitere Funktion übergeben. Das entsprechende Konzept wird wie schon früher gesehen, als **Funktionsverschachtelung** bezeichnet."
   ]
  },
  {
   "cell_type": "code",
   "execution_count": null,
   "id": "41071ad7-7ca8-4fa6-a0cb-23782e53d950",
   "metadata": {
    "tags": []
   },
   "outputs": [],
   "source": [
    "print(abs(-20))"
   ]
  },
  {
   "cell_type": "markdown",
   "id": "7e0879b1-c85b-437d-b8b2-51965c6a80a7",
   "metadata": {},
   "source": [
    "Eigene Funktionen zu definieren, die einen oder auch mehrere Parameter benötigen, funktioniert folgendermassen:"
   ]
  },
  {
   "cell_type": "code",
   "execution_count": null,
   "id": "4e170582-d4d4-48d3-a307-d017b180fa52",
   "metadata": {
    "tags": []
   },
   "outputs": [],
   "source": [
    "def power(base, exponent):\n",
    "    return base ** exponent\n",
    "\n",
    "power(2, 10)"
   ]
  },
  {
   "cell_type": "markdown",
   "id": "5948a5bf-ec58-480c-8397-51a2ec3e8188",
   "metadata": {},
   "source": [
    "In der Funktionsdefinition werden innerhalb der Klammern `()` die Namen der benötigten Parameter aufgeführt. Diese Namen stehen innerhalb der Funktion als Variablen zur Verfügung. Die Funktion `power(base, exponent)` macht hier nichts anderes, als *base hoch exponent* zu rechnen und das Resultat zurückzugeben. Beim Aufruf der Funktion spielt die Reihenfolge der Werte für die Parameter eine entscheidende Rolle. "
   ]
  },
  {
   "cell_type": "code",
   "execution_count": null,
   "id": "596b6c00-0b71-4b41-b1c4-e5a80e0a4365",
   "metadata": {},
   "outputs": [],
   "source": [
    "power(2, 10)"
   ]
  },
  {
   "cell_type": "markdown",
   "id": "c18d440f-ff9e-4da8-9d86-c6ec18be9967",
   "metadata": {},
   "source": [
    "Hier wird der Wert 10 für `exponent` übergeben und der Wert 2 für `base`. Dies wird als **Positional Matching** bezeichnet. \n",
    "\n",
    "Alternativ dazu ist auch ein **Keyword Matching** möglich (Keyword hat hier nichts mit den oben eingeführten Keywords zu tun). Dazu wird der Parametername ebenfalls in der Klammer gefolgt vom eigentlichen Wert aufgeführt. Somit ist die Reihenfolge egal:"
   ]
  },
  {
   "cell_type": "code",
   "execution_count": null,
   "id": "73d6e736-4160-4c63-a108-a70390596080",
   "metadata": {},
   "outputs": [],
   "source": [
    "power(base = 2, exponent = 10)"
   ]
  },
  {
   "cell_type": "code",
   "execution_count": null,
   "id": "05b957da-bf2e-44ed-af34-ba81ab887cd6",
   "metadata": {},
   "outputs": [],
   "source": [
    "power(exponent = 10, base = 2)"
   ]
  },
  {
   "cell_type": "markdown",
   "id": "a2375680-3f79-4b3e-a357-e469f95bdfd1",
   "metadata": {},
   "source": [
    "<div class=\"gk-exercise\">\n",
    "\n",
    "Schreibe nachfolgenden Code um, so dass eine Funktion `add_compliment(name)` definiert wird, die die entsprechende Aufgabe übernimmt:\n",
    "```python\n",
    "name_1 = \"Isidora\"\n",
    "name_2 = \"Erdmuthe\"\n",
    "name_3 = \"Dayita\"\n",
    "\n",
    "name_1_statement = name_1 + \" ist ein schöner Name!\"\n",
    "name_2_statement = name_2 + \" ist ein schöner Name!\"\n",
    "name_3_statement = name_3 + \" ist ein schöner Name!\"\n",
    "\n",
    "print(name_1_statement)\n",
    "print(name_2_statement)\n",
    "print(name_3_statement)\n",
    "```"
   ]
  },
  {
   "cell_type": "code",
   "execution_count": null,
   "id": "bf429917-5336-4b42-a07f-2f0a5a538bc5",
   "metadata": {
    "deletable": false,
    "nbgrader": {
     "cell_type": "code",
     "checksum": "8dc42815b725fb3c743bedfa0d593426",
     "grade": false,
     "grade_id": "cell-f61cac326c0e1f88",
     "locked": false,
     "schema_version": 3,
     "solution": true,
     "task": false
    },
    "tags": [
     "raises-exception",
     "exercise"
    ]
   },
   "outputs": [],
   "source": [
    "name_1 = \"Isidora\"\n",
    "name_2 = \"Erdmuthe\"\n",
    "name_3 = \"Dayita\"\n",
    "\n",
    "# YOUR CODE HERE\n",
    "\n",
    "print(add_compliment(name_1))\n",
    "print(add_compliment(name_2))\n",
    "print(add_compliment(name_3))"
   ]
  },
  {
   "cell_type": "markdown",
   "id": "2c58a957-4641-4cc6-947f-5994c86203d8",
   "metadata": {},
   "source": [
    "<div class=\"gk-exercise\">\n",
    "\n",
    "Programmiere eine Funktion `modify_number(number)`, die eine Zahl als Parameter für `number` entgegennimmt und die Summe aus der Zahl und der letzten Ziffer der Zahl bildet und zurückgibt. `print(modify_number(12))` soll also bspw. `14` ausgeben und `print(modify_number(1257))` soll `1264` ausgeben.\n",
    "<details>\n",
    "    <summary>Tipp:</summary>\n",
    "    Um auf die letzte Ziffer zuzugreifen, kannst Du <code>number</code> in einen String umwandeln und auf das letzte Zeichen zugreifen.\n",
    "</details>"
   ]
  },
  {
   "cell_type": "code",
   "execution_count": null,
   "id": "d002a7f6-41ac-4077-b159-cfe9db2ea623",
   "metadata": {
    "deletable": false,
    "nbgrader": {
     "cell_type": "code",
     "checksum": "b6077ef938ba27302052ecc297d8b0aa",
     "grade": false,
     "grade_id": "cell-15f06285d14f4289",
     "locked": false,
     "schema_version": 3,
     "solution": true,
     "task": false
    },
    "tags": [
     "raises-exception",
     "exercise"
    ]
   },
   "outputs": [],
   "source": [
    "# YOUR CODE HERE\n",
    "\n",
    "print(modify_number(12))\n",
    "print(modify_number(1257))"
   ]
  },
  {
   "cell_type": "markdown",
   "id": "cb137aa7-139f-4c52-98c2-bbe903972841",
   "metadata": {},
   "source": [
    "## Optionale Parameter\n",
    "\n",
    "Es ist auch möglich Standardwerte für Parameter zu definieren, die verwendet werden sollen, wenn die Nutzerin keine Angaben zum Wert der Parameter macht."
   ]
  },
  {
   "cell_type": "code",
   "execution_count": null,
   "id": "c62a9130-aa61-47f5-9778-2f259ef7c6be",
   "metadata": {},
   "outputs": [],
   "source": [
    "def power(exponent, base=2):\n",
    "    return base ** exponent"
   ]
  },
  {
   "cell_type": "markdown",
   "id": "28744882-f350-48c3-8302-c13d78e55d45",
   "metadata": {},
   "source": [
    "Dadurch wird hier der Parameter `base` **optional**, d.h. die Funktion kann auch ohne explizites Angeben dieses Parameters aufgerufen werden"
   ]
  },
  {
   "cell_type": "code",
   "execution_count": null,
   "id": "12fbbb64-d18f-4b60-8c6e-a070d7e8d6be",
   "metadata": {},
   "outputs": [],
   "source": [
    "# Paramter 'base' wird nicht übergeben, deshalb wir der Standardwert 2 verwendet\n",
    "power(10)"
   ]
  },
  {
   "cell_type": "code",
   "execution_count": null,
   "id": "b880ab85-b33f-4fc4-b4d6-dc33037b0c84",
   "metadata": {},
   "outputs": [],
   "source": [
    "# Standardwert wird mit 3 überschrieben\n",
    "power(10, 3)"
   ]
  },
  {
   "cell_type": "markdown",
   "id": "c350b62d-40cb-4f05-b7dc-2c6fafe7362d",
   "metadata": {},
   "source": [
    "Optionale Parameter **müssen** hinter den nicht-optionalen Parameter aufgeführt werden, sonst kommt es zu einem Error:"
   ]
  },
  {
   "cell_type": "code",
   "execution_count": null,
   "id": "ffc164e1-0bab-4c99-9db2-f5e150880747",
   "metadata": {
    "tags": [
     "raises-exception"
    ]
   },
   "outputs": [],
   "source": [
    "def power(base=2, exponent):\n",
    "    return base ** exponent"
   ]
  },
  {
   "cell_type": "markdown",
   "id": "a2acdff9-0ee9-44e6-bd20-11e0ea484d11",
   "metadata": {},
   "source": [
    "Auch die `range()` Funktion hat mehrere optionale Parameter, so kann neben dem Stopwert auch der Start sowie die Schrittweite übergeben werden:"
   ]
  },
  {
   "cell_type": "code",
   "execution_count": null,
   "id": "b386aa0f-6a1b-4ed6-a893-1829bb90521d",
   "metadata": {
    "tags": []
   },
   "outputs": [],
   "source": [
    "start = 0\n",
    "ende = 10\n",
    "schritt = 2\n",
    "for gerade_zahl in range(start, ende, schritt):\n",
    "    print(gerade_zahl)"
   ]
  },
  {
   "cell_type": "markdown",
   "id": "114c9fb0-2278-4332-9d8d-869a2f1b3629",
   "metadata": {},
   "source": [
    "## Parameter vs. Argument\n",
    "\n",
    "Im Zusammenhang mit Funktionen werden die Worte **Parameter** und **Argumente** teilweise gleichbedeutend gebraucht. Grundsätzlich ist es aber so, dass in der Funktionsdefinition die Parameter definiert werden, welche die Funktion benötigt und wie diese innerhalb der Funktion verarbeitet werden. Als Argument wird das bezeichnet, was der Funktion beim Aufruf übergeben wird. Das kann eine beliebige Variable oder ein Wert sein:"
   ]
  },
  {
   "cell_type": "code",
   "execution_count": null,
   "id": "ebd9e3a3-f9ab-4575-a4d8-c4f1fc17d77e",
   "metadata": {},
   "outputs": [],
   "source": [
    "# Definition der Funktion 'power' mit den Paramtern 'exponent' und 'base'\n",
    "def power(exponent, base):\n",
    "    return base ** exponent\n",
    "\n",
    "a = 10\n",
    "b = 2\n",
    "\n",
    "# Aufruf der Funktion mit den Argumenten 'a' und 'b' für die Parameter 'exponent' und 'base'. \n",
    "# Die Argumente haben die Werte 10 und 2\n",
    "power(a, b)"
   ]
  },
  {
   "cell_type": "markdown",
   "id": "2959c5b3-cac0-44a3-9e93-8c21388c3c97",
   "metadata": {},
   "source": [
    "Ganz präzise ausgedrückt würde das obige Beispiel folgendermassen beschrieben: Der Wert 10 der Variable `a` wird als *Argument* für den *Parameter* `exponent` übergeben. Und entsprechend wird der Wert 2 der Variable `b` als *Argument* für den *Parameter* `base` übergeben."
   ]
  },
  {
   "cell_type": "markdown",
   "id": "a94da006-c5d5-4ca3-a19e-2907539c0b13",
   "metadata": {},
   "source": [
    "## Rückgabewerte von Funktionen\n",
    "\n",
    "Wie gezeigt wurde, enden Funktionen häufig mit der Rückgabe eines Wertes in den Programmablauf, diese Rückgabe wird über das Keyword `return` eingeleitet. Dabei spielt der Datentyp des Rückgabewertes keine Rolle. Es können Strings, Zahlen, ja ganze Objekte (siehe [später](../Lektion_9/Module_Objekte_Datum.ipynb#Objekte)) zurückgegeben werden. Der die Funktion aufrufende Code muss dafür sorgen, mit dem Rückgabewert vernünfigt umgehen zu können. Der Rückgabewert wird häufig für den weiteren Programmablauf in einer Variable gespeichert oder mit Hilfe von `print()` ausgegeben:"
   ]
  },
  {
   "cell_type": "code",
   "execution_count": null,
   "id": "e15256ea-86c7-4b3d-ae31-600dbd653cfb",
   "metadata": {
    "tags": []
   },
   "outputs": [],
   "source": [
    "def return_int():\n",
    "    return 42\n",
    "\n",
    "def return_str():\n",
    "    return \"alles Gut\"\n",
    "\n",
    "some_int = return_int()\n",
    "print(some_int)\n",
    "print(return_str())"
   ]
  },
  {
   "cell_type": "markdown",
   "id": "999462ff-ee8d-4182-9ffb-c66653d2947c",
   "metadata": {},
   "source": [
    "Ein Rückgabewert kann im Programmablauf aber auch missachtet werden, ohne dass ein Fehler ausgegeben würde:"
   ]
  },
  {
   "cell_type": "code",
   "execution_count": null,
   "id": "a7917766-3dc4-4091-9a09-3c4dfdd3e95b",
   "metadata": {
    "tags": []
   },
   "outputs": [],
   "source": [
    "return_str()\n",
    "print(\"jetzt ist Schluss\")"
   ]
  },
  {
   "cell_type": "markdown",
   "id": "678274b1-0e42-451a-be6e-6d742ef81986",
   "metadata": {},
   "source": [
    "Funktionen können aber auch **ganz ohne `return`** definiert werden. Die Funktion macht dann häufig direkt eine Ausgabe über `print()`:"
   ]
  },
  {
   "cell_type": "code",
   "execution_count": null,
   "id": "cac76b91-81cb-47fa-a481-fe56250795f8",
   "metadata": {
    "tags": []
   },
   "outputs": [],
   "source": [
    "import datetime\n",
    "\n",
    "def print_time():\n",
    "    \n",
    "    # Aktuelle lokale Zeit abrufen\n",
    "    local_time = datetime.datetime.now()\n",
    "\n",
    "    # Das Jahr ausgeben\n",
    "    print(\"Willkommen im Jahre \" + str(local_time.year))\n",
    "    \n",
    "print_time()"
   ]
  },
  {
   "cell_type": "markdown",
   "id": "dfb0e41a-6d5e-4de4-8d90-10387cdfa39d",
   "metadata": {},
   "source": [
    "Solche Funktionen werden aber eher zu Demonstrationszwecken geschrieben, weil sie im Vergleich zu Funktionen, die einen Wert zurückgeben, weniger flexibel in der Anwendung sind. Oben stehende Funktion könnte bspw. nicht gebraucht werden, um das Jahr in einer anderen Sprache zurückzugeben."
   ]
  },
  {
   "cell_type": "markdown",
   "id": "41343f22-4cb5-42e3-95b8-1edabf2e58fa",
   "metadata": {},
   "source": [
    "Weiter gilt es zu beachten, dass das Ausführen von `return` eine Funktion sofort beendet, egal ob weiter unten im Programmcode noch weitere Anweisungen stehen würden und egal, ob allenfalls noch ein Loop ausgeführt wird:"
   ]
  },
  {
   "cell_type": "code",
   "execution_count": null,
   "id": "f5c83191-0a76-45ee-a9fc-626061625c75",
   "metadata": {
    "tags": []
   },
   "outputs": [],
   "source": [
    "def some_function():\n",
    "    print(\"first step\")\n",
    "    return 42\n",
    "    print(\"last step\")\n",
    "    \n",
    "some_function()"
   ]
  },
  {
   "cell_type": "code",
   "execution_count": null,
   "id": "9ac3c4f9-679d-4f4f-b914-de4bd2db9eac",
   "metadata": {
    "tags": []
   },
   "outputs": [],
   "source": [
    "def repeat_function():\n",
    "    for i in range(10):\n",
    "        print(\"Iteration: \" + str(i))\n",
    "        return 42 # das return beendet den For Loop augenblicklich, obwohl dieser noch nicht fertig ist\n",
    "    \n",
    "repeat_function()"
   ]
  },
  {
   "cell_type": "markdown",
   "id": "cf11a310-34ba-4a8c-95a5-2cdbbddfbec4",
   "metadata": {},
   "source": [
    "# Scope\n",
    "\n",
    "Ein wichtiges Konzept beim Programmieren ist der sogenannte **Scope**. Gemeint ist damit der Bereich, in welchem eine bestimmte Variable definiert ist. Es wird zwischen **globalem** und **lokalem** Scope unterschieden. Variablen, die nur in einem lokalen Scope definiert wurden, sind im globalen Scope nicht verfügbar (weder um einen Wert auszulesen, noch um einen zuzuweisen). Der Grund für die Existenz eines lokalen Scopes ist unter anderem die Tatsache, dass bei etwas komplexeren Programmen sofort unzählige Variablen existieren und damit das Risiko besteht, unerwünschte Rückwirkungen zwischen gleich benannten Variablen zu haben.\n",
    "\n",
    "Funktionen definieren einen lokalen Scope. Variablen, die in einer Funktion definiert wurden, sind von ausserhalb der Funktion (d.h. im globalen Scope) nicht verfügbar:"
   ]
  },
  {
   "cell_type": "code",
   "execution_count": null,
   "id": "e12b7941-2757-46f9-8697-a4275467583d",
   "metadata": {
    "tags": [
     "raises-exception"
    ]
   },
   "outputs": [],
   "source": [
    "def meine_funktion():\n",
    "    lokale_variable = 1\n",
    "    print(lokale_variable)\n",
    "\n",
    "# gibt eine 1 aus, weil auf lokale_variable innerhalb der Funktion zugegriffen wird\n",
    "meine_funktion()    \n",
    "\n",
    "# ergibt einen Fehler, weil lokale_variable im globalen Scope (ausserhalb der Funktion) nicht verfügbar ist\n",
    "print(lokale_variable)"
   ]
  },
  {
   "cell_type": "markdown",
   "id": "2ce13c0a-06d0-4646-be39-acaf9bd0bb8a",
   "metadata": {},
   "source": [
    "Innerhalb einer Funktion kann aber problemlos auf eine globale Variable zugegriffen werden:"
   ]
  },
  {
   "cell_type": "code",
   "execution_count": null,
   "id": "b0a33b54-3d7a-408b-b28b-bdb919b567a5",
   "metadata": {},
   "outputs": [],
   "source": [
    "globale_variable = 57\n",
    "\n",
    "def meine_funktion():\n",
    "    print(globale_variable)\n",
    "    \n",
    "meine_funktion()"
   ]
  },
  {
   "cell_type": "markdown",
   "id": "f897b875-cfe4-4704-bfc2-aabda76e0a92",
   "metadata": {},
   "source": [
    "Soll innerhalb einer Funktion eine globale Variable verändert (etwas das eigentlich vermieden werden sollte) oder eine globale Variable definiert werden, muss das Keyword `global` verwendet werden (ansonsten würde die Variable als neu zu definierende lokale Variable aufgefasst):"
   ]
  },
  {
   "cell_type": "code",
   "execution_count": null,
   "id": "505fc683-e297-4003-b4c3-355cfae6e20c",
   "metadata": {},
   "outputs": [],
   "source": [
    "globale_variable = 57\n",
    "\n",
    "def meine_funktion():\n",
    "    global globale_variable\n",
    "    globale_variable = 10000\n",
    "    \n",
    "meine_funktion()\n",
    "print(globale_variable)"
   ]
  },
  {
   "cell_type": "markdown",
   "id": "f87ba707-bd4e-4ceb-8b72-e1bff57dd43a",
   "metadata": {},
   "source": [
    "Eine mögliche Fehlerquelle ist, dass eine lokale und eine globale Variable mit gleichem Namen erstellt wird und dass dann per gleichem Namen auf unterschiedliche Werte zugegriffen wird:"
   ]
  },
  {
   "cell_type": "code",
   "execution_count": null,
   "id": "b98b0dd9-b94b-4e2d-b4c9-abdb22746edc",
   "metadata": {},
   "outputs": [],
   "source": [
    "gefaehrliche_variable = 10\n",
    "\n",
    "def meine_funktion():\n",
    "    gefaehrliche_variable = 100\n",
    "    print(gefaehrliche_variable)\n",
    "\n",
    "meine_funktion()\n",
    "\n",
    "print(gefaehrliche_variable)"
   ]
  },
  {
   "cell_type": "markdown",
   "id": "20080ed0-f340-406d-b9fc-1113e0963cab",
   "metadata": {},
   "source": [
    "Im obigen Beispiel wurde die Variable `gefaehrliche_variable` einmal im globalen Scope definiert und ihr den Wert 10 zugewiesen. Innerhalb der Funktion `meine_funktion()` wird im lokalen Scope (weil nicht das Keyword `global` verwendet wurde) nochmals eine Variable `gefaehrliche_variable` definiert und ihr den Wert 100 zugewiesen. Diese beiden Variablen haben nichts miteinander zu tun. Das sieht man an den unterschiedlichen Ausgaben der beiden `print()` Befehlen."
   ]
  },
  {
   "cell_type": "markdown",
   "id": "2a9d08f2-907b-404e-9542-4355a1086f00",
   "metadata": {},
   "source": [
    "Weitere Infos zum Scope sind bei <a href=\"https://www.w3schools.com/python/python_scope.asp\">W3Schools</a> zu finden."
   ]
  },
  {
   "cell_type": "markdown",
   "id": "77c857c6-270c-4855-8770-8813fdf1db54",
   "metadata": {},
   "source": [
    "<div class=\"gk-exercise\">\n",
    "\n",
    "Schau dir den nachfolgenden Quelltext an und überlege, welchen Wert die Funktion `do_some_math()` zurückgeben wird. Führe anschliessend die Zelle aus und überprüfen deine Vermutung. Erkläre ein allfällig abweichendes Resultat.\n",
    "\n",
    "<details>\n",
    "<summary>Tipps</summary>\n",
    "    <p>Die Parameter <code>a</code> und <code>b</code> der Funktion <code>do_some_math(a, b)</code> haben prinzipiell nichts mit den Variablen <code>a = 7</code> und <code>b = -6</code> zu tun. Es kommt also nur auf die Position (Positional Matching) an, an der die Variablen <code>a</code> und <code>b</code> der Funktion übergeben werden.</p>\n",
    "\n",
    "<details>\n",
    "<summary>Tipp</summary>\n",
    "    <p>Solche Aufgaben lassen sich mit dem <a href=\"../Lektion_2/Strings_Variablen.ipynb#Debugging\">Debugger</a> gut nachvollziehen. Die dazu notwendigen Einstellungen des Debuggers werden in der <a href=\"../Lektion_4/Strings_For.ipynb#Breakpoints\">nächsten Lektion</a> erklärt.</p>\n",
    "</details>\n",
    "</details>\n",
    "</div>"
   ]
  },
  {
   "cell_type": "code",
   "execution_count": null,
   "id": "430bff50-99ca-4144-b98d-07bab1b47f30",
   "metadata": {
    "tags": []
   },
   "outputs": [],
   "source": [
    "def do_some_math(a, b):\n",
    "    return (abs(a) * b)\n",
    "\n",
    "a = 7\n",
    "b = -6\n",
    "\n",
    "do_some_math(b, a)"
   ]
  },
  {
   "cell_type": "markdown",
   "id": "97b0cead-ac2e-49a4-a944-2f3be39f83f1",
   "metadata": {},
   "source": [
    "***"
   ]
  },
  {
   "cell_type": "markdown",
   "id": "4c3b33ff-3003-43e0-9397-cf9dd8d3605b",
   "metadata": {},
   "source": [
    "Dass der oben gezeigte Quelltext überhaupt funktioniert und es keine Fehlermeldung gibt, weil scheinbar zwei verschiedene `a` und `b` existieren, ist eine Folge der verschiedenen *Scopes*."
   ]
  },
  {
   "cell_type": "markdown",
   "id": "f0df2fbb-5c0e-4619-91bc-509627d8f026",
   "metadata": {},
   "source": [
    "# Schlussaufgabe"
   ]
  },
  {
   "cell_type": "markdown",
   "id": "578547d3-8ac7-484f-878f-346c43264723",
   "metadata": {},
   "source": [
    "<div class=\"gk-exercise\">\n",
    "\n",
    "Es soll eine Funktion programmiert werden, welche die Benutzerin nach einer Zahl fragt. Falls keine Zahl eingegeben wird, soll noch weitere Male nachgefragt werden, bis eine Zahl eingegeben wurde. Die maximale Anzahl der Nachfragen soll als Parameter der Funktion definiert werden: \n",
    "\n",
    "- Definiere eine Funktion `int_input()` mit einem Parameter `n`\n",
    "- Verwende einen For Loop und die Funktion `range()`, um bis zu `n` mal nach einer Zahl zu fragen\n",
    "- Prüfe dabei mit `try` und `except`, ob tatsächlich eine Zahl eingegeben wurde\n",
    "- Gib nach Eingabe einer Zahl, diese als `return` Wert zurück\n",
    "    \n",
    "<details>\n",
    "<summary>Tipps</summary>\n",
    "    <p>Im Falle der Rückgabe eines Werts mit Hilfe des Keywords <code>return</code> wird die allfällige Ausführung eines Loops sofort abgebrochen.</p>\n",
    "\n",
    "<details>\n",
    "    <summary>Tipp</summary>\n",
    "    <p>Eine bessere Lösung dieser Aufgabe werden wir erst mit Kenntnissen des While Loops programmieren können.</p>\n",
    "</details>\n",
    "</details>\n",
    "\n",
    "</div>"
   ]
  },
  {
   "cell_type": "code",
   "execution_count": null,
   "id": "96a1d875-d3f1-4098-a86c-082fd1950b38",
   "metadata": {
    "deletable": false,
    "nbgrader": {
     "cell_type": "code",
     "checksum": "05a7377a50acaf0f62b2527d513b71f4",
     "grade": false,
     "grade_id": "cell-0aca94b971bf2023",
     "locked": false,
     "schema_version": 3,
     "solution": true,
     "task": false
    },
    "tags": [
     "raises-exception",
     "exercise"
    ]
   },
   "outputs": [],
   "source": [
    "# YOUR CODE HERE\n",
    "print(int_input(3)) # Die Funktion soll 3x nach einer Zahl fragen\n"
   ]
  },
  {
   "cell_type": "markdown",
   "id": "5eb7a97c-b096-44e2-b7dc-396aa2f284bf",
   "metadata": {
    "tags": []
   },
   "source": [
    "# Zusammenfassung\n",
    "\n",
    "In dieser Lektion wurde der Begriff der Keywords eingeführt. Es wurde mit Hilfe der Keywords `try` und `except` aufgezeigt, wie mit Fehlern umgegangen werden kann. Der Hauptteil der Lektion hat sich mit dem Begriff der Funktion befasst. Funktionen fassen Programmieranweisungen zusammen und lassen sie einfach wiederverwenden. Funktionen können Parameter beinhalten, für welche Argumente übergeben werden. Funktionen geben nach Ausführung typischerweise Werte zurück. Funktionen können selbst definiert werden oder es können Built in Funktionen oder Methoden von Modulen verwendet werden. Schlussendlich wurde gezeigt, dass für Variablen verschiedene Gültigkeitsbereiche existieren, einerseits der globale Scope und andererseits der lokale Scope innerhalb von Funktionen."
   ]
  },
  {
   "cell_type": "markdown",
   "id": "06cc9835-840d-417b-a414-3156ea1499f2",
   "metadata": {},
   "source": [
    "# Impressum\n",
    "\n",
    "<a rel=\"license\" href=\"http://creativecommons.org/licenses/by-sa/4.0/\"><img alt=\"Creative Commons Lizenzvertrag\" style=\"border-width:0\" src=\"https://mirrors.creativecommons.org/presskit/buttons/88x31/svg/by-sa.svg\" /></a><br />Dieses Werk ist lizenziert unter einer <a rel=\"license\" href=\"http://creativecommons.org/licenses/by-sa/4.0/\">Creative Commons Namensnennung - Weitergabe unter gleichen Bedingungen 4.0 International Lizenz</a>.\n",
    "\n",
    "Autoren: [Jakob Schärer](mailto:jakob.schaerer@unibe.ch), [Lionel Stürmer](mailto:lionel.stuermer@bfh.ch) <br>\n",
    "Ursprünglicher Text von: Noe Thalheim, Benedikt Hitz-Gamper\n",
    "\n",
    "\n",
    "```\n",
    "FOO BAR\n",
    "```"
   ]
  }
 ],
 "metadata": {
  "kernelspec": {
   "display_name": "GraphVis--oE0K6n0",
   "language": "python",
   "name": "python3"
  },
  "language_info": {
   "codemirror_mode": {
    "name": "ipython",
    "version": 3
   },
   "file_extension": ".py",
   "mimetype": "text/x-python",
   "name": "python",
   "nbconvert_exporter": "python",
   "pygments_lexer": "ipython3",
   "version": "3.12.3"
  },
  "toc-autonumbering": true,
  "toc-showcode": false
 },
 "nbformat": 4,
 "nbformat_minor": 5
}
