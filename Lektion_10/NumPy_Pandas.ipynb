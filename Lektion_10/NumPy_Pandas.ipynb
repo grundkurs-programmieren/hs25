{
 "cells": [
  {
   "cell_type": "markdown",
   "id": "7bab5b57-a12b-4571-bcb2-4ce310eca5db",
   "metadata": {},
   "source": [
    "<img src=\"https://i.imgur.com/XSzy00d.png\" style=\"float:right;width:150px\">\n",
    "\n",
    "**NumPy und Pandas**\n",
    "\n",
    "# Einleitung\n",
    "\n",
    "## Lernziele\n",
    "\n",
    "* Sie können mit mehrdimensionalen **Numpy Arrays** umgehen\n",
    "* Sie können zweidimensionale Arrays als **Bilddaten** interpretieren und anzeigen\n",
    "* Sie können auf **Teile** eines Arrays zugreifen\n",
    "* Sie können Funktionen auf **alle Array Elemente** anwenden\n",
    "* Sie kennen **Pandas Dataframes** als Möglichkeit um mit tabellarischen Daten zu arbeiten\n",
    "* Sie können Dataframes aus **CSV Dateien** erstellen\n",
    "* Sie können Dataframes **filtern** und **gruppieren**"
   ]
  },
  {
   "cell_type": "markdown",
   "id": "2c7f8679-e4f5-4fd4-ad76-00e72c76482c",
   "metadata": {},
   "source": [
    "# NumPy\n",
    "\n",
    "Bestimmte Module haben in Python eine grosse Verbreitung erzielt. Ein solches ist [NumPy](https://numpy.org/), welches im Bereich von **Data Science** eine wichtige Rolle spielt. Der Hauptgrund dafür ist, dass das Modul effiziente Funktionen zum Umgang mit grossen Datenmengen zur Verfügung stellt.\n",
    "\n",
    "## NumPy Array\n",
    "\n",
    "Das wichtigste Objekt, welches das NumPy Modul zur Verfügung stellt ist das n-dimensionale Array `ndarray`. Ein Array ist im Prinzip eine Sammlung von Zahlen, die aber in verschiedenen Dimensionen angeordnet sind. Das eindimensionale Array (auch Vektor genannt), hat nur eine Dimension, also sind alle Zahlen darin durch einen eindimensionalen Index ansprechbar. Das kennen wir bereits aus der normalen Python Liste, welche im Prinzip auch ein eindimensionales Array ist.\n",
    "\n",
    "Spannender wird es mit mehreren Dimensionen. Bei einem zweidimensionalen Array sind die einzelnen Zahlen über eine Kombination von zwei Indizes ansprechbar. Die einfachste Interpretation eines zweidimensionalen Arrays ist, dass die beiden Dimensionen eine Fläche \"aufspannen\" und die Indizes eine \"Koordinate\" angeben.\n",
    "\n",
    "Um einfach grosse Arrays zu erzeugen, mit denen die Arbeit spannend ist, eignen sich Zufallszahlen:"
   ]
  },
  {
   "cell_type": "code",
   "execution_count": null,
   "id": "26d83628-b907-45ef-a036-a552e9b5e6bb",
   "metadata": {},
   "outputs": [],
   "source": [
    "import numpy as np\n",
    "\n",
    "array = np.random.randint(low = 0, high = 256, size = (4,8))\n",
    "print(array)"
   ]
  },
  {
   "cell_type": "markdown",
   "id": "682fbda8-7f55-4514-b2cc-ecbf033ca1bd",
   "metadata": {},
   "source": [
    "Zuerst wird das Modul `numpy` unter dem Namen `np` importiert. Dies ist eine Konvention, das Modul müsste nicht umbenennt werden, aber bei den meisten Tutorials und Anleitungen aus dem Internet hat sich diese Namensgebung durchgesetzt. Dann wird ein Array mit Hilfe von ganzzahligen Zufallszahlen erstellt. Die Funktion `randint()` aus dem Objekt `random` aus `np` benötigt verschiedene Parameter:\n",
    "\n",
    "Hier wird die Anwendung von sogenannten **Keyword Arguments** gezeigt, also Schlüsselwort Parametern. Die Parameter werden der Funktion nicht einfach als Abfolge von Zahlen (oder Strings) übergeben, sondern mit Hilfe eines jeweiligen Schlüsselwortes (ähnlich einem Dictionary). Dies ist insbesondere nützlich, wenn es sich um eine Funktion mit vielen Parametern handelt. Bei der Verwendung von Schlüsselwort Parametern , spielt die Reihenfolge der Parameter keine Rolle. Beim Argument mit dem Namen `size` wird nicht nur eine einzelne Zahl übergeben, sondern es wird angegeben, wie viele Dimensionen das Array haben soll und wie \"lange\" die jeweilige Dimension sein soll. Die Notation mit `(Zahl1, Zahl2)` erzeugt ein sogenanntes [**Tupel**](https://www.w3schools.com/python/python_tuples.asp) und solche Tupel stellen eine weiter Form der verschiedenen **Data Collection** dar, die Python kennt. Sie sind den Listen sehr ähnlich.\n",
    "\n",
    "Im Beispiel oben wird also ein zweidimensionales Array mit 4 Zeilen und 8 Spalten erzeugt und mit ganzzahligen Zufallsnummern zwischen 0 und 255 gefüllt.\n",
    "\n",
    "Höherdimensionale Arrays werden bei der Darstellung über den `print()` Befehl als Sammlung von zweidimensionalen Arrays ausgegeben und es braucht etwas Übung, die entsprechenden Dimensionen richtig zuzuordnen:"
   ]
  },
  {
   "cell_type": "code",
   "execution_count": null,
   "id": "a91343c9-ca6a-49f0-99c4-9aa822375c66",
   "metadata": {},
   "outputs": [],
   "source": [
    "multi_d_array = np.random.randint(low = 0, high = 256, size = (2,3,4,5))\n",
    "print(multi_d_array)"
   ]
  },
  {
   "cell_type": "markdown",
   "id": "aab5ab7d-d7e3-4810-89bf-0e53d951ce3f",
   "metadata": {},
   "source": [
    "Arrays aus Zahlen erscheinen auf den ersten Blick etwas langweilig (ausser vielleicht für Mathematiker:innen). Arrays können aber hervorragend als Bilddaten interpretiert werden und damit wird auch die Manipulation von Arraydaten interessanter, weil sie eine Änderung des entsprechenden Bildes erzeugen.\n",
    "\n",
    "## Array als Bild interpretieren\n",
    "\n",
    "Nachfolgend wird ein Array der Dimension 10 auf 10 mit zufälligen Werten zwischen 0 und 255 erstellt. Dieses Array wird mit dem `print()` Befehl ausgegeben. Anschliessend wird die Funktion `imshow()` aus dem Modul `matplotlib.pyplot` benutzt, um diese Array Daten als \"Bild\" darzustellen. Die Funktion `imshow()` braucht neben dem Parameter für die eigentlichen Daten, hier `array`, eine Angabe, wie die Daten dargestellt werden sollen. `cmap='gray'` bewirkt dabei, dass den Array Werten verschiedene Grautöne zugeordnet werden. Der Befehl `%matplotlib inline` ist ein sogennantes \"Magic Command\" und weist das Jupyter Notebook an, die Ausgabe von `matplotlib` direkt in der dazugehörigen Zelle darzustellen (und nicht in einem eigenen neuen Fenster): "
   ]
  },
  {
   "cell_type": "code",
   "execution_count": null,
   "id": "a20e0987-b73b-4647-8391-c30e65119713",
   "metadata": {},
   "outputs": [],
   "source": [
    "%matplotlib inline\n",
    "\n",
    "import numpy as np\n",
    "from matplotlib import pyplot as plt\n",
    "\n",
    "array = np.random.randint(low = 0, high = 256, size = (10,10))\n",
    "print(array)\n",
    "\n",
    "plt.imshow(array, cmap = 'gray')"
   ]
  },
  {
   "cell_type": "markdown",
   "id": "146dfb89-0150-4a62-ba6d-76b222822d5d",
   "metadata": {},
   "source": [
    "Zahlen aus dem Array mit einem tiefen Wert, werden dunkler dargestellt, solche mit einem hohen Wert dementsprechend heller."
   ]
  },
  {
   "cell_type": "markdown",
   "id": "257cf34c-c31b-44ed-ab89-66a743eb9c9b",
   "metadata": {},
   "source": [
    "## Arrays aus CSV Dateien importieren\n",
    "\n",
    "NumPy beinhaltet eine Funktion, um direkt Daten aus einer CSV Datei in ein Array einzulesen. Die Funktion heisst `genfromtxt()` und braucht als Parameter den Filenamen resp. Pfad zur CSV Datei und den Parameter `delimiter = ','` um zu spezifizieren, mit welchem Zeichen die Spalten im CSV getrennt sind (normalerweise `,` oder `;`)."
   ]
  },
  {
   "cell_type": "markdown",
   "id": "7d210da6",
   "metadata": {},
   "source": [
    "<div class=\"gk-exercise\">\n",
    "\n",
    "Importiere mit Hilfe der Funktion `genfromtxt()` aus dem NumPy Modul die CSV Datei aus `data/array.csv` als Array. Zeige die entsprechenden Daten mit dem `print()` Befehl an.\n",
    "</div>"
   ]
  },
  {
   "cell_type": "code",
   "execution_count": null,
   "id": "99a586a6-89f2-4382-a178-3762a067bcbc",
   "metadata": {
    "deletable": false,
    "nbgrader": {
     "cell_type": "code",
     "checksum": "6effe20673bb278649aa9e412154f56d",
     "grade": false,
     "grade_id": "cell-0f94edc27a31f2b9",
     "locked": false,
     "schema_version": 3,
     "solution": true,
     "task": false
    },
    "tags": [
     "exercise"
    ]
   },
   "outputs": [],
   "source": [
    "import numpy as np\n",
    "\n",
    "# YOUR CODE HERE"
   ]
  },
  {
   "cell_type": "markdown",
   "id": "2f05585b-e483-4ef7-9d98-b573339b2891",
   "metadata": {},
   "source": [
    "Wenn ein Array ziemlich gross ist, dann wird die Darstellung mit dem `print()` Befehl entsprechend angepasst und es wird nur ein Ausschnitt aus dem Array angezeigt. Es ist wichtig, zu lernen, einen Überblick über die entsprechenden Array Daten zu gewinnen.\n",
    "\n",
    "Mit dem Attribut `shape` eines ndarray Objektes kann die Anzahl Dimensionen und ihre jeweilige Grösse eines Arrays angezeigt werden:"
   ]
  },
  {
   "cell_type": "code",
   "execution_count": null,
   "id": "c88ac668-f1d1-42c6-9361-d38d4ccf79d5",
   "metadata": {
    "tags": []
   },
   "outputs": [],
   "source": [
    "import numpy as np\n",
    "\n",
    "array = np.genfromtxt(\"data/array.csv\", delimiter = \",\")\n",
    "\n",
    "print(array.shape)"
   ]
  },
  {
   "cell_type": "markdown",
   "id": "f9b8912e-0468-4ffb-8546-2ff6f55ee77a",
   "metadata": {},
   "source": [
    "Mit Hilfe der Funktionen `max()` und `min()` kann das Maximum und das Minimum der Werte des Arrays bestimmt werden, mit der Funktion `mean()` der Mittelwert:"
   ]
  },
  {
   "cell_type": "code",
   "execution_count": null,
   "id": "6f3cf397-8712-49ab-b009-722cf546734a",
   "metadata": {
    "tags": []
   },
   "outputs": [],
   "source": [
    "print(\"Maximum:\", array.max())\n",
    "print(\"Minimum:\", array.min())\n",
    "print(\"Mittelwert:\", array.mean())"
   ]
  },
  {
   "cell_type": "markdown",
   "id": "ca26298a-7ebc-46e1-a92c-4b2b3cfe1853",
   "metadata": {},
   "source": [
    "Das untersuchte Array beinhaltet also nur Werte zwischen 0 und 1."
   ]
  },
  {
   "cell_type": "markdown",
   "id": "32402b95-e315-405d-a1a5-8d68287aa1b0",
   "metadata": {},
   "source": [
    "## Teile eines Arrays auswerten\n",
    "\n",
    "In der Praxis ist das Problem häufig, dass nur auf bestimmte Bereiche eines Arrays zugegriffen werden muss, also beispielsweise auf ein ganz bestimmtes Element oder eine bestimmte Zeile oder Spalte. Dies kann mit einer Notation erreicht werden, wie sie ähnlich schon von Listen her bekannt ist.\n",
    "\n",
    "### Zugriff auf ein bestimmtes Element\n",
    "\n",
    "hier das Element aus der 35. Zeile / 13. Spalte:"
   ]
  },
  {
   "cell_type": "code",
   "execution_count": null,
   "id": "32493036-b87f-4aec-8cd7-21763465d4d0",
   "metadata": {},
   "outputs": [],
   "source": [
    "print(array[34,12])"
   ]
  },
  {
   "cell_type": "markdown",
   "id": "d00ce585-eb4c-4176-b902-f708f64cce9d",
   "metadata": {},
   "source": [
    "### Zugriff auf eine bestimmte Zeile\n",
    "\n",
    "hier die 69. Zeile:\n",
    "\n",
    "> **Achtung**, die Darstellung scheint so, als ob das entsprechende Resultat eine Matrix wäre, es ist aber ein eindimensionaler Vektor, der über mehrere Zeilen gebrochen wird. Das lässt sich an den einfachen eckigen Klammern `[]` erkennen."
   ]
  },
  {
   "cell_type": "code",
   "execution_count": null,
   "id": "c6225240-1d10-4b22-a634-be06bc0ec816",
   "metadata": {},
   "outputs": [],
   "source": [
    "print(array[68,:])"
   ]
  },
  {
   "cell_type": "markdown",
   "id": "8fc4f0dc-8c4c-44f0-84db-2620b3a813d8",
   "metadata": {},
   "source": [
    "### Zugriff auf mehrere bestimmte Zeilen und bestimmte Spalten \n",
    "\n",
    "Teilmatrix \"ausschneiden\":"
   ]
  },
  {
   "cell_type": "code",
   "execution_count": null,
   "id": "57b1975d-20a1-4dbd-88b1-e6aa2908b7b0",
   "metadata": {
    "tags": []
   },
   "outputs": [],
   "source": [
    "print(array[8:10,56:58])"
   ]
  },
  {
   "cell_type": "markdown",
   "id": "2d5a1ae6-d540-4676-b213-674204757459",
   "metadata": {},
   "source": [
    "> Hier kommt es zur Ausgabe mit zwei eckigen Klammerpaaren `[[]]`, weil das tatsächlich wieder eine Matrix ist und kein Vektor."
   ]
  },
  {
   "cell_type": "markdown",
   "id": "f0ab042c-c72b-443f-aa90-a5d91f748b45",
   "metadata": {},
   "source": [
    "Mit der Notation mit dem Doppelpunkt `:` kann also auf einen Teilbereich der Matrix zurückgegriffen werden. Wenn der Doppelpunkt alleine steht, sind damit alle Indizes dieser Dimension gemeint. Vor resp. nach dem Doppelpunkt können der Start- resp. Endpunkt der Indizes dieser Dimension angegeben werden. Es muss berücksichtigt werden, dass die Indizierung bei 0 startet und dass das Element vor dem Doppelpunkt inklusive ist, das nach dem Doppelpunkt jedoch exklusive."
   ]
  },
  {
   "cell_type": "markdown",
   "id": "fbe0f72d-7d79-41dc-80fb-755be2021327",
   "metadata": {},
   "source": [
    "<div class=\"gk-exercise\">\n",
    "\n",
    "Stelle das bereits oben importierte Array unter `data/array.csv` mit Hilfe der Funktion `imshow()` aus dem Modul `matplotlib.pyplot` als Bild dar.\n",
    "</div>"
   ]
  },
  {
   "cell_type": "code",
   "execution_count": null,
   "id": "0416bbc7-2d9c-4772-b56b-cf9718383fac",
   "metadata": {
    "deletable": false,
    "nbgrader": {
     "cell_type": "code",
     "checksum": "35b24d5c1a65625742fa839bcbd3bdb2",
     "grade": false,
     "grade_id": "cell-99986f39ae0c510d",
     "locked": false,
     "schema_version": 3,
     "solution": true,
     "task": false
    },
    "tags": [
     "exercise"
    ]
   },
   "outputs": [],
   "source": [
    "%matplotlib inline\n",
    "\n",
    "import numpy as np\n",
    "from matplotlib import pyplot as plt\n",
    "\n",
    "array = np.genfromtxt(\"data/array.csv\", delimiter = \",\")\n",
    "\n",
    "# YOUR CODE HERE"
   ]
  },
  {
   "cell_type": "markdown",
   "id": "ba3d2cf5-70ca-40c0-a8fa-47e47bf532c0",
   "metadata": {},
   "source": [
    "Es wurde also die ganze Zeit mit einer Matrix gearbeitet, die eigentlich Bilddaten des Bundeshauses enthält. Dies ist ein gutes Beispiel dafür, dass die grafische Repräsentation von Zahlen häufig sehr viel schneller und gesamtheitlicher zu erfassen ist, als die Zahlen selbst."
   ]
  },
  {
   "cell_type": "markdown",
   "id": "30664fd8-f3b4-45af-bded-ef8ec5b8271e",
   "metadata": {},
   "source": [
    "***"
   ]
  },
  {
   "cell_type": "markdown",
   "id": "54da651d-a7a3-4c6b-9324-3ad3a570b561",
   "metadata": {},
   "source": [
    "## Operationen auf alle Array Elemente anwenden\n",
    "\n",
    "Das Bild des Bundeshauses soll nun bearbeitet werden. Dafür müssen die unterliegenden Array Elemente, also die Zahlwerte angepasst werden. Eine Idee könnte beispielsweise sein, die Helligkeit zu invertieren. Also sollen helle Teile dunkel werden und umgekehrt. Dazu könnte im Prinzip eine verschachtelten For Schleife dienen, mit deren Hilfe Zeilen und Spalten einzeln durchiteriert würden. Das Modul NumPy bietet dafür aber bessere Möglichkeiten:"
   ]
  },
  {
   "cell_type": "code",
   "execution_count": null,
   "id": "d65a8445-13ca-41ee-812a-8639f0640dc5",
   "metadata": {},
   "outputs": [],
   "source": [
    "%matplotlib inline\n",
    "\n",
    "import numpy as np\n",
    "from matplotlib import pyplot as plt\n",
    "\n",
    "array = np.genfromtxt(\"data/array.csv\", delimiter = \",\")\n",
    "\n",
    "def invert(number):\n",
    "    return 1 - number\n",
    "\n",
    "array_light = np.vectorize(invert)(array)\n",
    "\n",
    "plt.imshow(array_light, cmap = 'gray')"
   ]
  },
  {
   "cell_type": "markdown",
   "id": "5b1f6bf6-e301-4cae-b15b-bf5433f1e10f",
   "metadata": {},
   "source": [
    "Im obigen Beispiel wird die Funktion `invert()` definiert welche als Parameter eine Zahl `number` erhält. Die Funktion gibt `1 - number` zurück, was aus 0.1 0.9 macht und aus 0.8 0.2 usw.\n",
    "\n",
    "Diese Funtion soll auf alle Array Elemente angewendet werden. Dies kann dadurch erreicht werden, dass die Funktion \"vektorisiert\" wird. Das bedeutet, dass sie tauglich gemacht wird, um gleichzeitig auf mehr als ein Element zu wirken. Wie das genau geht ist hier nicht Thema. Das Modul NumPy erhält dafür die Funktion `vectorize()`. Die Zeile `array_light = np.vectorize(invert)(array)` bewirkt also, dass der Variable `array_light` das bestehende `array` zugewiesen wird, auf das aber die Funktion `enlight_darkness` angewandt wurde, die mit Hilfe von `vectorize()` tauglich gemacht wurde, dass sie auf alle Elemente der Matrix gleichzeitig wirken kann.\n",
    "\n",
    "Herzliche Gratulation. Schon bald wirst du in der Lage sein, ein Konkurrenzprodukt zu Adobe Photoshop zu programmieren!"
   ]
  },
  {
   "cell_type": "markdown",
   "id": "359012cf-ee79-4e29-a284-0aa60da0ca93",
   "metadata": {},
   "source": [
    "<div class=\"gk-exercise\">\n",
    "\n",
    "Nimm nochmals das Bild vom Bundeshaus und erstelle ein Programm, das den Kontrast des Bildes verändern kann. Kontrast erhöhen bedeutet dabei, dass die dunklen Teile noch dunkler werden und die hellen Teile noch heller.\n",
    "\n",
    "<details>\n",
    "<summary>Tipp</summary>\n",
    "    <p>Es gibt sehr viel verschiedene Möglichkeiten, wie genau man die einzelnen Werte verändern möchte. Der extremste Kontrast erreicht man dadurch, dass alle Werte kleiner eines bestimmten Schwellwerts (bspw. 0.5) auf 0 gesetzt werden und alle anderen auf 1.</p>\n",
    "</details>\n",
    "</div>"
   ]
  },
  {
   "cell_type": "code",
   "execution_count": null,
   "id": "f51a7a03-8ab3-4510-b1c0-9f85037524b1",
   "metadata": {
    "deletable": false,
    "nbgrader": {
     "cell_type": "code",
     "checksum": "75342be4ae1d2e3674680c57ba9d717f",
     "grade": false,
     "grade_id": "cell-84083f14dd8605bd",
     "locked": false,
     "schema_version": 3,
     "solution": true,
     "task": false
    },
    "tags": [
     "exercise"
    ]
   },
   "outputs": [],
   "source": [
    "# YOUR CODE HERE"
   ]
  },
  {
   "cell_type": "markdown",
   "id": "1ccb61de-2686-4322-bd5c-3ff7629f30e3",
   "metadata": {},
   "source": [
    "# Pandas\n",
    "\n",
    "[Pandas](https://pandas.pydata.org/) ist ein Modul, das speziell für die Arbeit mit tabellenartigen Daten (also flat data) erstellt wurde. Das zentrale Element von Pandas ist das **DataFrame**, welches in Zeilen und Spalten unterteilt ist. Im Gegensatz zu einem zweidimensionalen Array aus NumPy, können DataFrames in den verschiedenen Spalten verschiedene Datentypen aufweisen.\n",
    "\n",
    "## DataFrames erstellen\n",
    "\n",
    "DataFrames können aus einem Dictionary erzeugt werden. Dabei werden die Schlüssel als Spaltenname verwendet und die Listen der Werte als Spalteninhalte:"
   ]
  },
  {
   "cell_type": "code",
   "execution_count": null,
   "id": "2b3db336-4bec-48ac-acf1-73831c39478e",
   "metadata": {
    "tags": []
   },
   "outputs": [],
   "source": [
    "import pandas as pd\n",
    "\n",
    "df = pd.DataFrame(\n",
    "{\n",
    "    \"Name\": [\n",
    "        \"Casimira\",\n",
    "        \"Silvana\",\n",
    "        \"Florentina\"],\n",
    "    \"Matrikelnummer\": [\n",
    "        \"21-203-234\",\n",
    "        \"19-401-012\",\n",
    "        \"12-124-093\"],\n",
    "    \"Note\": [\n",
    "        6,\n",
    "        5.5,\n",
    "        6\n",
    "    ]\n",
    "})\n",
    "\n",
    "display(df)"
   ]
  },
  {
   "cell_type": "markdown",
   "id": "271ce424-42ad-46a6-9dfd-c01e607d0cfd",
   "metadata": {},
   "source": [
    "Die Funktion `display()` bewirkt bei den Tabellen, dass diese übersichtlicher dargestellt werden im Vergleich zu `print()`."
   ]
  },
  {
   "cell_type": "markdown",
   "id": "e64be62f-b560-4639-ab95-ed77d7fd1743",
   "metadata": {},
   "source": [
    "## Zugriff auf Spalten in einem DataFrame\n",
    "\n",
    "Einzelne Spalten eines DataFrames können mit Hilfe der Notation `df[\"Spaltenname\"]` ausgewählt werden. Eine Spalte eines DataFrames ist vom Typ `Series`, was einfach geprüft werden kann:"
   ]
  },
  {
   "cell_type": "code",
   "execution_count": null,
   "id": "ea27bc07-1fe9-454b-8484-6a7784176694",
   "metadata": {},
   "outputs": [],
   "source": [
    "print(type(df[\"Name\"]))\n",
    "print(df[\"Name\"])"
   ]
  },
  {
   "cell_type": "markdown",
   "id": "fb3a429d-76d9-43e3-b532-dfea1a5a01d9",
   "metadata": {},
   "source": [
    "Als Alternative kann auch die Notation `df.Spaltenname` angewandt werden:"
   ]
  },
  {
   "cell_type": "code",
   "execution_count": null,
   "id": "812da4b7-159d-48d4-afa5-e974f7f7a850",
   "metadata": {},
   "outputs": [],
   "source": [
    "print(df.Name)"
   ]
  },
  {
   "cell_type": "markdown",
   "id": "fb58fb28-df68-404f-8d5e-4781082897c3",
   "metadata": {},
   "source": [
    "Um daraus eine Liste zu machen, kann die Funktion `list()` verwendet werden:"
   ]
  },
  {
   "cell_type": "code",
   "execution_count": null,
   "id": "3066d86d-75d5-4f3a-b4d9-c66fb9def120",
   "metadata": {},
   "outputs": [],
   "source": [
    "names = list(df[\"Name\"])\n",
    "print(names)"
   ]
  },
  {
   "cell_type": "markdown",
   "id": "af60827f-c710-4b8d-ad77-d3bff4472eda",
   "metadata": {},
   "source": [
    "Wenn mehrere Spalten ausgewählt werden sollen, kann eine Liste von Spaltennamen angegeben werden, was dazu führt, dass doppelte Klammern `[[]]` benutzt werden müssen. Das resultierende Objekt ist wiederum ein DataFrame (mit den entsprechenden Spalten):"
   ]
  },
  {
   "cell_type": "code",
   "execution_count": null,
   "id": "258f086b-ba29-4aa7-bbc6-5f45620a598e",
   "metadata": {},
   "outputs": [],
   "source": [
    "print(type(df[[\"Name\", \"Note\"]]))\n",
    "display(df[[\"Name\", \"Note\"]])"
   ]
  },
  {
   "cell_type": "markdown",
   "id": "35093c13-9cc0-4836-8cf2-5c4a76b0654f",
   "metadata": {},
   "source": [
    "## Zugriff auf einzelne Elemente in einem DataFrame\n",
    "\n",
    "Innerhalb einer ausgewählten Spalte kann über eckige Klammern `[]` analog zu einer Liste einzelne Elemente selektiert werden:"
   ]
  },
  {
   "cell_type": "code",
   "execution_count": null,
   "id": "8b9f94d4-5b94-4ac8-b72a-8cfccf69051e",
   "metadata": {},
   "outputs": [],
   "source": [
    "df.Name[0]"
   ]
  },
  {
   "cell_type": "code",
   "execution_count": null,
   "id": "e38db304-f69b-4f41-a9b9-3a13e00993c7",
   "metadata": {},
   "outputs": [],
   "source": [
    "df.Name[0:2]"
   ]
  },
  {
   "cell_type": "markdown",
   "id": "541a1153-242f-42f4-a66a-457c4eb0f3e1",
   "metadata": {},
   "source": [
    "Wenn der Zugriff positionsbezogen erfolgen soll, kann der `iloc[]` Selektor verwendet werden. Dieser selektiert gleichzeitig Zeilen und Spalten analog zu den Numpy Arrays:"
   ]
  },
  {
   "cell_type": "code",
   "execution_count": null,
   "id": "e0118e68-34bc-41b1-8fdb-27cddd952ceb",
   "metadata": {},
   "outputs": [],
   "source": [
    "df.iloc[0,0]"
   ]
  },
  {
   "cell_type": "code",
   "execution_count": null,
   "id": "fb0dbaf1-f27a-4e2c-9271-305f26c3a086",
   "metadata": {},
   "outputs": [],
   "source": [
    "df.iloc[0,:]"
   ]
  },
  {
   "cell_type": "code",
   "execution_count": null,
   "id": "7a231508-68c4-430d-a7cb-cf9ea6c95d6d",
   "metadata": {},
   "outputs": [],
   "source": [
    "df.iloc[:,2]"
   ]
  },
  {
   "cell_type": "markdown",
   "id": "0b086623-5b75-47b1-aafa-e6f6f0c60e15",
   "metadata": {},
   "source": [
    "## DataFrames aus CSV Dateien einlesen\n",
    "\n",
    "Typischerweise existiert bereits eine tabellarische Darstellung der Daten, die in Python geladen werden soll, um damit weiterarbeiten zu können. Wenn die Daten als CSV-Datei vorliegen, spielt es keine Rolle, ob sie auf der lokalen Festplatte gespeichert sind oder direkt aus dem Internet heruntergeladen werden.\n",
    "\n",
    "Um CSV-Dateien direkt in ein DataFrame zu laden, kann die Funktion `read_csv()` aus dem Pandas-Modul verwendet werden. Nachfolgend soll die Statistik der Strassenverkehrsunfälle des Kantons Basel aus dem Jahr 2024 in ein Jupyter Notebook geladen werden."
   ]
  },
  {
   "cell_type": "code",
   "execution_count": null,
   "id": "3d2a2b6e-11c3-4a3d-8341-0759dcb14e3a",
   "metadata": {
    "tags": []
   },
   "outputs": [],
   "source": [
    "import pandas as pd\n",
    "\n",
    "accidents = pd.read_csv('https://data.bs.ch/api/explore/v2.1/catalog/datasets/100120/exports/csv?lang=de&refine=jahr%3A%222024%22&delimiter=%3B', sep = \";\")"
   ]
  },
  {
   "cell_type": "markdown",
   "id": "2af1c067-2b66-4eed-b1e7-5ca48bce67dc",
   "metadata": {},
   "source": [
    "> solange in der eckigen Klammer neben der Zelle statt einer Zahl ein `*` ist, heisst das, dass der Download noch nicht abgeschlossen wurde\n",
    "\n",
    "Um einen Überblick über die Daten zu gewinnen sollen die Dimensionen der Daten (Also Anzahl Zeilen und Spalten) mit dem Attribut `shape` und die ersten 5 Zeilen des DataFrames mit der Funktion `head()` angezeigt werden."
   ]
  },
  {
   "cell_type": "code",
   "execution_count": null,
   "id": "64e1fed0-777a-4064-9dc0-c39aeeb9609e",
   "metadata": {
    "tags": []
   },
   "outputs": [],
   "source": [
    "print(accidents.shape)\n",
    "display(accidents.head(5))"
   ]
  },
  {
   "cell_type": "markdown",
   "id": "69d76859-6cb8-404b-9fcd-3ef7572f5cc7",
   "metadata": {},
   "source": [
    "## DataFrames untersuchen\n",
    "\n",
    "Um eine weitere Übersicht über das DataFrame zu gewinnen, stehen verschiedene Möglichkeiten zur Verfügung. Es interessiert bspw. welcher Unfalltyp wie häufig vorkommt:"
   ]
  },
  {
   "cell_type": "code",
   "execution_count": null,
   "id": "de96c87e-0677-4587-8cc4-fe3319123838",
   "metadata": {
    "tags": []
   },
   "outputs": [],
   "source": [
    "print(accidents['typ'].value_counts())"
   ]
  },
  {
   "cell_type": "markdown",
   "id": "e28e76ce-1584-4b22-8959-d9f07165e4a8",
   "metadata": {},
   "source": [
    "Mit der Notation `DataFrame['Spaltenname']` wird auf eine bestimmte Spalte zugegriffen und mit der Funktion `value_counts()` werden die verschiedenen in der Spalte vorhandenen Einträge gezählt. Um diese Daten schneller interpretieren zu können, können diese mit Hilfe der Funktion `plot()` auch gleich grafisch als Plot angezeigt werden:"
   ]
  },
  {
   "cell_type": "code",
   "execution_count": null,
   "id": "cd1c04e0-c94e-44e9-ba71-95ebb311e91b",
   "metadata": {},
   "outputs": [],
   "source": [
    "accidents['typ'].value_counts().plot(kind = 'bar')"
   ]
  },
  {
   "cell_type": "markdown",
   "id": "e23d776a-dbc0-40cb-aa8e-26f40a0e9f46",
   "metadata": {},
   "source": [
    "Das Schlüsselwort Argument `kind = 'bar'` legt in diesem Fall fest, welcher Typ von Plot gezeichnet werden soll. Hier also ein Balkendiagramm. Weitere Möglichkeiten von Visualisierungstypen sind in der [Dokumentation von Pandas](https://pandas.pydata.org/docs/reference/api/pandas.DataFrame.plot.html) zu finden."
   ]
  },
  {
   "cell_type": "markdown",
   "id": "06835846-d019-4d81-abf0-961ed2787291",
   "metadata": {},
   "source": [
    "<div class=\"gk-exercise\">\n",
    "\n",
    "Untersuche das DataFrame `accidents` darauf, an welchem Wochentag die meisten Unfälle passieren. Zähle dafür die Anzahl Unfälle für alle Wochentage und stelle dies als Balkendiagramm dar. Wann ist es am sichersten, sich im Verkehr zu bewegen?\n",
    "\n",
    "</div>"
   ]
  },
  {
   "cell_type": "code",
   "execution_count": null,
   "id": "99c3dd71-46b1-4b7d-8613-35a86567612e",
   "metadata": {
    "deletable": false,
    "nbgrader": {
     "cell_type": "code",
     "checksum": "f50dd7df21dcc32b1c832c6df1d4644a",
     "grade": false,
     "grade_id": "cell-3a567118a4d8d195",
     "locked": false,
     "schema_version": 3,
     "solution": true,
     "task": false
    },
    "tags": [
     "exercise"
    ]
   },
   "outputs": [],
   "source": [
    "# YOUR CODE HERE"
   ]
  },
  {
   "cell_type": "markdown",
   "id": "45bde381-fc95-44e2-95c8-f50093456963",
   "metadata": {},
   "source": [
    "## DataFrames filtern\n",
    "\n",
    "Manchmal sollen nicht alle Daten eines DataFrames untersucht werden, sondern nur solche, die für eine bestimmte Spalte einen bestimmten Wert haben:"
   ]
  },
  {
   "cell_type": "code",
   "execution_count": null,
   "id": "1e798644-3e4e-40de-a3ca-c7079122142b",
   "metadata": {
    "tags": []
   },
   "outputs": [],
   "source": [
    "pedestrian_accidents = accidents[accidents.strasseart == \"Nebenstrasse\"]\n",
    "\n",
    "pedestrian_accidents[\"stunde\"].value_counts().plot(kind = \"bar\")"
   ]
  },
  {
   "cell_type": "markdown",
   "id": "02b329f9-d138-4e68-abf7-bd5165d8e840",
   "metadata": {},
   "source": [
    "Hier werden also nur Unfälle in \"Nebenstrassen\" untersucht. Die Konstruktion `accidents.strasseart == \"Nebenstrasse\"` erstellt eine `Series` mit `True`/`False` für jeden Wert der Spalte `strasseart`, je nachdem ob der Wert `\"Nebenstrasse\"` ist oder nicht. Diese Series kann als Selektor verwendet werden, um nur die entsprechenden Zeilen im DataFrame auszuwählen. Dann werden die Unfälle in Nebenstrassen nach Unfallstunde gezählt und als Plot angezeigt. Nicht sehr hilfreich ist, dass die x-Achse des Plots nicht nach der Uhrzeit sortiert ist, sondern nach den Werten auf der y-Achse. Um dies zu verändern, kann die Funktion `sort_index()` angewandt werden:"
   ]
  },
  {
   "cell_type": "code",
   "execution_count": null,
   "id": "e74af849-7bb2-4340-9f0e-28b8b2f2f9f0",
   "metadata": {},
   "outputs": [],
   "source": [
    "pedestrian_accidents = accidents[accidents.strasseart == \"Nebenstrasse\"]\n",
    "\n",
    "pedestrian_accidents[\"stunde\"].value_counts().sort_index().plot(kind = \"bar\")"
   ]
  },
  {
   "cell_type": "markdown",
   "id": "b3404326-06e4-4228-ad7c-80f6509eca9e",
   "metadata": {},
   "source": [
    "Bravo, jetzt darfst du dich schon als \"Data-Scientist\" fühlen."
   ]
  },
  {
   "cell_type": "markdown",
   "id": "d2559664-f45c-4f06-afbd-039554c727e4",
   "metadata": {},
   "source": [
    "## DataFrames gruppieren\n",
    "\n",
    "Manchmal sollen nicht nur einfach die Vorkommnisse einer bestimmten Spalte gezählt werden, sondern diese Zählung noch nach einer anderen Spalte gruppiert werden. Es sollen also beispielsweise pro Strassenart noch die Schwere der verschiedenen Unfälle gezählt werden. Dieses Vorgehen wird als **Gruppieren** bezeichnet. Innerhalb der Gruppen können dann gewisse zusammenfassende Funktionen ausgeführt werden. Die häufigste davon ist, dass die Summe der Vorkommnisse der verschiedenen Gruppen gezählt werden sollen. Es könnte aber auch bspw. der Mittelwert gebildet oder das Maximum oder Minimum bestimmt werden.\n",
    "\n",
    "Mit Hilfe der Funktion `groupby()`, die für Pandas DataFrames verfügbar ist, können über mehrere Spalten solche Gruppen gebildet werden. Dafür muss der Funktion eine Liste der Spaltennamen übergeben werden. Für diese Gruppierung können dann mit der Funktion `size()` die einzelnen Anzahlen bestimmt werden."
   ]
  },
  {
   "cell_type": "code",
   "execution_count": null,
   "id": "87cca7d1-534c-47d3-b07e-a9ec57686cbd",
   "metadata": {},
   "outputs": [],
   "source": [
    "print(accidents.groupby([\"strasseart\", \"schwere\"]).size())"
   ]
  },
  {
   "cell_type": "markdown",
   "id": "aa80eae4-cd67-49f3-bd2e-0750a1b96a09",
   "metadata": {},
   "source": [
    "Um die Zahlen besser interpretieren zu können, wäre es hilfreich, nicht die absoluten Anzahlen zu haben, sondern eine prozentuale Angabe. Es wäre dann sofort ersichtlich, dass Unfälle mit Getöteten in einer bestimmten Unfallkategorie viel wahrscheinlicher sind als in einer anderen. Dazu sind aber weitere Fähigkeiten nötig, die hier nicht behandelt werden sollen."
   ]
  },
  {
   "cell_type": "markdown",
   "id": "cc46ea14-0c9b-4ae2-87c7-fb6f5976da6c",
   "metadata": {},
   "source": [
    "# Schlussaufgabe"
   ]
  },
  {
   "cell_type": "markdown",
   "id": "d9048668-51e0-44b3-a509-11d5bb2ab862",
   "metadata": {},
   "source": [
    "<div class=\"gk-exercise\">\n",
    "\n",
    "Lade die CSV Daten zu den Wahl- und Abstimmungsresultaten in den Jahren 2002-2022 aus dem Kanton St. Gallen unter https://daten.sg.ch/api/v2/catalog/datasets/wahlen-und-abstimmungen-kanton-stgallen/exports/csv als Pandas DataFrame herunter. Die Daten sind mit einem Strichpunkt `;` getrennt. Zeige die ersten 5 Zeilen dieses DataFrames an, um ein Verständnis dafür zu erhalten, wie diese Daten aufgebaut sind.\n",
    "\n",
    "Filtere die Daten, so dass nur Abstimmungen und keine Wahlen vorhanden sind. Erstelle ein gruppiertes Resultat, das anzeigt, auf welcher föderalen Stufe wie viele Abstimmungen angenommen resp. abgelehnt wurden. \n",
    "</div>"
   ]
  },
  {
   "cell_type": "code",
   "execution_count": null,
   "id": "275c3b97-09e8-4ad3-8e26-d0bdedfc15dd",
   "metadata": {
    "deletable": false,
    "nbgrader": {
     "cell_type": "code",
     "checksum": "27383a76a2571a8c17e56a1411448723",
     "grade": false,
     "grade_id": "cell-c0109a30dd46328c",
     "locked": false,
     "schema_version": 3,
     "solution": true,
     "task": false
    },
    "tags": [
     "exercise"
    ]
   },
   "outputs": [],
   "source": [
    "# YOUR CODE HERE"
   ]
  },
  {
   "cell_type": "markdown",
   "id": "7525fe26-ba2b-47a6-b8c0-35cc30a8712f",
   "metadata": {},
   "source": [
    "# Zusammenfassung\n",
    "\n",
    "In diesem Notebook wurde erläutert, wie mit Hilfe von Numpy Arrays grosse Mengen von Zahlen gleichzeitig bearbeitet werden können. Es wurde die Arbeit mit n-dimensionalen Arrays vorgestellt und aufgezeigt, dass sich zweidimensionale Arrays als Bilddaten auffassen lassen, die entsprechend auch als Bild dargestellt werden können. Anschliessend wurde mit Hilfe von Operationen auf alle Array-Elemente Bildbearbeitung betrieben.\n",
    "\n",
    "Als Möglichkeit mit tabellarischen Daten zu arbeiten wurde das Modul Pandas vorgestellt. Aus CSV Dateien wurden dabei Pandas Dataframes erstellt und untersucht. Es wurde aufgezeigt, wie solche Datenstrukturen gefiltert und gruppiert werden können."
   ]
  },
  {
   "cell_type": "markdown",
   "id": "c51ec808",
   "metadata": {},
   "source": [
    "# Impressum\n",
    "\n",
    "<a rel=\"license\" href=\"http://creativecommons.org/licenses/by-sa/4.0/\"><img alt=\"Creative Commons Lizenzvertrag\" style=\"border-width:0\" src=\"https://mirrors.creativecommons.org/presskit/buttons/88x31/svg/by-sa.svg\" /></a><br />Dieses Werk ist lizenziert unter einer <a rel=\"license\" href=\"http://creativecommons.org/licenses/by-sa/4.0/\">Creative Commons Namensnennung - Weitergabe unter gleichen Bedingungen 4.0 International Lizenz</a>.\n",
    "\n",
    "Autoren: [Jakob Schärer](mailto:jakob.schaerer@unibe.ch), [Lionel Stürmer](mailto:lionel.stuermer@bfh.ch) <br>\n",
    "Ursprünglicher Text von: Noe Thalheim, Benedikt Hitz-Gamper\n",
    "\n",
    "\n",
    "## Credits\n",
    "\n",
    "* [Foto Bundeshaus](https://upload.wikimedia.org/wikipedia/commons/4/45/Bundeshaus_Bern_2009%2C_Flooffy.jpg)\n",
    "* Herzliches Dankeschön an [Guillaume Witz](https://www.scits.unibe.ch/about_us/people_metadata/dr_witz_guillaume/) für die Inspiration durch seinen [NumPy/Pandas](https://github.com/guiwitz/NumpyPandas_course) Kurs.\n",
    "\n",
    "\n",
    "```\n",
    "Q: Why was the new band '1023 MB' extremely sad? \n",
    "\n",
    "A: Because since their formation, they haven't had a gig yet!\n",
    "```"
   ]
  }
 ],
 "metadata": {
  "kernelspec": {
   "display_name": "gp",
   "language": "python",
   "name": "python3"
  },
  "language_info": {
   "codemirror_mode": {
    "name": "ipython",
    "version": 3
   },
   "file_extension": ".py",
   "mimetype": "text/x-python",
   "name": "python",
   "nbconvert_exporter": "python",
   "pygments_lexer": "ipython3",
   "version": "3.12.11"
  },
  "toc-autonumbering": true,
  "toc-showcode": false,
  "toc-showmarkdowntxt": false,
  "toc-showtags": false
 },
 "nbformat": 4,
 "nbformat_minor": 5
}
