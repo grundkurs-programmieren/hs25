{
 "cells": [
  {
   "cell_type": "markdown",
   "id": "0e59cf7c-d1ee-40dc-8e8f-5cc10377c5bb",
   "metadata": {},
   "source": [
    "<img src=\"https://i.imgur.com/XSzy00d.png\" style=\"float:right;width:150px\">\n",
    "\n",
    "**While Loop und logische Operatoren**\n",
    "\n",
    "# Einleitung\n",
    "\n",
    "## Lernziele\n",
    "\n",
    "* Sie kennen den **While Loop** und wissen, wann er im Gegensatz zu einem For Loop angewandt wird\n",
    "* Sie können Loops mit Hilfe von **break** vorzeitig beenden\n",
    "* Sie können **Logische Operatoren** in If Statements einsetzen"
   ]
  },
  {
   "cell_type": "markdown",
   "id": "36e9baf2-ba28-47e7-9b7b-c21797dbdebc",
   "metadata": {},
   "source": [
    "## Keywords\n",
    "\n",
    "<table class=\"gk-keywords\">\n",
    "<tr>\n",
    "    <td><code class=\"known\">False</code></td>\n",
    "    <td><code>await</code></td>\n",
    "    <td><code class=\"known\">else</code></td>\n",
    "    <td><code>import</code></td>\n",
    "    <td><code>pass</code></td>\n",
    "</tr>\n",
    "<tr>\n",
    "    <td><code>None</code></td>\n",
    "    <td><code class=\"new\">break</code></td>\n",
    "    <td><code class=\"known\">except</code></td>\n",
    "    <td><code class=\"known\">in</code></td>\n",
    "    <td><code>raise</code></td>\n",
    "</tr>\n",
    "<tr>\n",
    "    <td><code class=\"known\">True</code></td>\n",
    "    <td><code>class</code></td>\n",
    "    <td><code>finally</code></td>\n",
    "    <td><code>is</code></td>\n",
    "    <td><code class=\"known\">return</code></td>\n",
    "</tr>\n",
    "<tr>\n",
    "    <td><code class=\"new\">and</code></td>\n",
    "    <td><code>continue</code></td>\n",
    "    <td><code class=\"known\">for</code></td>\n",
    "    <td><code>lambda</code></td>\n",
    "    <td><code class=\"known\">try</code></td>\n",
    "</tr>\n",
    "<tr>\n",
    "    <td><code>as</code></td>\n",
    "    <td><code class=\"known\">def</code></td>\n",
    "    <td><code>from</code></td>\n",
    "    <td><code>nonlocal</code></td>\n",
    "    <td><code class=\"new\">while</code></td>\n",
    "</tr>\n",
    "<tr>\n",
    "    <td><code>assert</code></td>\n",
    "    <td><code>del</code></td>\n",
    "    <td><code class=\"known\">global</code></td>\n",
    "    <td><code class=\"new\">not</code></td>\n",
    "    <td><code>with</code></td>\n",
    "</tr>\n",
    "<tr>\n",
    "    <td><code>async</code></td>\n",
    "    <td><code class=\"known\">elif</code></td>\n",
    "    <td><code class=\"known\">if</code></td>\n",
    "    <td><code class=\"new\">or</code></td>\n",
    "    <td><code>yield</code></td>\n",
    "</tr>\n",
    "</table>"
   ]
  },
  {
   "cell_type": "markdown",
   "id": "88875ef6-a0bc-4471-9e34-dd57bbc116c8",
   "metadata": {},
   "source": [
    "# While Loop\n",
    "\n",
    "Nach dem For Loop soll nun eine weitere Form von Schleife eingeführt werden. Während bei einem For Loop typischerweise schon vor Beginn der Schleifenausführung klar ist, wie häufig die Schleife ausgeführt werden wird, wird der While Loop solange ausgeführt, wie eine bestimmte Bedingung wahr ist. Es ist also nicht zwingend schon im Voraus klar, wie häufig die Schleife durchlaufen werden wird. Die Prüfung der Bedingung wird dabei jeweils vor dem Durchlauf der Schleife ausgeführt:"
   ]
  },
  {
   "cell_type": "code",
   "execution_count": null,
   "id": "2a8f4e36-c3ad-4aeb-a7da-a1a7e3417bd1",
   "metadata": {},
   "outputs": [],
   "source": [
    "from random import randrange\n",
    "\n",
    "number = 0\n",
    "while number != 10:\n",
    "    number = randrange(11)\n",
    "    print(number)"
   ]
  },
  {
   "cell_type": "markdown",
   "id": "42a3d36f-403e-41f6-9b3c-4cafabd1a8dc",
   "metadata": {},
   "source": [
    "Obiges Skript arbeitet mit ganzzahligen Zufallszahlen, die die Funktion `randrange()` erzeugt. Der Parameter gibt an, bis zu welcher Obergrenze (exklusiv), die Zahlen erzeugt werden sollen. `randrange(11)` erzeugt also Zufallszahlen zwischen 0 und 10. \n",
    "\n",
    "Um diese Funktion nutzen zu können, muss sie zuerst **importiert** werden. Dies geschieht mit dem Aufruf auf der ersten Zeile `from random import randrange`, dabei bezeichnet `random` ein sogenanntes **Modul**. Dazu folgen in einer späteren Lektion noch Details. Der While Loop wird nun also ausgeführt, solange die zufällige Zahl nicht gerade 10 ist. Damit sichtbar ist, was passiert, wird die jeweilige Zufallszahl per `print()` ausgegeben. Da nicht vor Ausführung klar ist, wie häufig der While Loop durchlaufen wird, wird jede Ausführung dieser Zelle also einen anderen Output erzeugen."
   ]
  },
  {
   "cell_type": "markdown",
   "id": "71a1217b-892f-4d15-91a4-7ea597ba726b",
   "metadata": {
    "tags": []
   },
   "source": [
    "## Motivation\n",
    "\n",
    "Wie könnte ein praktischer Einsatz eines While Loops aussehen? Nachfolgende Aufgabe soll While Loops motivieren:"
   ]
  },
  {
   "cell_type": "markdown",
   "id": "9590b3c7-8c63-4652-a766-a9a310eed2c6",
   "metadata": {},
   "source": [
    "<div class=\"gk-exercise\">\n",
    "\n",
    "Es soll ein einfaches Spiel simuliert werden, bei dem zwei Würfel geworfen werden. Die Würfel sollen solange geworfen werden, bis beide Würfel die gleiche Zahl zeigen. Pro Wurf sollen die Zahlen der beiden Würfel ausgegeben werden und bei gleichen Zahlen, soll eine Meldung erfolgen, die auch beinhaltet, wie viele Versuche nötig waren.\n",
    "\n",
    "<details>\n",
    "    <summary>Tipps</summary>\n",
    "    <p>Ein Foor Loop würde hier nicht weiterhelfen, weil es nicht klar ist, wie häufig die beiden Würfel geworfen werden müssen, da diese ja zufällige Zahlen anzeigen</p>\n",
    "    <details>\n",
    "        <summary>Tipp</summary>\n",
    "        <p>Würfelwürfe können mit Hilfe von <code>randrange(1,7)</code> simuliert werden. Die beiden Parameter bewirken, dass nur ganze Zahlen zwischen 1 und 6 erzeugt werden.</p>\n",
    "    </details>\n",
    "    <details>\n",
    "        <summary>Tipp</summary>\n",
    "        <p>Nutze einen While Loop, der jeweils prüft, ob die beiden Zahlen gleich sind.</p>\n",
    "    </details>\n",
    "    <details>\n",
    "        <summary>Tipp</summary>\n",
    "        <p>Nutze eine separate Zählervariable, die bei jedem Durchlauf inkrementiert wird.</p>\n",
    "    </details>\n",
    "</details>\n",
    "    \n",
    "</div>"
   ]
  },
  {
   "cell_type": "code",
   "execution_count": null,
   "id": "49e9d1af-d150-41ac-aa98-6ff746ef5557",
   "metadata": {
    "deletable": false,
    "nbgrader": {
     "cell_type": "code",
     "checksum": "7b0e133bac5d0c1b7afd822185e33b41",
     "grade": false,
     "grade_id": "cell-fedbc14070967d0f",
     "locked": false,
     "schema_version": 3,
     "solution": true,
     "task": false
    },
    "tags": [
     "exercise"
    ]
   },
   "outputs": [],
   "source": [
    "from random import randrange\n",
    "# YOUR CODE HERE"
   ]
  },
  {
   "cell_type": "markdown",
   "id": "0cf6c27e-f28d-4f60-a174-6ba7377424c9",
   "metadata": {},
   "source": [
    "## Das `break` Keyword\n",
    "\n",
    "Mit Hilfe von `break` kann die Ausführung eines While Loops abgebrochen werden, auch wenn die ursprüngliche Bedingung der Schleife nicht erfüllt ist:"
   ]
  },
  {
   "cell_type": "code",
   "execution_count": null,
   "id": "96fef6d1-73b2-495e-a880-acddf8d96a50",
   "metadata": {},
   "outputs": [],
   "source": [
    "from random import randrange\n",
    "\n",
    "number = 0\n",
    "counter = 0\n",
    "\n",
    "while number != 100:\n",
    "    number = randrange(101)\n",
    "    print(number)\n",
    "    counter += 1\n",
    "    if counter > 20:\n",
    "        break"
   ]
  },
  {
   "cell_type": "markdown",
   "id": "a8204f22-6e15-48c9-adfd-0ce55e19fc5b",
   "metadata": {},
   "source": [
    "Im obigen Beispiel wird also nicht nur geprüft, ob die Zufallszahl einer bestimmten Zahl entspricht, es wird weiter unten auch noch untersucht, wie viele Versuche schon durchgeführt wurden. Wenn diese eine bestimmte Zahl überschreiten, wird der While Loop abgebrochen, auch wenn die ursprüngliche Bedingung für die Zufallszahl nicht erfüllt wurde.\n",
    "\n",
    "Das `break` Keyword ist insbesondere interessant im Zusammenhang mit der Möglichkeit, bei einem While Loop ein `else` zu verwenden. Der `else` Teil eines While Loops wird dann ausgeführt, wenn die Bedingung des While Loops nicht erfüllt ist, der While Loop aber nicht mit `break` beendet wurde. Somit wird die Möglichkeit erzeugt, den While Loop auf zwei unterschiedlichen Pfaden zu verlassen:"
   ]
  },
  {
   "cell_type": "code",
   "execution_count": null,
   "id": "b7665e8d-a146-4ec4-9e43-7060e924c3d0",
   "metadata": {},
   "outputs": [],
   "source": [
    "from random import randrange\n",
    "\n",
    "number = randrange(11)\n",
    "counter = 1\n",
    "\n",
    "while number != 10:\n",
    "    print(number)\n",
    "    if counter > 20:\n",
    "        print(\"Innerhalb von 20 Versuchen wurde die Zufallszahl 10 nicht erzeugt\")\n",
    "        break\n",
    "    number = randrange(11)\n",
    "    counter += 1\n",
    "else:\n",
    "    print(number)\n",
    "    print(\"Die Zufallszahl 10 wurde erzeugt mit\", str(counter), \"Versuchen\")"
   ]
  },
  {
   "cell_type": "markdown",
   "id": "3447664f-7eab-4e5d-898a-d0273f54049a",
   "metadata": {},
   "source": [
    "Eine gute grafische Darstellung des Zusammenhangs von `else` und `break` im While Loop stammt von [hier](https://www.pythontutorial.net/python-basics/python-while-else/).\n",
    "\n",
    "<img src=https://www.pythontutorial.net/wp-content/uploads/2020/10/Python-while-else.png>"
   ]
  },
  {
   "cell_type": "markdown",
   "id": "0a5490d2-e10d-4234-bfcf-b647af6071c4",
   "metadata": {},
   "source": [
    "<div class=\"gk-exercise\">\n",
    "\n",
    "Erstelle mit Hilfe eines While Loops ein Programm, welches\n",
    "\n",
    "- eine Zufallszahl \"würfelt\"\n",
    "- diese zu den bisherigen gewürfelten Zahlen addiert\n",
    "\n",
    "danach soll die Benutzerin fragt werden, ob sie weiter würfeln möchte. \n",
    "    \n",
    "Das Spiel endet entweder damit, dass die gewürfelte Summe grösser als 21 ist oder die Benutzerin die Frage des Computers nach dem Weiterwürfeln abschlägig beantwortet. Je nachdem sollen unterschiedliche Meldungen per `print()` ausgegeben werden.\n",
    "\n",
    "<details>\n",
    "  <summary>Tipps</summary>\n",
    "  <p>Nutze den While Loop mit Hilfe von <code>else</code> und <code>break</code></p>\n",
    "<details>\n",
    "    <summary>Tipp</summary>\n",
    "    <p>Frage die Nutzerin mit Hilfe von <code>input()</code>, ob sie weiterwürfeln möchte</p>\n",
    "</details>\n",
    "</details>\n",
    "    \n",
    "</div>"
   ]
  },
  {
   "cell_type": "code",
   "execution_count": null,
   "id": "a49f3bbe-ec63-485e-bd4b-441d5ad48d37",
   "metadata": {
    "deletable": false,
    "nbgrader": {
     "cell_type": "code",
     "checksum": "6a34ec45acb69e2dc7e2b65ddd52fc95",
     "grade": false,
     "grade_id": "cell-b57656cc8424450c",
     "locked": false,
     "schema_version": 3,
     "solution": true,
     "task": false
    },
    "tags": [
     "exercise"
    ]
   },
   "outputs": [],
   "source": [
    "from random import randrange\n",
    "# YOUR CODE HERE"
   ]
  },
  {
   "cell_type": "markdown",
   "id": "a7e3623a-4f0f-47f1-9832-c1b853790c19",
   "metadata": {},
   "source": [
    "# Logische Operatoren\n",
    "\n",
    "Bei [If Statements](../Lektion_06/If_else.ipynb#If-Statement) und  While Loops muss eine Bedingung geprüft werden. Wie können nun in einer solchen Situation mehrere und allenfalls verschachtelte Bedingungen geprüft werden? Dafür existieren die **logischen Operatoren**. Es soll nochmals obiges Beispiel verwendet werden, dieses Mal aber nicht mit `break`, sondern mit der Überprüfung der beiden Bedingungen vor Ausführung des While Loops:"
   ]
  },
  {
   "cell_type": "code",
   "execution_count": null,
   "id": "185a42c0-7069-4314-a13c-dd0a7b19989d",
   "metadata": {},
   "outputs": [],
   "source": [
    "from random import randrange\n",
    "\n",
    "number = 0\n",
    "counter = 0\n",
    "\n",
    "while number != 100 and counter <= 20:\n",
    "    number = randrange(101)\n",
    "    print(number)\n",
    "    counter += 1"
   ]
  },
  {
   "cell_type": "markdown",
   "id": "f6b288df-4a41-4c3e-a70c-c87fa4fcd19c",
   "metadata": {
    "tags": []
   },
   "source": [
    "## Mögliche logische Operatoren\n",
    "\n",
    "Die folgenden logischen Operatoren existieren:\n",
    "\n",
    "* `and`: logisches \"und\"\n",
    "* `or`: logisches \"oder\"\n",
    "* `not`: logisches \"nicht\", invertiert das Resultat"
   ]
  },
  {
   "cell_type": "markdown",
   "id": "29aba7d3-45dc-4f7f-87fd-66848b8e825f",
   "metadata": {},
   "source": [
    "## Verschachtelte Bedingungen\n",
    "\n",
    "Bedingungen können mit Hilfe der logischen Operatoren und Klammern beliebig kompliziert verschachtelt werden. Dabei werden Bedingungen innerhalb von Klammern zusammenhängend betrachtet (wie die Klammersetzung für Operatoren in der Mathematik)."
   ]
  },
  {
   "cell_type": "markdown",
   "id": "45961815-1038-49fb-aa5c-9bccc5203409",
   "metadata": {},
   "source": [
    "<div class=\"gk-exercise\">\n",
    "\n",
    "Erstelle ein Programm, welches zwei ganzzahlige Zufallszahlen zwischen 0 und 100 erzeugt. Im Falle, dass die erste Zahl grösser als die zweite Zahl ist, deren Summe aber nicht grösser als 50 ist, soll eine Erfolgsmeldung ausgegeben werden. Ebenso soll eine Erfolgsmeldung erzeugt werden, wenn die zweite Zahl grösser ist als die erste und entweder deren Differenz nicht grösser als 10 ist oder deren Produkt kleiner als 100.\n",
    "\n",
    "<details>\n",
    "  <summary>Tipps</summary>\n",
    "  <p>Nutze Klammern, um die Bedingungen zu gruppieren und starte bei der äussersten Bedingung.</p>\n",
    "<details>\n",
    "    <summary>Tipp</summary>\n",
    "    <p>Die äusserste Bedingung ist vom Typ <code>() or ()</code>.</p>\n",
    "</details>\n",
    "</details>\n",
    "    \n",
    "</div>"
   ]
  },
  {
   "cell_type": "code",
   "execution_count": null,
   "id": "10bd2a6e-c4f4-4b44-8563-b90f7e1f884a",
   "metadata": {
    "deletable": false,
    "nbgrader": {
     "cell_type": "code",
     "checksum": "61beea90fd1f10c7d2663be6d3683369",
     "grade": false,
     "grade_id": "cell-1bbf4867f486b922",
     "locked": false,
     "schema_version": 3,
     "solution": true,
     "task": false
    },
    "tags": [
     "exercise"
    ]
   },
   "outputs": [],
   "source": [
    "# YOUR CODE HERE"
   ]
  },
  {
   "cell_type": "markdown",
   "id": "d4efd095-f84e-4cc3-9665-12a6fc1f358b",
   "metadata": {},
   "source": [
    "# Schlussaufgabe"
   ]
  },
  {
   "cell_type": "markdown",
   "id": "27388529-771b-4a4e-9ced-59659b7ddd33",
   "metadata": {},
   "source": [
    "<div class=\"gk-exercise\">\n",
    "\n",
    "\n",
    "Schreibe ein Programm, welches mit Hilfe eines While Loops während 5 Sekunden Zufallszahlen \"würfelt\". Zähle dabei die Anzahl der erzeugten Zufallszahlen, um ein Gefühl für Die Geschwindigkeit von Computern zu erhalten.\n",
    "    \n",
    "<details>\n",
    "<summary>Tipps</summary>\n",
    "    <p>Importiere die Funktion<code>time()</code> aus dem Modul <code>time</code>, welche die Anzahl Sekunden seit dem ersten Januar 1970 zurückgibt. <a href=https://docs.python.org/3/library/time.html#time.time>Hier</a> geht's zur Dokumentation dieser Funktion.</p>\n",
    "\n",
    "<details>\n",
    "<summary>Tipp</summary>\n",
    "    <p>Speichere zu Beginn des Programms die Start Zeit in einer Variable und prüfe für den While Loop, ob die Differenz zwischen aktueller Zeit und Start Zeit grösser als 5 Sekunden ist.</p>\n",
    "</details>\n",
    "</details>\n",
    "\n",
    "</div>"
   ]
  },
  {
   "cell_type": "code",
   "execution_count": null,
   "id": "96a1d875-d3f1-4098-a86c-082fd1950b38",
   "metadata": {
    "deletable": false,
    "nbgrader": {
     "cell_type": "code",
     "checksum": "0e93706ee35c7afd52865e6dc0d55044",
     "grade": false,
     "grade_id": "cell-58f6b412988f78da",
     "locked": false,
     "schema_version": 3,
     "solution": true,
     "task": false
    },
    "tags": [
     "exercise"
    ]
   },
   "outputs": [],
   "source": [
    "from random import randrange\n",
    "from time import time\n",
    "\n",
    "# YOUR CODE HERE"
   ]
  },
  {
   "cell_type": "markdown",
   "id": "5eb7a97c-b096-44e2-b7dc-396aa2f284bf",
   "metadata": {},
   "source": [
    "# Zusammenfassung\n",
    "\n",
    "In dieser Lektion wurde die While-Schleife als Alternative zur For-Schleife vorgestellt, die geeignet ist, wenn vor dem Start der Schleife nicht klar ist, wie oft sie ausgeführt werden muss, um das Ziel zu erreichen. Der Ausgang aus einem While Loop kann mit Hilfe von `else` und `break` differenziert festgelegt werden. Weiter wurde aufgezeigt, wie bei der Prüfung von Bedingungen (bspw. für If Else und While Loops) verschiedene Bedingungen, mittels logischen Operatoren, geprüft resp. verschachtelt werden können."
   ]
  },
  {
   "cell_type": "markdown",
   "id": "caf198a1-823a-4ec6-b1fd-4fbfaf7d2be8",
   "metadata": {},
   "source": [
    "# Impressum\n",
    "\n",
    "<a rel=\"license\" href=\"http://creativecommons.org/licenses/by-sa/4.0/\"><img alt=\"Creative Commons Lizenzvertrag\" style=\"border-width:0\" src=\"https://mirrors.creativecommons.org/presskit/buttons/88x31/svg/by-sa.svg\" /></a><br />Dieses Werk ist lizenziert unter einer <a rel=\"license\" href=\"http://creativecommons.org/licenses/by-sa/4.0/\">Creative Commons Namensnennung - Weitergabe unter gleichen Bedingungen 4.0 International Lizenz</a>.\n",
    "\n",
    "\n",
    "Autoren: [Jakob Schärer](mailto:jakob.schaerer@unibe.ch), [Lionel Stürmer](mailto:lionel.stuermer@bfh.ch) <br>\n",
    "Ursprünglicher Text von: Noe Thalheim, Benedikt Hitz-Gamper\n",
    "\n",
    "\n",
    "\n",
    "```\n",
    "[\"hip\", \"hip\"]\n",
    "(hip hip array!)\n",
    "```"
   ]
  }
 ],
 "metadata": {
  "kernelspec": {
   "display_name": "GraphVis--oE0K6n0",
   "language": "python",
   "name": "python3"
  },
  "language_info": {
   "codemirror_mode": {
    "name": "ipython",
    "version": 3
   },
   "file_extension": ".py",
   "mimetype": "text/x-python",
   "name": "python",
   "nbconvert_exporter": "python",
   "pygments_lexer": "ipython3",
   "version": "3.12.3"
  },
  "toc-autonumbering": true
 },
 "nbformat": 4,
 "nbformat_minor": 5
}
