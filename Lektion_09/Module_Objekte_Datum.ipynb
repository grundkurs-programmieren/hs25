{
 "cells": [
  {
   "cell_type": "markdown",
   "id": "e3e91006-2cc9-48ce-9f96-37ed01ac49fb",
   "metadata": {},
   "source": [
    "<img src=\"https://i.imgur.com/XSzy00d.png\" style=\"float:right;width:150px\">\n",
    "\n",
    "**Module, Objekte und Datum**\n",
    "\n",
    "# Einleitung\n",
    "\n",
    "## Lernziele\n",
    "\n",
    "* Importieren von **Built-In Modulen**\n",
    "* Nutzung von Funktionen und Methoden aus importierten Modulen\n",
    "* Zusammenhang zwischen **Objekten, Klassen und Instanzen** verstehen\n",
    "* den Parameter **`self`** verstehen\n",
    "* Arbeiten mit **Uhrzeit und Datum** lernen\n",
    "* Nutzung von **Formatstrings** verstehen"
   ]
  },
  {
   "cell_type": "markdown",
   "id": "67b9e82b-19ee-40c5-946d-860a424fb821",
   "metadata": {
    "tags": []
   },
   "source": [
    "## Keywords\n",
    "\n",
    "<table class=\"gk-keywords\">\n",
    "<tr>\n",
    "    <td><code class=\"known\">False</code></td>\n",
    "    <td><code>await</code></td>\n",
    "    <td><code class=\"known\">else</code></td>\n",
    "    <td><code class=\"new\">import</code></td>\n",
    "    <td><code>pass</code></td>\n",
    "</tr>\n",
    "<tr>\n",
    "    <td><code class=\"known\">None</code></td>\n",
    "    <td><code class=\"known\">break</code></td>\n",
    "    <td><code class=\"known\">except</code></td>\n",
    "    <td><code class=\"known\">in</code></td>\n",
    "    <td><code>raise</code></td>\n",
    "</tr>\n",
    "<tr>\n",
    "    <td><code class=\"known\">True</code></td>\n",
    "    <td><code class=\"new\">class</code></td>\n",
    "    <td><code>finally</code></td>\n",
    "    <td><code>is</code></td>\n",
    "    <td><code class=\"known\">return</code></td>\n",
    "</tr>\n",
    "<tr>\n",
    "    <td><code class=\"known\">and</code></td>\n",
    "    <td><code>continue</code></td>\n",
    "    <td><code class=\"known\">for</code></td>\n",
    "    <td><code>lambda</code></td>\n",
    "    <td><code class=\"known\">try</code></td>\n",
    "</tr>\n",
    "<tr>\n",
    "    <td><code class=\"known\">as</code></td>\n",
    "    <td><code class=\"known\">def</code></td>\n",
    "    <td><code class=\"new\">from</code></td>\n",
    "    <td><code>nonlocal</code></td>\n",
    "    <td><code class=\"known\">while</code></td>\n",
    "</tr>\n",
    "<tr>\n",
    "    <td><code>assert</code></td>\n",
    "    <td><code>del</code></td>\n",
    "    <td><code class=\"known\">global</code></td>\n",
    "    <td><code class=\"known\">not</code></td>\n",
    "    <td><code class=\"known\">with</code></td>\n",
    "</tr>\n",
    "<tr>\n",
    "    <td><code>async</code></td>\n",
    "    <td><code class=\"known\">elif</code></td>\n",
    "    <td><code class=\"known\">if</code></td>\n",
    "    <td><code class=\"known\">or</code></td>\n",
    "    <td><code>yield</code></td>\n",
    "</tr>\n",
    "</table>"
   ]
  },
  {
   "cell_type": "markdown",
   "id": "146de800-39e9-4476-bcda-8d5048e60e0d",
   "metadata": {
    "tags": []
   },
   "source": [
    "# Module"
   ]
  },
  {
   "cell_type": "markdown",
   "id": "b0a19868-c15a-42e3-b535-97972f0056bc",
   "metadata": {},
   "source": [
    "Python ist modular aufgebaut. Das heisst, neben einem bestimmten Satz an schon vorhandenen Grundfunktionalitäten können **zusätzliche Funktionalitäten** mit der Hilfe von sogenannten **Modulen** hinzugefügt werden. Diese Module können selbst erstellt oder von anderen Entwicklern übernommen werden. Module sind nichts anderes als Dateien mit Python Code. Module können zusätzlich in sogenannte Packages gruppiert werden, was aber hier nicht weiter von Relevanz ist.\n",
    "\n",
    "Der modulare Aufbau hilft, Code übersichtlich zu organisieren. Die Idee von Modulen ist die **Wiederverwertbarkeit von Code**. Genau so wie eine Funktion dazu dient, einen bestimmten Code innerhalb eines Programms mehrfach auszuführen, dienen Module dazu, Programmcode über mehrere Projekte hinweg wiederverwenden zu können.\n",
    "\n",
    "## Ein bestehendes Modul verwenden\n",
    "\n",
    "Es existieren sogenannte [*Built-in Modules*](https://docs.python.org/3/py-modindex.html), welche einfach mit `import modulname` importiert werden können:"
   ]
  },
  {
   "cell_type": "code",
   "execution_count": null,
   "id": "67323678-9d95-4470-8208-67b3416c3caf",
   "metadata": {},
   "outputs": [],
   "source": [
    "import random\n",
    "\n",
    "x = random.randint(1,100)\n",
    "\n",
    "print(x)"
   ]
  },
  {
   "cell_type": "markdown",
   "id": "71062495-cd7a-4bfb-a377-4c99b063660a",
   "metadata": {},
   "source": [
    "Das Modul **random** stellt Funktionen zur Erzeugung von Zufallszahlen bereit. Sobald das Modul mit dem `import` Befehl nutzbar gemacht wurde, kann auf die Funktionen des Moduls zugegriffen werden, indem mit `random.funktion()` die entsprechenden Funktionen aufgerufen wird. Es muss also jeweils vor den eigentlichen Funktionsnamen, hier `randint()`, der Modulnamen, hier also `random` eingefügt werden. Diese [Punkt Notation](../Lektion_05/Listen_Methoden.ipynb#Punkt-Notation) ist schon von den Methoden her bekannt.\n",
    "\n",
    "Mit Hilfe der Funktion `dir()` können alle Funktionen (und Variablen) eines Moduls angezeigt werden:"
   ]
  },
  {
   "cell_type": "code",
   "execution_count": null,
   "id": "aa44e5f5-f53b-4430-8973-eac2d68149b2",
   "metadata": {},
   "outputs": [],
   "source": [
    "import random\n",
    "\n",
    "x = dir(random)\n",
    "\n",
    "print(x)"
   ]
  },
  {
   "cell_type": "markdown",
   "id": "dad2a65b-2de0-489c-aee0-d2645b0bf6de",
   "metadata": {},
   "source": [
    "Um ein Modul vernünftig verwenden zu können, muss aber typischerweise die Dokumentation zum Modul konsultiert werden. Die offizielle Dokumentation zu den Built-in Modules von Python befindet sich unter [docs.python.org](https://docs.python.org) und entsprechend für das Modul *random* [hier](https://docs.python.org/3/library/random.html). Sich in diesen Dokumentationen zurechtzufinden ist eine wichtige Kompetenz für das Programmieren.\n",
    "\n",
    "Wenn beispielsweise aufgrund einer Internet Recherche eine bestimme Funktion angewandt werden soll, muss immer klar sein, ob diese Funktion aus einem Modul stammt, das zuerst importiert werden muss. Ohne einen solchen Import resultiert eine Fehlermeldung:"
   ]
  },
  {
   "cell_type": "code",
   "execution_count": null,
   "id": "1ae72350-35c0-452e-9cb4-4d06f38046a8",
   "metadata": {
    "tags": [
     "raises-exception"
    ]
   },
   "outputs": [],
   "source": [
    "x = system()\n",
    "\n",
    "print(x)"
   ]
  },
  {
   "cell_type": "markdown",
   "id": "959b6d2d-4b89-4232-9b54-cd7c5032b43f",
   "metadata": {},
   "source": [
    "Erst nach dem Import des Modules `platform` kann die Funktion `system()` verwendet werden (die als Resultat ausgibt, auf welchem Betriebssystem der Jupyter Server läuft):"
   ]
  },
  {
   "cell_type": "code",
   "execution_count": null,
   "id": "6af14bb5-e167-49e0-a230-7a39645e6f9d",
   "metadata": {},
   "outputs": [],
   "source": [
    "import platform\n",
    "\n",
    "x = platform.system()\n",
    "\n",
    "print(x)"
   ]
  },
  {
   "cell_type": "markdown",
   "id": "98b079f3-c86e-4762-b8cd-7170af41e892",
   "metadata": {},
   "source": [
    "Beim Import von Modulen können diese auch umbenannt werden (das kann häufig gesehen werden in Tutorials, dass bestimmte Module unter einer gängigen Abkürzung importiert werden):"
   ]
  },
  {
   "cell_type": "code",
   "execution_count": null,
   "id": "7dbf50a2-9db7-48cf-9ad6-97d31b84abbd",
   "metadata": {},
   "outputs": [],
   "source": [
    "import random as r\n",
    "\n",
    "x = r.randint(1, 100)\n",
    "\n",
    "print(x)"
   ]
  },
  {
   "cell_type": "markdown",
   "id": "82185240-b671-401f-9251-103e7eb58c64",
   "metadata": {},
   "source": [
    "Es gibt auch die Möglichkeit, von einem Modul nur eine bestimmte Funktion zu importieren und diese Funktion dann ohne den davorgestellten Modulnamen zu verwenden:"
   ]
  },
  {
   "cell_type": "code",
   "execution_count": null,
   "id": "9eabf291-f8bc-45d9-86f1-3591a6777506",
   "metadata": {},
   "outputs": [],
   "source": [
    "from random import randint\n",
    "\n",
    "x = randint(1, 100)\n",
    "\n",
    "print(x)"
   ]
  },
  {
   "cell_type": "markdown",
   "id": "c5325ecd-805a-4360-b809-a2e024126733",
   "metadata": {},
   "source": [
    "<div class=\"gk-exercise\">\n",
    "\n",
    "Suche mit Hilfe des Internets ein Modul, welches eine Funktion zur Verfügung stellt, um das aktuelle Datum und die Uhrzeit auszugeben. Importiere dieses Modul und nutze die entsprechende Funktion.\n",
    "\n",
    "<details>\n",
    "<summary>Tipp</summary>\n",
    "    <p>Das zu verwendende Modul ist etwas irritierend, weil der Name des Moduls gleich lautet wie das zu verwendende Objekt im Modul mit den entsprechenden Funktionen, man muss also beim Aufruf der Funktion zweimal das gleiche \"Wort\" davor anhängen.</p>\n",
    "</details>\n",
    "</div>"
   ]
  },
  {
   "cell_type": "code",
   "execution_count": null,
   "id": "aa5e9cbf-5ba6-4f5f-b45e-89eb144c034b",
   "metadata": {
    "deletable": false,
    "nbgrader": {
     "cell_type": "code",
     "checksum": "beca27d3c914a831c73ef3f0c9f99e7a",
     "grade": false,
     "grade_id": "cell-35851a4955a2aefa",
     "locked": false,
     "schema_version": 3,
     "solution": true,
     "task": false
    },
    "tags": [
     "exercise"
    ]
   },
   "outputs": [],
   "source": [
    "# YOUR CODE HERE"
   ]
  },
  {
   "cell_type": "markdown",
   "id": "700eb627-96ec-4d90-a71b-316f608654b4",
   "metadata": {},
   "source": [
    "## Ein eigenes Modul erstellen\n",
    "\n",
    "Ein eigenes Modul kann ganz einfach erstellt werden, indem Python Code in einer Datei mit der Endung `.py` gespeichert wird. Der Inhalt dieser Datei kann dann als Modul importiert werden. Solche lokalen Module werden üblicherweise in einem separaten Ordner gespeichert. Um auf Module aus einem Ordner zugreifen zu können, muss der Ordnername beim Import (und bei der Nutzung des Moduls) mit einem Punkt `.` abgetrennt vorangestellt werden. Somit werden solche Module beim Import am besten gleich umbenannt, damit einfacher damit gearbeitet werden kann."
   ]
  },
  {
   "cell_type": "markdown",
   "id": "23286c40-aff5-4639-bb75-f25eae458b67",
   "metadata": {},
   "source": [
    "<div class=\"gk-exercise\">\n",
    "\n",
    "Importiere das lokal erstellte Modul 'happy_greetings' aus dem Ordner 'lib' unter dem Namen `hg`. Lass Dir die verfügbaren Möglichkeiten anzeigen und nutze die Funktion `nice_greeting()` aus dem Modul.\n",
    "</div>"
   ]
  },
  {
   "cell_type": "code",
   "execution_count": null,
   "id": "132e26a3-419d-4402-86ef-eb2d38a02b27",
   "metadata": {
    "deletable": false,
    "nbgrader": {
     "cell_type": "code",
     "checksum": "1e85ccd9af45148075acd901a0112d78",
     "grade": false,
     "grade_id": "cell-7c68e2fbf9ac4415",
     "locked": false,
     "schema_version": 3,
     "solution": true,
     "task": false
    },
    "tags": [
     "exercise"
    ]
   },
   "outputs": [],
   "source": [
    "# YOUR CODE HERE"
   ]
  },
  {
   "cell_type": "markdown",
   "id": "f8a1eb9e-fcd9-4db7-9c4a-e3e54bf91aac",
   "metadata": {
    "tags": []
   },
   "source": [
    "# Objekte"
   ]
  },
  {
   "cell_type": "markdown",
   "id": "e80b192a-8e84-4219-a75f-5495ae8a8214",
   "metadata": {},
   "source": [
    "Objekte und das damit verbundene **Objektorientierte Programmieren** (Object Oriented Programming), sind ein wichtiges und vielschichtiges Konzept beim Programmieren. Implizit wurde schon einiges über objektorientiertes Programmieren und Objekte vermittelt.\n",
    "\n",
    "Fast alles in Python ist ein Objekt. Zu einem Objekt gehören **Eigenschaften** (Properties) und **Methoden** (Methods). Eigenschaften sind Variablen, die an ein bestimmtes Objekt gebunden sind und Methoden sind Funktionen, die auf ein Objekt angewandt werden können."
   ]
  },
  {
   "cell_type": "markdown",
   "id": "0f6b3a2c-4b3a-44f3-93da-c3723d2fead2",
   "metadata": {},
   "source": [
    "## Instanzen und Klassen\n",
    "\n",
    "Objekte sind grundsätzlich Instanzen einer bestimmten Klasse. Die Klasse gibt vor, welche Eigenschaften in einer Instanz definiert werden müssen und welche Methoden auf das Objekt angewandt werden können. Objekte können mit Hilfe des Konstruktors der Klasse erstellt werden:"
   ]
  },
  {
   "cell_type": "code",
   "execution_count": null,
   "id": "32d906d8-9269-42e5-a10b-49486d63bfe7",
   "metadata": {},
   "outputs": [],
   "source": [
    "my_list = list(\"Python\")\n",
    "print(type(my_list))\n",
    "print(my_list)"
   ]
  },
  {
   "cell_type": "markdown",
   "id": "c1bfeaac-abf2-40aa-96bf-e611c7347b8a",
   "metadata": {},
   "source": [
    "Im obigen Beispiel wird ein Objekt `my_list` als Instanz der Klasse list erzeugt. Dies kann mit Hilfe der Funktion `type()` geprüft werden. Der Konstruktor einer Klasse heisst wie die Klasse selbst. Je nach Klasse benötigt der Konstruktor Parameter für die Erzeugung der Instanz. Der Konstruktor `list()` erzeugt aus dem übergebenen String für jedes Zeichen einen Listeneintrag. Für die erstellte Instanz der Klasse list können nun die Methoden mit Hilfe der Punkt Notation genutzt werden:"
   ]
  },
  {
   "cell_type": "code",
   "execution_count": null,
   "id": "b36e7d51-6ec5-4eb7-bc5d-73b267c40470",
   "metadata": {},
   "outputs": [],
   "source": [
    "my_list.append(42)\n",
    "print(my_list)"
   ]
  },
  {
   "cell_type": "markdown",
   "id": "dd0c98b3-f898-488a-8e54-7aa77e2645c0",
   "metadata": {},
   "source": [
    "Eine Auflistung aller Methoden einer Klasse oder einer Instanz kann mit der Funktion `dir()` erzeugt werden, dabei sind Methoden die mit doppelten Unterstrichen (bspw. `__init__`) versehen sind, spezielle Methoden, die nicht von der Benutzerin direkt aufgerufen werden:"
   ]
  },
  {
   "cell_type": "code",
   "execution_count": null,
   "id": "f5a53f51-56d5-44ef-999f-1c99a573b3cd",
   "metadata": {},
   "outputs": [],
   "source": [
    "dir(my_list)"
   ]
  },
  {
   "cell_type": "markdown",
   "id": "c11e35c0-476e-45fa-bb7a-c7ff9b7aa5eb",
   "metadata": {},
   "source": [
    "## Eigene Klassen definieren\n",
    "\n",
    "In Python können eigene **Klassen** definiert werden, welche als Vorlagen für ein bestimmtes Objekt dienen. Die Definition einer Klasse wird mit dem Keyword `class` eingeleitet. Die Konvention ist, dass Klassen mit einem Grossbuchstaben beginnen. Innerhalb der Klasse können Eigenschaften und Methoden definiert werden, auf welche mit der Punkt Notation zugegriffen werden kann. Um eine Instanz einer Klasse, also ein Objekt zu erzeugen, wird der **Konstruktor** einer Klasse aufgerufen. Dies geschieht durch Nutzung des Klassennamens mit Klammern `()`."
   ]
  },
  {
   "cell_type": "code",
   "execution_count": null,
   "id": "274a9e42-c30d-489f-8d67-f0419610c08b",
   "metadata": {},
   "outputs": [],
   "source": [
    "# Definition der Klasse und der Eigenschaft 'name'\n",
    "class Person:\n",
    "    name = \"Casandra\"\n",
    "\n",
    "# Erzeugen eines Objekts mit Hilfe des Konstruktors (Instanz der Klasse Person)    \n",
    "frau = Person()\n",
    "\n",
    "# Ausgabe einer Eigenschaft des Objekts\n",
    "print(frau.name)"
   ]
  },
  {
   "cell_type": "markdown",
   "id": "f97ba48a-2099-426b-9315-1637d4643e50",
   "metadata": {},
   "source": [
    "Eigenschaften von Objekten können auch nach der Erzeugung der Objekte noch geändert werden:"
   ]
  },
  {
   "cell_type": "code",
   "execution_count": null,
   "id": "2c185c20-2aa6-498e-aca6-08c568c18abd",
   "metadata": {},
   "outputs": [],
   "source": [
    "frau_2 = Person()\n",
    "\n",
    "print(frau_2.name)\n",
    "\n",
    "frau_2.name = \"Sabine\"\n",
    "\n",
    "print(frau_2.name)"
   ]
  },
  {
   "cell_type": "markdown",
   "id": "cb3f79bf-508d-4bc9-9cd4-ac141d393204",
   "metadata": {},
   "source": [
    "Jetzt ist es nicht sehr sinnvoll, wenn die Eigenschaften \"fest\" in die Klasse einprogrammiert sind. Schliesslich soll im Beispiel jede Person einen individuellen Namen haben. Dies wird dadurch erreicht, dass der Konstruktor einer Klasse explizit definiert wird. Der Konstruktor ist eine spezielle Methode jeder Klasse, die den Namen `__init__` trägt (die beiden Linien vor und nach `init` sind je zwei aneinander gehängt Unterstriche):"
   ]
  },
  {
   "cell_type": "code",
   "execution_count": null,
   "id": "09827541-1c06-4f4c-b2d0-b105b89089be",
   "metadata": {
    "tags": []
   },
   "outputs": [],
   "source": [
    "class Person:\n",
    "    def __init__(self, name):\n",
    "        self.name = name\n",
    "        \n",
    "frau = Person(\"Casandra\")\n",
    "\n",
    "print(frau.name)"
   ]
  },
  {
   "cell_type": "markdown",
   "id": "50d4ea3e-47b3-4038-9e9a-a366e22d670d",
   "metadata": {},
   "source": [
    "## Der Parameter `self`\n",
    "\n",
    "Weil ja im Konstruktor Zugriff auf das in Erstellung befindliche Objekt benötigt wird (bspw. um die Eigenschaften des Objektes festzulegen), muss das Objekt an den Konstruktor übergeben werden. Dies geschieht mit dem Parameter `self`. Dass dieser Parameter `self` genannt wird, ist Konvention, er muss aber an erster Stelle stehen. Somit kann dann innerhalb des Konstruktors das zu erstellende Objekt beliebig manipuliert werden. Unter anderem können Eigenschaften festgelegt werden. Dazu kommt die Punkt-Notation zum Einsatz mit `self.eigenschaft`.\n",
    "\n",
    "Im Beispiel oben ist zusätzlich verwirrlich, dass `name` zweimal vorkommt und dass die beiden Vorkommnisse prinzipiell nichts miteinander zu tun haben: `self.name` ist die Eigenschaft `name` des zu erstellenden Objekts. `name` ist der zweite Parameter, der dem Konstruktor übergeben wird.\n",
    "\n",
    "Bei der Erstellung des Objekts wird beim Aufruf des Konstruktors dann aber nur der zweite (und allfällige weitere) Parameter übergeben, `self` muss nie übergeben werden."
   ]
  },
  {
   "cell_type": "markdown",
   "id": "c6d0a1da-7637-4594-bfe4-fe5323ba2843",
   "metadata": {
    "tags": []
   },
   "source": [
    "<div class=\"gk-exercise\">\n",
    "\n",
    "Erstelle eine Klasse `Auto`, definiere einen Konstruktor, der die Eigenschaften `marke`, `modell` und `farbe` des Objektes festlegt. Erstellen anschliessend zwei verschiedene Objekte der Klasse `Auto` mit unterschiedlichen Eigenschaften und gib diese per `print()` Befehl aus.\n",
    "</div>"
   ]
  },
  {
   "cell_type": "code",
   "execution_count": null,
   "id": "3cf997b7-f5ae-47bc-8e41-c6c5e8fbe46e",
   "metadata": {
    "deletable": false,
    "nbgrader": {
     "cell_type": "code",
     "checksum": "f1e4b1add21f5d693a86bc690d31cdad",
     "grade": false,
     "grade_id": "cell-14eb614dc82a90aa",
     "locked": false,
     "schema_version": 3,
     "solution": true,
     "task": false
    },
    "tags": [
     "exercise"
    ]
   },
   "outputs": [],
   "source": [
    "# YOUR CODE HERE"
   ]
  },
  {
   "cell_type": "markdown",
   "id": "605488b6-8ce6-42c8-9d96-e47b1788630e",
   "metadata": {},
   "source": [
    "## Methoden definieren\n",
    "\n",
    "Objekte haben nicht nur Eigenschaften, sondern auch Methoden. Diese können ebenfalls in der Klassendefinition festgelegt werden:"
   ]
  },
  {
   "cell_type": "code",
   "execution_count": null,
   "id": "c60cd8cb-75ba-4203-b5ef-ec4b2ee95f1d",
   "metadata": {},
   "outputs": [],
   "source": [
    "class Person:\n",
    "    def __init__(self, name, geschlecht):\n",
    "        self.name = name\n",
    "        self.geschlecht = geschlecht\n",
    "        \n",
    "    def guten_tag(self):\n",
    "        if self.geschlecht == \"M\":\n",
    "            print(\"Hallo lieber\", self.name)\n",
    "        elif self.geschlecht == \"F\":\n",
    "            print(\"Hallo liebe\", self.name)\n",
    "        else:\n",
    "            print(\"Hallo liebe*r\", self.name)\n",
    "            \n",
    "frau = Person(\"Casandra\", \"F\")\n",
    "non_binaer = Person(\"Andrea\", \"nicht binär\")\n",
    "\n",
    "frau.guten_tag()\n",
    "non_binaer.guten_tag()"
   ]
  },
  {
   "cell_type": "markdown",
   "id": "600c3627-f5e2-4bfe-97db-437c58974741",
   "metadata": {},
   "source": [
    "Auch bei Methoden ist der jeweils erste Parameter das Objekt selbst mit dem Namen `self`."
   ]
  },
  {
   "cell_type": "markdown",
   "id": "289ccc7d-c360-4756-8c53-cdbb319fe647",
   "metadata": {},
   "source": [
    "## Vererbung\n",
    "\n",
    "Eine wichtige Eigenschaft des objektorientierten Programmierens ist die **Vererbung** (*Inheritance*). Damit ist gemeint, dass neue Klassen Eigenschaften und Methoden von bestehenden Klassen übernehmen können, weil sie ihnen vererbt wurden. Vererbung wird typischerweise gebraucht, um Objekte entlang einer Objekthierarchie von sehr generischen Objekten hin zu immer spezifischeren Objekten zu entwickeln:"
   ]
  },
  {
   "cell_type": "code",
   "execution_count": null,
   "id": "8b192c9e-a1eb-43bc-a7af-7fa5f24eecf7",
   "metadata": {},
   "outputs": [],
   "source": [
    "from random import randint\n",
    "\n",
    "class Studierende_Person(Person):\n",
    "    def __init__(self, name, geschlecht, matrikel_nr):\n",
    "        super().__init__(name, geschlecht)\n",
    "        self.matrikel_nr = matrikel_nr\n",
    "        \n",
    "    def mutmasse_erfolg(self):\n",
    "        print(\"Mutmassliche Schlussnote:\", randint(1,6))\n",
    "        \n",
    "studi = Studierende_Person(\"Bastian\", \"M\", \"21-001-001\")\n",
    "\n",
    "studi.guten_tag()\n",
    "print(\"Die Matrikelnummer lautet:\", studi.matrikel_nr)\n",
    "studi.mutmasse_erfolg()\n",
    "    "
   ]
  },
  {
   "cell_type": "markdown",
   "id": "c744129b-8a4d-4ca8-89ce-8627d4d35b82",
   "metadata": {},
   "source": [
    "Bei der Definition der erbenden Klasse, wird in Klammern `()` die Klasse angegeben, von der geerbt werden soll. In der Definition des Konstruktors `__init__` kann auf den Konstruktor der Superklasse (diejenige Klasse, die vererbt) zurückgegriffen werden. Dies geschieht mit der Funktion `super()`. Beim expliziten Aufruf dieses Kontruktors muss `self` nicht übergeben werden.\n",
    "\n",
    "Anschliessend können in der erbenden Klasse wiederum neue Eigenschaften und Methoden definiert werden.\n",
    "\n",
    "Wenn man sich nicht sicher ist, von welcher Klasse ein Objekt ist, kann das mit der Funktion `type()` geprüft werden:"
   ]
  },
  {
   "cell_type": "code",
   "execution_count": null,
   "id": "54f4c960-9433-4ad4-8921-6e38e0edc523",
   "metadata": {
    "tags": []
   },
   "outputs": [],
   "source": [
    "print(type(studi))"
   ]
  },
  {
   "cell_type": "markdown",
   "id": "73e038f1-9a91-44ba-8eb7-4ac34b6390f8",
   "metadata": {},
   "source": [
    "# Datum und Zeit"
   ]
  },
  {
   "cell_type": "markdown",
   "id": "93e484ee-13f7-4d10-a145-78b41279a1c4",
   "metadata": {},
   "source": [
    "Beim Programmieren wird es früher oder später um das Arbeiten mit Datum und Zeit gehen. Dies bring ein paar neue Herausforderungen mit sich.\n",
    "\n",
    "## Datum und Zeit als Strings\n",
    "\n",
    "Häufig sind Datum und Zeit als String gegeben resp. werden aus einer Datei von einer API als String eingelesen. Das Problem dabei ist, dass es keine einheitliche Darstellung dieser Strings gibt:\n",
    "\n",
    "`\"03/04/2022\"` könnte dabei der 4. März oder der 3. April bedeuten, je nach Land/Domain gibt es hier unterschiedliche Traditionen. Ein weiteres Problem ist, dass sich mit Strings nicht arithmetisch rechnen lässt. Es ist also nicht möglich, die Anzahl Tage zwischen `\"01.12.2001\"` und `\"31.01.2018\"` direkt zu berechnen.\n",
    "\n",
    "Deshalb gibt es die Möglichkeit, Zeit- und Datumsangaben aus Strings in bestimmte Objekte zu verwandeln, die einerseits eindeutig sind und mit denen sich auch rechnen lässt.\n",
    "\n",
    "## Datum und Zeit aus einem String einlesen\n",
    "\n",
    "Eine wichtige Hilfe beim Arbeiten mit Datum und Zeit ist das Modul `datetime`, dessen Dokumentation [hier](https://docs.python.org/3/library/datetime.html) zu finden ist. Um aus einem String ein Objekt vom Typ `datetime` zu erzeugen, hilft die Funktion `strptime()`:"
   ]
  },
  {
   "cell_type": "code",
   "execution_count": null,
   "id": "865f7aaa-dc37-415a-83d7-852f3d76cce8",
   "metadata": {},
   "outputs": [],
   "source": [
    "import datetime\n",
    "\n",
    "datetime_string = \"01/04/2022, 13:30:00\"\n",
    "\n",
    "datetime_object = datetime.datetime.strptime(datetime_string, \"%m/%d/%Y, %H:%M:%S\")\n",
    "\n",
    "type(datetime_object)"
   ]
  },
  {
   "cell_type": "markdown",
   "id": "6391d2a1-6983-4d91-8690-17f949fb465b",
   "metadata": {},
   "source": [
    "Da das Modul `datetime` sehr umfangreich ist, werden innerhalb dieses Moduls verschiedene Klassen von Objekten rund um Datum und Zeit definiert (im Gegensatz zu bspw. dem `random` Modul, das keine solchen Subklassen kennt). Die Dokumentation nennt folgende [Klassen](https://docs.python.org/3/library/datetime.html#available-types):\n",
    "\n",
    "- class datetime.date\n",
    "- class datetime.time\n",
    "- class datetime.datetime\n",
    "- class datetime.timedelta\n",
    "- class datetime.tzinfo\n",
    "- class datetime.timezone\n",
    "\n",
    "Das führt dazu, dass wenn die Methode [`strptime()`](https://docs.python.org/3/library/datetime.html#datetime.datetime.strptime) der Klasse `datetime` aus dem Modul `datetime` mit Hilfe der Punkt-Notation angesprochen werden soll, der folgenden Aufruf nötig ist: `datetime.datetime.strptime()`. Diese Funktion `strptime()` braucht einerseits den String mit dem Datum resp. der Zeit und andererseits einen **Formatstring**, der der Funktion mitteilt, welche Teile im String welche Bestandteile eines Datums sind (Tage, Stunden, Jahre, Minuten, etc.) und in welchem Format diese gegeben sind (bspw. Jahr nur zweistellig oder vierstellig). Wie ein solcher Formatstring zusammengesetzt werden kann, ist bspw. [hier](https://docs.python.org/3/library/datetime.html#strftime-strptime-behavior) erklärt."
   ]
  },
  {
   "cell_type": "markdown",
   "id": "4f08a0a9-bc55-4cc9-88f7-c03c54e0d077",
   "metadata": {},
   "source": [
    "## Rechnen mit Zeit und Datum\n",
    "\n",
    "Mit `datetime` Objekten kann gerechnet werden und wenn der Aufruf der einzelnen Methoden der Klasse `datetime` etwas eleganter sein soll, kann statt des Moduls `datetime` nur die Klasse `datetime` aus dem Modul importiert werden:"
   ]
  },
  {
   "cell_type": "code",
   "execution_count": null,
   "id": "4aae24ca-98de-45a8-b653-3959b96399f0",
   "metadata": {},
   "outputs": [],
   "source": [
    "from datetime import datetime\n",
    "\n",
    "birthday_guido_string = \"31.01.1956\"\n",
    "\n",
    "birthday_guido = datetime.strptime(birthday_guido_string, \"%d.%m.%Y\")\n",
    "\n",
    "print(\"Der Begründer von Python, Guido van Rossum, ist heute\", datetime.now() - birthday_guido, \"alt.\")"
   ]
  },
  {
   "cell_type": "markdown",
   "id": "c25a63e1-c184-4c89-b821-a6e2de88a79d",
   "metadata": {},
   "source": [
    "`datetime.datetime.now()` gibt dabei das aktuelle Datum und Uhrzeit zurück. Da hier eigentlich nur die Differenz in Tagen interessiert, kann folgender Code verwendet werden:"
   ]
  },
  {
   "cell_type": "code",
   "execution_count": null,
   "id": "54424e23-4413-486a-99e7-f57821428f27",
   "metadata": {},
   "outputs": [],
   "source": [
    "from datetime import datetime, timedelta\n",
    "\n",
    "birthday_guido_string = \"31.01.1956\"\n",
    "\n",
    "birthday_guido = datetime.strptime(birthday_guido_string, \"%d.%m.%Y\")\n",
    "\n",
    "diff = datetime.now() - birthday_guido\n",
    "\n",
    "print(type(diff))\n",
    "\n",
    "print(\"Der Begründer von Python, Guido van Rossum, ist heute\", diff.days, \"Tage alt.\")"
   ]
  },
  {
   "cell_type": "markdown",
   "id": "270d2511-ca90-4a94-991f-68792015dee8",
   "metadata": {},
   "source": [
    "Der Ausdruck `diff.days` ergibt den richtigen Wert in Tagen, weil die Differenz von zwei Werten der Klasse `datetime.datetime` ein Objekt der Klasse `datetime.timedelta` ergibt, welches gemäss der [Dokumentation](https://docs.python.org/3/library/datetime.html#timedelta-objects) die Eigenschaft `days` aufweist."
   ]
  },
  {
   "cell_type": "markdown",
   "id": "30ec68fd-a719-4d18-af16-c15f9d8fad3f",
   "metadata": {},
   "source": [
    "## Zeit und Datum als String ausgeben\n",
    "\n",
    "Objekte vom Typ `datetime.datetime` lassen sich wiederum als String ausgeben. Dazu wird die Methode `strftime()` verwendet, die wiederum einen Formatstrings benötigt:"
   ]
  },
  {
   "cell_type": "code",
   "execution_count": null,
   "id": "bc6b0735-3dde-4cc7-a913-372ba9621acf",
   "metadata": {},
   "outputs": [],
   "source": [
    "from datetime import datetime\n",
    "\n",
    "now = datetime.now()\n",
    "\n",
    "print(\"Aktuelle Zeit:\", now.strftime(\"%H:%M:%S\"), \"aktuelles Datum:\", now.strftime(\"%d.%m.%Y\"))"
   ]
  },
  {
   "cell_type": "markdown",
   "id": "f6fe1e31-e90d-4896-be99-0c87955ac75c",
   "metadata": {},
   "source": [
    "Der Grund dafür, dass die Uhrzeit nicht stimmt, hat die Ursache bei den Zeitzonen. Dies kann umgangen werden, wenn für die Funktion `now()` mit Hilfe des Moduls `pytz` eine Zeitzone angegeben wird:"
   ]
  },
  {
   "cell_type": "code",
   "execution_count": null,
   "id": "40296d92-a3a3-4d0d-b664-8a4b132f9389",
   "metadata": {},
   "outputs": [],
   "source": [
    "from datetime import datetime\n",
    "import pytz\n",
    "\n",
    "now = datetime.now(pytz.timezone(\"Europe/Zurich\"))\n",
    "\n",
    "print(\"Aktuelle Zeit:\", now.strftime(\"%H:%M:%S\"), \"aktuelles Datum:\", now.strftime(\"%d.%m.%Y\"))"
   ]
  },
  {
   "cell_type": "markdown",
   "id": "e0e74ef9-3842-4542-8f13-010da1e8c812",
   "metadata": {},
   "source": [
    "Das Arbeiten mit Zeitzonen ist allerdings schnell komplex und hier im Grundkurs Programmieren soll nicht vertiefter darauf eingegangen werden."
   ]
  },
  {
   "cell_type": "markdown",
   "id": "578547d3-8ac7-484f-878f-346c43264723",
   "metadata": {},
   "source": [
    "# Schlussaufgabe"
   ]
  },
  {
   "cell_type": "markdown",
   "id": "b26f23a6-3953-4c28-ab48-0f50eea564a6",
   "metadata": {},
   "source": [
    "<div class=\"gk-exercise\">\n",
    "\n",
    "Definiere eine Klasse `Exam`, die die Eigenschaften `subject` und `date` aufweist. Dabei soll `subject` mit dem Konstruktor als String übergeben werden und `date` soll bei der Erzeugung der Instanz zufällig gewählt werden. Die Klasse soll eine Methode `success()` aufweisen, die je nach Dauer bis zur Prüfung unterschiedliche Erfolgsprognosen ausspricht: Ist die Prüfung in weniger als 100 Tagen, sei der Erfolg ungewiss, zwischen 100 und 250 Tagen seien die Aussichten optimal und darüber wieder schlechter.\n",
    "\n",
    "<details>\n",
    "<summary>Tipps</summary>\n",
    "    <p>Um das zufällige Datum zu erstellen, erzeuge entweder einen String bestehend aus drei Blöcken mit ganzen Zufallszahlen, so dass das Resultat in der Form \"dd.mm.YYYY\" ist. Denke daran, dass nicht alle Kombinationen ein gültiges Datum ergeben. Diesen String kannst Du dann mit Hilfe von <code>datetime.datetime.strptime()</code> in ein Datum umwandeln. Oder Du nutzt die Möglichkeit, ein Objekt vom Typ <code>datetime.timedelta</code> zu erstellen. Bei der Konstruktion dieses Objektes kann die Zeitdifferenz als eine Anzahl Tage (hier zufällig) angegeben werden. Nutze dazu die Dokumentation von Python.</p>\n",
    "<details>\n",
    "<summary>Tipp</summary>\n",
    "    <p>Nutze die Eigenschaft <code>datetime.timedelta.days</code>, um die Datumsdifferenz in Tagen zu erhalten.</p>\n",
    "</details>\n",
    "</details>\n",
    "\n",
    "</div>"
   ]
  },
  {
   "cell_type": "code",
   "execution_count": null,
   "id": "c44b1623-757b-45a9-8c6f-2cb49964d133",
   "metadata": {
    "deletable": false,
    "nbgrader": {
     "cell_type": "code",
     "checksum": "81185f41c023052dd52c90b23e8a19e9",
     "grade": false,
     "grade_id": "cell-f82e6cd72ba4a4f5",
     "locked": false,
     "schema_version": 3,
     "solution": true,
     "task": false
    },
    "tags": [
     "raises-exception",
     "exercise"
    ]
   },
   "outputs": [],
   "source": [
    "# YOUR CODE HERE\n",
    "\n",
    "programming = Exam(\"Grundkurs Programmieren\")\n",
    "programming.success()\n",
    "french = Exam(\"Französische Literatur\")                                                       \n",
    "french.success()"
   ]
  },
  {
   "cell_type": "markdown",
   "id": "5eb7a97c-b096-44e2-b7dc-396aa2f284bf",
   "metadata": {},
   "source": [
    "# Zusammenfassung\n",
    "\n",
    "In dieser Lektion wurde das Arbeiten mit Funktionen und Methoden aus importierten Modulen erlernt. Es wurde der Unterschied zwischen Built-In Modulen und selber erstellten Modulen aufgezeigt. Anschliessend wurde das Konzept der Objekte etwas vertiefter eingeführt. Es wurde gezeigt, dass Objekte Instanzen von Klassen sind und diese über Eigenschaften und Methoden verfügen, die über die Punkt Notation angewandt werden können. Schlussendlich wurde das Arbeiten mit Datum und Uhrzeit eingeführt und gezeigt, wie Strings in Daten umgewandelt werden können und umgekehrt."
   ]
  },
  {
   "cell_type": "markdown",
   "id": "eabd413f-27de-4c6a-ac13-911a7ebfd1d5",
   "metadata": {},
   "source": [
    "# Impressum\n",
    "\n",
    "<a rel=\"license\" href=\"http://creativecommons.org/licenses/by-sa/4.0/\"><img alt=\"Creative Commons Lizenzvertrag\" style=\"border-width:0\" src=\"https://mirrors.creativecommons.org/presskit/buttons/88x31/svg/by-sa.svg\" /></a><br />Dieses Werk ist lizenziert unter einer <a rel=\"license\" href=\"http://creativecommons.org/licenses/by-sa/4.0/\">Creative Commons Namensnennung - Weitergabe unter gleichen Bedingungen 4.0 International Lizenz</a>.\n",
    "\n",
    "Autoren: [Jakob Schärer](mailto:jakob.schaerer@unibe.ch), [Lionel Stürmer](mailto:lionel.stuermer@bfh.ch) <br>\n",
    "Ursprünglicher Text von: Noe Thalheim, Benedikt Hitz-Gamper\n",
    "\n",
    "\n",
    "```\n",
    "Q: What's the object-oriented way to become wealthy?\n",
    "\n",
    "A: Inheritance\n",
    "```"
   ]
  }
 ],
 "metadata": {
  "kernelspec": {
   "display_name": "GraphVis--oE0K6n0",
   "language": "python",
   "name": "python3"
  },
  "language_info": {
   "codemirror_mode": {
    "name": "ipython",
    "version": 3
   },
   "file_extension": ".py",
   "mimetype": "text/x-python",
   "name": "python",
   "nbconvert_exporter": "python",
   "pygments_lexer": "ipython3",
   "version": "3.12.3"
  },
  "toc-autonumbering": true
 },
 "nbformat": 4,
 "nbformat_minor": 5
}
