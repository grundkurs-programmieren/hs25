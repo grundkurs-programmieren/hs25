{
 "cells": [
  {
   "cell_type": "markdown",
   "id": "4609f6ef-5828-439e-9416-29dd86fcfc88",
   "metadata": {},
   "source": [
    "<img src=\"https://i.imgur.com/XSzy00d.png\" style=\"float:right;width:150px\">\n",
    "\n",
    "**If und else**\n",
    "\n",
    "# Einleitung\n",
    "\n",
    "## Lernziele\n",
    "\n",
    "* Sie können **Bedingungen** formulieren und evaluieren\n",
    "* Sie können mit Hilfe eines **If Statements** Quelltext bedingt ausführen\n",
    "* Sie verstehen wie in einem Quelltext eine Fallunterscheidung mit einem **If Statement** gemacht werden kann\n",
    "* Sie verstehen den Einfluss der Reihenfolge von **Elif Statements**\n",
    "* Sie können einzelne Bedingungen **verschachteln**\n",
    "* Sie können neue Listen mit Hilfe der **List Comprehensions** erstellen"
   ]
  },
  {
   "cell_type": "markdown",
   "id": "19318963-d4eb-4e1d-bfb8-aeb022067657",
   "metadata": {
    "tags": []
   },
   "source": [
    "## Keywords\n",
    "\n",
    "<table class=\"gk-keywords\">\n",
    "<tr>\n",
    "    <td><code class=\"new\">False</code></td>\n",
    "    <td><code>await</code></td>\n",
    "    <td><code class=\"new\">else</code></td>\n",
    "    <td><code>import</code></td>\n",
    "    <td><code>pass</code></td>\n",
    "</tr>\n",
    "<tr>\n",
    "    <td><code>None</code></td>\n",
    "    <td><code>break</code></td>\n",
    "    <td><code class=\"known\">except</code></td>\n",
    "    <td><code class=\"known\">in</code></td>\n",
    "    <td><code>raise</code></td>\n",
    "</tr>\n",
    "<tr>\n",
    "    <td><code class=\"new\">True</code></td>\n",
    "    <td><code>class</code></td>\n",
    "    <td><code>finally</code></td>\n",
    "    <td><code>is</code></td>\n",
    "    <td><code class=\"known\">return</code></td>\n",
    "</tr>\n",
    "<tr>\n",
    "    <td><code>and</code></td>\n",
    "    <td><code>continue</code></td>\n",
    "    <td><code class=\"known\">for</code></td>\n",
    "    <td><code>lambda</code></td>\n",
    "    <td><code class=\"known\">try</code></td>\n",
    "</tr>\n",
    "<tr>\n",
    "    <td><code>as</code></td>\n",
    "    <td><code class=\"known\">def</code></td>\n",
    "    <td><code>from</code></td>\n",
    "    <td><code>nonlocal</code></td>\n",
    "    <td><code>while</code></td>\n",
    "</tr>\n",
    "<tr>\n",
    "    <td><code>assert</code></td>\n",
    "    <td><code>del</code></td>\n",
    "    <td><code class=\"known\">global</code></td>\n",
    "    <td><code>not</code></td>\n",
    "    <td><code>with</code></td>\n",
    "</tr>\n",
    "<tr>\n",
    "    <td><code>async</code></td>\n",
    "    <td><code class=\"new\">elif</code></td>\n",
    "    <td><code class=\"new\">if</code></td>\n",
    "    <td><code>or</code></td>\n",
    "    <td><code>yield</code></td>\n",
    "</tr>\n",
    "</table>"
   ]
  },
  {
   "cell_type": "markdown",
   "id": "1b322780-46f9-484b-a2e5-ab9813344b77",
   "metadata": {
    "tags": []
   },
   "source": [
    "# Bedingungen\n",
    "\n",
    "Im aktuellen Notebook geht es um Entscheidungsprozesse, genauer gesagt um Codeblöcke welche nur aufgrund einer **Bedingung** ausgeführt werden sollen. \n",
    "\n",
    "## Formulierung und Evaluation von Bedingungen\n",
    "\n",
    "Bedingungen sind entweder *erfüllt* oder *nicht erfüllt*. Es gibt in diesem Fall keine Zwischentöne. Das Resultat einer Auswertung einer Bedingung (Evaluation der Bedingung) ist also immer entweder **Wahr** oder **Falsch**. Eine solche binäre Variable hat sogar einen eigenen Datentyp: **Boolean** oder **boolesche Variable**. Eine Variable, die also nur entweder `True` oder `False` speichern kann. Die Evaluation einer Bedingung führt also immer zu einem Resultat vom Typ Boolean.\n",
    "\n",
    "Bedingungen können als mathematische Gleichungen oder Ungleichungen mit Hilfe von **Vergleichsoperatoren** formuliert werden:"
   ]
  },
  {
   "cell_type": "code",
   "execution_count": null,
   "id": "6f9e8827-7ea3-4698-95e2-7d16b4290f6d",
   "metadata": {
    "tags": []
   },
   "outputs": [],
   "source": [
    "5 > 4"
   ]
  },
  {
   "cell_type": "code",
   "execution_count": null,
   "id": "ee0aca2f-76b6-43aa-8b15-11e48a8b86d5",
   "metadata": {
    "tags": []
   },
   "outputs": [],
   "source": [
    "5 < 2"
   ]
  },
  {
   "cell_type": "markdown",
   "id": "a2ced7f5-0c08-4a77-b065-24b2ecca9235",
   "metadata": {},
   "source": [
    "Das Ausführen einer Bedingung (Condition) gibt also ein `True` oder `False` zurück. Mögliche Vergleichsoperatoren sind:\n",
    "\n",
    "* `==` : gleich\n",
    "* `!=` : ungleich\n",
    "* `< ` : kleiner als\n",
    "* `> ` : grösser als\n",
    "* `<=` : kleiner oder gleich\n",
    "* `>=` : grösser oder gleich\n",
    "\n",
    "Dabei ist zu beachten, dass der Gleicheitsoperator nicht das einzelne `=` Zeichen, sondern ein doppeltes `==` Zeichen ist. Das hängt damit zusammen, dass das einfache `=` Zeichen ja zur Zuweisung einer Variable benützt wird."
   ]
  },
  {
   "cell_type": "markdown",
   "id": "1175d1c8-aac9-4a79-8c5d-151a70a7c880",
   "metadata": {},
   "source": [
    "Das Resultat eines Vergleichs (der auch mit Hilfe von Variablen gemacht werden kann) kann direkt einer Variable zugewiesen werden und der Datentyp dieser Variable kann untersucht werden:"
   ]
  },
  {
   "cell_type": "code",
   "execution_count": null,
   "id": "53d7f62f-9932-442f-b3a7-c5bfb617ab39",
   "metadata": {
    "tags": []
   },
   "outputs": [],
   "source": [
    "a = 5\n",
    "result = a <= 4\n",
    "print(type(result))\n",
    "print(result)"
   ]
  },
  {
   "cell_type": "markdown",
   "id": "92911b27-5651-4800-82cc-fd5fd0f195df",
   "metadata": {},
   "source": [
    "Oder etwas ungewohnt die Zuweisung einer Gleichheitsprüfung:"
   ]
  },
  {
   "cell_type": "code",
   "execution_count": null,
   "id": "35220ab0-40e4-4c81-88c9-537eff981498",
   "metadata": {
    "tags": []
   },
   "outputs": [],
   "source": [
    "a = 10\n",
    "result = 10 == a\n",
    "print(result)"
   ]
  },
  {
   "cell_type": "markdown",
   "id": "43fee485-b364-4a4a-9a21-3d4a70961297",
   "metadata": {},
   "source": [
    "<div class=\"gk-exercise\">\n",
    "\n",
    "Was ist das Resultat des folgenden Vergleichs?\n",
    "    \n",
    "</div>"
   ]
  },
  {
   "cell_type": "code",
   "execution_count": null,
   "id": "5ef27418-22b9-425f-94a4-a7111e0c0e4e",
   "metadata": {
    "tags": []
   },
   "outputs": [],
   "source": [
    "True != False"
   ]
  },
  {
   "cell_type": "markdown",
   "id": "69e4e54e-772b-4922-bf58-e9e5816de655",
   "metadata": {},
   "source": [
    "---"
   ]
  },
  {
   "cell_type": "markdown",
   "id": "3292f56b-f04f-44dc-85da-0886d009ad8b",
   "metadata": {},
   "source": [
    "<div class=\"gk-exercise\">\n",
    "\n",
    "Was ist das Resultat des folgenden Vergleichs und wieso ist das Resultat unerwartet?\n",
    "    \n",
    "</div>"
   ]
  },
  {
   "cell_type": "code",
   "execution_count": null,
   "id": "617a8aae-7c56-415e-8e64-6533c87ad8fe",
   "metadata": {
    "tags": []
   },
   "outputs": [],
   "source": [
    "0.1 + 0.2 == 0.3"
   ]
  },
  {
   "cell_type": "markdown",
   "id": "41669b7e-c92f-470d-b9f7-2b6225590a95",
   "metadata": {},
   "source": [
    "> Bei Gleichheitsprüfungen mit nicht Integer-Zahlen (also Zahlen mit Nachkommastelle, sogenannte *Float* Zahlen oder *Floats*) können unerwartete Ergebnisse auftreten:"
   ]
  },
  {
   "cell_type": "markdown",
   "id": "78b2fcb0-40a3-46e3-9424-99e975e45d58",
   "metadata": {
    "tags": []
   },
   "source": [
    "Der Grund dafür ist, dass sich '0.1', '0.2' und '0.3' im Binärsystem (in dem der Computer rechnet) nicht exakt repräsentieren lassen, ähnlich wie sich 1/3 im Zehnersystem nicht exakt repräsentieren lässt ($\\frac{1}{3} \\approx 0.3333$)."
   ]
  },
  {
   "cell_type": "markdown",
   "id": "ad037b87-4138-4e77-aebf-728cba54b2b9",
   "metadata": {},
   "source": [
    "---"
   ]
  },
  {
   "cell_type": "markdown",
   "id": "4dfa4539-fe9c-4023-b782-c9baf46c54b0",
   "metadata": {
    "tags": []
   },
   "source": [
    "## If Statement\n",
    "\n",
    "Der Computer soll dazu gebracht werden, gewisse Dinge nur zu tun, wenn eine bestimmte Bedingung erfüllt ist. Es soll also bspw. nur eine Meldung ausgegeben werden, wenn jemand eine negative Zahl eingegeben hat. Um dies zu erreichen wird das Keyword **`if`** eingesetzt:"
   ]
  },
  {
   "cell_type": "code",
   "execution_count": null,
   "id": "d68fa03b-4c56-4262-9ae3-1beb3497e1b8",
   "metadata": {
    "tags": []
   },
   "outputs": [],
   "source": [
    "number = int(input(\"Bitte Nummer eingeben:\"))\n",
    "if number < 0:\n",
    "    print(\"die Zahl ist negativ\")\n",
    "print(\"das wird immer ausgeben\")"
   ]
  },
  {
   "cell_type": "markdown",
   "id": "c47617c9-761c-4809-817a-7d53f04d6876",
   "metadata": {},
   "source": [
    "Die allgemeine Formulierung des If Statements lautet:"
   ]
  },
  {
   "cell_type": "markdown",
   "id": "4fcc38b3-5df6-430c-b6a7-1dd83c95623e",
   "metadata": {
    "tags": []
   },
   "source": [
    "```python\n",
    "if bedingung:\n",
    "    nur ausführen wenn bedingung == True\n",
    "    nur ausführen wenn bedingung == True\n",
    "immer ausführen\n",
    "```\n",
    "\n",
    "Um einen Codeblock **abhängig** von einer Bedingung, hier die Variable `bedingung`, auszuführen muss die Evaluation dieser Bedingung den Wert `True` ergeben."
   ]
  },
  {
   "cell_type": "markdown",
   "id": "97568188-4a59-4e6c-bb15-03cd000df9bb",
   "metadata": {},
   "source": [
    "Hat die Variable `bedingung` den Wert `False` werden die Zeilen `nur ausführen wenn bedingung == True` **nicht** ausgeführt. Zeilen ausserhalb des If-Codeblock werden unabhängig von der Bedingung ausgeführt:"
   ]
  },
  {
   "cell_type": "code",
   "execution_count": null,
   "id": "7b8db983-7fdf-43db-9a08-91c81a2a0ddf",
   "metadata": {
    "tags": []
   },
   "outputs": [],
   "source": [
    "zahl = 3\n",
    "if zahl > 0:\n",
    "    print(str(zahl) + \" ist eine positive Zahl.\")\n",
    "print(\"Diese Zeile wird immer ausgegeben\")\n",
    "\n",
    "zahl = -1\n",
    "if zahl > 0:\n",
    "    print(str(zahl) + \" ist eine positive Zahl.\")\n",
    "print(\"Diese Zeile wird immer auch ausgegeben\")"
   ]
  },
  {
   "cell_type": "markdown",
   "id": "101a2fab-1b6d-4ad9-8fff-aff4506688b0",
   "metadata": {},
   "source": [
    "<div class=\"gk-exercise\">\n",
    "\n",
    "Frage die Benutzerin nach einer Zahl. Überprüfe ob die Zahl gerade ist und falls ja, gib einen entsprechenden Text aus.\n",
    "    \n",
    "<details>\n",
    "<summary>Tipps:</summary>\n",
    "    <p>Mittels <code>zahl % 2 == 0</code> kann überprüft werden ob die Variable <code>zahl</code> eine gerade Zahl ist</p>\n",
    "    <details>\n",
    "    <summary>Tipp:</summary>\n",
    "    <p>Verwende <code>try</code> und <code>except</code> um fehlerhafte Eingaben abzufangen</p>\n",
    "    </details>\n",
    "</details>\n",
    "\n",
    "</div>"
   ]
  },
  {
   "cell_type": "code",
   "execution_count": null,
   "id": "42f5d882-3f3e-4434-9c86-f2d603cc6a16",
   "metadata": {
    "deletable": false,
    "nbgrader": {
     "cell_type": "code",
     "checksum": "a8306c1ee467cbc6443f10509478f0d4",
     "grade": false,
     "grade_id": "cell-6b84b55d30c454f6",
     "locked": false,
     "schema_version": 3,
     "solution": true,
     "task": false
    },
    "tags": [
     "exercise"
    ]
   },
   "outputs": [],
   "source": [
    "# YOUR CODE HERE"
   ]
  },
  {
   "cell_type": "markdown",
   "id": "44dc47d3-2330-4afa-b411-f02812c94b97",
   "metadata": {},
   "source": [
    "Die folgenden zwei Beispiele dienen als Motivation für eine Erweiterung des If Statements"
   ]
  },
  {
   "cell_type": "code",
   "execution_count": null,
   "id": "de6b5b97-3b3f-47ff-ad64-0b3e204f89d7",
   "metadata": {},
   "outputs": [],
   "source": [
    "zahl = 42\n",
    "if zahl > 0:\n",
    "    print(\"Die Zahl \" + str(zahl) + \" ist positiv\")\n",
    "if zahl <= 0:\n",
    "    print(\"Die Zahl \" + str(zahl) + \" ist negativ oder null\")"
   ]
  },
  {
   "cell_type": "code",
   "execution_count": null,
   "id": "c14dd618-93e7-491f-8a07-a6217595c8bf",
   "metadata": {},
   "outputs": [],
   "source": [
    "if zahl % 3 == 0:\n",
    "    print(\"Die Zahl \" + str(zahl) + \" ist ein Vielfaches von drei\")\n",
    "if zahl % 3 != 0:\n",
    "    print(\"Die Zahl \" + str(zahl) + \" ist kein Vielfaches von drei\")"
   ]
  },
  {
   "cell_type": "markdown",
   "id": "9aafd81d-8dfc-4318-bbac-a9b296ccc450",
   "metadata": {},
   "source": [
    "In beiden Beispielen sind die Bedingungen jeweils **Negationen** von einander, in Python lassen sich die Beispiele deshalb auch folgendermassen umformulieren"
   ]
  },
  {
   "cell_type": "code",
   "execution_count": null,
   "id": "0879d898-37fc-4ae8-971e-bfbfe2d59b9d",
   "metadata": {},
   "outputs": [],
   "source": [
    "if zahl > 0:\n",
    "    print(\"Die Zahl \" + str(zahl) + \" ist positiv\")\n",
    "if not (zahl > 0):\n",
    "    print(\"Die Zahl \" + str(zahl) + \" ist negativ oder null\")"
   ]
  },
  {
   "cell_type": "code",
   "execution_count": null,
   "id": "a0101fd0-7dcb-4e5e-bc07-8f4c0100f72c",
   "metadata": {},
   "outputs": [],
   "source": [
    "if zahl % 3 == 0:\n",
    "    print(\"Die Zahl \" + str(zahl) + \" ist ein Vielfaches von drei\")\n",
    "if not (zahl % 3 == 0):\n",
    "    print(\"Die Zahl \" + str(zahl) + \" ist kein Vielfaches von drei\")"
   ]
  },
  {
   "cell_type": "markdown",
   "id": "e275c7a0-238b-4174-80f0-013616171a00",
   "metadata": {},
   "source": [
    "In einer nächsten Lektion werden `not` und weitere [**Logische Operatoren**](../04_04_25/While_Logische-Operatoren.ipynb#Logische-Operatoren) eingeführt."
   ]
  },
  {
   "cell_type": "markdown",
   "id": "b0f6a1d8-03a3-42d7-ae80-091a75a4b04e",
   "metadata": {},
   "source": [
    "## If Else Statement\n",
    "\n",
    "Für Situationen wie oben beschrieben, existiert das Keyword **`else`**. Damit lassen sich die beiden Beispiele einfacher formulieren:"
   ]
  },
  {
   "cell_type": "code",
   "execution_count": null,
   "id": "5a8aa3e9-9bed-4865-8023-d311b203e674",
   "metadata": {},
   "outputs": [],
   "source": [
    "if zahl > 0:\n",
    "    print(\"Die Zahl \" + str(zahl) + \" ist positiv\")\n",
    "else:\n",
    "    print(\"Die Zahl \" + str(zahl) + \" ist negativ oder null\")"
   ]
  },
  {
   "cell_type": "code",
   "execution_count": null,
   "id": "46e9ad6a-7c30-4259-a5e4-a7cb834da990",
   "metadata": {},
   "outputs": [],
   "source": [
    "if zahl % 3 == 0:\n",
    "    print(\"Die Zahl \" + str(zahl) + \" ist ein Vielfaches von drei\")\n",
    "else:\n",
    "    print(\"Die Zahl \" + str(zahl) + \" ist kein Vielfaches von drei\")"
   ]
  },
  {
   "cell_type": "markdown",
   "id": "9a29f8a5-d4a0-45c2-8610-6c47e927b55c",
   "metadata": {},
   "source": [
    "<div class=\"gk-exercise\">\n",
    "\n",
    "- Frage die Benutzer:in nach einer Zahl `n`. \n",
    "- Summiere alle ungeraden und geraden Zahlen von `0` bis und **mit** `n`, in zwei Variablen `gerade_summe` und `ungerade_summe`.\n",
    "- Gib die Werte der beiden Variablen `gerade_summe` und `ungerade_summe` aus.\n",
    "    \n",
    "<details>\n",
    "<summary>Tipps:</summary>\n",
    "    <p>Um von <code>0</code> bis und mit <code>n</code> zu summieren muss <a href=\"../Lektion_04/Strings_For.ipynb#Zahlen-und-Schleifen\"><code>range(n+1)</code></a> verwendet werden.</p>\n",
    "    <details>\n",
    "    <summary>Tipp:</summary>\n",
    "    <p>Um eine Variable <code>x</code> um <code>y</code> zu erhöhen, verwende <code>x = x + y</code></p>\n",
    "    </details>\n",
    "</details>\n",
    "\n",
    "</div>"
   ]
  },
  {
   "cell_type": "code",
   "execution_count": null,
   "id": "cf748c91-0ba3-40fa-8855-1c846339c1d0",
   "metadata": {
    "deletable": false,
    "nbgrader": {
     "cell_type": "code",
     "checksum": "1656a1db0cdb8291c3bfed3da750e2d0",
     "grade": false,
     "grade_id": "cell-1e5fa19be5733e4c",
     "locked": false,
     "schema_version": 3,
     "solution": true,
     "task": false
    },
    "tags": [
     "exercise"
    ]
   },
   "outputs": [],
   "source": [
    "# YOUR CODE HERE"
   ]
  },
  {
   "cell_type": "markdown",
   "id": "eec5f949-239e-497d-8737-ad244849fd49",
   "metadata": {},
   "source": [
    "Das Keyword `else` kann nur nach einem Codeblock eines `if` Statements erscheinen, sonst kommt es zu einem `SyntaxError`"
   ]
  },
  {
   "cell_type": "code",
   "execution_count": null,
   "id": "9bba0b15-8afd-4025-b641-ea9c1ea692f9",
   "metadata": {
    "tags": [
     "raises-exception"
    ]
   },
   "outputs": [],
   "source": [
    "else:\n",
    "    print(\"Ich werde nie ausgeführt!\")"
   ]
  },
  {
   "cell_type": "markdown",
   "id": "a330b076-cc6a-4f5f-b46a-023efd03b313",
   "metadata": {},
   "source": [
    "## If Elif Else Statement\n",
    "\n",
    "Neben den beiden Keywords `if` und `else` existiert noch eine Kombination **`elif`** auch hier soll ein Beispiel als Motivation dienen:"
   ]
  },
  {
   "cell_type": "code",
   "execution_count": null,
   "id": "9a2f97d2-e87e-46a3-8949-caf1815ee053",
   "metadata": {},
   "outputs": [],
   "source": [
    "zahl = -42\n",
    "if zahl > 0:\n",
    "    print(\"Die Zahl \" + str(zahl) + \" ist positiv\")\n",
    "else:\n",
    "    print(\"Die Zahl \" + str(zahl) + \" ist negativ oder null\")"
   ]
  },
  {
   "cell_type": "markdown",
   "id": "b215e7ae-8352-4cb8-8182-fb3799c60269",
   "metadata": {},
   "source": [
    "Wenn in diesem Beispiel zusätzlich der Fall `Die Zahl ... ist null` eingebaut werden soll könnte das folgendermassen umgesetzt werden:"
   ]
  },
  {
   "cell_type": "code",
   "execution_count": null,
   "id": "e14c4d45-627b-444f-8c39-32c56724f9cb",
   "metadata": {},
   "outputs": [],
   "source": [
    "zahl = -42\n",
    "if zahl > 0:\n",
    "    print(\"Die Zahl \" + str(zahl) + \" ist positiv\")\n",
    "if zahl == 0:\n",
    "    print(\"Die Zahl \" + str(zahl) + \" ist null\")\n",
    "if zahl < 0:\n",
    "    print(\"Die Zahl \" + str(zahl) + \" ist negativ\")"
   ]
  },
  {
   "cell_type": "markdown",
   "id": "623943ab-30ab-40ed-816f-b6271eaf690f",
   "metadata": {},
   "source": [
    "<div class=\"gk-exercise\">\n",
    "\n",
    "Beim Versuch in dieses Beispiel `else` folgendermassen einzubauen:\n",
    "\n",
    "```python\n",
    "if zahl > 0:\n",
    "    print(\"Die Zahl \" + str(zahl) + \" ist positiv\")\n",
    "else:\n",
    "    print(\"Die Zahl \" + str(zahl) + \" ist negativ\")\n",
    "if zahl == 0:\n",
    "    print(\"Die Zahl \" + str(zahl) + \" ist null\")\n",
    "```\n",
    "    \n",
    "<br />\n",
    "kann es zu einem logischen Fehler kommen - für welchen Fall tritt dieser ein?\n",
    "\n",
    "</div>"
   ]
  },
  {
   "cell_type": "markdown",
   "id": "d1407c0a-aa56-4335-9ed3-6e9828b9b374",
   "metadata": {
    "deletable": false,
    "nbgrader": {
     "cell_type": "markdown",
     "checksum": "b258f7660336466993b88b35c1fffd49",
     "grade": true,
     "grade_id": "cell-fb6544a9e3fad2fe",
     "locked": false,
     "points": 0,
     "schema_version": 3,
     "solution": true,
     "task": false
    }
   },
   "source": [
    "YOUR ANSWER HERE"
   ]
  },
  {
   "cell_type": "markdown",
   "id": "fee41ea7-e33d-4274-8374-d68ded180334",
   "metadata": {},
   "source": [
    "***"
   ]
  },
  {
   "cell_type": "markdown",
   "id": "844ea91a-0e1e-4e47-b0a7-2bf0255a2dc0",
   "metadata": {},
   "source": [
    "Um solche Fehler zu vermeiden und trotzdem nicht mehr Code als nötig zu schreiben existiert das `elif` Keyword. Damit lässt sich das Beispiel folgendermassen umformulieren:"
   ]
  },
  {
   "cell_type": "code",
   "execution_count": null,
   "id": "fa949b67-1c43-4f0c-bb39-53ab5e5b8d50",
   "metadata": {},
   "outputs": [],
   "source": [
    "if zahl > 0:\n",
    "    print(\"Die Zahl \" + str(zahl) + \" ist positiv\")\n",
    "elif zahl == 0:\n",
    "    print(\"Die Zahl \" + str(zahl) + \" ist null\")\n",
    "else:\n",
    "    print(\"Die Zahl \" + str(zahl) + \" ist negativ\")"
   ]
  },
  {
   "cell_type": "markdown",
   "id": "aa481918-6dcf-40bc-bd98-6d66e3bd1f0e",
   "metadata": {},
   "source": [
    "## Mehrere Elif Statements\n",
    "\n",
    "Auf ein `if` Statement können beliebig viele `elif` Statements folgen, d.h. der folgende Code ist korrekt:"
   ]
  },
  {
   "cell_type": "code",
   "execution_count": null,
   "id": "2d77b371-4e54-4793-a028-a9867672f225",
   "metadata": {},
   "outputs": [],
   "source": [
    "num = int(input(\"Geben Sie eine Zahl ein: \"))\n",
    "if num > 3:\n",
    "    print(\"num > 3\")\n",
    "elif num > 5:\n",
    "    print(\"num > 5\")\n",
    "elif num > 7:\n",
    "    print(\"num > 7\")\n",
    "elif num > 10:\n",
    "    print(\"num > 10\")\n",
    "elif num < 20:\n",
    "    print(\"num < 20\")\n",
    "else:\n",
    "    print(\"num <= 3\")"
   ]
  },
  {
   "cell_type": "markdown",
   "id": "bbe6c989-cea9-4a40-ac95-d65f461447e0",
   "metadata": {},
   "source": [
    "Beim Ausführen der vorherigen Codezelle kommt es zu einem interessanten Verhalten. Egal welcher Wert eingegeben wird es kommt immer nur zu einer der folgenden zwei Ausgaben:\n",
    "\n",
    "```\n",
    "num < 20\n",
    "```\n",
    "oder \n",
    "```\n",
    "num > 3\n",
    "```\n",
    "\n",
    "Dieses Verhalten wird im nächsten Abschnitt untersucht und erklärt."
   ]
  },
  {
   "cell_type": "markdown",
   "id": "8579b55b-3d84-4c97-99bf-4f1da955c51c",
   "metadata": {},
   "source": [
    "## Reihenfolge von Bedingungen\n",
    "\n",
    "Beim Arbeiten mit `elif` ist es entscheidend, in welcher Reihenfolge die Bedingungen formuliert werden. Beim folgenden Beispiel wird der Codeblock des `elif` Statment **nie** ausgeführt"
   ]
  },
  {
   "cell_type": "code",
   "execution_count": null,
   "id": "91b9a029-dec6-4e23-9346-b6d81bd7e2d1",
   "metadata": {},
   "outputs": [],
   "source": [
    "num = int(input(\"Geben Sie eine Zahl ein: \"))\n",
    "if num > 3:\n",
    "    print(\"num > 3\")\n",
    "elif num > 5:\n",
    "    print(\"num > 5\")\n",
    "else:\n",
    "    print(\"num <= 3\")"
   ]
  },
  {
   "cell_type": "markdown",
   "id": "a1bf056f-3a65-4f3a-b001-2c13fc1dc1bf",
   "metadata": {},
   "source": [
    "Das liegt daran, dass ein `elif` Codeblock nur geprüft und allenfalls ausgeführt wird, wenn die vorherige Bedingung falsch war resp. alle vorherigen Bedingungen falsch waren. "
   ]
  },
  {
   "cell_type": "markdown",
   "id": "f627c93d-93e2-4bba-bca0-29d6dc1cb4b4",
   "metadata": {},
   "source": [
    "<div class=\"gk-exercise\">\n",
    "\n",
    "Formuliere das vorherige Beispiel um, so dass der Fall `num > 5` korrekt behandelt wird\n",
    "\n",
    "<details>\n",
    "<summary>Tipps</summary>\n",
    "    <p>Die Reihenfolge der Bedingungen muss angepasst werden</p>\n",
    "    <details>\n",
    "<summary>Tipp</summary>\n",
    "    <p>Damit der Fall <code>num > 5</code> überprüft werden kann, muss dieser <b>vor</b> <code>num > 3</code> überprüft werden</p>\n",
    "</details>\n",
    "</details>\n",
    "</div>"
   ]
  },
  {
   "cell_type": "code",
   "execution_count": null,
   "id": "9e470c88-6b22-43f9-ad5e-1315d589bd4a",
   "metadata": {
    "deletable": false,
    "nbgrader": {
     "cell_type": "code",
     "checksum": "ed274883af5bf728735d3ee4611acaa9",
     "grade": false,
     "grade_id": "cell-60bbc8ae4c9e52ce",
     "locked": false,
     "schema_version": 3,
     "solution": true,
     "task": false
    },
    "tags": [
     "exercise"
    ]
   },
   "outputs": [],
   "source": [
    "num = int(input(\"Geben Sie eine Zahl ein: \"))\n",
    "# YOUR CODE HERE"
   ]
  },
  {
   "cell_type": "markdown",
   "id": "f242b7ca-72f0-4f59-9652-084a7b3f8a14",
   "metadata": {},
   "source": [
    "# Verschachtelte Bedingungen\n",
    "\n",
    "Oft sollen mehr als nur eine Bedingung überprüft werden. Dazu können `if` Statements **verschachtelt** werden. In der nächsten Lektion wird alternativ dazu gezeigt, wie dies mit Hilfe von logischen Operatoren einfacher umgesetzt werden kann.\n",
    "\n",
    "Soll z.B. überprüft werden, ob ein String `mein_string`\n",
    "\n",
    "1. Mit einem Grossbuchstaben beginnt \n",
    "2. Eine gerade Anzahl Zeichen enthält \n",
    "\n",
    "So lässt sich dies folgendermassen umsetzen"
   ]
  },
  {
   "cell_type": "code",
   "execution_count": null,
   "id": "39c84b36-f572-4e9e-a9e6-e3dde969b23a",
   "metadata": {},
   "outputs": [],
   "source": [
    "mein_string = input(\"Ich erwarte eine beliebige Eingabe\")\n",
    "if mein_string[0].isupper():\n",
    "    if len(mein_string) % 2 == 0:\n",
    "        print(\"Beide Bedingungen erfüllt!\")"
   ]
  },
  {
   "cell_type": "markdown",
   "id": "1a3900fa-d512-4158-a90f-e181c2327050",
   "metadata": {},
   "source": [
    "# List Comprehensions\n",
    "\n",
    "Letzte Woche wurden [Listen](../03_21_25/Listen_Methoden.ipynb#Listen) eingeführt. Nun soll gezeigt werden, wie das `if` Keyword mit Listen verwendet werden kann, um neue Listen basierend auf bestehenden Listen zu erzeugen. Das entsprechende Konzept wird **List Comprehensions** genannt.\n",
    "\n",
    "Dabei sollen nur bestimmte Einträge der bestehenden Liste übernommen werden. Nachfolgend wird das gleiche Problem einmal mit und einmal ohne List Comprehension gelöst. \n",
    "\n",
    "Aus einer Liste mit Politikerinnen sollen nur Ständerätinnen in einer neuen Liste gespeichert werden (diese haben den Präfix \"SR_\"):"
   ]
  },
  {
   "cell_type": "code",
   "execution_count": null,
   "id": "9501512b-ab64-4038-87ec-bad3bc2cb5f4",
   "metadata": {},
   "outputs": [],
   "source": [
    "politikerinnen = [\"BR_Amherd\", \"BR_Baume-Schneider\", \"BR_Keller-Sutter\", \n",
    "                  \"SR_Carobbio_Guscetti\", \"SR_Gapany\", \"SR_Graf\", \n",
    "                  \"NR_Amaudruz\", \"NR_Arslan\", \"NR_Badertscher\"]\n",
    "\n",
    "# ohne List Comprehension\n",
    "staenderaetinnen = []\n",
    "\n",
    "for politikerin in politikerinnen:\n",
    "    if \"SR\" in politikerin:\n",
    "        staenderaetinnen.append(politikerin)\n",
    "        \n",
    "print(staenderaetinnen)"
   ]
  },
  {
   "cell_type": "code",
   "execution_count": null,
   "id": "441178b8-64f4-4050-b806-9197ec72c33d",
   "metadata": {},
   "outputs": [],
   "source": [
    "# mit List Comprehension\n",
    "staenderaetinnen = [politikerin for politikerin in politikerinnen if \"SR_\" in politikerin]\n",
    "\n",
    "print(staenderaetinnen)"
   ]
  },
  {
   "cell_type": "markdown",
   "id": "1b1b21a9-28e7-456b-ad4e-e9e411794ff0",
   "metadata": {},
   "source": [
    "Hier sind die zwei Funktionsweisen des Keywords `in` ersichtlich, einerseits zum [Iterieren](../03_21_25/Listen_Methoden.ipynb#Listen-iterieren) und andererseits zum Überprüfen eines [Substrings](../03_21_25/Listen_Methoden.ipynb#String-Methoden)."
   ]
  },
  {
   "cell_type": "markdown",
   "id": "730b399c-6207-416c-a920-e8e454e8cb0d",
   "metadata": {},
   "source": [
    "Die allgemeine Form der List Comprehension lautet: \n",
    "\n",
    "\n",
    "```python\n",
    "neue_liste = [expression for item in iterable if condition]\n",
    "```\n",
    "\n",
    "Es werden also nur diejenigen Elemente in die neue Liste übernommen, die die Bedingung \n",
    "\n",
    "```python\n",
    "if condition\n",
    "```\n",
    "\n",
    "erfüllen. Der erste Teil mit `expression` erlaubt es, weitere Manipulationen an denjenigen Elementen durchzuführen, die in die neue Liste übernommen wurden. \n",
    "\n",
    "\n",
    "Wenn keine weitere Manipulation nötig ist (wie im Beispiel oben), dann wird einfach nochmals `item` eingefügt, also z.B.\n",
    "\n",
    "```python\n",
    "[politikerin for politikerin in politikerinnen if \"SR\" in politikerin]\n",
    "```"
   ]
  },
  {
   "cell_type": "markdown",
   "id": "5e4844d0-0e97-4756-983c-e809b242163e",
   "metadata": {},
   "source": [
    "<div class=\"gk-exercise\"> \n",
    "\n",
    "Schau dir die nachfolgende Funktionen `get_divisibles(numbers, factor)` an und überlege dir, was sie bewirken wird. Überprüfe deine Vermutung anschliessend mit der Ausführung der Zelle. \n",
    "\n",
    "<details>\n",
    "<summary>Tipp</summary>\n",
    "    <p>Der <code>%</code> Operator ist der sogenannte Modulo Operator und er gibt den Restwert zurück, der bei einer Division entsteht. Beispiel: <code>10 % 3</code> ergibt 1. Also 10 geteilt durch 3 ergibt den Rest 1.</p>\n",
    "</details>\n",
    "</div>"
   ]
  },
  {
   "cell_type": "code",
   "execution_count": null,
   "id": "2a91603c-d5d2-414c-936c-31cf7024e725",
   "metadata": {},
   "outputs": [],
   "source": [
    "def get_divisibles(numbers, factor):\n",
    "    return [x for x in numbers if x % factor == 0]\n",
    "\n",
    "print(get_divisibles([1, 3, 6, 8, 11, 14, 18, 21, 321, 342], 2))\n",
    "print(get_divisibles([4, 5, 8, 19, 20, 23, 25, 30, 31, 39, 40], 5))"
   ]
  },
  {
   "cell_type": "markdown",
   "id": "0b370d00-7e7f-4b2d-a6c0-5c6e20d8216d",
   "metadata": {},
   "source": [
    "***"
   ]
  },
  {
   "cell_type": "markdown",
   "id": "08937dad-647d-4274-96fa-502353a253b2",
   "metadata": {},
   "source": [
    "<div class=\"gk-exercise\">\n",
    "\n",
    "Erstelle eine Liste mit Bundesrätinnen per List Comprehension aus der Liste der `politikerinnen`. Konstruiere die List Comprehension so, dass gleichzeitig der Präfix \"BR_\" vom Namen entfernt wird.\n",
    "\n",
    "Die entstehende Liste soll also so aussehen: `bundesraetinnen = [\"Amherd\", \"Baume-Schneider\", \"Keller-Sutter\"]`.\n",
    "\n",
    "<details>\n",
    "<summary>Tipp</summary>\n",
    "    <p>Nutze dazu dein Wissen über Mehrfachauswahl mit dem Konstrukt <code>[a:b]</code>, welches auch bei einem String funktioniert, um nur Teile eines Strings auszuwählen. Dieses Konstrukt kann innerhalb der Expression angewandt werden.</p>\n",
    "</details>\n",
    "</div>"
   ]
  },
  {
   "cell_type": "code",
   "execution_count": null,
   "id": "baa4a394-9769-47b0-9cab-ce150648a479",
   "metadata": {
    "deletable": false,
    "nbgrader": {
     "cell_type": "code",
     "checksum": "239bce9aab517eb05c56bef1ec7e694f",
     "grade": false,
     "grade_id": "cell-6d1189bbb54eb867",
     "locked": false,
     "schema_version": 3,
     "solution": true,
     "task": false
    },
    "tags": [
     "exercise"
    ]
   },
   "outputs": [],
   "source": [
    "politikerinnen = [\"BR_Amherd\", \"BR_Baume-Schneider\", \"BR_Keller-Sutter\", \n",
    "                  \"SR_Carobbio_Guscetti\", \"SR_Gapany\", \"SR_Graf\", \n",
    "                  \"NR_Amaudruz\", \"NR_Arslan\", \"NR_Badertscher\"]\n",
    "\n",
    "# YOUR CODE HERE"
   ]
  },
  {
   "cell_type": "markdown",
   "id": "1f0aca21-41bc-49c8-bd93-2c4bd1f5f12b",
   "metadata": {},
   "source": [
    "# Schlussaufgabe"
   ]
  },
  {
   "cell_type": "markdown",
   "id": "062f125f-e5e9-4b31-8a9a-d32733cdcb0e",
   "metadata": {},
   "source": [
    "<div class=\"gk-exercise\">\n",
    "\n",
    "In dieser Aufgabe soll ein kleiner Taschenrechner implementiert werden welcher die Operationen \n",
    "    \n",
    "- `+`\n",
    "- `-`\n",
    "- `*`\n",
    "    \n",
    "unterstützt. \n",
    "    \n",
    "- Frage mittels `input` nach zwei Zahlen. \n",
    "- Frage nach der gewünschten Operation.\n",
    "- Berechne das Resultat und gib es mittels `print` aus.\n",
    "- bei Eingabe einer Operation, die nicht unterstützt wird, soll ein Hinweis ausgegeben werden.\n",
    "- wenn keine Zahlen eingegeben werden, soll eine Fehlermeldung ausgegeben werden.\n",
    "\n",
    "</div>"
   ]
  },
  {
   "cell_type": "code",
   "execution_count": null,
   "id": "5308670c-c635-444b-b14b-2a3eca2e5769",
   "metadata": {
    "deletable": false,
    "nbgrader": {
     "cell_type": "code",
     "checksum": "87442bdf01930e1a18c9f8b1611e574b",
     "grade": false,
     "grade_id": "cell-a979fb5b3983f734",
     "locked": false,
     "schema_version": 3,
     "solution": true,
     "task": false
    },
    "tags": [
     "exercise"
    ]
   },
   "outputs": [],
   "source": [
    "# YOUR CODE HERE"
   ]
  },
  {
   "cell_type": "markdown",
   "id": "5eb7a97c-b096-44e2-b7dc-396aa2f284bf",
   "metadata": {},
   "source": [
    "# Zusammenfassung\n",
    "\n",
    "In dieser Lektion wurden drei neue Keywords eingeführt: `if`, `else` und `elif`. Diese neuen **Kontrollstrukturen** ermöglichen es, Codeblöcke abhängig von **Bedingungen** auszuführen. Es wurde gezeigt, wie Bedingungen formuliert und evaluiert werden können und dabei Booleans als neue Datentypen entstehen. Weiter wurde behandelt, wie die Reihenfolge beim Verwenden von `elif` Statments eine Rolle spielt. Zum Abschluss wurde gezeigt wie mittels Verschachteln von `if` Statements mehrere Bedingungen überprüft werden können. \n",
    "\n",
    "Schlussendlich wurde gezeigt, wie basierend auf bestehenden Listen neue Listen erstellt werden können mit Hilfe der **List Comprehension**."
   ]
  },
  {
   "cell_type": "markdown",
   "id": "f4d82472-ec6a-4ddf-826b-a628dea5dc0d",
   "metadata": {},
   "source": [
    "# Impressum\n",
    "\n",
    "<a rel=\"license\" href=\"http://creativecommons.org/licenses/by-sa/4.0/\"><img alt=\"Creative Commons Lizenzvertrag\" style=\"border-width:0\" src=\"https://mirrors.creativecommons.org/presskit/buttons/88x31/svg/by-sa.svg\" /></a><br />Dieses Werk ist lizenziert unter einer <a rel=\"license\" href=\"http://creativecommons.org/licenses/by-sa/4.0/\">Creative Commons Namensnennung - Weitergabe unter gleichen Bedingungen 4.0 International Lizenz</a>.\n",
    "\n",
    "\n",
    "Autoren: [Jakob Schärer](mailto:jakob.schaerer@unibe.ch), [Lionel Stürmer](mailto:lionel.stuermer@bfh.ch) <br>\n",
    "Ursprünglicher Text von: Noe Thalheim, Benedikt Hitz-Gamper\n",
    "\n",
    "\n",
    "\n",
    "```\n",
    "Programmer (noun.)\n",
    "A machine that turns coffee into code.\n",
    "```"
   ]
  }
 ],
 "metadata": {
  "kernelspec": {
   "display_name": "GraphVis--oE0K6n0",
   "language": "python",
   "name": "python3"
  },
  "language_info": {
   "codemirror_mode": {
    "name": "ipython",
    "version": 3
   },
   "file_extension": ".py",
   "mimetype": "text/x-python",
   "name": "python",
   "nbconvert_exporter": "python",
   "pygments_lexer": "ipython3",
   "version": "3.12.3"
  },
  "toc-autonumbering": true,
  "toc-showcode": true
 },
 "nbformat": 4,
 "nbformat_minor": 5
}
